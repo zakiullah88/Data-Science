{
  "cells": [
    {
      "cell_type": "code",
      "execution_count": null,
      "metadata": {
        "id": "YAvC8k1FKC6i"
      },
      "outputs": [],
      "source": [
        "import numpy as np"
      ]
    },
    {
      "cell_type": "markdown",
      "metadata": {
        "id": "z-ttfWOCWYAD"
      },
      "source": [
        "### Basic Array Creation"
      ]
    },
    {
      "cell_type": "markdown",
      "metadata": {
        "id": "ZksDKlwjHvFV"
      },
      "source": [
        "# Creatation of List\n",
        "create List in python? # Check Type of list"
      ]
    },
    {
      "cell_type": "code",
      "execution_count": null,
      "metadata": {
        "colab": {
          "base_uri": "https://localhost:8080/"
        },
        "id": "mCgQsxXkF3nb",
        "outputId": "d927c70b-094c-45a8-dc20-3d14f49f6a50"
      },
      "outputs": [
        {
          "name": "stdout",
          "output_type": "stream",
          "text": [
            "The list  [8, 2, 0, 9, 1] has type <class 'list'>\n"
          ]
        }
      ],
      "source": [
        "list1 = [8,2,0,9,1]\n",
        "ltype = type(list1)\n",
        "\n",
        "print (\"The list \", list1, \"has type\", ltype)"
      ]
    },
    {
      "cell_type": "markdown",
      "metadata": {
        "id": "M2TOiuioIc6M"
      },
      "source": [
        "# Creatation of Arrays\n",
        "1.Create an array containing 10 elements\n",
        "\n",
        "2.Checking array \"TYPE\"\n",
        "\n",
        "3.Check data type of array elements\n",
        "\n",
        "4.Array dim\n",
        "\n",
        "5.Array Shape\n",
        "\n",
        "6.Bytes per element\n",
        "\n",
        "7.Total bytes in an Array"
      ]
    },
    {
      "cell_type": "code",
      "execution_count": null,
      "metadata": {
        "colab": {
          "base_uri": "https://localhost:8080/"
        },
        "id": "uy_hPIW4A4uM",
        "outputId": "05fd6607-c7cd-4ca9-9f57-53637d1db880"
      },
      "outputs": [
        {
          "name": "stdout",
          "output_type": "stream",
          "text": [
            "1. Array containing 10 elements [0 1 2 3 4 5 6 7 8 9]\n",
            "2. Type of array is:  <class 'numpy.ndarray'>\n",
            "3. Data type of array elements is:  [<class 'numpy.int64'>, <class 'numpy.int64'>, <class 'numpy.int64'>, <class 'numpy.int64'>, <class 'numpy.int64'>, <class 'numpy.int64'>, <class 'numpy.int64'>, <class 'numpy.int64'>, <class 'numpy.int64'>, <class 'numpy.int64'>]\n",
            "4. Array dimension is:  1\n",
            "5. Array shape is:  (10,)\n",
            "6. Array Bytes per elements are:  8\n",
            "7. Total Bytes:  80\n"
          ]
        }
      ],
      "source": [
        "array1 = np.array([0,1,2,3,4,5,6,7,8,9])\n",
        "print(\"1. Integer Array containing 10 elements\",array1)\n",
        "print(\"2. Type of array is: \", type(array1))\n",
        "dt_of_elements = [type(element) for element in array1]\n",
        "print(\"3. Data type of array elements is: \", dt_of_elements)\n",
        "print(\"4. Array dimension is: \", array1.ndim)\n",
        "print(\"5. Array shape is: \", array1.shape)\n",
        "print(\"6. Array Bytes per elements are: \", array1.itemsize)\n",
        "print(\"7. Total Bytes: \", array1.nbytes)"
      ]
    },
    {
      "cell_type": "code",
      "execution_count": null,
      "metadata": {
        "colab": {
          "base_uri": "https://localhost:8080/"
        },
        "id": "tf9pmYpYLuEu",
        "outputId": "3f3dffde-49ed-4216-b0d5-a99fd0cd476f"
      },
      "outputs": [
        {
          "name": "stdout",
          "output_type": "stream",
          "text": [
            "1. Float Array containing 10 elements [ 0.   2.1 22.1  5.3 41.4  7.5 98.6  7.9  8.  80.9]\n",
            "2. Type of array is:  <class 'numpy.ndarray'>\n",
            "3. Data type of array elements is:  [<class 'numpy.float64'>, <class 'numpy.float64'>, <class 'numpy.float64'>, <class 'numpy.float64'>, <class 'numpy.float64'>, <class 'numpy.float64'>, <class 'numpy.float64'>, <class 'numpy.float64'>, <class 'numpy.float64'>, <class 'numpy.float64'>]\n",
            "4. Array dimension is:  1\n",
            "5. Array shape is:  (10,)\n",
            "6. Array Bytes per elements are:  8\n",
            "7. Total Bytes:  80\n"
          ]
        }
      ],
      "source": [
        "array2 = np.array([0,2.1,22.1,5.3,41.4,7.5,98.6,7.9,8.0,80.9])\n",
        "print(\"1. Float Array containing 10 elements\",array2)\n",
        "print(\"2. Type of array is: \", type(array2))\n",
        "dt_of_elements = [type(element) for element in array2]\n",
        "print(\"3. Data type of array elements is: \", dt_of_elements)\n",
        "print(\"4. Array dimension is: \", array2.ndim)\n",
        "print(\"5. Array shape is: \", array2.shape)\n",
        "print(\"6. Array Bytes per elements are: \", array2.itemsize)\n",
        "print(\"7. Total Bytes: \", array2.nbytes)"
      ]
    },
    {
      "cell_type": "markdown",
      "metadata": {
        "id": "0gTA0nvpmULF"
      },
      "source": []
    },
    {
      "cell_type": "markdown",
      "metadata": {
        "id": "czi-ntWzFJ0M"
      },
      "source": [
        "-Try to assign a float into an int32\n",
        "\n",
        "-Use .fill function # fill has the same behavior\n"
      ]
    },
    {
      "cell_type": "code",
      "execution_count": 77,
      "metadata": {
        "colab": {
          "base_uri": "https://localhost:8080/"
        },
        "id": "5r2iCLhHFq_-",
        "outputId": "de141e19-5103-4ed2-a405-f6bedeeec012"
      },
      "outputs": [
        {
          "name": "stdout",
          "output_type": "stream",
          "text": [
            "Assign a float to int32 [1 2 3 5 5]\n",
            "Fill function:  [4 4 4 4 4]\n"
          ]
        }
      ],
      "source": [
        "int_array = np.array([1,2,3,4,5], dtype=np.int32)\n",
        "int_array[3] = 5.2\n",
        "print(\"Assign a float to int32\", int_array)\n",
        "\n",
        "int_array.fill(4.3)\n",
        "print(\"Fill function: \",int_array)\n"
      ]
    },
    {
      "cell_type": "markdown",
      "metadata": {
        "id": "UK4-Grt0F8_k"
      },
      "source": [
        "-. Add two  arrays\n",
        "\n",
        "-. Multiple both arrays\n",
        "\n",
        "-.Use ** operator in array operation\n",
        "\n",
        "-.Create array from 0.0 to 11.0\n",
        "\n",
        "-.Multiply entire array with a scalar value\n",
        " c = (2.0 * np.pi)\n",
        "\n",
        "-.Use np.arrange function to create an array with step of 0.5 from 1.0 to 3.0"
      ]
    },
    {
      "cell_type": "code",
      "execution_count": 80,
      "metadata": {
        "colab": {
          "base_uri": "https://localhost:8080/"
        },
        "id": "1cRgGYTdGayU",
        "outputId": "c7f75b80-55b5-4f12-f046-4682fc45e46e"
      },
      "outputs": [
        {
          "name": "stdout",
          "output_type": "stream",
          "text": [
            "1. Addition of arrays a and b is:  [ 4  6  8 10 12]\n",
            "2. Multiplication of arrays a and b is:  [ 0  5 12 21 32]\n",
            "3. a power b is:  [    0     1    64  2187 65536]\n",
            "4. Array from 0.0 to 11.0  [ 0.  1.  2.  3.  4.  5.  6.  7.  8.  9. 10. 11.]\n",
            "5. Multiply with scalar value c = (2.0 * np.pi) [0.         0.62831853 1.25663706 1.88495559 2.51327412 3.14159265\n",
            " 3.76991118 4.39822972 5.02654825 5.65486678 6.28318531 6.91150384]\n",
            "6. Array using np.arange  [1.  1.5 2.  2.5]\n"
          ]
        }
      ],
      "source": [
        "a = np.array([0,1,2,3,4])\n",
        "b = np.array([4,5,6,7,8])\n",
        "print(\"1. Addition of arrays a and b is: \", a+b)\n",
        "print(\"2. Multiplication of arrays a and b is: \", a*b)\n",
        "print(\"3. a power b is: \", a**b)\n",
        "array3 = np.arange(12.0)\n",
        "print(\"4. Array from 0.0 to 11.0 \", array3)\n",
        "print(\"5. Multiply with scalar value c = (2.0 * np.pi)\", array3*(2.0*np.pi/10.0))\n",
        "array4 = np.arange(1.0, 3.0, 0.5)\n",
        "print(\"6. Array using np.arange \",array4)"
      ]
    },
    {
      "cell_type": "markdown",
      "metadata": {
        "id": "60fA9aHmI0g_"
      },
      "source": [
        "# Slicing\n",
        "var[lower:upper:step]\n",
        "• Extracts a portion of a sequence by specifying a lower and upper bound.\n",
        "\n",
        "• The lower-bound element is included, but the upper-bound element is not included.\n",
        "\n",
        "• Mathematically: [lower, upper). The step value specifies the stride between elements.\n",
        "\n",
        "1. Etract array indices from 1 to 3:\n",
        "2. Use negative indices as well\n",
        "3. Omitted boundaries are assumed to be the beginning (or end) of the array grab first three elements\n",
        "4. Grab last two elements\n",
        "5. Grab every other element\n",
        "6. slicing the last two elements returns the data there\n",
        "7. Can we insert an iterable of length two? or a scalar value\n",
        "8.Arrays created by slicing share data with the originating array. Changing values in a slice also changes the original array.\n",
        "For example create a slice containing two elements of a changing b changed a! Have an experiment\n",
        "9. if an array a = [[0, 1, 2, 3, 4],[1, 2, 3, 4, 5]] extract values from row 3 to onward and from col 0, 2 and 5\n",
        "10. Perform some masking on a = np.arange(0,36).reshape(6,6)\n",
        "with mask = np.array([1, 0, 1, 0, 0, 1])\n"
      ]
    },
    {
      "cell_type": "code",
      "execution_count": 82,
      "metadata": {
        "colab": {
          "base_uri": "https://localhost:8080/"
        },
        "id": "CVqexfEBMB-w",
        "outputId": "c1320078-19b4-4e12-a31f-ab1829b86c3d"
      },
      "outputs": [
        {
          "name": "stdout",
          "output_type": "stream",
          "text": [
            "1. [1 2]\n",
            "2. [1 2]\n",
            "3. [0 1 2]\n",
            "4. [8 9]\n",
            "5. [0 2 4 6 8]\n",
            "6. [8 9]\n",
            "7. [  0   1   2   3   4 100 200   5   6   7   8   9]\n",
            "7. [ 0  1  2  3  4 19  5  6  7  8  9]\n",
            "8. [ 4  8 16  3  4  5  6  7  8  9]\n",
            "9. [1 3 5]\n"
          ]
        }
      ],
      "source": [
        "from types import new_class\n",
        "array5 = np.array([0,1,2,3,4,5,6,7,8,9])\n",
        "print(\"1.\", array5[1:3])\n",
        "print(\"2.\", array5[-9:-7])\n",
        "print(\"3.\", array5[-10:-7])\n",
        "print(\"4.\", array5[8:11])\n",
        "print(\"5.\", array5[::2])\n",
        "print(\"6.\", array5[-2:])\n",
        "# yes iterable at index 5 for example\n",
        "n = [100,200]\n",
        "iterate = np.insert(array5, 5, n)\n",
        "print(\"7.\", iterate)\n",
        "# or insert scalar value at index 5\n",
        "s = 19\n",
        "insert = np.insert(array5, 5, s)\n",
        "print(\"7.\", insert)\n",
        "b = array5[0:3]\n",
        "b[0] = 4\n",
        "b[1] = 8\n",
        "b[2] = 16\n",
        "print(\"8.\", array5)\n",
        "array6 = np.array([[0,1,2,3,4],[1,2,3,4,5]])\n",
        "print(\"9.\", array6[1, ::2])"
      ]
    },
    {
      "cell_type": "code",
      "execution_count": 84,
      "metadata": {
        "colab": {
          "base_uri": "https://localhost:8080/"
        },
        "id": "3b8B8JHHhEPQ",
        "outputId": "9867d54e-6607-4df1-8201-7b9a442391cd"
      },
      "outputs": [
        {
          "name": "stdout",
          "output_type": "stream",
          "text": [
            "10. \n",
            "[[ 0  1  2  3  4  5]\n",
            " [12 13 14 15 16 17]\n",
            " [30 31 32 33 34 35]]\n"
          ]
        }
      ],
      "source": [
        "array7 = np.arange(0,36).reshape(6,6)\n",
        "mask = np.array([1,0,1,0,0,1], dtype=bool)\n",
        "masked_a = array7[mask]\n",
        "print(\"10. \")\n",
        "print(masked_a)"
      ]
    },
    {
      "cell_type": "markdown",
      "metadata": {
        "id": "6gBgjutdhEPQ"
      },
      "source": [
        "### Now use indexing to select the 5th 7th and 11th columns"
      ]
    },
    {
      "cell_type": "code",
      "execution_count": 71,
      "metadata": {
        "colab": {
          "base_uri": "https://localhost:8080/"
        },
        "id": "ucgU8FQDhEPQ",
        "outputId": "94f2bd4f-1680-4309-a5db-2f582856ac6e"
      },
      "outputs": [
        {
          "data": {
            "text/plain": [
              "array([[  4,   6,  10],\n",
              "       [ 19,  21,  25],\n",
              "       [ 34,  36,  40],\n",
              "       [ 49,  51,  55],\n",
              "       [ 64,  66,  70],\n",
              "       [ 79,  81,  85],\n",
              "       [ 94,  96, 100],\n",
              "       [109, 111, 115],\n",
              "       [124, 126, 130],\n",
              "       [139, 141, 145],\n",
              "       [154, 156, 160],\n",
              "       [169, 171, 175],\n",
              "       [184, 186, 190],\n",
              "       [199, 201, 205],\n",
              "       [214, 216, 220]])"
            ]
          },
          "execution_count": 71,
          "metadata": {},
          "output_type": "execute_result"
        }
      ],
      "source": [
        "array8 = np.arange(0,225).reshape(15,15)\n",
        "array8[:,[4,6,10]]"
      ]
    },
    {
      "cell_type": "markdown",
      "metadata": {
        "id": "vQOL1vpVhEPQ"
      },
      "source": [
        "### Select the 2nd row and fourth-last to second-last columns"
      ]
    },
    {
      "cell_type": "code",
      "execution_count": 72,
      "metadata": {
        "colab": {
          "base_uri": "https://localhost:8080/"
        },
        "id": "M9lQ6DRQhEPQ",
        "outputId": "87c152e4-7048-4262-8321-bf274af864cd"
      },
      "outputs": [
        {
          "data": {
            "text/plain": [
              "array([26, 27, 28])"
            ]
          },
          "execution_count": 72,
          "metadata": {},
          "output_type": "execute_result"
        }
      ],
      "source": [
        "array8[1, -4:-1]"
      ]
    },
    {
      "cell_type": "code",
      "execution_count": null,
      "metadata": {
        "id": "iaHXDBj_IvJx"
      },
      "outputs": [],
      "source": []
    },
    {
      "cell_type": "markdown",
      "metadata": {
        "id": "dVcg6vkAhEPQ"
      },
      "source": [
        "### Select 3rd to 3rd last columns skipping every second column"
      ]
    },
    {
      "cell_type": "code",
      "execution_count": 73,
      "metadata": {
        "colab": {
          "base_uri": "https://localhost:8080/"
        },
        "id": "TnHnbYhEhEPQ",
        "outputId": "80e2b061-89c3-4909-ba81-193cfa76c8f0"
      },
      "outputs": [
        {
          "data": {
            "text/plain": [
              "array([[  2,   4,   6,   8,  10],\n",
              "       [ 17,  19,  21,  23,  25],\n",
              "       [ 32,  34,  36,  38,  40],\n",
              "       [ 47,  49,  51,  53,  55],\n",
              "       [ 62,  64,  66,  68,  70],\n",
              "       [ 77,  79,  81,  83,  85],\n",
              "       [ 92,  94,  96,  98, 100],\n",
              "       [107, 109, 111, 113, 115],\n",
              "       [122, 124, 126, 128, 130],\n",
              "       [137, 139, 141, 143, 145],\n",
              "       [152, 154, 156, 158, 160],\n",
              "       [167, 169, 171, 173, 175],\n",
              "       [182, 184, 186, 188, 190],\n",
              "       [197, 199, 201, 203, 205],\n",
              "       [212, 214, 216, 218, 220]])"
            ]
          },
          "execution_count": 73,
          "metadata": {},
          "output_type": "execute_result"
        }
      ],
      "source": [
        "array8[:, 2:-3:2]"
      ]
    },
    {
      "cell_type": "markdown",
      "metadata": {
        "id": "EV5EN5_YhEPQ"
      },
      "source": [
        "###  Select 3rd to 3rd last columns skipping every second column but in reverse order"
      ]
    },
    {
      "cell_type": "code",
      "execution_count": 74,
      "metadata": {
        "colab": {
          "base_uri": "https://localhost:8080/"
        },
        "id": "3NDxGG9XhEPQ",
        "outputId": "033adf15-e27a-49f1-fd06-d0f87812edfa"
      },
      "outputs": [
        {
          "data": {
            "text/plain": [
              "array([[ 10,   8,   6,   4,   2],\n",
              "       [ 25,  23,  21,  19,  17],\n",
              "       [ 40,  38,  36,  34,  32],\n",
              "       [ 55,  53,  51,  49,  47],\n",
              "       [ 70,  68,  66,  64,  62],\n",
              "       [ 85,  83,  81,  79,  77],\n",
              "       [100,  98,  96,  94,  92],\n",
              "       [115, 113, 111, 109, 107],\n",
              "       [130, 128, 126, 124, 122],\n",
              "       [145, 143, 141, 139, 137],\n",
              "       [160, 158, 156, 154, 152],\n",
              "       [175, 173, 171, 169, 167],\n",
              "       [190, 188, 186, 184, 182],\n",
              "       [205, 203, 201, 199, 197],\n",
              "       [220, 218, 216, 214, 212]])"
            ]
          },
          "execution_count": 74,
          "metadata": {},
          "output_type": "execute_result"
        }
      ],
      "source": [
        "array8[:, 2:-3:2][:, ::-1]"
      ]
    },
    {
      "cell_type": "markdown",
      "metadata": {
        "id": "uO-B0OXYWl7A"
      },
      "source": [
        "### Zip Operations on Numpy Arrays\n",
        "Use a zip function on two arrys.\n",
        "\n",
        "Create another array which would be the sum of corresponding elements of two arrays using for loop."
      ]
    },
    {
      "cell_type": "code",
      "execution_count": null,
      "metadata": {
        "id": "QWAhbiOXHEc9"
      },
      "outputs": [],
      "source": [
        "a = [1, 2, 3, 4]\n",
        "b = [2, 3, 4, 5]\n"
      ]
    },
    {
      "cell_type": "code",
      "execution_count": null,
      "metadata": {
        "colab": {
          "base_uri": "https://localhost:8080/"
        },
        "id": "ePXox_XHMQTr",
        "outputId": "6021c28c-2555-4f7f-fcf8-5e9a981cfc4f"
      },
      "outputs": [
        {
          "name": "stdout",
          "output_type": "stream",
          "text": [
            "[3, 5, 7, 9]\n"
          ]
        }
      ],
      "source": [
        "sum = []\n",
        "for x, y in zip(a, b):\n",
        "    sum.append(x + y)\n",
        "print(sum)"
      ]
    }
  ],
  "metadata": {
    "colab": {
      "provenance": []
    },
    "kernelspec": {
      "display_name": "Python 3",
      "name": "python3"
    },
    "language_info": {
      "name": "python"
    }
  },
  "nbformat": 4,
  "nbformat_minor": 0
}
