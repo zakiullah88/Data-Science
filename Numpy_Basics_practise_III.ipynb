{
  "nbformat": 4,
  "nbformat_minor": 0,
  "metadata": {
    "colab": {
      "provenance": []
    },
    "kernelspec": {
      "name": "python3",
      "display_name": "Python 3"
    },
    "language_info": {
      "name": "python"
    }
  },
  "cells": [
    {
      "cell_type": "code",
      "execution_count": null,
      "metadata": {
        "id": "qQxFQvrEEKqm"
      },
      "outputs": [],
      "source": [
        "import numpy as np"
      ]
    },
    {
      "cell_type": "code",
      "source": [
        "from google.colab import drive\n",
        "drive.mount('/content/drive')"
      ],
      "metadata": {
        "colab": {
          "base_uri": "https://localhost:8080/"
        },
        "id": "n_ncJAFDEbs1",
        "outputId": "a09be9aa-5efa-45c6-b212-e9ebec9db71a"
      },
      "execution_count": null,
      "outputs": [
        {
          "output_type": "stream",
          "name": "stdout",
          "text": [
            "Mounted at /content/drive\n"
          ]
        }
      ]
    },
    {
      "cell_type": "markdown",
      "source": [
        "# Q.1\n",
        "**Statement:** You are working with a retail store that needs to manage its inventory efficiently. They have provided you with a dataset containing information about products, their quantities in stock, and the number of units sold daily for the past week. Total number of products are 5. Your task is to calculate the following:\n",
        "\n",
        "\n",
        "\n",
        "1.The total sales for each product over the past week.\n",
        "\n",
        "2.The average daily sales for each product.\n",
        "\n",
        "3.The product with the highest sales.\n",
        "\n",
        "4.The product with the lowest sales.\n",
        "\n",
        "5.The total sales for all products combined.\n",
        "\n",
        "You are required to use NumPy for efficient data processing and calculations. Write code to solve this inventory management problem."
      ],
      "metadata": {
        "id": "5dL78wl-ElhS"
      }
    },
    {
      "cell_type": "code",
      "source": [
        "import numpy as np\n",
        "\n",
        "product_names = np.array(['Product A', 'Product B', 'Product C', 'Product D', 'Product E'])\n",
        "daily_sales_data = np.array([[10, 15, 20, 25, 30, 35, 40],\n",
        "                             [5, 7, 8, 10, 12, 14, 16],\n",
        "                             [15, 20, 25, 30, 35, 40, 40],\n",
        "                             [12, 25, 20, 40, 20, 32, 55],\n",
        "                             [15, 20, 25, 30, 35, 40, 45]])\n",
        "\n",
        "# Calculate total sales revenue for each product over the past week\n",
        "total_sales_revenue = np.sum(daily_sales_data, axis=1)\n",
        "average_daily_sales = np.mean(daily_sales_data, axis=1)\n",
        "\n",
        "# Print detailed output for each product\n",
        "for i in range(len(product_names)):\n",
        "    print(\"Product \", product_names[i])\n",
        "    print(\"Total Sales Revenue: \", total_sales_revenue[i])\n",
        "    print(\"Average Daily Sales: \", average_daily_sales[i])\n",
        "\n",
        "# Find the product with the highest and lowest sales\n",
        "highest_sales_index = np.argmax(total_sales_revenue)\n",
        "lowest_sales_index = np.argmin(total_sales_revenue)\n",
        "print(\"Highest Sales: \", product_names[highest_sales_index])\n",
        "print(\"Lowest Sales: \", product_names[lowest_sales_index])\n",
        "\n",
        "# Total revenue for all products combined\n",
        "total_revenue_all_products = np.sum(total_sales_revenue)\n",
        "print(\"Total Sales Revenue for All Products Combined:\", total_revenue_all_products)\n"
      ],
      "metadata": {
        "id": "DxtXsLXRVpdW",
        "colab": {
          "base_uri": "https://localhost:8080/"
        },
        "outputId": "307a1200-493c-4e02-e525-3c26ec36cc30"
      },
      "execution_count": 14,
      "outputs": [
        {
          "output_type": "stream",
          "name": "stdout",
          "text": [
            "Product A\n",
            "Total Sales Revenue:  175\n",
            "Average Daily Sales:  25.0\n",
            "Product B\n",
            "Total Sales Revenue:  72\n",
            "Average Daily Sales:  10.285714285714286\n",
            "Product C\n",
            "Total Sales Revenue:  205\n",
            "Average Daily Sales:  29.285714285714285\n",
            "Product D\n",
            "Total Sales Revenue:  204\n",
            "Average Daily Sales:  29.142857142857142\n",
            "Product E\n",
            "Total Sales Revenue:  210\n",
            "Average Daily Sales:  30.0\n",
            "\n",
            "Highest Sales:  Product E with 210 units sold.\n",
            "Lowest Sales:  Product B with 72 units sold.\n",
            "Total Sales Revenue for All Products Combined: 866\n"
          ]
        }
      ]
    },
    {
      "cell_type": "markdown",
      "source": [
        "# Q.2\n",
        "**Statement:** Statement: You are working with a manufacturing plant that produces various components. They have provided you with data on the production rates of five different machines over the past month. Your task is to analyze the performance of these machines by calculating the following metrics:\n",
        "\n",
        "1.The total production output for each machine over the past month.\n",
        "\n",
        "2.The average daily production rate for each machine.\n",
        "\n",
        "3.The machine with the highest total production output.\n",
        "\n",
        "4.The machine with the lowest total production output.\n",
        "\n",
        "The overall production efficiency of the plant, which is defined as the ratio of the total production output to the total number of hours worked, and working hour for each day is 2 hours."
      ],
      "metadata": {
        "id": "ICk1qoQHVwDc"
      }
    },
    {
      "cell_type": "code",
      "source": [
        "import numpy as np\n",
        "\n",
        "# Generate random production rates for 5 machines over 30 days\n",
        "machines = ['Machine 1', 'Machine 2', 'Machine 3', 'Machine 4', 'Machine 5']\n",
        "days = 30\n",
        "production_rates = np.random.randint(100, 201, size=(days, len(machines)))\n",
        "\n",
        "# Initialize totals and averages\n",
        "total_output = [0] * len(machines)\n",
        "average_daily_output = [0] * len(machines)\n",
        "\n",
        "# Calculate total production output for each machine\n",
        "for day in range(days):\n",
        "    for machine in range(len(machines)):\n",
        "        total_output[machine] += production_rates[day][machine]\n",
        "\n",
        "# Calculate average daily production rate for each machine\n",
        "for machine in range(len(machines)):\n",
        "    average_daily_output[machine] = total_output[machine] / days\n",
        "\n",
        "for i in range(len(machines)):\n",
        "    print(\"Machine \", machines[i])\n",
        "    print(\"Total Output: \", total_output[i], \"units\")\n",
        "    print(\"Average Daily Output: \", average_daily_output[i], \"units per day\")\n",
        "\n",
        "# Find the machine with the highest and lowest total production output\n",
        "highest_output_machine_index = np.argmax(total_output)\n",
        "print(\"Machine with the Highest Total Production Output:\", machines[highest_output_machine_index])\n",
        "\n",
        "lowest_output_machine_index = np.argmin(total_output)\n",
        "print(\"Machine with the Lowest Total Production Output:\", machines[lowest_output_machine_index])\n",
        "\n",
        "# Calculate overall production efficiency\n",
        "\n",
        "overall_efficiency = sum(total_output) / (days * 2)\n",
        "\n",
        "print(\"Overall Production Efficiency of the Plant:\", overall_efficiency)\n"
      ],
      "metadata": {
        "id": "lIu6pfmgbUQd",
        "colab": {
          "base_uri": "https://localhost:8080/"
        },
        "outputId": "c8d831f8-84f5-4cb0-8702-cbc301f5209a"
      },
      "execution_count": 36,
      "outputs": [
        {
          "output_type": "stream",
          "name": "stdout",
          "text": [
            "Machine  Machine 1\n",
            "Total Output:  4438 units\n",
            "Average Daily Output:  147.93333333333334 units per day\n",
            "Machine  Machine 2\n",
            "Total Output:  4417 units\n",
            "Average Daily Output:  147.23333333333332 units per day\n",
            "Machine  Machine 3\n",
            "Total Output:  4385 units\n",
            "Average Daily Output:  146.16666666666666 units per day\n",
            "Machine  Machine 4\n",
            "Total Output:  4839 units\n",
            "Average Daily Output:  161.3 units per day\n",
            "Machine  Machine 5\n",
            "Total Output:  4695 units\n",
            "Average Daily Output:  156.5 units per day\n",
            "Machine with the Highest Total Production Output: Machine 4\n",
            "Machine with the Lowest Total Production Output: Machine 3\n",
            "Overall Production Efficiency of the Plant: 379.56666666666666\n"
          ]
        }
      ]
    },
    {
      "cell_type": "markdown",
      "source": [
        "# Q3:\n",
        "\n",
        "**Statment**\n",
        "You are working on a project that involves simulating sensor data for a network of 10 sensors over a period of 15 days. Each sensor collects data once per hour. Your task is to generate a NumPy array named sensor_data to represent this simulated sensor data and perform following statistical analysis on it.\n",
        "\n",
        "Populate the sensor_data array with random floating-point values between 0.0 and 100.0\n",
        "The generated values should represent sensor readings collected once per hour.\n",
        "\n",
        "After generating the sensor_data array, perform the following statistical **calculations:**\n",
        "\n",
        "1.Calculate the mean (average) sensor reading for each sensor over the 15 days.\n",
        "\n",
        "2.Calculate the standard deviation of sensor readings for each sensor.\n",
        "\n",
        "3.Calculate the maximum sensor reading for each sensor.\n",
        "\n",
        "4.Calculate the minimum sensor reading for each sensor.\n",
        "\n",
        "5.Calculate the overall mean sensor reading for all sensors and all days.\n",
        "\n",
        "6.Calculate the overall standard deviation of sensor readings for all sensors an"
      ],
      "metadata": {
        "id": "Ayc9TG-vff7A"
      }
    },
    {
      "cell_type": "code",
      "source": [
        "import numpy as np\n",
        "\n",
        "# Data Generation Requirements\n",
        "num_sensors = 10\n",
        "num_days = 15\n",
        "hours_per_day = 24\n",
        "\n",
        "# Populate the sensor_data array with random floating-point values between 0.0 and 100.0\n",
        "data = np.random.uniform(0.0, 101.0, size=(num_sensors, num_days * hours_per_day))\n",
        "\n",
        "# 1. Calculate the mean sensor reading for each sensor over the 15 days\n",
        "print(\"Mean Readings for Each Sensor:\", np.mean(data, axis=1))\n",
        "\n",
        "# 2. Calculate the standard deviation of sensor readings for each sensor\n",
        "print(\"Standard Deviation of Readings for Each Sensor:\", np.std(data, axis=1))\n",
        "\n",
        "# 3. Calculate the maximum sensor reading for each sensor\n",
        "print(\"Maximum Readings for Each Sensor:\", np.max(data, axis=1))\n",
        "\n",
        "# 4. Calculate the minimum sensor reading for each sensor\n",
        "print(\"Minimum Readings for Each Sensor:\", np.min(data, axis=1))\n",
        "\n",
        "# 5. Calculate the overall mean sensor reading for all sensors and all days\n",
        "print(\"Overall Mean Sensor Reading:\", np.mean(data))\n",
        "\n",
        "# 6. Calculate the overall standard deviation of sensor readings for all sensors\n",
        "print(\"Overall Standard Deviation of Sensor Readings:\", np.mean(data))\n",
        "\n"
      ],
      "metadata": {
        "id": "TWSK9GA1gfz0",
        "colab": {
          "base_uri": "https://localhost:8080/"
        },
        "outputId": "54c1edbc-e2c8-419f-ba83-335fe1fd1f55"
      },
      "execution_count": 23,
      "outputs": [
        {
          "output_type": "stream",
          "name": "stdout",
          "text": [
            "Mean Readings for Each Sensor: [50.68227213 48.81718202 51.27086356 50.64562691 49.4087258  45.9397753\n",
            " 51.90336487 50.15644997 50.28990418 48.16197142]\n",
            "Standard Deviation of Readings for Each Sensor: [28.45156323 29.20798752 28.51519194 28.02430252 29.04896666 27.85844144\n",
            " 29.24589683 30.36072164 29.48553225 28.93857913]\n",
            "Maximum Readings for Each Sensor: [100.73398434 100.58225142  99.98450662 100.67831258 100.42426301\n",
            " 100.62342835 100.87104871 100.82781259 100.96917797 100.45755809]\n",
            "Minimum Readings for Each Sensor: [0.3406673  0.77277581 0.0177271  0.1175301  0.04273598 0.12693633\n",
            " 0.77475073 0.08658636 0.46946506 0.00093889]\n",
            "Overall Mean Sensor Reading: 49.72761361788545\n",
            "Overall Standard Deviation of Sensor Readings: 49.72761361788545\n"
          ]
        }
      ]
    },
    {
      "cell_type": "markdown",
      "source": [
        "# Q4:\n",
        "\n",
        "**Statement**: You are tasked with analyzing the exam scores of 30 students in a class over a period of 10 exams. The exam scores are represented as a NumPy, where each row corresponds to a different student, and each column represents their score in a specific exam.\n",
        "\n",
        "Populate the exam_scores array with random integer values between 50 and 100 to simulate students' exam performance.\n",
        "\n",
        "After generating the exam_scores array, perform the following tasks:\n",
        "\n",
        "1.Calculate the average score for each student over the 10 exams.\n",
        "\n",
        "2.Calculate the standard deviation of scores for each student.\n",
        "\n",
        "3.Identify students who have consistently performed well, defined as those whose average score is above 85.\n",
        "\n",
        "4.Identify students who may need additional support, defined as those whose average score is below 50.\n",
        "\n",
        "Write code to create and populate the exam_scores array and then perform the specified statistical analysis and performance evaluation tasks on the data.\n",
        "\n",
        "\n",
        "\n"
      ],
      "metadata": {
        "id": "IShr0NSyhcEc"
      }
    },
    {
      "cell_type": "code",
      "source": [
        "import numpy as np\n",
        "\n",
        "# Create the exam_scores array (30 students, 10 exams)\n",
        "num_students = 30\n",
        "num_exams = 10\n",
        "\n",
        "# Populate the exam_scores array with random scores between 50 and 100\n",
        "exam_scores = np.random.randint(50, 101, size=(num_students, num_exams))\n",
        "\n",
        "# 1. Calculate the average score for each student over the 10 exams\n",
        "average = np.mean(exam_scores, axis=1)\n",
        "print(\"Average Scores for Each Student:\", average)\n",
        "\n",
        "# 2. Calculate the standard deviation of scores for each student\n",
        "print(\"Standard Deviation of Scores for Each Student:\", np.std(exam_scores, axis=1))\n",
        "\n",
        "# 3. Identify students who have consistently performed well (average score > 85)\n",
        "print(\"Students who have consistently performed well:\", np.where(average > 85)[0])\n",
        "\n",
        "# 4. Identify students who may need additional support (average score < 60)\n",
        "print(\"Students who may need additional support:\", np.where(average < 60)[0])\n"
      ],
      "metadata": {
        "id": "F3p_SMeoiT2o",
        "colab": {
          "base_uri": "https://localhost:8080/"
        },
        "outputId": "80299012-1608-46b8-93fe-3e660b6fbe20"
      },
      "execution_count": 22,
      "outputs": [
        {
          "output_type": "stream",
          "name": "stdout",
          "text": [
            "Average Scores for Each Student: [78.8 71.4 78.9 78.5 77.4 71.4 70.6 79.8 72.6 71.8 69.2 71.3 79.4 77.4\n",
            " 75.9 79.1 72.8 70.1 78.2 73.6 79.1 64.4 78.1 71.6 75.5 78.  75.7 77.2\n",
            " 77.  66.9]\n",
            "Standard Deviation of Scores for Each Student: [17.3712406  12.5713961  16.33064604 15.39642816 11.78303866 16.0137441\n",
            " 12.68227109 14.54510227 14.49965517 11.98165264 11.99833322  7.30821456\n",
            " 13.61763562 17.45966781 15.10926868  9.59635347 15.76578574 10.46374694\n",
            "  9.53729521 13.22270774 12.09504031 14.91442255 14.57017502 13.18483978\n",
            " 15.25942332 16.44384383 13.921566   14.1689802  12.90736224 14.54957044]\n",
            "Students who have consistently performed well: []\n",
            "Students who may need additional support: []\n"
          ]
        }
      ]
    }
  ]
}