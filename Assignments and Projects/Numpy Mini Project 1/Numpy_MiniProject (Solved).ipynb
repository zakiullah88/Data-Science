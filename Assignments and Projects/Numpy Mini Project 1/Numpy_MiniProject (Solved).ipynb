{
  "nbformat": 4,
  "nbformat_minor": 0,
  "metadata": {
    "colab": {
      "provenance": []
    },
    "kernelspec": {
      "name": "python3",
      "display_name": "Python 3"
    },
    "language_info": {
      "name": "python"
    }
  },
  "cells": [
    {
      "cell_type": "code",
      "source": [
        "#import the required libraries\n",
        "import numpy as np\n",
        "from google.colab import drive\n",
        "drive.mount('/content/drive')"
      ],
      "metadata": {
        "id": "QOepuiVEQmVL",
        "colab": {
          "base_uri": "https://localhost:8080/"
        },
        "outputId": "988c37e4-f3f6-4e57-f865-4b92353632f6"
      },
      "execution_count": 1,
      "outputs": [
        {
          "output_type": "stream",
          "name": "stdout",
          "text": [
            "Mounted at /content/drive\n"
          ]
        }
      ]
    },
    {
      "cell_type": "markdown",
      "source": [
        "# Step 1 : Read the Data!"
      ],
      "metadata": {
        "id": "XJJVjthYIz6w"
      }
    },
    {
      "cell_type": "code",
      "execution_count": 2,
      "metadata": {
        "id": "7xcB2zo-O0t-"
      },
      "outputs": [],
      "source": [
        "#give path of the source-file and store that path in a variable named census\n",
        "#census = np.genfromtxt('', delimiter=',')\n",
        "census = '/content/drive/My Drive/Data for Pandas/makeSenseOfCensus.csv'"
      ]
    },
    {
      "cell_type": "markdown",
      "source": [
        "# Loading the data"
      ],
      "metadata": {
        "id": "OiSJcx6GLcWT"
      }
    },
    {
      "cell_type": "markdown",
      "source": [
        "You have studied getfromtext in Numpy Classes, now is the time to put it into action :) Below is the half completed code, you have to substitute values for delimiter and skip_header in it for hte data to be properly read into a Data array. The output of the array has been shared with you guys followed by the code block"
      ],
      "metadata": {
        "id": "VxJZY3U1nsPN"
      }
    },
    {
      "cell_type": "code",
      "source": [
        "data = np.genfromtxt(census, delimiter = ',' , skip_header = 1 )\n",
        "data"
      ],
      "metadata": {
        "id": "Fjx-kQkxQD7q",
        "colab": {
          "base_uri": "https://localhost:8080/"
        },
        "outputId": "964d3b39-7fb8-43e0-a605-e10cde01dba9"
      },
      "execution_count": 3,
      "outputs": [
        {
          "output_type": "execute_result",
          "data": {
            "text/plain": [
              "array([[39., 13.,  4., ...,  0., 40.,  0.],\n",
              "       [50., 13.,  4., ...,  0., 13.,  0.],\n",
              "       [38.,  9.,  4., ...,  0., 40.,  0.],\n",
              "       ...,\n",
              "       [48., 13.,  4., ...,  0., 58.,  1.],\n",
              "       [40., 10.,  4., ...,  0., 40.,  0.],\n",
              "       [39., 13.,  4., ...,  0., 50.,  1.]])"
            ]
          },
          "metadata": {},
          "execution_count": 3
        }
      ]
    },
    {
      "cell_type": "markdown",
      "source": [
        "# Printing the type of data"
      ],
      "metadata": {
        "id": "lLoQJxpdOCfA"
      }
    },
    {
      "cell_type": "code",
      "source": [
        "#print the type of data\n",
        "print(\"Type of data is: \",data.dtype)"
      ],
      "metadata": {
        "colab": {
          "base_uri": "https://localhost:8080/"
        },
        "id": "xkPasCIhQ1qC",
        "outputId": "f59ed1fc-c2a2-40a0-8956-77b13d75973d"
      },
      "execution_count": 96,
      "outputs": [
        {
          "output_type": "stream",
          "name": "stdout",
          "text": [
            "Type of data is:  int64\n"
          ]
        }
      ]
    },
    {
      "cell_type": "markdown",
      "source": [
        "# Step 2 : Append the Data"
      ],
      "metadata": {
        "id": "QTSTCc7jVppG"
      }
    },
    {
      "cell_type": "markdown",
      "source": [
        "A new record [[50,9,4,1,0,0,40,0]] has been given to you. You are supposed to append this new record into the data using np.concatenate()"
      ],
      "metadata": {
        "id": "-gz1eP4sfRpc"
      }
    },
    {
      "cell_type": "code",
      "source": [
        "new_record = [[50,9,4,1,0,0,40,0]]\n"
      ],
      "metadata": {
        "id": "jokdR-EtS1dz"
      },
      "execution_count": 97,
      "outputs": []
    },
    {
      "cell_type": "markdown",
      "source": [
        "## Append 'new_record' (given) to 'data' using \"np.concatenate()\""
      ],
      "metadata": {
        "id": "qVKX1_leVwqh"
      }
    },
    {
      "cell_type": "code",
      "source": [
        "new_record_array = np.array(new_record)\n",
        "\n",
        "# Concatenate the new row to the existing array (axis=0 for row-wise concatenation)\n",
        "result = np.concatenate((data, new_record_array), axis=0)"
      ],
      "metadata": {
        "id": "V38I3c5rTJPQ"
      },
      "execution_count": 98,
      "outputs": []
    },
    {
      "cell_type": "code",
      "source": [
        "#display after appending the new record at the end of the array.\n",
        "print(\"Data after appending the new record\")\n",
        "print(result)"
      ],
      "metadata": {
        "colab": {
          "base_uri": "https://localhost:8080/"
        },
        "id": "QOWjaWI3TlP4",
        "outputId": "263258f2-d392-4c23-d707-a4a08a885d7a"
      },
      "execution_count": 100,
      "outputs": [
        {
          "output_type": "stream",
          "name": "stdout",
          "text": [
            "Data after appending the new record\n",
            "[[39 13  4 ...  0 40  0]\n",
            " [50 13  4 ...  0 13  0]\n",
            " [38  9  4 ...  0 40  0]\n",
            " ...\n",
            " [40 10  4 ...  0 40  0]\n",
            " [39 13  4 ...  0 50  1]\n",
            " [50  9  4 ...  0 40  0]]\n"
          ]
        }
      ]
    },
    {
      "cell_type": "markdown",
      "source": [
        "# Step 3 : Check if it's a young country or old country"
      ],
      "metadata": {
        "id": "i_5WAJWYWHpL"
      }
    },
    {
      "cell_type": "markdown",
      "source": [
        " Create a new array called 'age' by taking only age column(age is the column with index 0) of 'census' array."
      ],
      "metadata": {
        "id": "_CqLiA9OWQPm"
      }
    },
    {
      "cell_type": "code",
      "source": [
        "age = data[:, 0]\n",
        "print(\"Column of age only: \")\n",
        "age"
      ],
      "metadata": {
        "id": "u-v0CJlJf8XA",
        "colab": {
          "base_uri": "https://localhost:8080/"
        },
        "outputId": "f3ac7824-adad-4a83-d928-18aa54ea7e34"
      },
      "execution_count": 101,
      "outputs": [
        {
          "output_type": "stream",
          "name": "stdout",
          "text": [
            "Column of age only: \n"
          ]
        },
        {
          "output_type": "execute_result",
          "data": {
            "text/plain": [
              "array([39, 50, 38, 53, 28, 37, 49, 52, 31, 42, 37, 30, 23, 32, 40, 34, 25,\n",
              "       32, 38, 43, 40, 54, 35, 43, 59, 56, 19, 54, 39, 49, 23, 20, 45, 30,\n",
              "       22, 48, 21, 19, 31, 48, 31, 53, 24, 49, 25, 57, 53, 44, 41, 29, 25,\n",
              "       18, 47, 50, 47, 43, 46, 35, 41, 30, 30, 32, 48, 42, 29, 36, 28, 53,\n",
              "       49, 25, 19, 31, 29, 23, 79, 27, 40, 67, 18, 31, 18, 52, 46, 59, 44,\n",
              "       53, 49, 33, 30, 43, 57, 37, 28, 30, 34, 29, 48, 37, 48, 32, 76, 44,\n",
              "       47, 20, 29, 32, 17, 30, 31, 42, 24, 38, 56, 28, 36, 53, 56, 49, 55,\n",
              "       22, 21, 40, 30, 29, 19, 47, 20, 31, 35, 39, 28, 24, 38, 37, 46, 38,\n",
              "       43, 27, 20, 49, 61, 27, 19, 45, 70, 31, 22, 36, 64, 43, 47, 34, 33,\n",
              "       21, 52, 48, 23, 71, 29, 42, 68, 25, 44, 28, 45, 36, 39, 46, 18, 66,\n",
              "       27, 28, 51, 27, 28, 27, 21, 34, 18, 33, 44, 43, 30, 40, 37, 34, 41,\n",
              "       53, 31, 58, 38, 24, 41, 47, 41, 23, 36, 40, 35, 24, 26, 19, 51, 42,\n",
              "       37, 18, 36, 35, 58, 17, 44, 37, 35, 60, 54, 37, 50, 38, 45, 25, 31,\n",
              "       64, 90, 54, 53, 18, 60, 66, 75, 65, 35, 41, 25, 33, 28, 59, 40, 41,\n",
              "       38, 23, 40, 41, 24, 20, 38, 56, 58, 32, 40, 45, 41, 42, 59, 19, 58,\n",
              "       42, 20, 32, 45, 50, 36, 45, 17, 59, 26, 37, 19, 64, 33, 33, 61, 17,\n",
              "       50, 27, 30, 43, 44, 35, 25, 24, 22, 42, 34, 60, 21, 57, 41, 50, 25,\n",
              "       50, 36, 31, 29, 21, 27, 65, 37, 39, 24, 38, 48, 21, 31, 55, 24, 43,\n",
              "       26, 46, 35, 41, 26, 34, 19, 36, 22, 24, 77, 22, 29, 62, 39, 43, 35,\n",
              "       29, 76, 63, 23, 43, 58, 66, 41, 26, 47, 55, 53, 17, 30, 49, 19, 45,\n",
              "       26, 38, 36, 33, 22, 43, 67, 30, 56, 31, 33, 26, 33, 46, 59, 38, 65,\n",
              "       40, 42, 26, 36, 62, 43, 43, 22, 28, 56, 22, 57, 39, 26, 17, 40, 45,\n",
              "       44, 20, 33, 23, 46, 38, 54, 46, 25, 46, 36, 23, 29, 44, 19, 19, 35,\n",
              "       27, 46, 34, 34, 44, 45, 20, 25, 52, 20, 28, 50, 34, 28, 41, 28, 46,\n",
              "       28, 32, 41, 24, 33, 46, 31, 35, 52, 30, 34, 34, 20, 17, 32, 29, 33,\n",
              "       25, 36, 23, 63, 47, 80, 17, 40, 30, 27, 33, 34, 34, 23, 42, 29, 45,\n",
              "       24, 44, 27, 20, 44, 51, 20, 17, 19, 45, 60, 42, 44, 40, 30, 38, 23,\n",
              "       32, 44, 54, 32, 50, 24, 37, 52, 38, 49, 30, 60, 22, 35, 30, 67, 46,\n",
              "       17, 22, 27, 23, 33, 43, 28, 41, 52, 25, 63, 59, 45, 38, 40, 46, 35,\n",
              "       34, 33, 41, 20, 23, 26, 72, 23, 62, 52, 58, 25, 24, 19, 43, 47, 39,\n",
              "       49, 53, 32, 34, 28, 57, 25, 20, 21, 34, 38, 50, 24, 37, 44, 28, 42,\n",
              "       74, 38, 44, 44, 26, 36, 41, 67, 39, 57, 29, 31, 34, 44, 29, 30, 27,\n",
              "       27, 32, 58, 35, 21, 28, 46, 36, 72, 35, 33, 69, 35, 31, 34, 30, 28,\n",
              "       54, 47, 24, 52, 20, 43, 45, 29, 47, 24, 51, 17, 37, 27, 29, 18, 36,\n",
              "       58, 26, 65, 57, 59, 27, 31, 21, 29, 18, 52, 57, 42, 55, 60, 31, 23,\n",
              "       27, 23, 42, 25, 49, 32, 19, 60, 42, 35, 48, 51, 29, 36, 17, 52, 24,\n",
              "       24, 26, 27, 39, 30, 50, 52, 46, 23, 45, 65, 29, 47, 30, 34, 38, 33,\n",
              "       49, 47, 49, 43, 30, 58, 19, 21, 33, 47, 52, 26, 60, 21, 36, 31, 50,\n",
              "       31, 71, 58, 30, 20, 24, 35, 38, 27, 29, 70, 34, 44, 43, 44, 35, 27,\n",
              "       43, 20, 42, 27, 42, 20, 24, 48, 17, 17, 33, 50, 22, 17, 32, 31, 58,\n",
              "       29, 37, 34, 23, 18, 34, 66, 45, 41, 26, 54, 24, 42, 20, 23, 25, 35,\n",
              "       31, 30, 19, 36, 31, 21, 31, 46, 44, 40, 45, 60, 18, 28, 36, 36, 40,\n",
              "       36, 31, 33, 19, 22, 34, 33, 41, 29, 50, 42, 43, 44, 20, 31, 65, 23,\n",
              "       55, 26, 25, 45, 35, 36, 43, 56, 42, 19, 55, 42, 26, 17, 42, 55, 32,\n",
              "       29, 46, 29, 22, 58, 23, 39, 27, 54, 33, 46, 37, 36, 59, 34, 53, 51,\n",
              "       32, 31, 22, 47, 32, 26, 37, 31, 37, 55, 23, 36, 34, 43, 54, 43, 28,\n",
              "       40, 41, 40, 42, 61, 18, 59, 21, 48, 41, 18, 23, 60, 22, 61, 25, 46,\n",
              "       43, 43, 24, 68, 31, 17, 32, 50, 33, 64, 20, 30, 22, 43, 22, 17, 47,\n",
              "       41, 56, 64, 47, 48, 31, 29, 30, 32, 57, 62, 39, 43, 24, 42, 53, 26,\n",
              "       73, 72, 55, 25, 41, 24, 63, 17, 35, 51, 62, 55, 43, 40, 37, 39, 31,\n",
              "       61, 26, 46, 26, 48, 34, 34, 59, 34, 49, 18, 43, 48, 28, 33, 24, 21,\n",
              "       17, 39, 29, 44, 24, 71, 51, 55, 41, 23, 38, 39, 19, 49, 32, 27, 38,\n",
              "       33, 63, 23, 33, 54, 29, 48, 35, 28, 37, 42, 40, 47, 22, 30, 28, 63,\n",
              "       51, 22, 27, 35, 46, 37, 24, 37, 53, 27, 38, 53, 34, 23, 39, 43, 67,\n",
              "       81, 21, 23, 25, 42, 38, 64, 32, 37, 51, 22, 33, 42, 19, 51, 23, 37,\n",
              "       37, 47, 41, 33, 31, 31, 35, 38, 18, 20, 54, 40, 36, 43, 44, 44, 43,\n",
              "       51, 18, 51, 41, 44, 33, 33, 42, 25, 32, 32, 36, 28, 20, 35, 55, 48,\n",
              "       36, 34, 28, 67, 37, 44, 25, 21, 40, 78, 34, 49, 22, 23, 60, 45, 63,\n",
              "       41, 47, 44, 51, 46, 41, 50, 47, 35, 56, 45, 48, 40, 39])"
            ]
          },
          "metadata": {},
          "execution_count": 101
        }
      ]
    },
    {
      "cell_type": "markdown",
      "source": [
        "Find the max age and store it in a variable called 'max_age'.\n",
        "\n"
      ],
      "metadata": {
        "id": "_IyNXVKqWpPS"
      }
    },
    {
      "cell_type": "code",
      "source": [
        "#print the max_age\n",
        "max_age = np.max(age)\n",
        "print(\"Oldest people have age of:\", max_age, \"years\")"
      ],
      "metadata": {
        "id": "tczhOTFif33u",
        "colab": {
          "base_uri": "https://localhost:8080/"
        },
        "outputId": "94d08a6a-b51f-457a-c607-0906411665b6"
      },
      "execution_count": 103,
      "outputs": [
        {
          "output_type": "stream",
          "name": "stdout",
          "text": [
            "Oldest person has age of: 90 years\n"
          ]
        }
      ]
    },
    {
      "cell_type": "markdown",
      "source": [
        "Find the min age and store it in a variable called 'min_age'."
      ],
      "metadata": {
        "id": "ywrTp3KTWu9z"
      }
    },
    {
      "cell_type": "code",
      "source": [
        "#print the min_age\n",
        "min_age = np.min(age)\n",
        "print(\"Youngest people have age of:\", min_age, \"years\")"
      ],
      "metadata": {
        "id": "QJ1VfCH7f0RG",
        "colab": {
          "base_uri": "https://localhost:8080/"
        },
        "outputId": "bf971eeb-894b-4239-80f5-c4749baa63e0"
      },
      "execution_count": 104,
      "outputs": [
        {
          "output_type": "stream",
          "name": "stdout",
          "text": [
            "Youngest people have age of: 17 years\n"
          ]
        }
      ]
    },
    {
      "cell_type": "markdown",
      "source": [
        "Find the mean of the age and store it in a variable called 'age_mean'."
      ],
      "metadata": {
        "id": "k6TqZMYQd8w1"
      }
    },
    {
      "cell_type": "code",
      "source": [
        "#print the age_mean\n",
        "mean_age = np.mean(age)\n",
        "print(\"Mean or average of age is:\", mean_age)"
      ],
      "metadata": {
        "colab": {
          "base_uri": "https://localhost:8080/"
        },
        "id": "7dTC5eaIXs__",
        "outputId": "b2b70dd5-6e3c-4d4e-cf5b-3c8c8b490ab4"
      },
      "execution_count": 105,
      "outputs": [
        {
          "output_type": "stream",
          "name": "stdout",
          "text": [
            "Mean or average of age is: 38.051\n"
          ]
        }
      ]
    },
    {
      "cell_type": "markdown",
      "source": [
        "Find the standard deviation of the age and store it in a variable called 'age_std'"
      ],
      "metadata": {
        "id": "GEDv3kfSeF9p"
      }
    },
    {
      "cell_type": "code",
      "source": [
        "#print the age_std\n",
        "age_std = np.std(age)\n",
        "print(\"Standard Deviation of the age is:\", age_std)"
      ],
      "metadata": {
        "colab": {
          "base_uri": "https://localhost:8080/"
        },
        "id": "SF33E4XbX8Yi",
        "outputId": "d9513518-8bf9-4cff-b71a-994b9ef20a90"
      },
      "execution_count": 106,
      "outputs": [
        {
          "output_type": "stream",
          "name": "stdout",
          "text": [
            "Standard Deviation of the age is: 13.342803266180612\n"
          ]
        }
      ]
    },
    {
      "cell_type": "markdown",
      "source": [
        "# Step 4: Let's check the country's race distribution to identify the minorities"
      ],
      "metadata": {
        "id": "zfJWcybQecKB"
      }
    },
    {
      "cell_type": "markdown",
      "source": [
        "Create four different arrays by subsetting 'census' array by Race column(Race is the column with index 2) and save them in 'race_0','race_1', 'race_2', 'race_3' and 'race_4' respectively(Meaning: Store the array where 'race'column has value 0 in 'race_0', so on and so forth)"
      ],
      "metadata": {
        "id": "SrvNIFGvef4r"
      }
    },
    {
      "cell_type": "code",
      "source": [
        "race_0 = data[data[:, 2] == 0]\n",
        "print(\"Race 0 Data\")\n",
        "print(race_0)\n",
        "race_1 = data[data[:, 2] == 1]\n",
        "print(\"Race 1 Data\")\n",
        "print(race_1)\n",
        "race_2 = data[data[:, 2] == 2]\n",
        "print(\"Race 2 Data\")\n",
        "print(race_2)\n",
        "race_3 = data[data[:, 2] == 3]\n",
        "print(\"Race 3 Data\")\n",
        "print(race_3)\n",
        "race_4 = data[data[:, 2] == 4]\n",
        "print(\"Race 4 Data\")\n",
        "print(race_4)"
      ],
      "metadata": {
        "colab": {
          "base_uri": "https://localhost:8080/"
        },
        "id": "2iaIx6n6YHPh",
        "outputId": "966eb9f4-3934-472e-980e-97ecfb88e970"
      },
      "execution_count": 109,
      "outputs": [
        {
          "output_type": "stream",
          "name": "stdout",
          "text": [
            "Race 0 Data\n",
            "[[34  4  0  1  0  0 45  0]\n",
            " [35 10  0  0  0  0 40  0]\n",
            " [60  6  0  0  0  0 10  0]\n",
            " [51  9  0  1  0  0 40  0]\n",
            " [25 10  0  0  0  0 20  0]\n",
            " [20  9  0  1  0  0 48  0]\n",
            " [23 10  0  0  0  0 25  0]\n",
            " [29  9  0  1  0  0 40  0]\n",
            " [27 12  0  1  0  0 40  0]\n",
            " [31 12  0  0  0  0 40  0]]\n",
            "Race 1 Data\n",
            "[[  30   13    1    1    0    0   40    1]\n",
            " [  40   11    1    1    0    0   40    1]\n",
            " [  54   10    1    1    0    0   60    1]\n",
            " [  30    9    1    0    0 1573   35    0]\n",
            " [  49   10    1    1    0    0   40    1]\n",
            " [  33   13    1    0    0    0   40    0]\n",
            " [  44   14    1    0    0    0   40    0]\n",
            " [  28    9    1    0    0    0   40    0]\n",
            " [  60    9    1    1    0    0   40    0]\n",
            " [  42    9    1    1    0    0   40    1]\n",
            " [  37   10    1    1    0    0   75    1]\n",
            " [  39   14    1    0 3464    0   40    0]\n",
            " [  21   10    1    0    0    0   25    0]\n",
            " [  24   10    1    0    0    0   40    0]\n",
            " [  34   14    1    1 7298    0   35    1]\n",
            " [  27   10    1    1    0 1980   40    0]\n",
            " [  40   11    1    1    0    0   40    1]\n",
            " [  55    9    1    0    0    0   40    0]\n",
            " [  35   16    1    1    0    0   40    1]\n",
            " [  29   10    1    0    0    0   40    0]\n",
            " [  20    7    1    0    0 1762   40    0]\n",
            " [  55   10    1    0    0    0   40    0]\n",
            " [  51   13    1    1    0 2415   40    1]\n",
            " [  28   11    1    0    0    0   40    0]\n",
            " [  43   14    1    0    0    0   50    0]\n",
            " [  67    9    1    1    0    0   40    1]\n",
            " [  48   13    1    1    0    0   40    1]]\n",
            "Race 2 Data\n",
            "[[  53    7    2    1    0    0   40    0]\n",
            " [  28   13    2    0    0    0   40    0]\n",
            " [  49    5    2    0    0    0   16    0]\n",
            " [  37   10    2    1    0    0   80    1]\n",
            " [  32   12    2    1    0    0   50    0]\n",
            " [  54    9    2    0    0    0   20    0]\n",
            " [  35    5    2    1    0    0   40    0]\n",
            " [  20   10    2    1    0    0   44    0]\n",
            " [  22   10    2    1    0    0   15    0]\n",
            " [  57   13    2    1    0    0   40    1]\n",
            " [  31   13    2    0    0    0   40    0]\n",
            " [  28   10    2    0    0    0   25    0]\n",
            " [  32    9    2    1    0    0   40    0]\n",
            " [  49   11    2    1    0    0   40    1]\n",
            " [  30   13    2    1    0    0   40    0]\n",
            " [  19   10    2    1    0    0   35    0]\n",
            " [  46   12    2    0    0    0   36    0]\n",
            " [  31    9    2    0    0    0   30    0]\n",
            " [  71   10    2    1    0 1816    2    0]\n",
            " [  42   13    2    1    0    0   50    0]\n",
            " [  21    9    2    1    0    0   40    0]\n",
            " [  34    9    2    1    0    0   40    0]\n",
            " [  44   10    2    1    0    0   38    1]\n",
            " [  30   10    2    1    0    0   45    0]\n",
            " [  34    9    2    1    0    0   40    0]\n",
            " [  38   10    2    0    0    0   28    0]\n",
            " [  41   13    2    1    0    0   40    0]\n",
            " [  36   13    2    1 7298    0   36    1]\n",
            " [  44    9    2    1    0    0   40    0]\n",
            " [  37   13    2    1    0    0   60    1]\n",
            " [  90    9    2    1    0 2206   40    0]\n",
            " [  54    9    2    1    0    0   20    0]\n",
            " [  35    7    2    1 3674    0   40    0]\n",
            " [  41    9    2    0    0    0   38    0]\n",
            " [  42   13    2    0    0    0   40    0]\n",
            " [  59    6    2    0    0    0   30    0]\n",
            " [  43    9    2    1    0    0   40    0]\n",
            " [  34   12    2    0    0    0   45    0]\n",
            " [  27   13    2    0    0    0   40    0]\n",
            " [  19   10    2    0    0    0   25    0]\n",
            " [  36   13    2    0    0    0   40    1]\n",
            " [  23   11    2    0    0    0   15    0]\n",
            " [  41   10    2    1    0    0   45    0]\n",
            " [  19    9    2    1    0    0   30    0]\n",
            " [  45    9    2    1    0    0   40    0]\n",
            " [  22   10    2    0    0    0   40    0]\n",
            " [  45    9    2    1    0    0   40    0]\n",
            " [  44    9    2    1    0    0   40    0]\n",
            " [  41   10    2    0    0    0   24    0]\n",
            " [  24    9    2    0    0    0   40    0]\n",
            " [  34    7    2    1    0    0   40    0]\n",
            " [  34    9    2    1  594    0   60    0]\n",
            " [  44    9    2    0    0    0   40    0]\n",
            " [  19    9    2    0    0    0   40    0]\n",
            " [  42   12    2    1    0    0   40    1]\n",
            " [  38   10    2    1    0    0   50    0]\n",
            " [  54    9    2    1    0    0   40    0]\n",
            " [  52    8    2    1  594    0   40    0]\n",
            " [  25   10    2    0    0    0   20    0]\n",
            " [  24   13    2    1    0    0   40    0]\n",
            " [  47    9    2    0    0    0   40    0]\n",
            " [  53    3    2    0    0    0   30    0]\n",
            " [  24   10    2    1    0    0   50    0]\n",
            " [  36    9    2    1    0    0   40    0]\n",
            " [  57    2    2    0    0    0   30    0]\n",
            " [  34    9    2    0    0    0   40    0]\n",
            " [  35    9    2    0    0    0   40    0]\n",
            " [  33   11    2    0    0    0   40    1]\n",
            " [  24    9    2    0    0    0   40    0]\n",
            " [  48    9    2    0    0    0   37    0]\n",
            " [  36    9    2    1    0    0   40    0]\n",
            " [  30    9    2    1    0    0   45    0]\n",
            " [  45    7    2    0    0    0   20    0]\n",
            " [  65    5    2    0    0    0   24    0]\n",
            " [  30    9    2    1    0    0   60    0]\n",
            " [  47   10    2    0    0    0   40    0]\n",
            " [  49    6    2    0    0    0   40    0]\n",
            " [  30   13    2    0    0    0   40    1]\n",
            " [  44    8    2    1    0    0   40    1]\n",
            " [  42    9    2    1    0    0   40    1]\n",
            " [  23   10    2    1    0    0   40    0]\n",
            " [  24   10    2    0    0    0   45    0]\n",
            " [  40    8    2    1    0    0   40    0]\n",
            " [  45   10    2    1    0    0   40    0]\n",
            " [  36   10    2    0    0    0   40    0]\n",
            " [  31    9    2    0    0    0   40    0]\n",
            " [  45   10    2    0    0    0   40    0]\n",
            " [  36   10    2    0    0    0   36    0]\n",
            " [  56    9    2    0  594    0   20    0]\n",
            " [  32   10    2    0    0    0   40    0]\n",
            " [  29    7    2    1    0    0   40    0]\n",
            " [  37    9    2    1    0    0   40    0]\n",
            " [  42   10    2    0    0    0   38    0]\n",
            " [  22   10    2    1    0    0   20    0]\n",
            " [  25    9    2    1    0    0   40    0]\n",
            " [  24    9    2    1    0 1721   30    0]\n",
            " [  22   10    2    1    0    0   40    0]\n",
            " [  55    3    2    1    0    0   25    0]\n",
            " [  23    9    2    0    0    0    7    0]\n",
            " [  54    9    2    1    0    0   40    0]\n",
            " [  48   10    2    0    0    0   30    0]\n",
            " [  24   13    2    1    0    0   15    0]\n",
            " [  23    9    2    1    0    0   40    0]\n",
            " [  38   10    2    0    0    0   40    0]\n",
            " [  35    9    2    1    0    0   40    0]\n",
            " [  54   10    2    0    0    0   35    0]\n",
            " [  51    4    2    0    0    0   40    0]\n",
            " [  78    9    2    0 2964    0   40    0]\n",
            " [  23    9    2    0    0    0   40    0]\n",
            " [  41    9    2    0    0    0   35    0]]\n",
            "Race 3 Data\n",
            "[[  25   10    3    0    0    0   40    0]\n",
            " [  33   10    3    0    0    0   40    0]\n",
            " [  65    7    3    1    0    0   40    0]\n",
            " [  28    4    3    1    0 2179   40    0]\n",
            " [  44    7    3    0    0    0   46    0]\n",
            " [  40   13    3    0    0    0   55    1]]\n",
            "Race 4 Data\n",
            "[[39 13  4 ...  0 40  0]\n",
            " [50 13  4 ...  0 13  0]\n",
            " [38  9  4 ...  0 40  0]\n",
            " ...\n",
            " [48 13  4 ...  0 58  1]\n",
            " [40 10  4 ...  0 40  0]\n",
            " [39 13  4 ...  0 50  1]]\n"
          ]
        }
      ]
    },
    {
      "cell_type": "code",
      "source": [],
      "metadata": {
        "id": "OEz-yzfrYxFC"
      },
      "execution_count": 18,
      "outputs": []
    },
    {
      "cell_type": "markdown",
      "source": [
        "Store the length of the above created arrays in 'len_0', 'len_1','len_2', 'len_3' and 'len_4' respectively"
      ],
      "metadata": {
        "id": "thg4wOEQeo1x"
      }
    },
    {
      "cell_type": "code",
      "source": [
        "#len_0\n",
        "len_0 = race_0.shape[0]\n",
        "print(\"Length of race 0: \", len_0)"
      ],
      "metadata": {
        "id": "6Nbz3CBkZHLY",
        "colab": {
          "base_uri": "https://localhost:8080/"
        },
        "outputId": "f4ee6345-cb8c-448a-97da-a470c66c66b8"
      },
      "execution_count": 91,
      "outputs": [
        {
          "output_type": "stream",
          "name": "stdout",
          "text": [
            "Length of race 0:  10\n"
          ]
        }
      ]
    },
    {
      "cell_type": "code",
      "source": [
        "#len_1\n",
        "len_1 = race_1.shape[0]\n",
        "print(\"Length of race 1: \", len_1)"
      ],
      "metadata": {
        "id": "Zm0CnpfHaWQ7",
        "colab": {
          "base_uri": "https://localhost:8080/"
        },
        "outputId": "e757ece2-823e-402a-ee4b-896255ba2670"
      },
      "execution_count": 92,
      "outputs": [
        {
          "output_type": "stream",
          "name": "stdout",
          "text": [
            "Length of race 1:  27\n"
          ]
        }
      ]
    },
    {
      "cell_type": "code",
      "source": [
        "#len_2\n",
        "len_2 = race_2.shape[0]\n",
        "print(\"Length of race 2: \", len_2)"
      ],
      "metadata": {
        "id": "BmTApcJTab3j",
        "colab": {
          "base_uri": "https://localhost:8080/"
        },
        "outputId": "f503b524-19bd-4e33-98c6-4b15de602b62"
      },
      "execution_count": 93,
      "outputs": [
        {
          "output_type": "stream",
          "name": "stdout",
          "text": [
            "Length of race 2:  110\n"
          ]
        }
      ]
    },
    {
      "cell_type": "code",
      "source": [
        "#len_3\n",
        "len_3 = race_3.shape[0]\n",
        "print(\"Length of race 3: \", len_3)"
      ],
      "metadata": {
        "id": "O-SEHnv9afoQ",
        "colab": {
          "base_uri": "https://localhost:8080/"
        },
        "outputId": "d5b16dc1-87fc-4b63-f32f-7bba2cee78fa"
      },
      "execution_count": 94,
      "outputs": [
        {
          "output_type": "stream",
          "name": "stdout",
          "text": [
            "Length of race 3:  6\n"
          ]
        }
      ]
    },
    {
      "cell_type": "code",
      "source": [
        "#len_4\n",
        "len_4 = race_4.shape[0]\n",
        "print(\"Length of race 4: \", len_4)"
      ],
      "metadata": {
        "id": "HksygZJFaogo",
        "colab": {
          "base_uri": "https://localhost:8080/"
        },
        "outputId": "8ce96ed8-a975-4a8a-bb6a-dbe172c624ec"
      },
      "execution_count": 95,
      "outputs": [
        {
          "output_type": "stream",
          "name": "stdout",
          "text": [
            "Length of race 4:  847\n"
          ]
        }
      ]
    },
    {
      "cell_type": "markdown",
      "source": [
        "Find out which is the race with the minimum no. of citizens"
      ],
      "metadata": {
        "id": "p57jTibJezYj"
      }
    },
    {
      "cell_type": "code",
      "source": [
        "race = data[:, 2]\n",
        "min_race = np.min(race)\n",
        "print(\"Race with minimum number of citizens:\", min_race)"
      ],
      "metadata": {
        "id": "axqxJHRBdMQL",
        "colab": {
          "base_uri": "https://localhost:8080/"
        },
        "outputId": "61662867-9314-4508-8a73-1760a13b2106"
      },
      "execution_count": 110,
      "outputs": [
        {
          "output_type": "stream",
          "name": "stdout",
          "text": [
            "Race with minimum number of citizens: 0\n"
          ]
        }
      ]
    },
    {
      "cell_type": "markdown",
      "source": [
        "Find out which is the race with the minimum no. of citizens"
      ],
      "metadata": {
        "id": "yJVgGJLgfJcV"
      }
    },
    {
      "cell_type": "code",
      "source": [
        "race = data[:, 2]\n",
        "min_race = np.min(race)\n",
        "print(\"Race with minimum number of citizens:\", min_race)"
      ],
      "metadata": {
        "id": "LnvFjvidgdzb",
        "colab": {
          "base_uri": "https://localhost:8080/"
        },
        "outputId": "7726e0e1-f9e3-4270-fbae-9a526da6b107"
      },
      "execution_count": 111,
      "outputs": [
        {
          "output_type": "stream",
          "name": "stdout",
          "text": [
            "Race with minimum number of citizens: 0\n"
          ]
        }
      ]
    },
    {
      "cell_type": "markdown",
      "source": [
        "Store the number associated with the minority race in a variable called 'minority_race'(For eg: if \"len(race_5)\" is the minimum, store 5 in 'minority_race' because that is the index of the race having the least no. of citizens )"
      ],
      "metadata": {
        "id": "OJmzGHoZfSHv"
      }
    },
    {
      "cell_type": "code",
      "source": [
        "minority_race = np.min(race)\n",
        "print(\"Minority Race:\", minority_race)"
      ],
      "metadata": {
        "id": "xi96yzv9gmar",
        "colab": {
          "base_uri": "https://localhost:8080/"
        },
        "outputId": "eb1fa42e-3a41-44fe-c0b1-c8682b292ca0"
      },
      "execution_count": 124,
      "outputs": [
        {
          "output_type": "stream",
          "name": "stdout",
          "text": [
            "Minority Race: 0\n"
          ]
        }
      ]
    },
    {
      "cell_type": "markdown",
      "source": [
        "Store the number associated with the minority race in a variable called 'minority_race'(For eg: if \"len(race_5)\" is the minimum, store 5 in 'minority_race' because that is the index of the race having the least no. of citizens )"
      ],
      "metadata": {
        "id": "jrg7qCPZhwnu"
      }
    },
    {
      "cell_type": "code",
      "source": [
        "minority_race = np.min(race)\n",
        "minority_race"
      ],
      "metadata": {
        "id": "A3IPB6qMgocF"
      },
      "execution_count": null,
      "outputs": []
    },
    {
      "cell_type": "markdown",
      "source": [
        "# Step 5: As per govt. records citizens above 60 should not work more than 25 hours a week. Let us check if the policy is in place"
      ],
      "metadata": {
        "id": "E1Rwgqxf9F9V"
      }
    },
    {
      "cell_type": "markdown",
      "source": [
        "a.Create a new subset array called 'senior_citizens' by filtering 'census' according to age>60 (age is the column with index 0)"
      ],
      "metadata": {
        "id": "XT4Jy_Wn9Vww"
      }
    },
    {
      "cell_type": "markdown",
      "source": [
        "[Row,Columns]  :"
      ],
      "metadata": {
        "id": "6AEHuxcS-uGh"
      }
    },
    {
      "cell_type": "code",
      "source": [
        "#from age column, filter out age data > 60\n",
        "indices = np.where(data[:, 0] > 60)\n",
        "senior_citizens = data[indices]\n",
        "print(\"The following is the data of senior citizens:\")\n",
        "senior_citizens"
      ],
      "metadata": {
        "colab": {
          "base_uri": "https://localhost:8080/"
        },
        "id": "oX6E5VZv9Z4j",
        "outputId": "129e4801-2f76-430e-acb4-0a70b7da5cf3"
      },
      "execution_count": 112,
      "outputs": [
        {
          "output_type": "stream",
          "name": "stdout",
          "text": [
            "The following is the data of senior citizens:\n"
          ]
        },
        {
          "output_type": "execute_result",
          "data": {
            "text/plain": [
              "array([[   79,    10,     4,     1,     0,     0,    20,     0],\n",
              "       [   67,     6,     4,     1,     0,     0,     2,     0],\n",
              "       [   76,    14,     4,     1,     0,     0,    40,     1],\n",
              "       [   61,     9,     4,     1,     0,     0,    40,     0],\n",
              "       [   70,    10,     4,     1,     0,     0,    40,     0],\n",
              "       [   64,     7,     4,     1,     0,  2179,    40,     0],\n",
              "       [   71,    10,     2,     1,     0,  1816,     2,     0],\n",
              "       [   68,     2,     4,     0,     0,     0,    20,     0],\n",
              "       [   66,    11,     4,     0,     0,     0,    20,     0],\n",
              "       [   64,     2,     4,     1,     0,     0,    40,     0],\n",
              "       [   90,     9,     2,     1,     0,  2206,    40,     0],\n",
              "       [   66,     9,     4,     1,  1409,     0,    50,     0],\n",
              "       [   75,    11,     4,     0,     0,     0,    20,     0],\n",
              "       [   65,     9,     4,     0,     0,     0,    40,     0],\n",
              "       [   64,     9,     4,     1,     0,     0,    40,     1],\n",
              "       [   61,     9,     4,     1,     0,     0,    40,     1],\n",
              "       [   65,     9,     4,     1,     0,     0,    16,     0],\n",
              "       [   77,    10,     4,     1,     0,     0,    40,     0],\n",
              "       [   62,     9,     4,     0,     0,     0,    24,     0],\n",
              "       [   76,    14,     4,     1,     0,     0,    10,     0],\n",
              "       [   63,     9,     4,     1,     0,     0,    45,     0],\n",
              "       [   66,     9,     4,     1,  2050,     0,    55,     0],\n",
              "       [   67,     7,     4,     1,     0,     0,     8,     0],\n",
              "       [   65,     7,     3,     1,     0,     0,    40,     0],\n",
              "       [   62,    14,     4,     1,     0,     0,    40,     1],\n",
              "       [   63,     9,     4,     1,     0,     0,    40,     1],\n",
              "       [   80,     9,     4,     1,     0,     0,    24,     0],\n",
              "       [   67,    11,     4,     0,     0,     0,    24,     0],\n",
              "       [   63,     2,     4,     1,     0,     0,    35,     0],\n",
              "       [   72,     9,     4,     1,     0,     0,    20,     0],\n",
              "       [   62,     9,     4,     1,     0,     0,    40,     0],\n",
              "       [   74,    10,     4,     0,     0,     0,     9,     0],\n",
              "       [   67,    15,     4,     1, 20051,     0,    48,     1],\n",
              "       [   72,     7,     4,     0,     0,     0,    40,     0],\n",
              "       [   69,     7,     4,     0,     0,     0,    40,     0],\n",
              "       [   65,    10,     4,     1,     0,     0,    30,     1],\n",
              "       [   65,     5,     2,     0,     0,     0,    24,     0],\n",
              "       [   71,     9,     4,     1,     0,     0,    15,     0],\n",
              "       [   70,     5,     4,     0,  1111,     0,    15,     0],\n",
              "       [   66,     4,     4,     1,     0,     0,     4,     0],\n",
              "       [   65,     7,     4,     1,  9386,     0,    59,     1],\n",
              "       [   61,     9,     4,     1,     0,  2352,    50,     0],\n",
              "       [   61,     9,     4,     1,     0,     0,    40,     0],\n",
              "       [   68,     7,     4,     1,     0,     0,    20,     0],\n",
              "       [   64,    13,     4,     1,     0,     0,    40,     1],\n",
              "       [   64,     9,     4,     1,     0,     0,    45,     0],\n",
              "       [   62,     9,     4,     0,     0,     0,    40,     0],\n",
              "       [   73,     9,     4,     1,     0,     0,    40,     0],\n",
              "       [   72,     7,     4,     0,     0,     0,    24,     0],\n",
              "       [   63,     9,     4,     1,     0,     0,     6,     0],\n",
              "       [   62,    13,     4,     0,     0,     0,    48,     0],\n",
              "       [   61,    14,     4,     0,     0,     0,    40,     1],\n",
              "       [   71,    14,     4,     1, 10605,     0,    40,     1],\n",
              "       [   63,    10,     4,     1,     0,     0,    15,     0],\n",
              "       [   63,     4,     4,     1,     0,     0,    55,     0],\n",
              "       [   67,     9,     1,     1,     0,     0,    40,     1],\n",
              "       [   81,     9,     4,     1,     0,     0,    30,     0],\n",
              "       [   64,     9,     4,     1,     0,     0,     5,     0],\n",
              "       [   67,    13,     4,     1,     0,  2392,    40,     1],\n",
              "       [   78,     9,     2,     0,  2964,     0,    40,     0],\n",
              "       [   63,    11,     4,     0,     0,     0,    20,     0]])"
            ]
          },
          "metadata": {},
          "execution_count": 112
        }
      ]
    },
    {
      "cell_type": "markdown",
      "source": [
        "b.Add all the working hours(working hours is the column with index 6) of 'senior_citizens' and store it in a variable called 'working_hours_sum'"
      ],
      "metadata": {
        "id": "mDbsg8N0_K8b"
      }
    },
    {
      "cell_type": "code",
      "source": [
        "working_hours_sum = np.sum(senior_citizens[:, 6])\n",
        "print (\"Sum of working hours of senior citizens:\", working_hours_sum)"
      ],
      "metadata": {
        "id": "fYZTR7EMgupn",
        "colab": {
          "base_uri": "https://localhost:8080/"
        },
        "outputId": "3980143f-3cf2-4513-901a-77b5be9e3bf9"
      },
      "execution_count": 84,
      "outputs": [
        {
          "output_type": "stream",
          "name": "stdout",
          "text": [
            "Sum of working hours: 1917\n"
          ]
        }
      ]
    },
    {
      "cell_type": "markdown",
      "source": [
        "c.Find the length of 'senior_citizens' and store it in a variable called 'senior_citizens_len'"
      ],
      "metadata": {
        "id": "l4h6_8DfBD9x"
      }
    },
    {
      "cell_type": "code",
      "source": [
        "#senior_citizens_len = len(senior_citizens)\n",
        "senior_citizens_len = senior_citizens.shape[0]\n",
        "print(\"Total number of senior senior citizens: \",senior_citizens_len)"
      ],
      "metadata": {
        "id": "pPExiV83gwaC",
        "colab": {
          "base_uri": "https://localhost:8080/"
        },
        "outputId": "a5c9c9c6-8ac3-4d66-c282-f38279f11278"
      },
      "execution_count": 85,
      "outputs": [
        {
          "output_type": "stream",
          "name": "stdout",
          "text": [
            "Total number of senior senior citizens:  61\n"
          ]
        }
      ]
    },
    {
      "cell_type": "markdown",
      "source": [
        "d. Finally find the average working hours of the senior citizens by dividing 'working_hours_sum' by 'senior_citizens_len' and store it in a variable called 'avg_working hours'."
      ],
      "metadata": {
        "id": "-6mWgLiXBgAW"
      }
    },
    {
      "cell_type": "code",
      "source": [
        "avg_working_hours = working_hours_sum / senior_citizens_len\n",
        "print(\"Average Working Hours: \", avg_working_hours)"
      ],
      "metadata": {
        "id": "AOwajHabgy29",
        "colab": {
          "base_uri": "https://localhost:8080/"
        },
        "outputId": "bab408a3-88e1-41ea-f8ba-ac6d7dd48c72"
      },
      "execution_count": 86,
      "outputs": [
        {
          "output_type": "stream",
          "name": "stdout",
          "text": [
            "Average Working Hours:  31.42622950819672\n"
          ]
        }
      ]
    },
    {
      "cell_type": "markdown",
      "source": [
        "e. Print 'avg_working_hours' and see if the govt. policy is followed."
      ],
      "metadata": {
        "id": "VS382pv_CY1Q"
      }
    },
    {
      "cell_type": "code",
      "source": [
        "print(\"Average Working Hours: \", avg_working_hours)\n",
        "govt_policy = senior_citizens[senior_citizens[:, 6] > 25]\n",
        "\n",
        "if len(govt_policy) > 0:\n",
        "    print(\"Government Policies are not being followed by:\")\n",
        "    print(govt_policy)\n",
        "else:\n",
        "    print(\"The Government Policy is being followed.\")"
      ],
      "metadata": {
        "id": "NatAJ4JBgzr4",
        "colab": {
          "base_uri": "https://localhost:8080/"
        },
        "outputId": "d5304da9-aea1-45c7-d5c9-b93d2da57a3a"
      },
      "execution_count": 113,
      "outputs": [
        {
          "output_type": "stream",
          "name": "stdout",
          "text": [
            "Average Working Hours:  31.42622950819672\n",
            "Government Policies are not being followed by:\n",
            "[[   76    14     4     1     0     0    40     1]\n",
            " [   61     9     4     1     0     0    40     0]\n",
            " [   70    10     4     1     0     0    40     0]\n",
            " [   64     7     4     1     0  2179    40     0]\n",
            " [   64     2     4     1     0     0    40     0]\n",
            " [   90     9     2     1     0  2206    40     0]\n",
            " [   66     9     4     1  1409     0    50     0]\n",
            " [   65     9     4     0     0     0    40     0]\n",
            " [   64     9     4     1     0     0    40     1]\n",
            " [   61     9     4     1     0     0    40     1]\n",
            " [   77    10     4     1     0     0    40     0]\n",
            " [   63     9     4     1     0     0    45     0]\n",
            " [   66     9     4     1  2050     0    55     0]\n",
            " [   65     7     3     1     0     0    40     0]\n",
            " [   62    14     4     1     0     0    40     1]\n",
            " [   63     9     4     1     0     0    40     1]\n",
            " [   63     2     4     1     0     0    35     0]\n",
            " [   62     9     4     1     0     0    40     0]\n",
            " [   67    15     4     1 20051     0    48     1]\n",
            " [   72     7     4     0     0     0    40     0]\n",
            " [   69     7     4     0     0     0    40     0]\n",
            " [   65    10     4     1     0     0    30     1]\n",
            " [   65     7     4     1  9386     0    59     1]\n",
            " [   61     9     4     1     0  2352    50     0]\n",
            " [   61     9     4     1     0     0    40     0]\n",
            " [   64    13     4     1     0     0    40     1]\n",
            " [   64     9     4     1     0     0    45     0]\n",
            " [   62     9     4     0     0     0    40     0]\n",
            " [   73     9     4     1     0     0    40     0]\n",
            " [   62    13     4     0     0     0    48     0]\n",
            " [   61    14     4     0     0     0    40     1]\n",
            " [   71    14     4     1 10605     0    40     1]\n",
            " [   63     4     4     1     0     0    55     0]\n",
            " [   67     9     1     1     0     0    40     1]\n",
            " [   81     9     4     1     0     0    30     0]\n",
            " [   67    13     4     1     0  2392    40     1]\n",
            " [   78     9     2     0  2964     0    40     0]]\n"
          ]
        }
      ]
    },
    {
      "cell_type": "markdown",
      "source": [
        "# Step 6: Let's check that higher educated people have better pay in general."
      ],
      "metadata": {
        "id": "KRGhpDBKEIa-"
      }
    },
    {
      "cell_type": "markdown",
      "source": [
        "Create two new subset arrays called 'high' and 'low' by filtering 'census' according to education-num>10 and education-num<=10 (education-num is the column with index 1) respectively.\n",
        "\n"
      ],
      "metadata": {
        "id": "-5rc9FarELwP"
      }
    },
    {
      "cell_type": "code",
      "source": [
        "high = data[data[:, 1] > 10]\n",
        "print(\"Higher Educated People are:\")\n",
        "print(high)\n",
        "low = data[data[:, 1] <= 10]\n",
        "print(\"Lower Educated People are:\")\n",
        "print(low)"
      ],
      "metadata": {
        "id": "GVA3Dgp5g2Ui",
        "colab": {
          "base_uri": "https://localhost:8080/"
        },
        "outputId": "bad50ada-19fb-4198-851e-c7e46364bfbc"
      },
      "execution_count": 115,
      "outputs": [
        {
          "output_type": "stream",
          "name": "stdout",
          "text": [
            "Higher Educated People are:\n",
            "[[39 13  4 ...  0 40  0]\n",
            " [50 13  4 ...  0 13  0]\n",
            " [28 13  2 ...  0 40  0]\n",
            " ...\n",
            " [45 14  4 ...  0 45  0]\n",
            " [48 13  4 ...  0 58  1]\n",
            " [39 13  4 ...  0 50  1]]\n",
            "Lower Educated People are:\n",
            "[[38  9  4 ...  0 40  0]\n",
            " [53  7  2 ...  0 40  0]\n",
            " [49  5  2 ...  0 16  0]\n",
            " ...\n",
            " [35  9  4 ...  0 45  0]\n",
            " [56  9  4 ...  0 55  1]\n",
            " [40 10  4 ...  0 40  0]]\n"
          ]
        }
      ]
    },
    {
      "cell_type": "markdown",
      "source": [
        "Find the mean of income column(income is the column with index 7) of 'high' array and store it in 'avg_pay_high'. Do the same for 'low' array and store it's mean in 'avg_pay_low'."
      ],
      "metadata": {
        "id": "I4MwXFEbFEjV"
      }
    },
    {
      "cell_type": "code",
      "source": [
        "if high.size > 0:\n",
        "  avg_pay_high = np.mean(high[:, 7])\n",
        "  print(\"Average pay of highly educated people:\", avg_pay_high)\n",
        "else: 0\n",
        "\n",
        "if low.size > 0:\n",
        "  avg_pay_low = np.mean(low[:, 7])\n",
        "  print(\"Average pay of low educated people\", avg_pay_low)\n",
        "else: 0"
      ],
      "metadata": {
        "colab": {
          "base_uri": "https://localhost:8080/"
        },
        "id": "aaHfrQd1FItV",
        "outputId": "52feec71-8fd3-4da9-92c7-82d0897cac57"
      },
      "execution_count": 118,
      "outputs": [
        {
          "output_type": "stream",
          "name": "stdout",
          "text": [
            "Average pay of highly educated people: 0.42813455657492355\n",
            "Average pay of low educated people 0.13670133729569092\n"
          ]
        }
      ]
    },
    {
      "cell_type": "code",
      "source": [
        "if avg_pay_high > avg_pay_low:\n",
        "  print(\"Higher education correlates with higher income.\")\n",
        "else:\n",
        "  print(\"No higher education does not correlates with higher income.\")"
      ],
      "metadata": {
        "colab": {
          "base_uri": "https://localhost:8080/"
        },
        "id": "W4pJ8mhvHjlL",
        "outputId": "e112f541-0b76-4906-b517-384fe7a5c81f"
      },
      "execution_count": 119,
      "outputs": [
        {
          "output_type": "stream",
          "name": "stdout",
          "text": [
            "Higher education correlates with higher income.\n"
          ]
        }
      ]
    }
  ]
}