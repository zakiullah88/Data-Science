{
  "nbformat": 4,
  "nbformat_minor": 0,
  "metadata": {
    "colab": {
      "provenance": []
    },
    "kernelspec": {
      "name": "python3",
      "display_name": "Python 3"
    },
    "language_info": {
      "name": "python"
    }
  },
  "cells": [
    {
      "cell_type": "markdown",
      "source": [
        "# Welcome to the ending of your second module at KS :)\n",
        "\n"
      ],
      "metadata": {
        "id": "zbiZPBw05E7h"
      }
    },
    {
      "cell_type": "markdown",
      "source": [
        "The sharing of this workbook entails that you are moving on a good pace 🥰 Let's jump on to some advance stuff now, eh?\n",
        "\n",
        "R E M E M B E R:       **PANDAS** documentation is going to be your bestie for this assignment!"
      ],
      "metadata": {
        "id": "-LlzeNNU5PbN"
      }
    },
    {
      "cell_type": "markdown",
      "source": [
        "### **PART 1 - GET TO KNOW YOUR DATA!**"
      ],
      "metadata": {
        "id": "ClyqgmWx5tqb"
      }
    },
    {
      "cell_type": "markdown",
      "source": [
        "This time we are going to pull data directly from the internet."
      ],
      "metadata": {
        "id": "lLBfgc-557Kc"
      }
    },
    {
      "cell_type": "markdown",
      "source": [
        "Step 1: Import the neccessary libraries."
      ],
      "metadata": {
        "id": "covc_E4f6Di7"
      }
    },
    {
      "cell_type": "code",
      "execution_count": null,
      "metadata": {
        "id": "rOB6JEky5EOd"
      },
      "outputs": [],
      "source": []
    },
    {
      "cell_type": "markdown",
      "source": [
        "Step 2: Import the dataset from this [address](https://raw.githubusercontent.com/justmarkham/DAT8/master/data/chipotle.tsv) and save it in a variable named food."
      ],
      "metadata": {
        "id": "OcrUCTnc6Jei"
      }
    },
    {
      "cell_type": "code",
      "source": [
        "#Hint: to get the date, check what sort of delimiter would you use?"
      ],
      "metadata": {
        "id": "Bf4efILd6NVl"
      },
      "execution_count": null,
      "outputs": []
    },
    {
      "cell_type": "markdown",
      "source": [
        "Step 3: I want to see what the first ten rows of the dataset looks like. How?"
      ],
      "metadata": {
        "id": "XKpBs5ZR6v4M"
      }
    },
    {
      "cell_type": "code",
      "source": [],
      "metadata": {
        "id": "uaNaM8aQ6sDf"
      },
      "execution_count": null,
      "outputs": []
    },
    {
      "cell_type": "markdown",
      "source": [
        "Step 4. What is the number of observations in the dataset?"
      ],
      "metadata": {
        "id": "afXWh3VC66Hk"
      }
    },
    {
      "cell_type": "code",
      "source": [],
      "metadata": {
        "id": "SaTXDGZP65iN"
      },
      "execution_count": null,
      "outputs": []
    },
    {
      "cell_type": "markdown",
      "source": [
        "Step 5. What is the number of columns in the dataset?"
      ],
      "metadata": {
        "id": "VP2HijtZ7BOM"
      }
    },
    {
      "cell_type": "code",
      "source": [],
      "metadata": {
        "id": "082VTDLq7CQz"
      },
      "execution_count": null,
      "outputs": []
    },
    {
      "cell_type": "markdown",
      "source": [
        "Step 6. Print the name of all the columns."
      ],
      "metadata": {
        "id": "UmmRB0cc7DDV"
      }
    },
    {
      "cell_type": "code",
      "source": [],
      "metadata": {
        "id": "tARmbQ_t7Ffh"
      },
      "execution_count": null,
      "outputs": []
    },
    {
      "cell_type": "markdown",
      "source": [
        "Step 7. How is the dataset indexed?"
      ],
      "metadata": {
        "id": "6z6pagRH7F5M"
      }
    },
    {
      "cell_type": "code",
      "source": [
        "#Hint: think or look for a command that gives information about the dataset but this time, only the index from the dataset."
      ],
      "metadata": {
        "id": "Ck9Ht4Ac7IsN"
      },
      "execution_count": null,
      "outputs": []
    },
    {
      "cell_type": "markdown",
      "source": [
        "Step 8. Which was the most-ordered item?"
      ],
      "metadata": {
        "id": "mETS-g6z7R5B"
      }
    },
    {
      "cell_type": "code",
      "source": [],
      "metadata": {
        "id": "AeCKpHfK7Tsz"
      },
      "execution_count": null,
      "outputs": []
    },
    {
      "cell_type": "markdown",
      "source": [
        "Step 9. For the most-ordered item, how many items were ordered?"
      ],
      "metadata": {
        "id": "B-4CI7Np7Y0U"
      }
    },
    {
      "cell_type": "code",
      "source": [],
      "metadata": {
        "id": "Qh9ijN8L7hLl"
      },
      "execution_count": null,
      "outputs": []
    },
    {
      "cell_type": "markdown",
      "source": [
        "Step 10. What was the most ordered item in the choice_description column?"
      ],
      "metadata": {
        "id": "pepKCJjl7lZn"
      }
    },
    {
      "cell_type": "code",
      "source": [],
      "metadata": {
        "id": "uw0fIDa07msP"
      },
      "execution_count": null,
      "outputs": []
    },
    {
      "cell_type": "markdown",
      "source": [
        "Step 11. How many items were orderd in total?"
      ],
      "metadata": {
        "id": "GpyCXQ917pLv"
      }
    },
    {
      "cell_type": "code",
      "source": [],
      "metadata": {
        "id": "h0CC85yq7ql3"
      },
      "execution_count": null,
      "outputs": []
    },
    {
      "cell_type": "markdown",
      "source": [
        "Step 12. Turn the item price into a float"
      ],
      "metadata": {
        "id": "GE8OSWOl7tAA"
      }
    },
    {
      "cell_type": "markdown",
      "source": [
        "Step 12.a. Check the item price type"
      ],
      "metadata": {
        "id": "hv8Q1J1Y7wdE"
      }
    },
    {
      "cell_type": "code",
      "source": [
        "#check itemprice type before changing  it"
      ],
      "metadata": {
        "id": "iW1o9udC7uoE"
      },
      "execution_count": null,
      "outputs": []
    },
    {
      "cell_type": "markdown",
      "source": [
        "Step 12.b. Create a lambda function and change the type of item price."
      ],
      "metadata": {
        "id": "1L84dvHA7yYP"
      }
    },
    {
      "cell_type": "code",
      "source": [
        "#Hint: You can first create a lambda function and then store it in a variable. After that, you can (APPLY) it on the relevant column :)"
      ],
      "metadata": {
        "id": "KNrHFhOb74I-"
      },
      "execution_count": null,
      "outputs": []
    },
    {
      "cell_type": "markdown",
      "source": [
        "Step 12.c. Check the item price type now"
      ],
      "metadata": {
        "id": "O6C_51Z48H6Q"
      }
    },
    {
      "cell_type": "code",
      "source": [
        "#make sure the itemprice type has changed now"
      ],
      "metadata": {
        "id": "AYUsrtHK8Ktz"
      },
      "execution_count": null,
      "outputs": []
    },
    {
      "cell_type": "markdown",
      "source": [
        "Step 13. How much was the revenue for the period in the dataset?"
      ],
      "metadata": {
        "id": "DyIowH-78jlC"
      }
    },
    {
      "cell_type": "code",
      "source": [
        "#Hint: Revenue = Quantity into ItemPrice"
      ],
      "metadata": {
        "id": "nGMGiAQh8kQi"
      },
      "execution_count": null,
      "outputs": []
    },
    {
      "cell_type": "markdown",
      "source": [
        "Step 14. How many orders were made in the period?"
      ],
      "metadata": {
        "id": "Zre-7Hs78yMO"
      }
    },
    {
      "cell_type": "code",
      "source": [],
      "metadata": {
        "id": "sYedHajA87I0"
      },
      "execution_count": null,
      "outputs": []
    },
    {
      "cell_type": "markdown",
      "source": [
        "Step 15. What is the average revenue amount per order?"
      ],
      "metadata": {
        "id": "2sXX8BCP87mN"
      }
    },
    {
      "cell_type": "code",
      "source": [],
      "metadata": {
        "id": "NyBEdnVl89Ho"
      },
      "execution_count": null,
      "outputs": []
    },
    {
      "cell_type": "markdown",
      "source": [
        "Step 16. How many different items are sold?"
      ],
      "metadata": {
        "id": "_DwwN72U9Fc0"
      }
    },
    {
      "cell_type": "code",
      "source": [],
      "metadata": {
        "id": "PgQgFw7o9GuU"
      },
      "execution_count": null,
      "outputs": []
    },
    {
      "cell_type": "markdown",
      "source": [
        "### **Part 2 - FILTER AND SORT YOUR DATA!**"
      ],
      "metadata": {
        "id": "oXd7QwRx9Saq"
      }
    },
    {
      "cell_type": "markdown",
      "source": [
        "Step 17. How many products cost more than $10.00?"
      ],
      "metadata": {
        "id": "PxXtyT499jD1"
      }
    },
    {
      "cell_type": "code",
      "source": [
        "# you already  converted the itemprice into flaot, now delete the duplicates in item_name and quantity.\n",
        "# select only the products with quantity equals to 1 and then print the unqiue count only"
      ],
      "metadata": {
        "id": "OCrwcvLh9ZYp"
      },
      "execution_count": null,
      "outputs": []
    },
    {
      "cell_type": "markdown",
      "source": [
        "Step 18. Sort by the name of the item"
      ],
      "metadata": {
        "id": "e2a66bNk-InP"
      }
    },
    {
      "cell_type": "code",
      "source": [],
      "metadata": {
        "id": "2L1U_usr-PNE"
      },
      "execution_count": null,
      "outputs": []
    },
    {
      "cell_type": "markdown",
      "source": [
        "Step 19. What was the quantity of the most expensive item ordered?"
      ],
      "metadata": {
        "id": "bJslVYDs-PpI"
      }
    },
    {
      "cell_type": "code",
      "source": [],
      "metadata": {
        "id": "JiR7AvtF-TZR"
      },
      "execution_count": null,
      "outputs": []
    },
    {
      "cell_type": "markdown",
      "source": [
        "Step 20. How many times did someone order more than one Canned Soda?"
      ],
      "metadata": {
        "id": "8PAFpqxC-UCx"
      }
    },
    {
      "cell_type": "code",
      "source": [
        "#Hint: you can also use boolean condition"
      ],
      "metadata": {
        "id": "uYYKDdiZ-YXx"
      },
      "execution_count": null,
      "outputs": []
    },
    {
      "cell_type": "markdown",
      "source": [
        "BONUS QUESTION: Pandas is used for Data Analysis. Create some unique pandas insight from your dataset and code it here."
      ],
      "metadata": {
        "id": "8aeS4nux-4s-"
      }
    },
    {
      "cell_type": "markdown",
      "source": [
        "Bonus Question is optional, but attempting it would result in 5 Grace Points :)"
      ],
      "metadata": {
        "id": "OGUxrRBB_EOh"
      }
    },
    {
      "cell_type": "code",
      "source": [],
      "metadata": {
        "id": "ivnj_wJb-3Zj"
      },
      "execution_count": null,
      "outputs": []
    },
    {
      "cell_type": "markdown",
      "source": [
        "### **THE END!!!**\n",
        "or maybe not :)\n"
      ],
      "metadata": {
        "id": "OgeUQbzg_MJj"
      }
    },
    {
      "cell_type": "markdown",
      "source": [
        "We still need to practice Grouping more.\n",
        "\n",
        "### **PART 3 - GROUPING!!**"
      ],
      "metadata": {
        "id": "w7oPifa_F7Xe"
      }
    },
    {
      "cell_type": "markdown",
      "source": [
        "But now, we will be changing our dataset a bit. Get your dataset from this [address](https://raw.githubusercontent.com/justmarkham/DAT8/master/data/u.user) and store it in a variable called users."
      ],
      "metadata": {
        "id": "4GVf12ACHKkB"
      }
    },
    {
      "cell_type": "code",
      "source": [
        "#Hint: this time, you may need to change your choice of delimieter. Check and see how the values are being seperated.\n",
        "#Also this time, be on a lookout of what column would you use as an index?"
      ],
      "metadata": {
        "id": "Y2976Og4EKId"
      },
      "execution_count": null,
      "outputs": []
    },
    {
      "cell_type": "markdown",
      "source": [
        "Step 1. Discover what is the mean age per occupation"
      ],
      "metadata": {
        "id": "_3_fM0Q7Hiiz"
      }
    },
    {
      "cell_type": "code",
      "source": [],
      "metadata": {
        "id": "80QntLkSHuFE"
      },
      "execution_count": null,
      "outputs": []
    },
    {
      "cell_type": "markdown",
      "source": [
        "Step 2. Discover the Male ratio per occupation and sort it from the most to the least"
      ],
      "metadata": {
        "id": "SCFbxIrTHvx9"
      }
    },
    {
      "cell_type": "code",
      "source": [
        "#The output of this cell is given below. Your output should match this!\n",
        "\n",
        "#In Simple words, you have to calculate the percentage of male users grouped by their occupation."
      ],
      "metadata": {
        "id": "aS4HB6OsHy5d"
      },
      "execution_count": null,
      "outputs": []
    },
    {
      "cell_type": "markdown",
      "source": [
        "![ig1.png](data:image/png;base64,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)"
      ],
      "metadata": {
        "id": "RKih70iwH5Ca"
      }
    },
    {
      "cell_type": "markdown",
      "source": [
        "Step 3. For each occupation, calculate the minimum and maximum ages"
      ],
      "metadata": {
        "id": "5cBWer5AIOwi"
      }
    },
    {
      "cell_type": "code",
      "source": [],
      "metadata": {
        "id": "Up0IEvcgH8z5"
      },
      "execution_count": null,
      "outputs": []
    },
    {
      "cell_type": "markdown",
      "source": [
        "Step 4.  For each combination of occupation and gender, calculate the mean age"
      ],
      "metadata": {
        "id": "jd3L6YwGIUEs"
      }
    },
    {
      "cell_type": "code",
      "source": [],
      "metadata": {
        "id": "P4CYMwSlIU3M"
      },
      "execution_count": null,
      "outputs": []
    },
    {
      "cell_type": "markdown",
      "source": [
        "Step 5. For each occupation present the percentage of women and men"
      ],
      "metadata": {
        "id": "VnrnP9QzIXcK"
      }
    },
    {
      "cell_type": "code",
      "source": [
        "# create a data frame and apply count to gender\n",
        "\n",
        "# create a DataFrame and apply count for each occupation\n",
        "\n",
        "# divide the gender_ocup per the occup_count and multiply per 100\n",
        "\n",
        "# present all rows from the 'gender column'"
      ],
      "metadata": {
        "id": "DdPXiRxHIYow"
      },
      "execution_count": null,
      "outputs": []
    },
    {
      "cell_type": "markdown",
      "source": [
        "Easy, right? I knew you could do it 💯"
      ],
      "metadata": {
        "id": "-vqZX94SImYF"
      }
    },
    {
      "cell_type": "markdown",
      "source": [
        "You are just left with 2 modules :)"
      ],
      "metadata": {
        "id": "y2Q72PmfJvNz"
      }
    },
    {
      "cell_type": "markdown",
      "source": [
        "### **PART 4 - APPLY**"
      ],
      "metadata": {
        "id": "CJXf91ZPJ4Jb"
      }
    },
    {
      "cell_type": "markdown",
      "source": [
        "Get your data from this [address](https://raw.githubusercontent.com/guipsamora/pandas_exercises/master/04_Apply/US_Crime_Rates/US_Crime_Rates_1960_2014.csv) and store it in a variable called crime"
      ],
      "metadata": {
        "id": "nTM71Er6J9hK"
      }
    },
    {
      "cell_type": "code",
      "source": [
        "#read your data and display first 5 rows"
      ],
      "metadata": {
        "id": "w7IcnyMGJSYV"
      },
      "execution_count": null,
      "outputs": []
    },
    {
      "cell_type": "markdown",
      "source": [
        "Step 1. What is the type of the columns?"
      ],
      "metadata": {
        "id": "bSCl3-l4KLw4"
      }
    },
    {
      "cell_type": "code",
      "source": [],
      "metadata": {
        "id": "q9M3wLuFKOhM"
      },
      "execution_count": null,
      "outputs": []
    },
    {
      "cell_type": "markdown",
      "source": [
        "Step 2. Convert the type of the column Year to datetime64"
      ],
      "metadata": {
        "id": "62oVtBLLKO5j"
      }
    },
    {
      "cell_type": "code",
      "source": [],
      "metadata": {
        "id": "3nPkYdmiKRCN"
      },
      "execution_count": null,
      "outputs": []
    },
    {
      "cell_type": "markdown",
      "source": [
        "Step 3. Set the Year column as the index of the dataframe"
      ],
      "metadata": {
        "id": "veedYJNLKS4p"
      }
    },
    {
      "cell_type": "code",
      "source": [],
      "metadata": {
        "id": "bakyTJNpKTwt"
      },
      "execution_count": null,
      "outputs": []
    },
    {
      "cell_type": "markdown",
      "source": [
        "Step 4. Delete the Total column"
      ],
      "metadata": {
        "id": "LfT8DU-wKVoJ"
      }
    },
    {
      "cell_type": "code",
      "source": [],
      "metadata": {
        "id": "_LARkBheKWNp"
      },
      "execution_count": null,
      "outputs": []
    },
    {
      "cell_type": "markdown",
      "source": [
        "Step 5. Group the year by decades and sum the values.\n",
        "\n",
        "***Pay attention to the Population column number, summing this column is a mistake***"
      ],
      "metadata": {
        "id": "lLGD7y1AKYCK"
      }
    },
    {
      "cell_type": "code",
      "source": [
        "# To learn more about .resample (https://pandas.pydata.org/pandas-docs/stable/generated/pandas.DataFrame.resample.html)\n",
        "# To learn more about Offset Aliases (http://pandas.pydata.org/pandas-docs/stable/timeseries.html#offset-aliases)\n",
        "\n",
        "# Uses resample to sum each decade\n",
        "\n",
        "# Uses resample to get the max value only for the \"Population\" column\n",
        "\n",
        "# Updating the \"Population\" column"
      ],
      "metadata": {
        "id": "NPTcpgq7KcPX"
      },
      "execution_count": null,
      "outputs": []
    },
    {
      "cell_type": "markdown",
      "source": [
        "Bonus Question: What is the most dangerous decade to live in the US?"
      ],
      "metadata": {
        "id": "aL0-3izoKtdi"
      }
    },
    {
      "cell_type": "code",
      "source": [
        "#Hint: Violent shows how dangerous the decade is"
      ],
      "metadata": {
        "id": "f69hQhqyKyA6"
      },
      "execution_count": null,
      "outputs": []
    },
    {
      "cell_type": "markdown",
      "source": [
        "### **PART 5 - MERGE/JOIN**"
      ],
      "metadata": {
        "id": "BwuL9FjwLdiE"
      }
    },
    {
      "cell_type": "markdown",
      "source": [
        "For this one, we will create our own dataset."
      ],
      "metadata": {
        "id": "50Z5E0mdLhc9"
      }
    },
    {
      "cell_type": "markdown",
      "source": [
        "We will be dealing with both Numpy and Pandas in this one.\n",
        "\n",
        "Step 1. Import the necessary libraries"
      ],
      "metadata": {
        "id": "oQlSC7XkMUK7"
      }
    },
    {
      "cell_type": "code",
      "source": [],
      "metadata": {
        "id": "rzFrJ628Lg4s"
      },
      "execution_count": null,
      "outputs": []
    },
    {
      "cell_type": "markdown",
      "source": [
        "Step 2. **Create 3 differents Series, each of length 100, as follows:**\n",
        "\n",
        "1. The first a random number from 1 to 4\n",
        "\n",
        "2. The second a random number from 1 to 3\n",
        "\n",
        "3. The third a random number from 10,000 to 30,000"
      ],
      "metadata": {
        "id": "rEbB1gibMdzW"
      }
    },
    {
      "cell_type": "code",
      "source": [
        "#name them s1,s2,s3"
      ],
      "metadata": {
        "id": "YvIeY7FtMoA_"
      },
      "execution_count": null,
      "outputs": []
    },
    {
      "cell_type": "markdown",
      "source": [
        "Step 3. Let's create a DataFrame by joinning the Series by column."
      ],
      "metadata": {
        "id": "dOLtPRsjMqxu"
      }
    },
    {
      "cell_type": "code",
      "source": [
        "#try concat, but figure out the axis on your own :)"
      ],
      "metadata": {
        "id": "blg2KwThMwsG"
      },
      "execution_count": null,
      "outputs": []
    },
    {
      "cell_type": "markdown",
      "source": [
        "Step 4. Change the name of the columns to bedrs, bathrs, price_sqr_meter"
      ],
      "metadata": {
        "id": "BlhZlpa6M0Ao"
      }
    },
    {
      "cell_type": "code",
      "source": [],
      "metadata": {
        "id": "kKnzueLXM2Hd"
      },
      "execution_count": null,
      "outputs": []
    },
    {
      "cell_type": "markdown",
      "source": [
        "Step 5. Create a one column DataFrame with the values of the 3 Series and assign it to 'bigcolumn'"
      ],
      "metadata": {
        "id": "cPh1av2KM2iA"
      }
    },
    {
      "cell_type": "code",
      "source": [
        "#join concat the values but still change the series into a df as well"
      ],
      "metadata": {
        "id": "3ipK5WkAM6J6"
      },
      "execution_count": null,
      "outputs": []
    },
    {
      "cell_type": "markdown",
      "source": [
        "Oops, it seems it is going only until index 99. Is it true?"
      ],
      "metadata": {
        "id": "CpjoY66-M_jo"
      }
    },
    {
      "cell_type": "code",
      "source": [
        "#This question warrants a theoretical response. No code is required in this cell block\n",
        "\n",
        "#If no, then why not?\n",
        "\n",
        "#If yes, then why yes?"
      ],
      "metadata": {
        "id": "SiwTsOUENBYP"
      },
      "execution_count": null,
      "outputs": []
    },
    {
      "cell_type": "markdown",
      "source": [
        "Step 6. Reindex the DataFrame so it goes from 0 to 299"
      ],
      "metadata": {
        "id": "MKxE5QMMNe1h"
      }
    },
    {
      "cell_type": "code",
      "source": [],
      "metadata": {
        "id": "LhDUUeIXNjNJ"
      },
      "execution_count": null,
      "outputs": []
    },
    {
      "cell_type": "markdown",
      "source": [
        "### ***TA-DA. That's it. THE END!***"
      ],
      "metadata": {
        "id": "yKVgffhUNvcp"
      }
    }
  ]
}