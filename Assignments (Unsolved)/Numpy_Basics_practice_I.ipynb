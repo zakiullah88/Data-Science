{
  "cells": [
    {
      "cell_type": "markdown",
      "metadata": {
        "id": "YmwKgUrAkbfG"
      },
      "source": [
        "# Numpy Basics Exercises\n",
        "\n",
        "Please complete the following exercises **using numpy only**."
      ]
    },
    {
      "cell_type": "markdown",
      "metadata": {},
      "source": [
        "# Array Functions\n",
        "1.Arange([start,] stop[, step],dtype=None)\n",
        "Nearly identical to Python’s range(). Creates an array of values in the range [start,stop) with the specified step value. Allows non-integer values for start, stop, and step. Default dtype is derived from the start, stop, and step values. create an array with arange."
      ]
    },
    {
      "cell_type": "code",
      "execution_count": null,
      "metadata": {},
      "outputs": [],
      "source": [
        "# code here"
      ]
    },
    {
      "cell_type": "markdown",
      "metadata": {},
      "source": [
        "2.Create arrays with ONES, ZEROS, shape is a number or sequence specifying the dimensions of the array. If dtype is not specified, it defaults to float64."
      ]
    },
    {
      "cell_type": "code",
      "execution_count": null,
      "metadata": {},
      "outputs": [],
      "source": [
        "# code here"
      ]
    },
    {
      "cell_type": "markdown",
      "metadata": {},
      "source": [
        "3.Generate an n by n identity array. The default dtype is float64."
      ]
    },
    {
      "cell_type": "code",
      "execution_count": null,
      "metadata": {},
      "outputs": [],
      "source": [
        "# code here"
      ]
    },
    {
      "cell_type": "markdown",
      "metadata": {},
      "source": [
        "4.use empty, full, and fill, max, min, std, mean, var, argmax, linspace"
      ]
    },
    {
      "cell_type": "code",
      "execution_count": null,
      "metadata": {},
      "outputs": [],
      "source": [
        "# code here"
      ]
    },
    {
      "cell_type": "markdown",
      "metadata": {},
      "source": [
        "5.\n",
        "\n",
        "  Rule 1:\n",
        "  Operations between multiple array objects are first checked for proper shape match.\n",
        "\n",
        "  Rule 2:\n",
        "  Mathematical operators (+ - * / exp, log, ...) apply element by element, on the values.\n",
        "\n",
        "  Rule 3:\n",
        "  Reduction operations (mean, std, skew, kurt, sum, prod, ...) apply to the whole array, unless an axis is specified.\n",
        "\n",
        "  Rule 4:\n",
        "  Missing values propagate unless explicitly ignored (nanmean, nansum, ...)."
      ]
    },
    {
      "cell_type": "code",
      "execution_count": null,
      "metadata": {},
      "outputs": [],
      "source": [
        "# code here"
      ]
    },
    {
      "cell_type": "markdown",
      "metadata": {},
      "source": [
        "6.Create the array below with\n",
        "                  a = np.arange(-15, 15).reshape(5, 6) ** 2\n",
        "1. The maximum of each row\n",
        "2. The mean of each column\n",
        "3. The position of the overall minimum"
      ]
    },
    {
      "cell_type": "code",
      "execution_count": null,
      "metadata": {},
      "outputs": [],
      "source": [
        "# code here"
      ]
    },
    {
      "cell_type": "markdown",
      "metadata": {
        "id": "oWtZzrvXjxVl"
      },
      "source": [
        "# Array Broadcasting\n",
        "NumPy arrays of different dimensionality can be combined in the same expression. Arrays with smaller dimension are broadcasted to match the larger arrays, without copying data.\n",
        "\n",
        "Broadcasting has two rules.\n",
        "\n",
        "RULE 1: PREPEND ONES TO SMALLER ARRAY'S SHAPE\n",
        "\n",
        "RULE 2: DIMENSIONS OF SIZE 1 ARE REPEATED WITHOUT COPYING"
      ]
    },
    {
      "cell_type": "code",
      "execution_count": null,
      "metadata": {
        "id": "7vrTvmEWjwtY"
      },
      "outputs": [],
      "source": [
        "# Create 2 arrays A and B with dim (5,4) and (5,) respectively, apply addition and subtraction."
      ]
    },
    {
      "cell_type": "markdown",
      "metadata": {
        "id": "Qp9UkMByj5Il"
      },
      "source": [
        "1.Use reduce() operation on an array to reduec it into a single meaningful value. You. can also use a specific axis to apply reduce operation.\n",
        "\n",
        "2.accumulate() creates a new array containing the intermediate results of the reduce operation at each element in a.\n"
      ]
    },
    {
      "cell_type": "code",
      "execution_count": null,
      "metadata": {
        "id": "nmLsvmTZj626"
      },
      "outputs": [],
      "source": [
        "# Answer here"
      ]
    },
    {
      "cell_type": "markdown",
      "metadata": {
        "id": "bqVyb4DKZmkR"
      },
      "source": [
        "### We will work with the following array:"
      ]
    },
    {
      "cell_type": "code",
      "execution_count": null,
      "metadata": {
        "colab": {
          "base_uri": "https://localhost:8080/"
        },
        "id": "Iz86eeTWZmsK",
        "outputId": "657f8c8d-0a3b-44b8-e0fe-6de9614c11c1"
      },
      "outputs": [
        {
          "data": {
            "text/plain": [
              "array([[ 0,  1,  2,  3,  4],\n",
              "       [ 5,  6,  7,  8,  9],\n",
              "       [10, 11, 12, 13, 14],\n",
              "       [15, 16, 17, 18, 19],\n",
              "       [20, 21, 22, 23, 24]])"
            ]
          },
          "execution_count": 4,
          "metadata": {},
          "output_type": "execute_result"
        }
      ],
      "source": [
        "a = np.arange(25).reshape(5, 5)\n",
        "a"
      ]
    },
    {
      "cell_type": "markdown",
      "metadata": {
        "id": "OdjK0hqobWGp"
      },
      "source": [
        "# Use slicing only to select 3rd and last row along with 2nd and last columns"
      ]
    },
    {
      "cell_type": "code",
      "execution_count": null,
      "metadata": {
        "id": "-iw2ciaibUHU"
      },
      "outputs": [],
      "source": [
        "# Answer here"
      ]
    },
    {
      "cell_type": "markdown",
      "metadata": {
        "id": "5PtInLvEb7Am"
      },
      "source": [
        "# Extract the following sub-array: [[2, 3], [12, 13], [22, 23]]"
      ]
    },
    {
      "cell_type": "code",
      "execution_count": null,
      "metadata": {
        "id": "lVi9eV2rb6hz"
      },
      "outputs": [],
      "source": [
        "# Answer here"
      ]
    },
    {
      "cell_type": "markdown",
      "metadata": {
        "id": "mHN-ADlNcRE7"
      },
      "source": [
        "# Combine fancy/location indexing with slicing to extract the following sub-array: [[6, 8], [16, 18], [21, 23]]"
      ]
    },
    {
      "cell_type": "code",
      "execution_count": null,
      "metadata": {
        "id": "e_R0tbMHcNGy"
      },
      "outputs": [],
      "source": [
        "# Answer here"
      ]
    },
    {
      "cell_type": "markdown",
      "metadata": {
        "id": "gRle44JLc8oL"
      },
      "source": [
        "# Change the values 1, 10, 19 and 22 in the array to -2"
      ]
    },
    {
      "cell_type": "code",
      "execution_count": null,
      "metadata": {
        "id": "MnIs-SBzdMPv"
      },
      "outputs": [],
      "source": [
        "# Answer"
      ]
    },
    {
      "cell_type": "markdown",
      "metadata": {
        "id": "tWSQO5e3dZxf"
      },
      "source": [
        "# Repeat above using boolean indexing"
      ]
    },
    {
      "cell_type": "code",
      "execution_count": null,
      "metadata": {
        "id": "zytB7nrMdYfT"
      },
      "outputs": [],
      "source": [
        "# Answer here"
      ]
    },
    {
      "cell_type": "markdown",
      "metadata": {
        "id": "2i_7lkqpdhtx"
      },
      "source": [
        "# Combine slicing in the column dimension and boolean indexing in row dimension to extract the following sub-array: [[0, 3], [10, 13], [15, 18]]"
      ]
    },
    {
      "cell_type": "code",
      "execution_count": null,
      "metadata": {
        "id": "O8683ef2dYng"
      },
      "outputs": [],
      "source": [
        "# Answer here"
      ]
    },
    {
      "cell_type": "markdown",
      "metadata": {
        "id": "BLH29N-KLDEJ"
      },
      "source": [
        "# Calculating the sum, min and max of all diagonal values"
      ]
    },
    {
      "cell_type": "code",
      "execution_count": null,
      "metadata": {
        "id": "ARzj6VP9LCPz"
      },
      "outputs": [],
      "source": [
        "# Answer here"
      ]
    },
    {
      "cell_type": "markdown",
      "metadata": {
        "id": "IIL3aHfpMQpr"
      },
      "source": [
        "# Calculate the sum of differences between the 2nd row and 2nd last column"
      ]
    },
    {
      "cell_type": "code",
      "execution_count": null,
      "metadata": {
        "id": "mNyxI8d0Mcvz"
      },
      "outputs": [],
      "source": [
        "# Answer here"
      ]
    },
    {
      "cell_type": "markdown",
      "metadata": {
        "id": "jEo7E6YNNIU5"
      },
      "source": [
        "# Create a new array that is the sum of even rows and odd rows"
      ]
    },
    {
      "cell_type": "code",
      "execution_count": null,
      "metadata": {
        "id": "UEwbxwAPNikT"
      },
      "outputs": [],
      "source": [
        "# Answer here"
      ]
    },
    {
      "cell_type": "markdown",
      "metadata": {
        "id": "TaKXFf_5d67q"
      },
      "source": [
        "## You are done. Good job!"
      ]
    }
  ],
  "metadata": {
    "colab": {
      "provenance": []
    },
    "kernelspec": {
      "display_name": "Python 3",
      "name": "python3"
    },
    "language_info": {
      "name": "python"
    }
  },
  "nbformat": 4,
  "nbformat_minor": 0
}
