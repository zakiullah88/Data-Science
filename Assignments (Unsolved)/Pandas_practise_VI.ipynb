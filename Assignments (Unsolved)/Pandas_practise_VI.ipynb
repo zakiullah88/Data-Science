{
  "nbformat": 4,
  "nbformat_minor": 0,
  "metadata": {
    "colab": {
      "provenance": []
    },
    "kernelspec": {
      "name": "python3",
      "display_name": "Python 3"
    },
    "language_info": {
      "name": "python"
    }
  },
  "cells": [
    {
      "cell_type": "markdown",
      "source": [
        "# More on JSON\n",
        "\n",
        "Your are provided data of a company and its employess in Json formate.\n",
        "You need to perform EDA and solve the problems listed down."
      ],
      "metadata": {
        "id": "2PtM2eH8DZiX"
      }
    },
    {
      "cell_type": "code",
      "source": [
        "# Load Libraries"
      ],
      "metadata": {
        "id": "5ywZGhGIDxBt"
      },
      "execution_count": null,
      "outputs": []
    },
    {
      "cell_type": "markdown",
      "source": [
        "**Question 1:**\n",
        "\n",
        "Retrieve and display the company's name and location from the JSON data."
      ],
      "metadata": {
        "id": "5b1RG3I5D1cE"
      }
    },
    {
      "cell_type": "code",
      "source": [
        "#code Here"
      ],
      "metadata": {
        "id": "d0fHGFRCD-Kq"
      },
      "execution_count": null,
      "outputs": []
    },
    {
      "cell_type": "markdown",
      "source": [
        "Convert given employees data into a dataframe."
      ],
      "metadata": {
        "id": "yypx_Ds5J7kt"
      }
    },
    {
      "cell_type": "markdown",
      "source": [
        "**Question 2:**\n",
        "\n",
        " Find and display the first name, last name, and email address of the employee with ID 3.\n"
      ],
      "metadata": {
        "id": "XVDdCE9oD_lJ"
      }
    },
    {
      "cell_type": "code",
      "source": [
        "#code Here"
      ],
      "metadata": {
        "id": "yDo74tyYEIlx"
      },
      "execution_count": null,
      "outputs": []
    },
    {
      "cell_type": "markdown",
      "source": [
        "**Question 3:**\n",
        "\n",
        "Find the department with the most employees, and display its name along with the number of employees it has."
      ],
      "metadata": {
        "id": "Jui5-2CsEK4B"
      }
    },
    {
      "cell_type": "code",
      "source": [
        "# code Here"
      ],
      "metadata": {
        "id": "Jlh2Cc4mFzuc"
      },
      "execution_count": null,
      "outputs": []
    },
    {
      "cell_type": "markdown",
      "source": [
        "**Question 4:**\n",
        "\n",
        "Retrieve and display the street addresses of the \"san_francisco_hq\" and \"new_york_branch\" office locations."
      ],
      "metadata": {
        "id": "E90nhwtTF9Ng"
      }
    },
    {
      "cell_type": "code",
      "source": [
        "# code Here"
      ],
      "metadata": {
        "id": "oGesYRSuHCM1"
      },
      "execution_count": null,
      "outputs": []
    },
    {
      "cell_type": "markdown",
      "source": [
        "**Question 5:**\n",
        "\n",
        "Determine whether the company offers health insurance and a retirement plan. Provide the results as \"Yes\" or \"No.\""
      ],
      "metadata": {
        "id": "csJGVy5_HDy9"
      }
    },
    {
      "cell_type": "code",
      "source": [
        "# code Here"
      ],
      "metadata": {
        "id": "XaeDLM_7IcoR"
      },
      "execution_count": null,
      "outputs": []
    },
    {
      "cell_type": "markdown",
      "source": [
        "**Question 6:**\n",
        "\n",
        "Display the version and last updated date from the metadata section of the JSON data."
      ],
      "metadata": {
        "id": "A_odL01bIeW9"
      }
    },
    {
      "cell_type": "code",
      "source": [
        "# code Here"
      ],
      "metadata": {
        "id": "pb9Xy3m2Iytd"
      },
      "execution_count": null,
      "outputs": []
    },
    {
      "cell_type": "markdown",
      "source": [
        "**Question 7:**\n",
        "\n",
        " Sort the employees by their hire date in ascending order and display the first five employees in the sorted list."
      ],
      "metadata": {
        "id": "uP7uTQUsJDKQ"
      }
    },
    {
      "cell_type": "code",
      "source": [
        "# code Here"
      ],
      "metadata": {
        "id": "_uHzAfPnJh4n"
      },
      "execution_count": null,
      "outputs": []
    },
    {
      "cell_type": "markdown",
      "source": [
        "**Question 8:**\n",
        "\n",
        "Count the number of employees in the dataset and display the result."
      ],
      "metadata": {
        "id": "n7XmTMjjJqOM"
      }
    },
    {
      "cell_type": "code",
      "source": [
        "# code Here"
      ],
      "metadata": {
        "id": "-cVlWdRLJ1zP"
      },
      "execution_count": null,
      "outputs": []
    },
    {
      "cell_type": "markdown",
      "source": [
        "**Question 9:**\n",
        "\n",
        "Identify employees who do not have a manager (i.e., manager field is empty), and display their names and positions."
      ],
      "metadata": {
        "id": "fuOvAHNQKQPG"
      }
    },
    {
      "cell_type": "code",
      "source": [
        "# code Here"
      ],
      "metadata": {
        "id": "KlEY1SANKVc4"
      },
      "execution_count": null,
      "outputs": []
    },
    {
      "cell_type": "markdown",
      "source": [
        "**Question 10: Bonus Part**\n",
        "\n",
        "Using a geocoding service or library of your choice (e.g., geopy), convert the street addresses of all office locations into latitude and longitude coordinates. Then, provide the coordinates for each office location."
      ],
      "metadata": {
        "id": "tYV7TQDMKX-o"
      }
    }
  ]
}