{
  "cells": [
    {
      "cell_type": "code",
      "execution_count": null,
      "metadata": {
        "id": "c_eVXa9OPtvB"
      },
      "outputs": [],
      "source": [
        "import pandas as pd # A general purpose Python library for data analysis\n",
        "import numpy as np # A library for scientific computing in Python (e.g., provides high-performance multi-dimensional array objects and operations)\n",
        "\n",
        "import matplotlib.pyplot as plt # a plotting library for Python and NumPy (readily customizable)\n",
        "import seaborn as sns # Another plotting library for Python (fewer syntax, excellent default themes, behind the scenes, it uses matplotlib)\n",
        "import time"
      ]
    },
    {
      "cell_type": "markdown",
      "metadata": {
        "id": "PSdsojacPtvD"
      },
      "source": [
        "## Knowledge Streams 2024\n",
        "\n",
        "In this notebook, we will learn about the key data structures provided by the Pandas library: **Data Frames, Series, and Indices**.\n",
        "\n",
        "In addition, we will learn about the following operations:\n",
        "* How to access data contained in these structures?\n",
        "* How to read files (e.g., csv, xlsx, sql) to create these structures?\n",
        "* How to carry out different data manipulation tasks using these structures?\n",
        "\n",
        "`Dataset`: US elections with information about candidates, their party, votes won, year of election and the result."
      ]
    },
    {
      "cell_type": "markdown",
      "metadata": {
        "id": "sufDZrcePtvF"
      },
      "source": [
        "## Reading in Data Frames from Files\n",
        "We'll be using **read_csv** today. Note that this file reading function does all the *data parsing* for you, which is very useful."
      ]
    },
    {
      "cell_type": "markdown",
      "metadata": {
        "id": "wAchNI6BPtvG"
      },
      "source": [
        "Before loading a file into a dataframe, let's first take a look at the **elections.csv** file"
      ]
    },
    {
      "cell_type": "code",
      "execution_count": null,
      "metadata": {
        "id": "vQruwj5rPtvG",
        "scrolled": true
      },
      "outputs": [],
      "source": [
        "#Load csv file and print shape\n",
        "# Code here\n",
        "\n",
        "# how many observation and features are given\n",
        "#Code here"
      ]
    },
    {
      "cell_type": "code",
      "execution_count": null,
      "metadata": {
        "id": "ft8isrsOPtvI"
      },
      "outputs": [],
      "source": [
        "# We can use the **head command** to show only a few rows of a dataframe from start.\n",
        "# Code here\n",
        "\n",
        "#Use **tail command** to show last few observation.\n",
        "# code here"
      ]
    },
    {
      "cell_type": "code",
      "execution_count": null,
      "metadata": {
        "id": "r3-biPiJPtvI"
      },
      "outputs": [],
      "source": [
        "#The `read_csv` command lets us specify a **column to use an index**. For example, we could have used __Year__ as the index.\n",
        "#Code here"
      ]
    },
    {
      "cell_type": "code",
      "execution_count": null,
      "metadata": {
        "id": "-u_BJi6ZPtvJ"
      },
      "outputs": [],
      "source": [
        "#Alternately, we could have used the **set_index** commmand on the dataframe to set a particular column as index.\n",
        "# code here\n"
      ]
    },
    {
      "cell_type": "markdown",
      "metadata": {
        "id": "kOpP3gBYPtvJ"
      },
      "source": [
        "# Caution:\n",
        "The **set_index command** (along with all other data frame methods) **does not modify the dataframe**, i.e., the original \"elections\" is untouched. Note: There is a flag called \"inplace\" which does modify the calling dataframe (e.g., `elections.set_index(\"Party\",inplace=True)`)."
      ]
    },
    {
      "cell_type": "markdown",
      "metadata": {
        "id": "HYFFeZwRPtvJ"
      },
      "source": [
        "## Duplicate Columns?\n",
        "By contast, column names MUST be unique. For example, if we try to read in a file for which column names are not unique, Pandas will automatically any duplicates. Load duplicate_columns.csv"
      ]
    },
    {
      "cell_type": "code",
      "execution_count": null,
      "metadata": {
        "id": "4VSBA-Y4PtvJ"
      },
      "outputs": [],
      "source": [
        "#Answer Here"
      ]
    },
    {
      "cell_type": "markdown",
      "metadata": {
        "id": "fUjSXLNhPtvK"
      },
      "source": [
        "## The [ ] Operator & Indexing"
      ]
    },
    {
      "cell_type": "markdown",
      "metadata": {
        "id": "_y0PM7R9PtvK"
      },
      "source": [
        "The DataFrame class has an indexing operator **[ ]** (also known as the 'brack' operator) that lets you do a variety of different things. If your provide a String to the **[ ]** operator, you get back a ***Series*** corresponding to the requested label.\n",
        "\n",
        "1.Use **[ ]** to display different columns\n",
        "\n",
        "2.Use List retrive multiple columns"
      ]
    },
    {
      "cell_type": "code",
      "execution_count": null,
      "metadata": {
        "id": "MpSUIkiHPtvK"
      },
      "outputs": [],
      "source": [
        "# Display and Retrieve multiple columns from the election data frame, the resultant would be the list for every column.\n",
        "#Code here"
      ]
    },
    {
      "cell_type": "code",
      "execution_count": null,
      "metadata": {
        "id": "lX4YozsZPtvK",
        "scrolled": true
      },
      "outputs": [],
      "source": [
        "#The **[ ]** operator also accepts a list of strings. In this case, you get back a **DataFrame** corresponding to the requested strings.\n",
        "# code here"
      ]
    },
    {
      "cell_type": "markdown",
      "metadata": {
        "id": "7pv2JkjRPtvK"
      },
      "source": [
        "A list of one label also returns a DataFrame. This can be handy if you want your results as a DataFrame, not a series."
      ]
    },
    {
      "cell_type": "markdown",
      "metadata": {
        "id": "XqKnvINoPtvL"
      },
      "source": [
        "Note that we can also use the **to_frame** method to turn a Series into a DataFrame.\n",
        "\n",
        "Extract one col name \"Candidates\" from DataFrame it will be a series. Convert series into a DataFrame."
      ]
    },
    {
      "cell_type": "code",
      "execution_count": null,
      "metadata": {
        "id": "XUOtNoVnPtvL"
      },
      "outputs": [],
      "source": [
        "# Code here"
      ]
    },
    {
      "cell_type": "code",
      "execution_count": null,
      "metadata": {
        "id": "HdHWFzzSPtvL"
      },
      "outputs": [],
      "source": [
        "# Code here"
      ]
    },
    {
      "cell_type": "markdown",
      "metadata": {
        "id": "EJsBn7uKPtvN"
      },
      "source": [
        "The following cells allow you to **test your understanding**. Let's go over the summary of what we have learnt (see slides).\n",
        "\n",
        "# Creating DataFrames\n",
        "Create DataFrame using List and Columns name given in slides."
      ]
    },
    {
      "cell_type": "code",
      "execution_count": null,
      "metadata": {
        "id": "yA1NsyftUQYi"
      },
      "outputs": [],
      "source": [
        "# Code here"
      ]
    },
    {
      "cell_type": "markdown",
      "metadata": {
        "id": "De8I7tdRhSCc"
      },
      "source": [
        "Creating DataFrames using **Dictionary** given in slides."
      ]
    },
    {
      "cell_type": "code",
      "execution_count": null,
      "metadata": {
        "id": "YLidbVoJPtvN"
      },
      "outputs": [],
      "source": [
        "# Code here"
      ]
    },
    {
      "cell_type": "markdown",
      "source": [
        "Creating DataFrames using **Series** given in slides."
      ],
      "metadata": {
        "id": "oRS1lfRJBeXj"
      }
    },
    {
      "cell_type": "code",
      "source": [
        "# Code here"
      ],
      "metadata": {
        "id": "Sup8vnimBs7u"
      },
      "execution_count": null,
      "outputs": []
    }
  ],
  "metadata": {
    "colab": {
      "provenance": []
    },
    "kernelspec": {
      "display_name": "Python 3",
      "language": "python",
      "name": "python3"
    },
    "language_info": {
      "codemirror_mode": {
        "name": "ipython",
        "version": 3
      },
      "file_extension": ".py",
      "mimetype": "text/x-python",
      "name": "python",
      "nbconvert_exporter": "python",
      "pygments_lexer": "ipython3",
      "version": "3.7.13"
    },
    "vscode": {
      "interpreter": {
        "hash": "7a3d88c904243d2c3f246166597f86d1c0a39f3d97496d1fe394945d0c6d436d"
      }
    }
  },
  "nbformat": 4,
  "nbformat_minor": 0
}