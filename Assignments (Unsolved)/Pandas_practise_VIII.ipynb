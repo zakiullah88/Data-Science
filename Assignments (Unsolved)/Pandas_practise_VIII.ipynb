{
  "cells": [
    {
      "cell_type": "markdown",
      "metadata": {
        "id": "vYg6sLqydgTZ"
      },
      "source": [
        "# Data Science, Fall 2024\n",
        "\n",
        "\n",
        "[Acknowledgments Page](https://ds100.org/fa23/acks/)\n",
        "\n",
        "A demo of data cleaning and exploratory data analysis using the CDC Tuberculosis data and the Mauna Loa CO2 data."
      ]
    },
    {
      "cell_type": "code",
      "execution_count": null,
      "metadata": {
        "ExecuteTime": {
          "end_time": "2018-02-02T15:15:15.363920Z",
          "start_time": "2018-02-02T15:15:14.337886Z"
        },
        "id": "3tkMajv-dgTb"
      },
      "outputs": [],
      "source": [
        "import numpy as np\n",
        "import pandas as pd"
      ]
    },
    {
      "cell_type": "code",
      "execution_count": null,
      "metadata": {
        "id": "8Ea28wrmdgTb"
      },
      "outputs": [],
      "source": [
        "import matplotlib.pyplot as plt\n",
        "import seaborn as sns\n",
        "#%matplotlib inline\n",
        "plt.rcParams['figure.figsize'] = (12, 9)\n",
        "\n",
        "sns.set()\n",
        "sns.set_context('talk')\n",
        "np.set_printoptions(threshold=20, precision=2, suppress=True)\n",
        "pd.set_option('display.max_rows', 30)\n",
        "pd.set_option('display.max_columns', None)\n",
        "pd.set_option('display.precision', 2)\n",
        "# This option stops scientific notation for pandas\n",
        "pd.set_option('display.float_format', '{:.2f}'.format)\n",
        "\n",
        "# Silence some spurious seaborn warnings\n",
        "import warnings\n",
        "warnings.filterwarnings(\"ignore\", category=FutureWarning)"
      ]
    },
    {
      "cell_type": "markdown",
      "metadata": {
        "id": "19BKjVLwdgTg"
      },
      "source": [
        "## Structure: Different File Formats\n",
        "\n",
        "There are many file types for storing structured data: CSV, TSV, JSON, XML, ASCII, SAS...\n",
        "* Documentation will be your best friend to understand how to process many of these file types.\n",
        "* In lecture, we will cover TSV and JSON since pandas supports them out-of-box."
      ]
    },
    {
      "cell_type": "markdown",
      "metadata": {
        "tags": [],
        "id": "0-intLkVdgTg"
      },
      "source": [
        "### TSV\n",
        "\n",
        "**TSV** (Tab-Separated Values) files are very similar to CSVs, but now items are delimited by tabs.\n",
        "\n",
        "The `pd.read_csv` function also reads in TSVs if we specify the **delimiter** with parameter `sep='\\t'` ([documentation](https://pandas.pydata.org/docs/reference/api/pandas.read_csv.html))."
      ]
    },
    {
      "cell_type": "code",
      "execution_count": null,
      "metadata": {
        "id": "4SDhfzXLdgTh",
        "outputId": "ccdd57da-e369-484f-86e0-606a0704877f"
      },
      "outputs": [
        {
          "data": {
            "text/html": [
              "<div>\n",
              "<style scoped>\n",
              "    .dataframe tbody tr th:only-of-type {\n",
              "        vertical-align: middle;\n",
              "    }\n",
              "\n",
              "    .dataframe tbody tr th {\n",
              "        vertical-align: top;\n",
              "    }\n",
              "\n",
              "    .dataframe thead th {\n",
              "        text-align: right;\n",
              "    }\n",
              "</style>\n",
              "<table border=\"1\" class=\"dataframe\">\n",
              "  <thead>\n",
              "    <tr style=\"text-align: right;\">\n",
              "      <th></th>\n",
              "      <th>Unnamed: 0</th>\n",
              "      <th>No. of TB cases</th>\n",
              "      <th>Unnamed: 2</th>\n",
              "      <th>Unnamed: 3</th>\n",
              "      <th>TB incidence</th>\n",
              "      <th>Unnamed: 5</th>\n",
              "      <th>Unnamed: 6</th>\n",
              "    </tr>\n",
              "  </thead>\n",
              "  <tbody>\n",
              "    <tr>\n",
              "      <th>0</th>\n",
              "      <td>U.S. jurisdiction</td>\n",
              "      <td>2019</td>\n",
              "      <td>2020</td>\n",
              "      <td>2021</td>\n",
              "      <td>2019.00</td>\n",
              "      <td>2020.00</td>\n",
              "      <td>2021.00</td>\n",
              "    </tr>\n",
              "    <tr>\n",
              "      <th>1</th>\n",
              "      <td>Total</td>\n",
              "      <td>8,900</td>\n",
              "      <td>7,173</td>\n",
              "      <td>7,860</td>\n",
              "      <td>2.71</td>\n",
              "      <td>2.16</td>\n",
              "      <td>2.37</td>\n",
              "    </tr>\n",
              "    <tr>\n",
              "      <th>2</th>\n",
              "      <td>Alabama</td>\n",
              "      <td>87</td>\n",
              "      <td>72</td>\n",
              "      <td>92</td>\n",
              "      <td>1.77</td>\n",
              "      <td>1.43</td>\n",
              "      <td>1.83</td>\n",
              "    </tr>\n",
              "    <tr>\n",
              "      <th>3</th>\n",
              "      <td>Alaska</td>\n",
              "      <td>58</td>\n",
              "      <td>58</td>\n",
              "      <td>58</td>\n",
              "      <td>7.91</td>\n",
              "      <td>7.92</td>\n",
              "      <td>7.92</td>\n",
              "    </tr>\n",
              "    <tr>\n",
              "      <th>4</th>\n",
              "      <td>Arizona</td>\n",
              "      <td>183</td>\n",
              "      <td>136</td>\n",
              "      <td>129</td>\n",
              "      <td>2.51</td>\n",
              "      <td>1.89</td>\n",
              "      <td>1.77</td>\n",
              "    </tr>\n",
              "  </tbody>\n",
              "</table>\n",
              "</div>"
            ],
            "text/plain": [
              "          Unnamed: 0 No. of TB cases Unnamed: 2 Unnamed: 3  TB incidence  \\\n",
              "0  U.S. jurisdiction            2019       2020       2021       2019.00   \n",
              "1              Total           8,900      7,173      7,860          2.71   \n",
              "2            Alabama              87         72         92          1.77   \n",
              "3             Alaska              58         58         58          7.91   \n",
              "4            Arizona             183        136        129          2.51   \n",
              "\n",
              "   Unnamed: 5  Unnamed: 6  \n",
              "0     2020.00     2021.00  \n",
              "1        2.16        2.37  \n",
              "2        1.43        1.83  \n",
              "3        7.92        7.92  \n",
              "4        1.89        1.77  "
            ]
          },
          "execution_count": 13,
          "metadata": {},
          "output_type": "execute_result"
        }
      ],
      "source": [
        "# Read TSV file\n"
      ]
    },
    {
      "cell_type": "markdown",
      "metadata": {
        "id": "ZjhavK0IdgTh"
      },
      "source": [
        "*Side note*: there was a question last time on how pandas differentiates a comma delimiter vs. a comma within the field itself, e.g., `8,900`. Check out the documentation for the `quotechar` parameter."
      ]
    },
    {
      "cell_type": "markdown",
      "metadata": {
        "tags": [],
        "id": "JVKIpXyzdgTh"
      },
      "source": [
        "### JSON\n",
        "The City of Berkeley Open Data [website](https://data.cityofberkeley.info/Health/COVID-19-Confirmed-Cases/xn6j-b766) has a dataset with COVID-19 Confirmed Cases among Berkeley residents by date.\n",
        "\n",
        "\n",
        "We can download this file, saving it as a JSON (note the source URL file type).\n",
        "\n",
        "In the interest of **reproducible data science** we will download the data programatically.  We have defined some helper functions in the below.  I can then reuse this helper functions in many different notebooks."
      ]
    },
    {
      "cell_type": "code",
      "execution_count": 4,
      "metadata": {
        "ExecuteTime": {
          "end_time": "2018-02-02T15:15:15.368501Z",
          "start_time": "2018-02-02T15:15:15.365808Z"
        },
        "id": "mWLChOskdgTh"
      },
      "outputs": [],
      "source": [
        "import requests\n",
        "from pathlib import Path\n",
        "import time\n",
        "def fetch_and_cache(data_url, file, data_dir=\"data\", force=False):\n",
        "    \"\"\"\n",
        "    Download and cache a url and return the file object.\n",
        "\n",
        "    data_url: the web address to download\n",
        "    file: the file in which to save the results.\n",
        "    data_dir: (default=\"data\") the location to save the data\n",
        "    force: if true the file is always re-downloaded\n",
        "\n",
        "    return: The pathlib.Path object representing the file.\n",
        "    \"\"\"\n",
        "\n",
        "    ### BEGIN SOLUTION\n",
        "    data_dir = Path(data_dir)\n",
        "    data_dir.mkdir(exist_ok = True)\n",
        "    file_path = data_dir / Path(file)\n",
        "    # If the file already exists and we want to force a download then\n",
        "    # delete the file first so that the creation date is correct.\n",
        "    if force and file_path.exists():\n",
        "        file_path.unlink()\n",
        "    if force or not file_path.exists():\n",
        "        print('Downloading...', end=' ')\n",
        "        resp = requests.get(data_url)\n",
        "        with file_path.open('wb') as f:\n",
        "            f.write(resp.content)\n",
        "        print('Done!')\n",
        "        last_modified_time = time.ctime(file_path.stat().st_mtime)\n",
        "    else:\n",
        "        last_modified_time = time.ctime(file_path.stat().st_mtime)\n",
        "        print(\"Using cached version that was downloaded (UTC):\", last_modified_time)\n",
        "    return file_path\n",
        "    ### END SOLUTION\n",
        ""
      ]
    },
    {
      "cell_type": "code",
      "execution_count": 5,
      "metadata": {
        "colab": {
          "base_uri": "https://localhost:8080/"
        },
        "id": "xZJCQUUCdgTh",
        "outputId": "0782cbca-424e-4604-f8ca-799ead577e8d"
      },
      "outputs": [
        {
          "output_type": "stream",
          "name": "stdout",
          "text": [
            "Downloading... Done!\n"
          ]
        },
        {
          "output_type": "execute_result",
          "data": {
            "text/plain": [
              "PosixPath('data/confirmed-cases.json')"
            ]
          },
          "metadata": {},
          "execution_count": 5
        }
      ],
      "source": [
        "covid_file = fetch_and_cache(\n",
        "    \"https://data.cityofberkeley.info/api/views/xn6j-b766/rows.json?accessType=DOWNLOAD\",\n",
        "    \"confirmed-cases.json\",\n",
        "    force=False)\n",
        "covid_file          # a file path wrapper object"
      ]
    },
    {
      "cell_type": "markdown",
      "metadata": {
        "id": "7MtBDcS0dgTi"
      },
      "source": [
        "#### File size\n",
        "\n",
        "Often, I like to start my analysis by getting a rough estimate of the size of the data.  This will help inform the tools I use and how I view the data.  If it is relatively small I might use a text editor or a spreadsheet to look at the data.  If it is larger, I might jump to more programmatic exploration or even used distributed computing tools.\n",
        "\n",
        "However here we will use Python tools to probe the file."
      ]
    },
    {
      "cell_type": "markdown",
      "metadata": {
        "id": "pBplqE1rdgTi"
      },
      "source": [
        "Since these seem to be text files I might also want to investigate the number of lines, which often corresponds to the number of records."
      ]
    },
    {
      "cell_type": "code",
      "execution_count": 6,
      "metadata": {
        "colab": {
          "base_uri": "https://localhost:8080/"
        },
        "id": "BSARo2ANdgTi",
        "outputId": "e4fb57bf-9d11-454d-b6fe-7a4752ab6d78"
      },
      "outputs": [
        {
          "output_type": "stream",
          "name": "stdout",
          "text": [
            "data/confirmed-cases.json is 0.265382 MB\n",
            "data/confirmed-cases.json is 2107 lines.\n"
          ]
        }
      ],
      "source": [
        "# get size of file using getsize function\n",
        "import os\n",
        "\n",
        "# Total Count of lines\n",
        "with open(covid_file, \"r\") as f:\n",
        "    print(covid_file, \"is\", sum(1 for l in f), \"lines.\")"
      ]
    },
    {
      "cell_type": "markdown",
      "metadata": {
        "tags": [],
        "id": "fjbBhcNqdgTs"
      },
      "source": [
        "### EDA: Digging into JSON\n",
        "\n",
        "Python has relatively good support for JSON data since it closely matches the internal python object model.  In the following cell we import the entire JSON datafile into a python dictionary using the `json` package."
      ]
    },
    {
      "cell_type": "code",
      "execution_count": 7,
      "metadata": {
        "ExecuteTime": {
          "end_time": "2018-02-02T15:15:19.441300Z",
          "start_time": "2018-02-02T15:15:19.358900Z"
        },
        "id": "oDkp-3WOdgTs"
      },
      "outputs": [],
      "source": [
        "# load JSON file"
      ]
    },
    {
      "cell_type": "markdown",
      "metadata": {
        "id": "tdSkhrAjdgTt"
      },
      "source": [
        "The `covid_json` variable is now a dictionary encoding the data in the file:"
      ]
    },
    {
      "cell_type": "code",
      "execution_count": 8,
      "metadata": {
        "ExecuteTime": {
          "end_time": "2018-02-02T15:15:19.447238Z",
          "start_time": "2018-02-02T15:15:19.443595Z"
        },
        "colab": {
          "base_uri": "https://localhost:8080/"
        },
        "id": "h4u5qdSfdgTt",
        "outputId": "fdb6f828-7ed2-4de9-ea54-9369d0b685bd"
      },
      "outputs": [
        {
          "output_type": "execute_result",
          "data": {
            "text/plain": [
              "dict"
            ]
          },
          "metadata": {},
          "execution_count": 8
        }
      ],
      "source": [
        "# find type of your file"
      ]
    },
    {
      "cell_type": "markdown",
      "metadata": {
        "id": "_1c3-C0xdgTt"
      },
      "source": [
        "#### Examine what keys are in the top level json object\n",
        "\n",
        "We can list the keys to determine what data is stored in the object."
      ]
    },
    {
      "cell_type": "code",
      "execution_count": 9,
      "metadata": {
        "ExecuteTime": {
          "end_time": "2018-02-02T15:15:19.680999Z",
          "start_time": "2018-02-02T15:15:19.675696Z"
        },
        "colab": {
          "base_uri": "https://localhost:8080/"
        },
        "id": "k36AUIDYdgTt",
        "outputId": "90f1c988-908f-4782-ba59-631b6c8b9f4e"
      },
      "outputs": [
        {
          "output_type": "execute_result",
          "data": {
            "text/plain": [
              "dict_keys(['meta', 'data'])"
            ]
          },
          "metadata": {},
          "execution_count": 9
        }
      ],
      "source": [
        "# identify keys() of JSON file"
      ]
    },
    {
      "cell_type": "markdown",
      "metadata": {
        "id": "vx51XW28dgTt"
      },
      "source": [
        "**Observation**: The JSON dictionary contains a `meta` key which likely refers to meta data (data about the data).  Meta data often maintained with the data and can be a good source of additional information."
      ]
    },
    {
      "cell_type": "markdown",
      "metadata": {
        "id": "IpgcdGbrdgTt"
      },
      "source": [
        "<br/>\n",
        "\n",
        "We can investigate the meta data further by examining the keys associated with the metadata."
      ]
    },
    {
      "cell_type": "code",
      "execution_count": 10,
      "metadata": {
        "ExecuteTime": {
          "end_time": "2018-02-02T15:15:19.687295Z",
          "start_time": "2018-02-02T15:15:19.682902Z"
        },
        "colab": {
          "base_uri": "https://localhost:8080/"
        },
        "id": "uhZri4tydgTu",
        "outputId": "c77f6a00-d04e-4d21-b8ef-4d780e7cc5b3"
      },
      "outputs": [
        {
          "output_type": "execute_result",
          "data": {
            "text/plain": [
              "dict_keys(['view'])"
            ]
          },
          "metadata": {},
          "execution_count": 10
        }
      ],
      "source": [
        "# Further explore meta key()"
      ]
    },
    {
      "cell_type": "markdown",
      "metadata": {
        "id": "5xhsVcfhdgTu"
      },
      "source": [
        "The `meta` key contains another dictionary called `view`.  This likely refers to meta-data about a particular \"view\" of some underlying database.  We will learn more about views when we study SQL later in the class.    "
      ]
    },
    {
      "cell_type": "code",
      "execution_count": 11,
      "metadata": {
        "ExecuteTime": {
          "end_time": "2018-02-02T15:15:19.693946Z",
          "start_time": "2018-02-02T15:15:19.690139Z"
        },
        "colab": {
          "base_uri": "https://localhost:8080/"
        },
        "id": "g9v_5JXKdgTu",
        "outputId": "55fc20c4-2ac4-432b-a3b9-bd9c2dbb111c"
      },
      "outputs": [
        {
          "output_type": "execute_result",
          "data": {
            "text/plain": [
              "dict_keys(['id', 'name', 'assetType', 'attribution', 'averageRating', 'category', 'createdAt', 'description', 'displayType', 'downloadCount', 'hideFromCatalog', 'hideFromDataJson', 'locked', 'newBackend', 'numberOfComments', 'oid', 'provenance', 'publicationAppendEnabled', 'publicationDate', 'publicationGroup', 'publicationStage', 'rowsUpdatedAt', 'rowsUpdatedBy', 'tableId', 'totalTimesRated', 'viewCount', 'viewLastModified', 'viewType', 'approvals', 'clientContext', 'columns', 'grants', 'metadata', 'owner', 'query', 'rights', 'tableAuthor', 'tags', 'flags'])"
            ]
          },
          "metadata": {},
          "execution_count": 11
        }
      ],
      "source": [
        "# Further explore view key()"
      ]
    },
    {
      "cell_type": "markdown",
      "metadata": {
        "id": "-j8nn2O8dgTu"
      },
      "source": [
        "Notice that this a nested/recursive data structure.  As we dig deeper we reveal more and more keys and the corresponding data:\n",
        "\n",
        "```\n",
        "meta\n",
        "|-> data\n",
        "    | ... (haven't explored yet)\n",
        "|-> view\n",
        "    | -> id\n",
        "    | -> name\n",
        "    | -> attribution\n",
        "    ...\n",
        "    | -> description\n",
        "    ...\n",
        "    | -> columns\n",
        "    ...\n",
        "```"
      ]
    },
    {
      "cell_type": "markdown",
      "metadata": {
        "id": "7raMZyqXdgTu"
      },
      "source": [
        "There is a key called description in the view sub dictionary.  This likely contains a description of the data:"
      ]
    },
    {
      "cell_type": "code",
      "execution_count": 12,
      "metadata": {
        "ExecuteTime": {
          "end_time": "2018-02-02T15:15:19.699773Z",
          "start_time": "2018-02-02T15:15:19.695818Z"
        },
        "colab": {
          "base_uri": "https://localhost:8080/"
        },
        "id": "ic0pbdtpdgTu",
        "outputId": "f9f2904c-1a91-4dc7-9201-9cff2b06c131"
      },
      "outputs": [
        {
          "output_type": "stream",
          "name": "stdout",
          "text": [
            "Counts of confirmed COVID-19 cases among Berkeley residents by date. As of 6/21/22, this dataset will be updated weekly instead of daily. As of 11/14/22, this dataset only includes PCR cases.\n"
          ]
        }
      ],
      "source": [
        "# use description key from view dictionary"
      ]
    },
    {
      "cell_type": "markdown",
      "metadata": {
        "id": "Zauo0RNWdgTv"
      },
      "source": [
        "\n",
        "#### Examining the Data Field for Records\n",
        "\n",
        "We can look at a few entries in the `data` field. This is what we'll load into Pandas.\n"
      ]
    },
    {
      "cell_type": "code",
      "execution_count": 18,
      "metadata": {
        "ExecuteTime": {
          "end_time": "2018-02-02T15:15:19.722451Z",
          "start_time": "2018-02-02T15:15:19.717198Z"
        },
        "colab": {
          "base_uri": "https://localhost:8080/"
        },
        "id": "ucU47THudgTv",
        "outputId": "ccc1f349-50c4-492e-bde4-8e77b3090e99"
      },
      "outputs": [
        {
          "output_type": "stream",
          "name": "stdout",
          "text": [
            "0|['row-rb9f.5nek-8ine', '00000000-0000-0000-4662-FC7183571076', 0, 1721778125, None, 1721778125, None, '{ }', '2019-12-01T00:00:00', '0', '0']\n",
            "1|['row-vztw-e5xz~k7e6', '00000000-0000-0000-4572-4B7999484114', 0, 1721778125, None, 1721778125, None, '{ }', '2019-12-02T00:00:00', '0', '0']\n",
            "2|['row-bjvt.2dfe.85rq', '00000000-0000-0000-7CFB-15321FF8BFED', 0, 1721778125, None, 1721778125, None, '{ }', '2019-12-03T00:00:00', '0', '0']\n"
          ]
        }
      ],
      "source": [
        "# explore data key and print some entries\n"
      ]
    },
    {
      "cell_type": "markdown",
      "metadata": {
        "id": "ai_vei74dgTv"
      },
      "source": [
        "Observations:\n",
        "* These look like equal-length records, so maybe `data` is a table!\n",
        "* But what do each of values in the record mean? Where can we find column headers?\n",
        "\n",
        "Back to the metadata."
      ]
    },
    {
      "cell_type": "markdown",
      "metadata": {
        "id": "ARQ7fZ9KdgTv"
      },
      "source": [
        "#### Columns Metadata\n",
        "\n",
        "Another potentially useful key in the metadata dictionary is the `columns`.  This returns a list:"
      ]
    },
    {
      "cell_type": "code",
      "execution_count": 14,
      "metadata": {
        "ExecuteTime": {
          "end_time": "2018-02-02T15:15:19.706171Z",
          "start_time": "2018-02-02T15:15:19.701580Z"
        },
        "colab": {
          "base_uri": "https://localhost:8080/"
        },
        "id": "putml8bjdgTv",
        "outputId": "c2ac54cf-681d-4c7a-ac98-0d9ce2b6224b"
      },
      "outputs": [
        {
          "output_type": "execute_result",
          "data": {
            "text/plain": [
              "list"
            ]
          },
          "metadata": {},
          "execution_count": 14
        }
      ],
      "source": [
        "# check type of columns key\n"
      ]
    },
    {
      "cell_type": "markdown",
      "metadata": {
        "id": "xZfSujVSdgTw"
      },
      "source": [
        "Let's go back to the file explorer.\n",
        "\n",
        "Based on the contents of this key, what are reasonable names for each column in the `data` table?"
      ]
    },
    {
      "cell_type": "markdown",
      "metadata": {
        "id": "gd70JhfUdgTw"
      },
      "source": [
        "#### Summary of exploring the JSON file\n",
        "\n",
        "1. The above **metadata** tells us a lot about the columns in the data including column names, potential data anomalies, and a basic statistic.\n",
        "1. Because of its non-tabular structure, JSON makes it easier (than CSV) to create **self-documenting data**, meaning that information about the data is stored in the same file as the data.\n",
        "1. Self documenting data can be helpful since it maintains its own description and these descriptions are more likely to be updated as data changes."
      ]
    },
    {
      "cell_type": "markdown",
      "metadata": {
        "id": "Kr_Fdf9udgTw"
      },
      "source": [
        "### JSON with pandas\n",
        "\n",
        "After our above EDA, let's finally go about loading the data (not the metadata) into a pandas dataframe."
      ]
    },
    {
      "cell_type": "markdown",
      "metadata": {
        "id": "l6PJijGTdgTw"
      },
      "source": [
        "In the following block of code we:\n",
        "1. Translate the JSON records into a dataframe:\n",
        "\n",
        "    * fields: `covid_json['meta']['view']['columns']`\n",
        "    * records: `covid_json['data']`\n",
        "    \n",
        "1. Remove columns that have no metadata description.  This would be a bad idea in general but here we remove these columns since the above analysis suggests that they are unlikely to contain useful information.\n",
        "1. Examine the `tail` of the table."
      ]
    },
    {
      "cell_type": "code",
      "execution_count": null,
      "metadata": {
        "ExecuteTime": {
          "end_time": "2018-02-02T15:15:19.793306Z",
          "start_time": "2018-02-02T15:15:19.725044Z"
        },
        "id": "sc1dAF1rdgTw",
        "outputId": "9fc13df8-29a6-4b6c-f80a-4c26cdc07b93"
      },
      "outputs": [
        {
          "data": {
            "text/html": [
              "<div>\n",
              "<style scoped>\n",
              "    .dataframe tbody tr th:only-of-type {\n",
              "        vertical-align: middle;\n",
              "    }\n",
              "\n",
              "    .dataframe tbody tr th {\n",
              "        vertical-align: top;\n",
              "    }\n",
              "\n",
              "    .dataframe thead th {\n",
              "        text-align: right;\n",
              "    }\n",
              "</style>\n",
              "<table border=\"1\" class=\"dataframe\">\n",
              "  <thead>\n",
              "    <tr style=\"text-align: right;\">\n",
              "      <th></th>\n",
              "      <th>sid</th>\n",
              "      <th>id</th>\n",
              "      <th>position</th>\n",
              "      <th>created_at</th>\n",
              "      <th>created_meta</th>\n",
              "      <th>updated_at</th>\n",
              "      <th>updated_meta</th>\n",
              "      <th>meta</th>\n",
              "      <th>Date</th>\n",
              "      <th>New Cases</th>\n",
              "      <th>Cumulative Cases</th>\n",
              "    </tr>\n",
              "  </thead>\n",
              "  <tbody>\n",
              "    <tr>\n",
              "      <th>1292</th>\n",
              "      <td>row-zg3v~6bpx~tp8j</td>\n",
              "      <td>00000000-0000-0000-7710-AECCCEB67A5A</td>\n",
              "      <td>0</td>\n",
              "      <td>1687370769</td>\n",
              "      <td>None</td>\n",
              "      <td>1687370769</td>\n",
              "      <td>None</td>\n",
              "      <td>{ }</td>\n",
              "      <td>2023-06-15T00:00:00</td>\n",
              "      <td>2</td>\n",
              "      <td>23384</td>\n",
              "    </tr>\n",
              "    <tr>\n",
              "      <th>1293</th>\n",
              "      <td>row-wean-73e3.fixn</td>\n",
              "      <td>00000000-0000-0000-27C0-D21340C3F93F</td>\n",
              "      <td>0</td>\n",
              "      <td>1687370769</td>\n",
              "      <td>None</td>\n",
              "      <td>1687370769</td>\n",
              "      <td>None</td>\n",
              "      <td>{ }</td>\n",
              "      <td>2023-06-16T00:00:00</td>\n",
              "      <td>4</td>\n",
              "      <td>23388</td>\n",
              "    </tr>\n",
              "    <tr>\n",
              "      <th>1294</th>\n",
              "      <td>row-cvez.6nyd.3f6y</td>\n",
              "      <td>00000000-0000-0000-C1AE-C76310119F30</td>\n",
              "      <td>0</td>\n",
              "      <td>1687370769</td>\n",
              "      <td>None</td>\n",
              "      <td>1687370769</td>\n",
              "      <td>None</td>\n",
              "      <td>{ }</td>\n",
              "      <td>2023-06-17T00:00:00</td>\n",
              "      <td>2</td>\n",
              "      <td>23390</td>\n",
              "    </tr>\n",
              "    <tr>\n",
              "      <th>1295</th>\n",
              "      <td>row-hzcg-24ra_7ipd</td>\n",
              "      <td>00000000-0000-0000-D048-D04E71C55E3A</td>\n",
              "      <td>0</td>\n",
              "      <td>1687370769</td>\n",
              "      <td>None</td>\n",
              "      <td>1687370769</td>\n",
              "      <td>None</td>\n",
              "      <td>{ }</td>\n",
              "      <td>2023-06-18T00:00:00</td>\n",
              "      <td>0</td>\n",
              "      <td>23390</td>\n",
              "    </tr>\n",
              "    <tr>\n",
              "      <th>1296</th>\n",
              "      <td>row-8tdn_tuw8_hujn</td>\n",
              "      <td>00000000-0000-0000-3181-E8EECFBF2249</td>\n",
              "      <td>0</td>\n",
              "      <td>1687370769</td>\n",
              "      <td>None</td>\n",
              "      <td>1687370769</td>\n",
              "      <td>None</td>\n",
              "      <td>{ }</td>\n",
              "      <td>2023-06-19T00:00:00</td>\n",
              "      <td>0</td>\n",
              "      <td>23390</td>\n",
              "    </tr>\n",
              "  </tbody>\n",
              "</table>\n",
              "</div>"
            ],
            "text/plain": [
              "                     sid                                    id  position  \\\n",
              "1292  row-zg3v~6bpx~tp8j  00000000-0000-0000-7710-AECCCEB67A5A         0   \n",
              "1293  row-wean-73e3.fixn  00000000-0000-0000-27C0-D21340C3F93F         0   \n",
              "1294  row-cvez.6nyd.3f6y  00000000-0000-0000-C1AE-C76310119F30         0   \n",
              "1295  row-hzcg-24ra_7ipd  00000000-0000-0000-D048-D04E71C55E3A         0   \n",
              "1296  row-8tdn_tuw8_hujn  00000000-0000-0000-3181-E8EECFBF2249         0   \n",
              "\n",
              "      created_at created_meta  updated_at updated_meta meta  \\\n",
              "1292  1687370769         None  1687370769         None  { }   \n",
              "1293  1687370769         None  1687370769         None  { }   \n",
              "1294  1687370769         None  1687370769         None  { }   \n",
              "1295  1687370769         None  1687370769         None  { }   \n",
              "1296  1687370769         None  1687370769         None  { }   \n",
              "\n",
              "                     Date New Cases Cumulative Cases  \n",
              "1292  2023-06-15T00:00:00         2            23384  \n",
              "1293  2023-06-16T00:00:00         4            23388  \n",
              "1294  2023-06-17T00:00:00         2            23390  \n",
              "1295  2023-06-18T00:00:00         0            23390  \n",
              "1296  2023-06-19T00:00:00         0            23390  "
            ]
          },
          "execution_count": 30,
          "metadata": {},
          "output_type": "execute_result"
        }
      ],
      "source": [
        "# Load the data from JSON and assign column titles\n"
      ]
    },
    {
      "cell_type": "markdown",
      "metadata": {
        "id": "n6Zu7YyQdgTx"
      },
      "source": [
        "<br/>\n",
        "\n",
        "---\n",
        "\n",
        "\n",
        "## Temporality\n",
        "\n",
        "Let's briefly look at how we can use pandas `dt` accessors to work with dates/times in a dataset.\n",
        "\n",
        "We will use the dataset from Lab 3: the Berkeley PD Calls for Service dataset."
      ]
    },
    {
      "cell_type": "code",
      "execution_count": null,
      "metadata": {
        "id": "WpoLJGQfdgTx",
        "outputId": "873a1025-9691-4380-e5f7-3347020af373"
      },
      "outputs": [
        {
          "data": {
            "text/html": [
              "<div>\n",
              "<style scoped>\n",
              "    .dataframe tbody tr th:only-of-type {\n",
              "        vertical-align: middle;\n",
              "    }\n",
              "\n",
              "    .dataframe tbody tr th {\n",
              "        vertical-align: top;\n",
              "    }\n",
              "\n",
              "    .dataframe thead th {\n",
              "        text-align: right;\n",
              "    }\n",
              "</style>\n",
              "<table border=\"1\" class=\"dataframe\">\n",
              "  <thead>\n",
              "    <tr style=\"text-align: right;\">\n",
              "      <th></th>\n",
              "      <th>CASENO</th>\n",
              "      <th>OFFENSE</th>\n",
              "      <th>EVENTDT</th>\n",
              "      <th>EVENTTM</th>\n",
              "      <th>CVLEGEND</th>\n",
              "      <th>CVDOW</th>\n",
              "      <th>InDbDate</th>\n",
              "      <th>Block_Location</th>\n",
              "      <th>BLKADDR</th>\n",
              "      <th>City</th>\n",
              "      <th>State</th>\n",
              "    </tr>\n",
              "  </thead>\n",
              "  <tbody>\n",
              "    <tr>\n",
              "      <th>0</th>\n",
              "      <td>21014296</td>\n",
              "      <td>THEFT MISD. (UNDER $950)</td>\n",
              "      <td>04/01/2021 12:00:00 AM</td>\n",
              "      <td>10:58</td>\n",
              "      <td>LARCENY</td>\n",
              "      <td>4</td>\n",
              "      <td>06/15/2021 12:00:00 AM</td>\n",
              "      <td>Berkeley, CA\\n(37.869058, -122.270455)</td>\n",
              "      <td>NaN</td>\n",
              "      <td>Berkeley</td>\n",
              "      <td>CA</td>\n",
              "    </tr>\n",
              "    <tr>\n",
              "      <th>1</th>\n",
              "      <td>21014391</td>\n",
              "      <td>THEFT MISD. (UNDER $950)</td>\n",
              "      <td>04/01/2021 12:00:00 AM</td>\n",
              "      <td>10:38</td>\n",
              "      <td>LARCENY</td>\n",
              "      <td>4</td>\n",
              "      <td>06/15/2021 12:00:00 AM</td>\n",
              "      <td>Berkeley, CA\\n(37.869058, -122.270455)</td>\n",
              "      <td>NaN</td>\n",
              "      <td>Berkeley</td>\n",
              "      <td>CA</td>\n",
              "    </tr>\n",
              "    <tr>\n",
              "      <th>2</th>\n",
              "      <td>21090494</td>\n",
              "      <td>THEFT MISD. (UNDER $950)</td>\n",
              "      <td>04/19/2021 12:00:00 AM</td>\n",
              "      <td>12:15</td>\n",
              "      <td>LARCENY</td>\n",
              "      <td>1</td>\n",
              "      <td>06/15/2021 12:00:00 AM</td>\n",
              "      <td>2100 BLOCK HASTE ST\\nBerkeley, CA\\n(37.864908,...</td>\n",
              "      <td>2100 BLOCK HASTE ST</td>\n",
              "      <td>Berkeley</td>\n",
              "      <td>CA</td>\n",
              "    </tr>\n",
              "    <tr>\n",
              "      <th>3</th>\n",
              "      <td>21090204</td>\n",
              "      <td>THEFT FELONY (OVER $950)</td>\n",
              "      <td>02/13/2021 12:00:00 AM</td>\n",
              "      <td>17:00</td>\n",
              "      <td>LARCENY</td>\n",
              "      <td>6</td>\n",
              "      <td>06/15/2021 12:00:00 AM</td>\n",
              "      <td>2600 BLOCK WARRING ST\\nBerkeley, CA\\n(37.86393...</td>\n",
              "      <td>2600 BLOCK WARRING ST</td>\n",
              "      <td>Berkeley</td>\n",
              "      <td>CA</td>\n",
              "    </tr>\n",
              "    <tr>\n",
              "      <th>4</th>\n",
              "      <td>21090179</td>\n",
              "      <td>BURGLARY AUTO</td>\n",
              "      <td>02/08/2021 12:00:00 AM</td>\n",
              "      <td>6:20</td>\n",
              "      <td>BURGLARY - VEHICLE</td>\n",
              "      <td>1</td>\n",
              "      <td>06/15/2021 12:00:00 AM</td>\n",
              "      <td>2700 BLOCK GARBER ST\\nBerkeley, CA\\n(37.86066,...</td>\n",
              "      <td>2700 BLOCK GARBER ST</td>\n",
              "      <td>Berkeley</td>\n",
              "      <td>CA</td>\n",
              "    </tr>\n",
              "  </tbody>\n",
              "</table>\n",
              "</div>"
            ],
            "text/plain": [
              "     CASENO                   OFFENSE                 EVENTDT EVENTTM  \\\n",
              "0  21014296  THEFT MISD. (UNDER $950)  04/01/2021 12:00:00 AM   10:58   \n",
              "1  21014391  THEFT MISD. (UNDER $950)  04/01/2021 12:00:00 AM   10:38   \n",
              "2  21090494  THEFT MISD. (UNDER $950)  04/19/2021 12:00:00 AM   12:15   \n",
              "3  21090204  THEFT FELONY (OVER $950)  02/13/2021 12:00:00 AM   17:00   \n",
              "4  21090179             BURGLARY AUTO  02/08/2021 12:00:00 AM    6:20   \n",
              "\n",
              "             CVLEGEND  CVDOW                InDbDate  \\\n",
              "0             LARCENY      4  06/15/2021 12:00:00 AM   \n",
              "1             LARCENY      4  06/15/2021 12:00:00 AM   \n",
              "2             LARCENY      1  06/15/2021 12:00:00 AM   \n",
              "3             LARCENY      6  06/15/2021 12:00:00 AM   \n",
              "4  BURGLARY - VEHICLE      1  06/15/2021 12:00:00 AM   \n",
              "\n",
              "                                      Block_Location                BLKADDR  \\\n",
              "0             Berkeley, CA\\n(37.869058, -122.270455)                    NaN   \n",
              "1             Berkeley, CA\\n(37.869058, -122.270455)                    NaN   \n",
              "2  2100 BLOCK HASTE ST\\nBerkeley, CA\\n(37.864908,...    2100 BLOCK HASTE ST   \n",
              "3  2600 BLOCK WARRING ST\\nBerkeley, CA\\n(37.86393...  2600 BLOCK WARRING ST   \n",
              "4  2700 BLOCK GARBER ST\\nBerkeley, CA\\n(37.86066,...   2700 BLOCK GARBER ST   \n",
              "\n",
              "       City State  \n",
              "0  Berkeley    CA  \n",
              "1  Berkeley    CA  \n",
              "2  Berkeley    CA  \n",
              "3  Berkeley    CA  \n",
              "4  Berkeley    CA  "
            ]
          },
          "execution_count": 31,
          "metadata": {},
          "output_type": "execute_result"
        }
      ],
      "source": [
        "# use data/Berkeley_PD_-_Calls_for_Service.csv now"
      ]
    },
    {
      "cell_type": "markdown",
      "metadata": {
        "id": "-LZwm9k7dgTx"
      },
      "source": [
        "Looks like there are three columns with dates/times: `EVENTDT`, `EVENTTM`, and `InDbDate`.\n",
        "\n",
        "Most likely, `EVENTDT` stands for the date when the event took place, `EVENTTM` stands for the time of day the event took place (in 24-hr format), and `InDbDate` is the date this call is recorded onto the database.\n",
        "\n",
        "If we check the data type of these columns, we will see they are stored as strings. We can convert them to `datetime` objects using pandas `to_datetime` function."
      ]
    },
    {
      "cell_type": "code",
      "execution_count": null,
      "metadata": {
        "id": "Cj4GLARMdgTx",
        "outputId": "0a7e81e9-b776-4462-c3d7-0795a3ea0e1f"
      },
      "outputs": [
        {
          "name": "stderr",
          "output_type": "stream",
          "text": [
            "/var/folders/j1/n8kn9ftd7257n2rvkkzlj3mc0010dw/T/ipykernel_58311/874729699.py:1: UserWarning: Could not infer format, so each element will be parsed individually, falling back to `dateutil`. To ensure parsing is consistent and as-expected, please specify a format.\n",
            "  calls[\"EVENTDT\"] = pd.to_datetime(calls[\"EVENTDT\"])\n"
          ]
        },
        {
          "data": {
            "text/html": [
              "<div>\n",
              "<style scoped>\n",
              "    .dataframe tbody tr th:only-of-type {\n",
              "        vertical-align: middle;\n",
              "    }\n",
              "\n",
              "    .dataframe tbody tr th {\n",
              "        vertical-align: top;\n",
              "    }\n",
              "\n",
              "    .dataframe thead th {\n",
              "        text-align: right;\n",
              "    }\n",
              "</style>\n",
              "<table border=\"1\" class=\"dataframe\">\n",
              "  <thead>\n",
              "    <tr style=\"text-align: right;\">\n",
              "      <th></th>\n",
              "      <th>CASENO</th>\n",
              "      <th>OFFENSE</th>\n",
              "      <th>EVENTDT</th>\n",
              "      <th>EVENTTM</th>\n",
              "      <th>CVLEGEND</th>\n",
              "      <th>CVDOW</th>\n",
              "      <th>InDbDate</th>\n",
              "      <th>Block_Location</th>\n",
              "      <th>BLKADDR</th>\n",
              "      <th>City</th>\n",
              "      <th>State</th>\n",
              "    </tr>\n",
              "  </thead>\n",
              "  <tbody>\n",
              "    <tr>\n",
              "      <th>0</th>\n",
              "      <td>21014296</td>\n",
              "      <td>THEFT MISD. (UNDER $950)</td>\n",
              "      <td>2021-04-01</td>\n",
              "      <td>10:58</td>\n",
              "      <td>LARCENY</td>\n",
              "      <td>4</td>\n",
              "      <td>06/15/2021 12:00:00 AM</td>\n",
              "      <td>Berkeley, CA\\n(37.869058, -122.270455)</td>\n",
              "      <td>NaN</td>\n",
              "      <td>Berkeley</td>\n",
              "      <td>CA</td>\n",
              "    </tr>\n",
              "    <tr>\n",
              "      <th>1</th>\n",
              "      <td>21014391</td>\n",
              "      <td>THEFT MISD. (UNDER $950)</td>\n",
              "      <td>2021-04-01</td>\n",
              "      <td>10:38</td>\n",
              "      <td>LARCENY</td>\n",
              "      <td>4</td>\n",
              "      <td>06/15/2021 12:00:00 AM</td>\n",
              "      <td>Berkeley, CA\\n(37.869058, -122.270455)</td>\n",
              "      <td>NaN</td>\n",
              "      <td>Berkeley</td>\n",
              "      <td>CA</td>\n",
              "    </tr>\n",
              "    <tr>\n",
              "      <th>2</th>\n",
              "      <td>21090494</td>\n",
              "      <td>THEFT MISD. (UNDER $950)</td>\n",
              "      <td>2021-04-19</td>\n",
              "      <td>12:15</td>\n",
              "      <td>LARCENY</td>\n",
              "      <td>1</td>\n",
              "      <td>06/15/2021 12:00:00 AM</td>\n",
              "      <td>2100 BLOCK HASTE ST\\nBerkeley, CA\\n(37.864908,...</td>\n",
              "      <td>2100 BLOCK HASTE ST</td>\n",
              "      <td>Berkeley</td>\n",
              "      <td>CA</td>\n",
              "    </tr>\n",
              "    <tr>\n",
              "      <th>3</th>\n",
              "      <td>21090204</td>\n",
              "      <td>THEFT FELONY (OVER $950)</td>\n",
              "      <td>2021-02-13</td>\n",
              "      <td>17:00</td>\n",
              "      <td>LARCENY</td>\n",
              "      <td>6</td>\n",
              "      <td>06/15/2021 12:00:00 AM</td>\n",
              "      <td>2600 BLOCK WARRING ST\\nBerkeley, CA\\n(37.86393...</td>\n",
              "      <td>2600 BLOCK WARRING ST</td>\n",
              "      <td>Berkeley</td>\n",
              "      <td>CA</td>\n",
              "    </tr>\n",
              "    <tr>\n",
              "      <th>4</th>\n",
              "      <td>21090179</td>\n",
              "      <td>BURGLARY AUTO</td>\n",
              "      <td>2021-02-08</td>\n",
              "      <td>6:20</td>\n",
              "      <td>BURGLARY - VEHICLE</td>\n",
              "      <td>1</td>\n",
              "      <td>06/15/2021 12:00:00 AM</td>\n",
              "      <td>2700 BLOCK GARBER ST\\nBerkeley, CA\\n(37.86066,...</td>\n",
              "      <td>2700 BLOCK GARBER ST</td>\n",
              "      <td>Berkeley</td>\n",
              "      <td>CA</td>\n",
              "    </tr>\n",
              "  </tbody>\n",
              "</table>\n",
              "</div>"
            ],
            "text/plain": [
              "     CASENO                   OFFENSE    EVENTDT EVENTTM            CVLEGEND  \\\n",
              "0  21014296  THEFT MISD. (UNDER $950) 2021-04-01   10:58             LARCENY   \n",
              "1  21014391  THEFT MISD. (UNDER $950) 2021-04-01   10:38             LARCENY   \n",
              "2  21090494  THEFT MISD. (UNDER $950) 2021-04-19   12:15             LARCENY   \n",
              "3  21090204  THEFT FELONY (OVER $950) 2021-02-13   17:00             LARCENY   \n",
              "4  21090179             BURGLARY AUTO 2021-02-08    6:20  BURGLARY - VEHICLE   \n",
              "\n",
              "   CVDOW                InDbDate  \\\n",
              "0      4  06/15/2021 12:00:00 AM   \n",
              "1      4  06/15/2021 12:00:00 AM   \n",
              "2      1  06/15/2021 12:00:00 AM   \n",
              "3      6  06/15/2021 12:00:00 AM   \n",
              "4      1  06/15/2021 12:00:00 AM   \n",
              "\n",
              "                                      Block_Location                BLKADDR  \\\n",
              "0             Berkeley, CA\\n(37.869058, -122.270455)                    NaN   \n",
              "1             Berkeley, CA\\n(37.869058, -122.270455)                    NaN   \n",
              "2  2100 BLOCK HASTE ST\\nBerkeley, CA\\n(37.864908,...    2100 BLOCK HASTE ST   \n",
              "3  2600 BLOCK WARRING ST\\nBerkeley, CA\\n(37.86393...  2600 BLOCK WARRING ST   \n",
              "4  2700 BLOCK GARBER ST\\nBerkeley, CA\\n(37.86066,...   2700 BLOCK GARBER ST   \n",
              "\n",
              "       City State  \n",
              "0  Berkeley    CA  \n",
              "1  Berkeley    CA  \n",
              "2  Berkeley    CA  \n",
              "3  Berkeley    CA  \n",
              "4  Berkeley    CA  "
            ]
          },
          "execution_count": 32,
          "metadata": {},
          "output_type": "execute_result"
        }
      ],
      "source": [
        "# pd.to_datetime on EVENTDT"
      ]
    },
    {
      "cell_type": "markdown",
      "metadata": {
        "id": "CmM3zMFBdgTx"
      },
      "source": [
        "Now we can use the `dt` accessor on this column.\n",
        "\n",
        "We can get the month:"
      ]
    },
    {
      "cell_type": "code",
      "execution_count": null,
      "metadata": {
        "id": "YdM7zhUFdgTx",
        "outputId": "0fd3346c-dcb7-401b-970d-d3604c1cf457"
      },
      "outputs": [
        {
          "data": {
            "text/plain": [
              "0        4\n",
              "1        4\n",
              "2        4\n",
              "3        2\n",
              "4        2\n",
              "        ..\n",
              "2627    12\n",
              "2628     2\n",
              "2629     3\n",
              "2630     4\n",
              "2631     2\n",
              "Name: EVENTDT, Length: 2632, dtype: int32"
            ]
          },
          "execution_count": 33,
          "metadata": {},
          "output_type": "execute_result"
        }
      ],
      "source": [
        "# get months from EVENTDT"
      ]
    },
    {
      "cell_type": "markdown",
      "metadata": {
        "id": "mUJmmZ80dgTy"
      },
      "source": [
        "Which day of the week the date is on:"
      ]
    },
    {
      "cell_type": "code",
      "execution_count": null,
      "metadata": {
        "id": "ZtsV6d7-dgTy",
        "outputId": "5d929fba-3cc6-4a67-9cc1-60a7e7356594"
      },
      "outputs": [
        {
          "data": {
            "text/plain": [
              "0       3\n",
              "1       3\n",
              "2       0\n",
              "3       5\n",
              "4       0\n",
              "       ..\n",
              "2627    0\n",
              "2628    2\n",
              "2629    2\n",
              "2630    5\n",
              "2631    4\n",
              "Name: EVENTDT, Length: 2632, dtype: int32"
            ]
          },
          "execution_count": 34,
          "metadata": {},
          "output_type": "execute_result"
        }
      ],
      "source": [
        "# get week days from EVENTDT"
      ]
    },
    {
      "cell_type": "markdown",
      "metadata": {
        "id": "X-6rhLMMdgTy"
      },
      "source": [
        "Check the mimimum values to see if there are any suspicious-looking, 70s dates:"
      ]
    },
    {
      "cell_type": "code",
      "execution_count": null,
      "metadata": {
        "id": "i8IyBMXIdgTy",
        "outputId": "b4bc58a3-2890-432d-c7f6-d6714a1f29fc"
      },
      "outputs": [
        {
          "data": {
            "text/html": [
              "<div>\n",
              "<style scoped>\n",
              "    .dataframe tbody tr th:only-of-type {\n",
              "        vertical-align: middle;\n",
              "    }\n",
              "\n",
              "    .dataframe tbody tr th {\n",
              "        vertical-align: top;\n",
              "    }\n",
              "\n",
              "    .dataframe thead th {\n",
              "        text-align: right;\n",
              "    }\n",
              "</style>\n",
              "<table border=\"1\" class=\"dataframe\">\n",
              "  <thead>\n",
              "    <tr style=\"text-align: right;\">\n",
              "      <th></th>\n",
              "      <th>CASENO</th>\n",
              "      <th>OFFENSE</th>\n",
              "      <th>EVENTDT</th>\n",
              "      <th>EVENTTM</th>\n",
              "      <th>CVLEGEND</th>\n",
              "      <th>CVDOW</th>\n",
              "      <th>InDbDate</th>\n",
              "      <th>Block_Location</th>\n",
              "      <th>BLKADDR</th>\n",
              "      <th>City</th>\n",
              "      <th>State</th>\n",
              "    </tr>\n",
              "  </thead>\n",
              "  <tbody>\n",
              "    <tr>\n",
              "      <th>2513</th>\n",
              "      <td>20057398</td>\n",
              "      <td>BURGLARY COMMERCIAL</td>\n",
              "      <td>2020-12-17</td>\n",
              "      <td>16:05</td>\n",
              "      <td>BURGLARY - COMMERCIAL</td>\n",
              "      <td>4</td>\n",
              "      <td>06/15/2021 12:00:00 AM</td>\n",
              "      <td>600 BLOCK GILMAN ST\\nBerkeley, CA\\n(37.878405,...</td>\n",
              "      <td>600 BLOCK GILMAN ST</td>\n",
              "      <td>Berkeley</td>\n",
              "      <td>CA</td>\n",
              "    </tr>\n",
              "    <tr>\n",
              "      <th>624</th>\n",
              "      <td>20057207</td>\n",
              "      <td>ASSAULT/BATTERY MISD.</td>\n",
              "      <td>2020-12-17</td>\n",
              "      <td>16:50</td>\n",
              "      <td>ASSAULT</td>\n",
              "      <td>4</td>\n",
              "      <td>06/15/2021 12:00:00 AM</td>\n",
              "      <td>2100 BLOCK SHATTUCK AVE\\nBerkeley, CA\\n(37.871...</td>\n",
              "      <td>2100 BLOCK SHATTUCK AVE</td>\n",
              "      <td>Berkeley</td>\n",
              "      <td>CA</td>\n",
              "    </tr>\n",
              "    <tr>\n",
              "      <th>154</th>\n",
              "      <td>20092214</td>\n",
              "      <td>THEFT FROM AUTO</td>\n",
              "      <td>2020-12-17</td>\n",
              "      <td>18:30</td>\n",
              "      <td>LARCENY - FROM VEHICLE</td>\n",
              "      <td>4</td>\n",
              "      <td>06/15/2021 12:00:00 AM</td>\n",
              "      <td>800 BLOCK SHATTUCK AVE\\nBerkeley, CA\\n(37.8918...</td>\n",
              "      <td>800 BLOCK SHATTUCK AVE</td>\n",
              "      <td>Berkeley</td>\n",
              "      <td>CA</td>\n",
              "    </tr>\n",
              "    <tr>\n",
              "      <th>659</th>\n",
              "      <td>20057324</td>\n",
              "      <td>THEFT MISD. (UNDER $950)</td>\n",
              "      <td>2020-12-17</td>\n",
              "      <td>15:44</td>\n",
              "      <td>LARCENY</td>\n",
              "      <td>4</td>\n",
              "      <td>06/15/2021 12:00:00 AM</td>\n",
              "      <td>1800 BLOCK 4TH ST\\nBerkeley, CA\\n(37.869888, -...</td>\n",
              "      <td>1800 BLOCK 4TH ST</td>\n",
              "      <td>Berkeley</td>\n",
              "      <td>CA</td>\n",
              "    </tr>\n",
              "    <tr>\n",
              "      <th>993</th>\n",
              "      <td>20057573</td>\n",
              "      <td>BURGLARY RESIDENTIAL</td>\n",
              "      <td>2020-12-17</td>\n",
              "      <td>22:15</td>\n",
              "      <td>BURGLARY - RESIDENTIAL</td>\n",
              "      <td>4</td>\n",
              "      <td>06/15/2021 12:00:00 AM</td>\n",
              "      <td>1700 BLOCK STUART ST\\nBerkeley, CA\\n(37.857495...</td>\n",
              "      <td>1700 BLOCK STUART ST</td>\n",
              "      <td>Berkeley</td>\n",
              "      <td>CA</td>\n",
              "    </tr>\n",
              "  </tbody>\n",
              "</table>\n",
              "</div>"
            ],
            "text/plain": [
              "        CASENO                   OFFENSE    EVENTDT EVENTTM  \\\n",
              "2513  20057398       BURGLARY COMMERCIAL 2020-12-17   16:05   \n",
              "624   20057207     ASSAULT/BATTERY MISD. 2020-12-17   16:50   \n",
              "154   20092214           THEFT FROM AUTO 2020-12-17   18:30   \n",
              "659   20057324  THEFT MISD. (UNDER $950) 2020-12-17   15:44   \n",
              "993   20057573      BURGLARY RESIDENTIAL 2020-12-17   22:15   \n",
              "\n",
              "                    CVLEGEND  CVDOW                InDbDate  \\\n",
              "2513   BURGLARY - COMMERCIAL      4  06/15/2021 12:00:00 AM   \n",
              "624                  ASSAULT      4  06/15/2021 12:00:00 AM   \n",
              "154   LARCENY - FROM VEHICLE      4  06/15/2021 12:00:00 AM   \n",
              "659                  LARCENY      4  06/15/2021 12:00:00 AM   \n",
              "993   BURGLARY - RESIDENTIAL      4  06/15/2021 12:00:00 AM   \n",
              "\n",
              "                                         Block_Location  \\\n",
              "2513  600 BLOCK GILMAN ST\\nBerkeley, CA\\n(37.878405,...   \n",
              "624   2100 BLOCK SHATTUCK AVE\\nBerkeley, CA\\n(37.871...   \n",
              "154   800 BLOCK SHATTUCK AVE\\nBerkeley, CA\\n(37.8918...   \n",
              "659   1800 BLOCK 4TH ST\\nBerkeley, CA\\n(37.869888, -...   \n",
              "993   1700 BLOCK STUART ST\\nBerkeley, CA\\n(37.857495...   \n",
              "\n",
              "                      BLKADDR      City State  \n",
              "2513      600 BLOCK GILMAN ST  Berkeley    CA  \n",
              "624   2100 BLOCK SHATTUCK AVE  Berkeley    CA  \n",
              "154    800 BLOCK SHATTUCK AVE  Berkeley    CA  \n",
              "659         1800 BLOCK 4TH ST  Berkeley    CA  \n",
              "993      1700 BLOCK STUART ST  Berkeley    CA  "
            ]
          },
          "execution_count": 35,
          "metadata": {},
          "output_type": "execute_result"
        }
      ],
      "source": [
        "# Answer here"
      ]
    },
    {
      "cell_type": "markdown",
      "metadata": {
        "id": "xm68dU4NdgTy"
      },
      "source": [
        "Doesn't look like it! We are good!\n",
        "\n",
        "\n",
        "We can also do many things with the `dt` accessor like switching time zones and converting time back to UNIX/POSIX time. Check out the documentation on [`.dt` accessor](https://pandas.pydata.org/docs/user_guide/basics.html#basics-dt-accessors) and [time series/date functionality](https://pandas.pydata.org/docs/user_guide/timeseries.html#)."
      ]
    },
    {
      "cell_type": "markdown",
      "metadata": {
        "tags": [],
        "id": "amqBOjLndgTy"
      },
      "source": [
        "\n",
        "## Data Faithfulness: Mauna Loa CO2 data\n",
        "\n",
        "CO2 concentrations have been monitored at Mauna Loa Observatory since 1958 ([website link](https://gml.noaa.gov/ccgg/trends/data.html)).\n",
        "\n",
        "\n"
      ]
    },
    {
      "cell_type": "code",
      "execution_count": null,
      "metadata": {
        "id": "UXz4xFZudgTy"
      },
      "outputs": [],
      "source": [
        "co2_file = \"data/co2_mm_mlo.txt\""
      ]
    },
    {
      "cell_type": "markdown",
      "metadata": {
        "tags": [],
        "id": "wajWyc2odgTy"
      },
      "source": [
        "Let's do some **EDA**!!"
      ]
    },
    {
      "cell_type": "markdown",
      "metadata": {
        "tags": [],
        "id": "Fp_wY5qKdgTz"
      },
      "source": [
        "### How do we read the file into Pandas?\n",
        "Let's instead check out this file with JupyterLab.\n",
        "\n",
        "* Note it's a `.txt` file.\n",
        "* Do we trust this file extension?\n",
        "* What structure is it?"
      ]
    },
    {
      "cell_type": "markdown",
      "metadata": {
        "id": "5IiOrZH4dgTz"
      },
      "source": [
        "\n",
        "Looking at the first few lines of the data, we spot some relevant characteristics:\n",
        "\n",
        "- The values are separated by white space, possibly tabs.\n",
        "- The data line up down the rows. For example, the month appears in 7th to 8th position of each line.\n",
        "- The 71st and 72nd lines in the file contain column headings split over two lines.\n",
        "\n",
        "We can use `read_csv` to read the data into a Pandas data frame, and we provide several arguments to specify that the separators are white space, there is no header (**we will set our own column names**), and to skip the first 72 rows of the file."
      ]
    },
    {
      "cell_type": "code",
      "execution_count": null,
      "metadata": {
        "id": "a_4udgFqdgTz",
        "outputId": "597739e6-a189-4d98-df08-2fadfabe0a86"
      },
      "outputs": [
        {
          "data": {
            "text/html": [
              "<div>\n",
              "<style scoped>\n",
              "    .dataframe tbody tr th:only-of-type {\n",
              "        vertical-align: middle;\n",
              "    }\n",
              "\n",
              "    .dataframe tbody tr th {\n",
              "        vertical-align: top;\n",
              "    }\n",
              "\n",
              "    .dataframe thead th {\n",
              "        text-align: right;\n",
              "    }\n",
              "</style>\n",
              "<table border=\"1\" class=\"dataframe\">\n",
              "  <thead>\n",
              "    <tr style=\"text-align: right;\">\n",
              "      <th></th>\n",
              "      <th>0</th>\n",
              "      <th>1</th>\n",
              "      <th>2</th>\n",
              "      <th>3</th>\n",
              "      <th>4</th>\n",
              "      <th>5</th>\n",
              "      <th>6</th>\n",
              "    </tr>\n",
              "  </thead>\n",
              "  <tbody>\n",
              "    <tr>\n",
              "      <th>0</th>\n",
              "      <td>1958</td>\n",
              "      <td>3</td>\n",
              "      <td>1958.21</td>\n",
              "      <td>315.71</td>\n",
              "      <td>315.71</td>\n",
              "      <td>314.62</td>\n",
              "      <td>-1</td>\n",
              "    </tr>\n",
              "    <tr>\n",
              "      <th>1</th>\n",
              "      <td>1958</td>\n",
              "      <td>4</td>\n",
              "      <td>1958.29</td>\n",
              "      <td>317.45</td>\n",
              "      <td>317.45</td>\n",
              "      <td>315.29</td>\n",
              "      <td>-1</td>\n",
              "    </tr>\n",
              "    <tr>\n",
              "      <th>2</th>\n",
              "      <td>1958</td>\n",
              "      <td>5</td>\n",
              "      <td>1958.38</td>\n",
              "      <td>317.50</td>\n",
              "      <td>317.50</td>\n",
              "      <td>314.71</td>\n",
              "      <td>-1</td>\n",
              "    </tr>\n",
              "    <tr>\n",
              "      <th>3</th>\n",
              "      <td>1958</td>\n",
              "      <td>6</td>\n",
              "      <td>1958.46</td>\n",
              "      <td>-99.99</td>\n",
              "      <td>317.10</td>\n",
              "      <td>314.85</td>\n",
              "      <td>-1</td>\n",
              "    </tr>\n",
              "    <tr>\n",
              "      <th>4</th>\n",
              "      <td>1958</td>\n",
              "      <td>7</td>\n",
              "      <td>1958.54</td>\n",
              "      <td>315.86</td>\n",
              "      <td>315.86</td>\n",
              "      <td>314.98</td>\n",
              "      <td>-1</td>\n",
              "    </tr>\n",
              "  </tbody>\n",
              "</table>\n",
              "</div>"
            ],
            "text/plain": [
              "      0  1       2      3      4      5  6\n",
              "0  1958  3 1958.21 315.71 315.71 314.62 -1\n",
              "1  1958  4 1958.29 317.45 317.45 315.29 -1\n",
              "2  1958  5 1958.38 317.50 317.50 314.71 -1\n",
              "3  1958  6 1958.46 -99.99 317.10 314.85 -1\n",
              "4  1958  7 1958.54 315.86 315.86 314.98 -1"
            ]
          },
          "execution_count": 37,
          "metadata": {},
          "output_type": "execute_result"
        }
      ],
      "source": [
        "# use pd.read_csv to read txt file"
      ]
    },
    {
      "cell_type": "markdown",
      "metadata": {
        "id": "j8yhhCx_dgTz"
      },
      "source": [
        "Congratulations! You've wrangled the data!\n",
        "\n",
        "<br/>\n",
        "\n",
        "...But our columns aren't named.\n",
        "**We need to do more EDA.**"
      ]
    },
    {
      "cell_type": "markdown",
      "metadata": {
        "id": "ZjauxphhdgTz"
      },
      "source": [
        "### Exploring Variable Feature Types\n",
        "\n",
        "The NOAA [webpage](https://gml.noaa.gov/ccgg/trends/) might have some useful tidbits (in this case it doesn't).\n",
        "Let's go back to the raw data file to identify each feature.\n",
        "\n",
        "\n",
        "We'll rerun `pd.read_csv`, but this time with some **custom column names.**"
      ]
    },
    {
      "cell_type": "code",
      "execution_count": null,
      "metadata": {
        "id": "GsQaEyusdgTz",
        "outputId": "33753361-fed7-4fb1-d335-b2f76fed418a"
      },
      "outputs": [
        {
          "data": {
            "text/html": [
              "<div>\n",
              "<style scoped>\n",
              "    .dataframe tbody tr th:only-of-type {\n",
              "        vertical-align: middle;\n",
              "    }\n",
              "\n",
              "    .dataframe tbody tr th {\n",
              "        vertical-align: top;\n",
              "    }\n",
              "\n",
              "    .dataframe thead th {\n",
              "        text-align: right;\n",
              "    }\n",
              "</style>\n",
              "<table border=\"1\" class=\"dataframe\">\n",
              "  <thead>\n",
              "    <tr style=\"text-align: right;\">\n",
              "      <th></th>\n",
              "      <th>Yr</th>\n",
              "      <th>Mo</th>\n",
              "      <th>DecDate</th>\n",
              "      <th>Avg</th>\n",
              "      <th>Int</th>\n",
              "      <th>Trend</th>\n",
              "      <th>Days</th>\n",
              "    </tr>\n",
              "  </thead>\n",
              "  <tbody>\n",
              "    <tr>\n",
              "      <th>0</th>\n",
              "      <td>1958</td>\n",
              "      <td>3</td>\n",
              "      <td>1958.21</td>\n",
              "      <td>315.71</td>\n",
              "      <td>315.71</td>\n",
              "      <td>314.62</td>\n",
              "      <td>-1</td>\n",
              "    </tr>\n",
              "    <tr>\n",
              "      <th>1</th>\n",
              "      <td>1958</td>\n",
              "      <td>4</td>\n",
              "      <td>1958.29</td>\n",
              "      <td>317.45</td>\n",
              "      <td>317.45</td>\n",
              "      <td>315.29</td>\n",
              "      <td>-1</td>\n",
              "    </tr>\n",
              "    <tr>\n",
              "      <th>2</th>\n",
              "      <td>1958</td>\n",
              "      <td>5</td>\n",
              "      <td>1958.38</td>\n",
              "      <td>317.50</td>\n",
              "      <td>317.50</td>\n",
              "      <td>314.71</td>\n",
              "      <td>-1</td>\n",
              "    </tr>\n",
              "    <tr>\n",
              "      <th>3</th>\n",
              "      <td>1958</td>\n",
              "      <td>6</td>\n",
              "      <td>1958.46</td>\n",
              "      <td>-99.99</td>\n",
              "      <td>317.10</td>\n",
              "      <td>314.85</td>\n",
              "      <td>-1</td>\n",
              "    </tr>\n",
              "    <tr>\n",
              "      <th>4</th>\n",
              "      <td>1958</td>\n",
              "      <td>7</td>\n",
              "      <td>1958.54</td>\n",
              "      <td>315.86</td>\n",
              "      <td>315.86</td>\n",
              "      <td>314.98</td>\n",
              "      <td>-1</td>\n",
              "    </tr>\n",
              "  </tbody>\n",
              "</table>\n",
              "</div>"
            ],
            "text/plain": [
              "     Yr  Mo  DecDate    Avg    Int  Trend  Days\n",
              "0  1958   3  1958.21 315.71 315.71 314.62    -1\n",
              "1  1958   4  1958.29 317.45 317.45 315.29    -1\n",
              "2  1958   5  1958.38 317.50 317.50 314.71    -1\n",
              "3  1958   6  1958.46 -99.99 317.10 314.85    -1\n",
              "4  1958   7  1958.54 315.86 315.86 314.98    -1"
            ]
          },
          "execution_count": 38,
          "metadata": {},
          "output_type": "execute_result"
        }
      ],
      "source": []
    },
    {
      "cell_type": "markdown",
      "metadata": {
        "id": "tIUtSx7adgT0"
      },
      "source": [
        "Yikes! Plotting the data uncovered a problem. It looks like we have some **missing values**. What happened here?"
      ]
    },
    {
      "cell_type": "code",
      "execution_count": null,
      "metadata": {
        "id": "0ELGb-TAdgT0",
        "outputId": "acb5cb80-e3fd-4c62-a15e-94b3715d00bf"
      },
      "outputs": [
        {
          "data": {
            "text/html": [
              "<div>\n",
              "<style scoped>\n",
              "    .dataframe tbody tr th:only-of-type {\n",
              "        vertical-align: middle;\n",
              "    }\n",
              "\n",
              "    .dataframe tbody tr th {\n",
              "        vertical-align: top;\n",
              "    }\n",
              "\n",
              "    .dataframe thead th {\n",
              "        text-align: right;\n",
              "    }\n",
              "</style>\n",
              "<table border=\"1\" class=\"dataframe\">\n",
              "  <thead>\n",
              "    <tr style=\"text-align: right;\">\n",
              "      <th></th>\n",
              "      <th>Yr</th>\n",
              "      <th>Mo</th>\n",
              "      <th>DecDate</th>\n",
              "      <th>Avg</th>\n",
              "      <th>Int</th>\n",
              "      <th>Trend</th>\n",
              "      <th>Days</th>\n",
              "    </tr>\n",
              "  </thead>\n",
              "  <tbody>\n",
              "    <tr>\n",
              "      <th>0</th>\n",
              "      <td>1958</td>\n",
              "      <td>3</td>\n",
              "      <td>1958.21</td>\n",
              "      <td>315.71</td>\n",
              "      <td>315.71</td>\n",
              "      <td>314.62</td>\n",
              "      <td>-1</td>\n",
              "    </tr>\n",
              "    <tr>\n",
              "      <th>1</th>\n",
              "      <td>1958</td>\n",
              "      <td>4</td>\n",
              "      <td>1958.29</td>\n",
              "      <td>317.45</td>\n",
              "      <td>317.45</td>\n",
              "      <td>315.29</td>\n",
              "      <td>-1</td>\n",
              "    </tr>\n",
              "    <tr>\n",
              "      <th>2</th>\n",
              "      <td>1958</td>\n",
              "      <td>5</td>\n",
              "      <td>1958.38</td>\n",
              "      <td>317.50</td>\n",
              "      <td>317.50</td>\n",
              "      <td>314.71</td>\n",
              "      <td>-1</td>\n",
              "    </tr>\n",
              "    <tr>\n",
              "      <th>3</th>\n",
              "      <td>1958</td>\n",
              "      <td>6</td>\n",
              "      <td>1958.46</td>\n",
              "      <td>-99.99</td>\n",
              "      <td>317.10</td>\n",
              "      <td>314.85</td>\n",
              "      <td>-1</td>\n",
              "    </tr>\n",
              "    <tr>\n",
              "      <th>4</th>\n",
              "      <td>1958</td>\n",
              "      <td>7</td>\n",
              "      <td>1958.54</td>\n",
              "      <td>315.86</td>\n",
              "      <td>315.86</td>\n",
              "      <td>314.98</td>\n",
              "      <td>-1</td>\n",
              "    </tr>\n",
              "  </tbody>\n",
              "</table>\n",
              "</div>"
            ],
            "text/plain": [
              "     Yr  Mo  DecDate    Avg    Int  Trend  Days\n",
              "0  1958   3  1958.21 315.71 315.71 314.62    -1\n",
              "1  1958   4  1958.29 317.45 317.45 315.29    -1\n",
              "2  1958   5  1958.38 317.50 317.50 314.71    -1\n",
              "3  1958   6  1958.46 -99.99 317.10 314.85    -1\n",
              "4  1958   7  1958.54 315.86 315.86 314.98    -1"
            ]
          },
          "execution_count": 40,
          "metadata": {},
          "output_type": "execute_result"
        }
      ],
      "source": [
        "co2.head()"
      ]
    },
    {
      "cell_type": "code",
      "execution_count": null,
      "metadata": {
        "id": "uI-27B9AdgT0",
        "outputId": "94d40ce4-7197-4aaa-9106-a6084fa07cc0"
      },
      "outputs": [
        {
          "data": {
            "text/html": [
              "<div>\n",
              "<style scoped>\n",
              "    .dataframe tbody tr th:only-of-type {\n",
              "        vertical-align: middle;\n",
              "    }\n",
              "\n",
              "    .dataframe tbody tr th {\n",
              "        vertical-align: top;\n",
              "    }\n",
              "\n",
              "    .dataframe thead th {\n",
              "        text-align: right;\n",
              "    }\n",
              "</style>\n",
              "<table border=\"1\" class=\"dataframe\">\n",
              "  <thead>\n",
              "    <tr style=\"text-align: right;\">\n",
              "      <th></th>\n",
              "      <th>Yr</th>\n",
              "      <th>Mo</th>\n",
              "      <th>DecDate</th>\n",
              "      <th>Avg</th>\n",
              "      <th>Int</th>\n",
              "      <th>Trend</th>\n",
              "      <th>Days</th>\n",
              "    </tr>\n",
              "  </thead>\n",
              "  <tbody>\n",
              "    <tr>\n",
              "      <th>733</th>\n",
              "      <td>2019</td>\n",
              "      <td>4</td>\n",
              "      <td>2019.29</td>\n",
              "      <td>413.32</td>\n",
              "      <td>413.32</td>\n",
              "      <td>410.49</td>\n",
              "      <td>26</td>\n",
              "    </tr>\n",
              "    <tr>\n",
              "      <th>734</th>\n",
              "      <td>2019</td>\n",
              "      <td>5</td>\n",
              "      <td>2019.38</td>\n",
              "      <td>414.66</td>\n",
              "      <td>414.66</td>\n",
              "      <td>411.20</td>\n",
              "      <td>28</td>\n",
              "    </tr>\n",
              "    <tr>\n",
              "      <th>735</th>\n",
              "      <td>2019</td>\n",
              "      <td>6</td>\n",
              "      <td>2019.46</td>\n",
              "      <td>413.92</td>\n",
              "      <td>413.92</td>\n",
              "      <td>411.58</td>\n",
              "      <td>27</td>\n",
              "    </tr>\n",
              "    <tr>\n",
              "      <th>736</th>\n",
              "      <td>2019</td>\n",
              "      <td>7</td>\n",
              "      <td>2019.54</td>\n",
              "      <td>411.77</td>\n",
              "      <td>411.77</td>\n",
              "      <td>411.43</td>\n",
              "      <td>23</td>\n",
              "    </tr>\n",
              "    <tr>\n",
              "      <th>737</th>\n",
              "      <td>2019</td>\n",
              "      <td>8</td>\n",
              "      <td>2019.62</td>\n",
              "      <td>409.95</td>\n",
              "      <td>409.95</td>\n",
              "      <td>411.84</td>\n",
              "      <td>29</td>\n",
              "    </tr>\n",
              "  </tbody>\n",
              "</table>\n",
              "</div>"
            ],
            "text/plain": [
              "       Yr  Mo  DecDate    Avg    Int  Trend  Days\n",
              "733  2019   4  2019.29 413.32 413.32 410.49    26\n",
              "734  2019   5  2019.38 414.66 414.66 411.20    28\n",
              "735  2019   6  2019.46 413.92 413.92 411.58    27\n",
              "736  2019   7  2019.54 411.77 411.77 411.43    23\n",
              "737  2019   8  2019.62 409.95 409.95 411.84    29"
            ]
          },
          "execution_count": 41,
          "metadata": {},
          "output_type": "execute_result"
        }
      ],
      "source": [
        "co2.tail()"
      ]
    }
  ],
  "metadata": {
    "celltoolbar": "Tags",
    "kernelspec": {
      "display_name": "Python 3 (ipykernel)",
      "language": "python",
      "name": "python3"
    },
    "language_info": {
      "codemirror_mode": {
        "name": "ipython",
        "version": 3
      },
      "file_extension": ".py",
      "mimetype": "text/x-python",
      "name": "python",
      "nbconvert_exporter": "python",
      "pygments_lexer": "ipython3",
      "version": "3.10.8"
    },
    "colab": {
      "provenance": []
    }
  },
  "nbformat": 4,
  "nbformat_minor": 0
}