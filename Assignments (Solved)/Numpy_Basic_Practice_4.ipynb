{
  "cells": [
    {
      "cell_type": "markdown",
      "id": "bac7cbe2",
      "metadata": {
        "id": "bac7cbe2"
      },
      "source": [
        "# Problem 1: Reshaping for Image Processing\n",
        "You are working on an image processing project, and you have a grayscale image represented as a 1D NumPy array **img_data** of size **(m * n)**, where m and n are the dimensions of the image. Write a function **reshape_image(img_data, new_shape)** that takes the original image data and a tuple representing the new shape **(p, q)** of the image. Ensure that the total number of pixels remains unchanged. If it's not possible to reshape without changing the total number of pixels, return **None**."
      ]
    },
    {
      "cell_type": "code",
      "execution_count": 21,
      "id": "89bf2b86",
      "metadata": {
        "id": "89bf2b86"
      },
      "outputs": [],
      "source": [
        "# Write your function in this cell\n",
        "\n",
        "import numpy as np\n",
        "\n",
        "def reshape_image(img_data, new_shape):\n",
        "    original_size = img_data.size\n",
        "\n",
        "    p, q = new_shape\n",
        "    new_size = p * q\n",
        "\n",
        "    if original_size != new_size:\n",
        "        return None\n",
        "\n",
        "    return img_data.reshape(new_shape)\n"
      ]
    },
    {
      "cell_type": "code",
      "execution_count": 22,
      "id": "9a7a3b17",
      "metadata": {
        "id": "9a7a3b17",
        "colab": {
          "base_uri": "https://localhost:8080/"
        },
        "outputId": "24793f8c-54d4-4f87-82fa-7d40963bf639"
      },
      "outputs": [
        {
          "output_type": "stream",
          "name": "stdout",
          "text": [
            "[[0 1 2]\n",
            " [3 4 5]\n",
            " [6 7 8]]\n"
          ]
        }
      ],
      "source": [
        "import numpy as np\n",
        "\n",
        "img_data = np.arange(9)  # Assuming a 3x3 image\n",
        "new_shape = (3, 3)\n",
        "\n",
        "result = reshape_image(img_data, new_shape)\n",
        "print(result)"
      ]
    },
    {
      "cell_type": "markdown",
      "id": "f26eada3",
      "metadata": {
        "id": "f26eada3"
      },
      "source": [
        "# Problem 2: Matrix Transpose\n",
        "You are dealing with a dataset stored as a NumPy array **data_matrix** with dimensions **(m, n)**. Implement a function **transpose_matrix(data_matrix)** that returns the transpose of the given matrix."
      ]
    },
    {
      "cell_type": "code",
      "execution_count": 23,
      "id": "96da3b85",
      "metadata": {
        "id": "96da3b85"
      },
      "outputs": [],
      "source": [
        "# Write your function in this cell\n",
        "\n",
        "def transpose_matrix(data_matrix):\n",
        "    rows = data_matrix.shape[0]\n",
        "    cols = data_matrix.shape[1]\n",
        "    transposed_matrix = np.zeros((cols, rows))\n",
        "    for i in range(rows):\n",
        "        for j in range(cols):\n",
        "            transposed_matrix[j,i] = data_matrix[i,j]\n",
        "\n",
        "    return transposed_matrix"
      ]
    },
    {
      "cell_type": "code",
      "execution_count": 24,
      "id": "ae176a7e",
      "metadata": {
        "id": "ae176a7e",
        "colab": {
          "base_uri": "https://localhost:8080/"
        },
        "outputId": "dc80067c-0a4d-4cfe-eb34-cd664510b3aa"
      },
      "outputs": [
        {
          "output_type": "stream",
          "name": "stdout",
          "text": [
            "[[1. 4.]\n",
            " [2. 5.]\n",
            " [3. 6.]]\n"
          ]
        }
      ],
      "source": [
        "import numpy as np\n",
        "\n",
        "\n",
        "data_matrix = np.array([[1, 2, 3], [4, 5, 6]])\n",
        "transposed_matrix = transpose_matrix(data_matrix)\n",
        "print(transposed_matrix)"
      ]
    },
    {
      "cell_type": "markdown",
      "id": "60caff17",
      "metadata": {
        "id": "60caff17"
      },
      "source": [
        "# Problem 3: Flattening for Data Processing\n",
        "You have a 2D array representing data from different sensors. Write a function **flatten_sensor_data(sensor_data)** that takes a 2D NumPy array representing the sensor readings and returns a flattened 1D array."
      ]
    },
    {
      "cell_type": "code",
      "execution_count": 25,
      "id": "2070bb01",
      "metadata": {
        "id": "2070bb01"
      },
      "outputs": [],
      "source": [
        "# Write your function in this cell\n",
        "\n",
        "def flatten_sensor_data(sensor_data):\n",
        "    return sensor_data.flatten()\n"
      ]
    },
    {
      "cell_type": "code",
      "execution_count": 26,
      "id": "ddb929ee",
      "metadata": {
        "id": "ddb929ee",
        "colab": {
          "base_uri": "https://localhost:8080/"
        },
        "outputId": "269979f5-3ea1-41cf-f1f3-b15c49316f99"
      },
      "outputs": [
        {
          "output_type": "stream",
          "name": "stdout",
          "text": [
            "[10 20 30 40 50 60]\n"
          ]
        }
      ],
      "source": [
        "import numpy as np\n",
        "\n",
        "sensor_data = np.array([[10, 20, 30], [40, 50, 60]])\n",
        "flattened_data = flatten_sensor_data(sensor_data)\n",
        "print(flattened_data)"
      ]
    }
  ],
  "metadata": {
    "kernelspec": {
      "display_name": "Python 3 (ipykernel)",
      "language": "python",
      "name": "python3"
    },
    "language_info": {
      "codemirror_mode": {
        "name": "ipython",
        "version": 3
      },
      "file_extension": ".py",
      "mimetype": "text/x-python",
      "name": "python",
      "nbconvert_exporter": "python",
      "pygments_lexer": "ipython3",
      "version": "3.11.5"
    },
    "colab": {
      "provenance": []
    }
  },
  "nbformat": 4,
  "nbformat_minor": 5
}