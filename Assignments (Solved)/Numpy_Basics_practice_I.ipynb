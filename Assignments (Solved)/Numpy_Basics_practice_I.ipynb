{
  "cells": [
    {
      "cell_type": "markdown",
      "metadata": {
        "id": "YmwKgUrAkbfG"
      },
      "source": [
        "# Numpy Basics Exercises\n",
        "\n",
        "Please complete the following exercises **using numpy only**."
      ]
    },
    {
      "cell_type": "markdown",
      "metadata": {
        "id": "lBueBGYAiUBC"
      },
      "source": [
        "# Array Functions\n",
        "1.Arange([start,] stop[, step],dtype=None)\n",
        "Nearly identical to Python’s range(). Creates an array of values in the range [start,stop) with the specified step value. Allows non-integer values for start, stop, and step. Default dtype is derived from the start, stop, and step values. create an array with arange."
      ]
    },
    {
      "cell_type": "code",
      "execution_count": 7,
      "metadata": {
        "colab": {
          "base_uri": "https://localhost:8080/"
        },
        "id": "yAyG_i5WiUBD",
        "outputId": "fb694080-8efa-47f2-ccad-4abc9d15bdb2"
      },
      "outputs": [
        {
          "output_type": "stream",
          "name": "stdout",
          "text": [
            "[[-25 -23 -21 -19 -17]\n",
            " [-15 -13 -11  -9  -7]\n",
            " [ -5  -3  -1   1   3]\n",
            " [  5   7   9  11  13]\n",
            " [ 15  17  19  21  23]]\n"
          ]
        }
      ],
      "source": [
        "import numpy as np\n",
        "a = np.arange(-25, 25, 2).reshape(5,5)\n",
        "print(a)"
      ]
    },
    {
      "cell_type": "markdown",
      "metadata": {
        "id": "qoaHqNwkiUBE"
      },
      "source": [
        "2.Create arrays with ONES, ZEROS, shape is a number or sequence specifying the dimensions of the array. If dtype is not specified, it defaults to float64."
      ]
    },
    {
      "cell_type": "code",
      "execution_count": 11,
      "metadata": {
        "colab": {
          "base_uri": "https://localhost:8080/"
        },
        "id": "5msCAOS0iUBE",
        "outputId": "aa0cb01e-2e5c-4bd3-96ae-2eddab301218"
      },
      "outputs": [
        {
          "output_type": "stream",
          "name": "stdout",
          "text": [
            "[[1 1 1]\n",
            " [1 1 1]\n",
            " [1 1 1]]\n",
            "[[0. 0. 0.]\n",
            " [0. 0. 0.]\n",
            " [0. 0. 0.]]\n"
          ]
        }
      ],
      "source": [
        "shape = (3, 3)\n",
        "ones_array_int = np.ones(shape, dtype=int)\n",
        "print(ones_array_int)\n",
        "\n",
        "zeros_array_float32 = np.zeros(shape, dtype=np.float32)\n",
        "print(zeros_array_float32)"
      ]
    },
    {
      "cell_type": "markdown",
      "metadata": {
        "id": "MuFN75L1iUBF"
      },
      "source": [
        "3.Generate an n by n identity array. The default dtype is float64.\n",
        "\n",
        "1.   List item\n",
        "\n",
        "1.   List item\n",
        "2.   List item\n",
        "\n",
        "\n",
        "2.   List item\n",
        "\n"
      ]
    },
    {
      "cell_type": "code",
      "execution_count": 12,
      "metadata": {
        "id": "BE5GhmuNiUBF",
        "colab": {
          "base_uri": "https://localhost:8080/"
        },
        "outputId": "2ffc3bdf-7b2b-4c5b-a567-634c52c0e020"
      },
      "outputs": [
        {
          "output_type": "stream",
          "name": "stdout",
          "text": [
            "[[1. 0. 0. 0. 0.]\n",
            " [0. 1. 0. 0. 0.]\n",
            " [0. 0. 1. 0. 0.]\n",
            " [0. 0. 0. 1. 0.]\n",
            " [0. 0. 0. 0. 1.]]\n"
          ]
        }
      ],
      "source": [
        "array2 = np.identity(5)\n",
        "print(array2)"
      ]
    },
    {
      "cell_type": "markdown",
      "metadata": {
        "id": "VYcrwELviUBF"
      },
      "source": [
        "4.use empty, full, and fill, max, min, std, mean, var, argmax, linspace"
      ]
    },
    {
      "cell_type": "code",
      "execution_count": 15,
      "metadata": {
        "colab": {
          "base_uri": "https://localhost:8080/"
        },
        "id": "b3N0gmj-iUBF",
        "outputId": "3734a81b-0385-42cd-870e-52d1733f2237"
      },
      "outputs": [
        {
          "output_type": "stream",
          "name": "stdout",
          "text": [
            "Empty Array: \n",
            "[[144. 121. 100.  81.  64.]\n",
            " [ 49.  36.  25.  16.   9.]\n",
            " [  4.   1.   0.   1.   4.]\n",
            " [  9.  16.  25.  36.  49.]\n",
            " [ 64.  81. 100. 121. 144.]]\n",
            "Full Array :\n",
            "[[7 7 7 7 7]\n",
            " [7 7 7 7 7]\n",
            " [7 7 7 7 7]\n",
            " [7 7 7 7 7]\n",
            " [7 7 7 7 7]]\n",
            "Array after fill: \n",
            "[[10 10 10 10 10]\n",
            " [10 10 10 10 10]\n",
            " [10 10 10 10 10]\n",
            " [10 10 10 10 10]\n",
            " [10 10 10 10 10]]\n",
            "\n",
            "Statistics of array2:\n",
            "Max: 24\n",
            "Min: 0\n",
            "Standard Deviation: 7.211102550927978\n",
            "Mean: 12.0\n",
            "Variance: 52.0\n",
            "Index of Max Value: 24\n",
            "\n",
            "Linspace Array (5 values between 0 and 1):\n",
            "[0.   0.25 0.5  0.75 1.  ]\n"
          ]
        }
      ],
      "source": [
        "array2 = np.arange(0, 25).reshape(5, 5)\n",
        "\n",
        "empty_array = np.empty((5, 5))\n",
        "print(\"Empty Array: \")\n",
        "print(empty_array)\n",
        "\n",
        "full_array = np.full((5, 5), 7)\n",
        "print(\"Full Array :\")\n",
        "print(full_array)\n",
        "filled_array = array2.copy()\n",
        "filled_array.fill(10)\n",
        "print(\"Array after fill: \")\n",
        "print(filled_array)\n",
        "max_value = np.max(array2)\n",
        "min_value = np.min(array2)\n",
        "std_value = np.std(array2)\n",
        "mean_value = np.mean(array2)\n",
        "var_value = np.var(array2)\n",
        "argmax_value = np.argmax(array2)\n",
        "linspace_array = np.linspace(0, 1, 5)\n",
        "\n",
        "print(\"\\nStatistics of array2:\")\n",
        "print(f\"Max: {max_value}\")\n",
        "print(f\"Min: {min_value}\")\n",
        "print(f\"Standard Deviation: {std_value}\")\n",
        "print(f\"Mean: {mean_value}\")\n",
        "print(f\"Variance: {var_value}\")\n",
        "print(f\"Index of Max Value: {argmax_value}\")\n",
        "print(\"\\nLinspace Array (5 values between 0 and 1):\")\n",
        "print(linspace_array)\n"
      ]
    },
    {
      "cell_type": "markdown",
      "metadata": {
        "id": "DwCQqQsliUBG"
      },
      "source": [
        "5.\n",
        "\n",
        "  Rule 1:\n",
        "  Operations between multiple array objects are first checked for proper shape match.\n",
        "\n",
        "  Rule 2:\n",
        "  Mathematical operators (+ - * / exp, log, ...) apply element by element, on the values.\n",
        "\n",
        "  Rule 3:\n",
        "  Reduction operations (mean, std, skew, kurt, sum, prod, ...) apply to the whole array, unless an axis is specified.\n",
        "\n",
        "  Rule 4:\n",
        "  Missing values propagate unless explicitly ignored (nanmean, nansum, ...)."
      ]
    },
    {
      "cell_type": "code",
      "execution_count": 16,
      "metadata": {
        "colab": {
          "base_uri": "https://localhost:8080/"
        },
        "id": "L1q37CgjiUBG",
        "outputId": "d82483fe-dbc7-40b9-c63d-abadbf954eb9"
      },
      "outputs": [
        {
          "output_type": "stream",
          "name": "stdout",
          "text": [
            "Mean: 12.0\n",
            "Standard Deviation: 7.211102550927978\n",
            "Skewness: 0.0\n",
            "Kurtosis: -1.2038461538461538\n",
            "Sum: 300\n",
            "Product: 0\n"
          ]
        }
      ],
      "source": [
        "import numpy as np\n",
        "from scipy.stats import skew, kurtosis\n",
        "\n",
        "# Create the array\n",
        "array3 = np.arange(0, 25).reshape(5, 5)\n",
        "\n",
        "# Mean\n",
        "mean = np.mean(array3)\n",
        "print(\"Mean:\", mean)\n",
        "\n",
        "# Standard Deviation\n",
        "std = np.std(array3)\n",
        "print(\"Standard Deviation:\", std)\n",
        "\n",
        "# Skewness\n",
        "skew = skew(array3, axis=None)\n",
        "print(\"Skewness:\", skew)\n",
        "\n",
        "# Kurtosis\n",
        "kurt = kurtosis(array3, axis=None)\n",
        "print(\"Kurtosis:\", kurt)\n",
        "\n",
        "# Sum\n",
        "sum = np.sum(array3)\n",
        "print(\"Sum:\", sum)\n",
        "\n",
        "# Product\n",
        "prod = np.prod(array3)\n",
        "print(\"Product:\", prod)\n"
      ]
    },
    {
      "cell_type": "markdown",
      "metadata": {
        "id": "_W_i5ciMiUBG"
      },
      "source": [
        "6.Create the array below with\n",
        "                  a = np.arange(-15, 15).reshape(5, 6) ** 2\n",
        "1. The maximum of each row\n",
        "2. The mean of each column\n",
        "3. The position of the overall minimum"
      ]
    },
    {
      "cell_type": "code",
      "execution_count": null,
      "metadata": {
        "colab": {
          "base_uri": "https://localhost:8080/"
        },
        "id": "RtuL0kyaiUBG",
        "outputId": "61677e40-0621-4e51-84bc-59450b9c61c7"
      },
      "outputs": [
        {
          "output_type": "stream",
          "name": "stdout",
          "text": [
            "1. The maximum of each row is: \n",
            "2. The mean of each column is: \n",
            "3. The position of the overall minimum: \n",
            "2 3\n"
          ]
        }
      ],
      "source": [
        "array4 = np.arange(-15,15).reshape(5,6)**2\n",
        "print(\"1. The maximum of each row is: \")\n",
        "array4.max(axis=-1)\n",
        "print(\"2. The mean of each column is: \")\n",
        "array4.mean(axis=0)\n",
        "print(\"3. The position of the overall minimum: \")\n",
        "mindex = np.argmin(array4)\n",
        "row, col = np.unravel_index(mindex, array4.shape)\n",
        "print(row,col)"
      ]
    },
    {
      "cell_type": "markdown",
      "metadata": {
        "id": "oWtZzrvXjxVl"
      },
      "source": [
        "# Array Broadcasting\n",
        "NumPy arrays of different dimensionality can be combined in the same expression. Arrays with smaller dimension are broadcasted to match the larger arrays, without copying data.\n",
        "\n",
        "Broadcasting has two rules.\n",
        "\n",
        "RULE 1: PREPEND ONES TO SMALLER ARRAY'S SHAPE\n",
        "\n",
        "RULE 2: DIMENSIONS OF SIZE 1 ARE REPEATED WITHOUT COPYING"
      ]
    },
    {
      "cell_type": "code",
      "execution_count": null,
      "metadata": {
        "id": "7vrTvmEWjwtY",
        "colab": {
          "base_uri": "https://localhost:8080/"
        },
        "outputId": "eefe42a5-6fc1-4114-b3e4-054cf582160d"
      },
      "outputs": [
        {
          "output_type": "stream",
          "name": "stdout",
          "text": [
            "Arrays are:  [[1.44582835 3.73609355 1.55413532 5.93837716]\n",
            " [2.1302312  7.94379101 4.86041662 7.30478755]\n",
            " [4.54925868 2.43246427 5.82285829 2.10753377]\n",
            " [7.24972222 8.2944655  6.43204648 0.76410026]\n",
            " [8.99681154 4.47306835 6.30169732 0.44991227]]   [9.47894813 0.05425113 0.1878259  6.47547166 6.64475455]\n",
            "Addition is:  [[10.92477648 13.21504168 11.03308345 15.41732529]\n",
            " [ 2.18448233  7.99804214  4.91466775  7.35903868]\n",
            " [ 4.73708458  2.62029017  6.0106842   2.29535968]\n",
            " [13.72519388 14.76993716 12.90751814  7.23957191]\n",
            " [15.64156609 11.11782289 12.94645187  7.09466682]]\n",
            "Subtraction is:  [[-8.03311978 -5.74285458 -7.92481281 -3.54057097]\n",
            " [ 2.07598007  7.88953988  4.80616549  7.25053642]\n",
            " [ 4.36143277  2.24463836  5.63503239  1.91970787]\n",
            " [ 0.77425057  1.81899384 -0.04342517 -5.7113714 ]\n",
            " [ 2.352057   -2.1716862  -0.34305722 -6.19484227]]\n"
          ]
        }
      ],
      "source": [
        "array5 = np.random.rand(5,4)*10\n",
        "array6 = np.random.rand(5)*10\n",
        "\n",
        "new_array6 = array6[:, np.newaxis]\n",
        "\n",
        "print(\"Arrays are: \", array5, \" \", array6)\n",
        "print(\"Addition is: \", array5 + new_array6)\n",
        "print(\"Subtraction is: \", array5 - new_array6)"
      ]
    },
    {
      "cell_type": "markdown",
      "metadata": {
        "id": "Qp9UkMByj5Il"
      },
      "source": [
        "1.Use reduce() operation on an array to reduec it into a single meaningful value. You. can also use a specific axis to apply reduce operation.\n",
        "\n",
        "2.accumulate() creates a new array containing the intermediate results of the reduce operation at each element in a.\n"
      ]
    },
    {
      "cell_type": "code",
      "execution_count": null,
      "metadata": {
        "id": "nmLsvmTZj626",
        "colab": {
          "base_uri": "https://localhost:8080/"
        },
        "outputId": "7a793b8f-ab8c-4a33-d8d2-0dec77f7f2df"
      },
      "outputs": [
        {
          "output_type": "stream",
          "name": "stdout",
          "text": [
            "10\n",
            "[ 1  3  6 10]\n"
          ]
        }
      ],
      "source": [
        "x = np.array([1,2,3,4])\n",
        "y = np.add.reduce(x)\n",
        "print(y)\n",
        "\n",
        "z = np.add.accumulate(x)\n",
        "print(z)\n"
      ]
    },
    {
      "cell_type": "markdown",
      "metadata": {
        "id": "bqVyb4DKZmkR"
      },
      "source": [
        "### We will work with the following array:"
      ]
    },
    {
      "cell_type": "code",
      "execution_count": null,
      "metadata": {
        "colab": {
          "base_uri": "https://localhost:8080/"
        },
        "id": "Iz86eeTWZmsK",
        "outputId": "a1fb9dc2-c3a5-4a27-bd82-eb0aa076a831"
      },
      "outputs": [
        {
          "output_type": "stream",
          "name": "stdout",
          "text": [
            "[[ 0  1  2  3  4]\n",
            " [ 5  6  7  8  9]\n",
            " [10 11 12 13 14]\n",
            " [15 16 17 18 19]\n",
            " [20 21 22 23 24]]\n"
          ]
        }
      ],
      "source": [
        "a = np.arange(25).reshape(5, 5)\n",
        "print(a)"
      ]
    },
    {
      "cell_type": "markdown",
      "metadata": {
        "id": "OdjK0hqobWGp"
      },
      "source": [
        "# Use slicing only to select 3rd and last row along with 2nd and last columns"
      ]
    },
    {
      "cell_type": "code",
      "execution_count": null,
      "metadata": {
        "id": "-iw2ciaibUHU",
        "colab": {
          "base_uri": "https://localhost:8080/"
        },
        "outputId": "e524c5bb-e4ef-4423-f6ee-d083033c901b"
      },
      "outputs": [
        {
          "output_type": "stream",
          "name": "stdout",
          "text": [
            "[11 24]\n"
          ]
        }
      ],
      "source": [
        "print(a[[2, -1], [1, -1]])\n"
      ]
    },
    {
      "cell_type": "markdown",
      "metadata": {
        "id": "5PtInLvEb7Am"
      },
      "source": [
        "# Extract the following sub-array: [[2, 3], [12, 13], [22, 23]]"
      ]
    },
    {
      "cell_type": "code",
      "execution_count": null,
      "metadata": {
        "id": "lVi9eV2rb6hz",
        "colab": {
          "base_uri": "https://localhost:8080/"
        },
        "outputId": "715f54c8-c3c2-4298-e756-351c4211027f"
      },
      "outputs": [
        {
          "output_type": "stream",
          "name": "stdout",
          "text": [
            "[[ 2  3]\n",
            " [12 13]\n",
            " [22 23]]\n"
          ]
        }
      ],
      "source": [
        "print(a[[0, 2, -1], 2:4])"
      ]
    },
    {
      "cell_type": "markdown",
      "metadata": {
        "id": "mHN-ADlNcRE7"
      },
      "source": [
        "# Combine fancy/location indexing with slicing to extract the following sub-array: [[6, 8], [16, 18], [21, 23]]"
      ]
    },
    {
      "cell_type": "code",
      "execution_count": null,
      "metadata": {
        "id": "e_R0tbMHcNGy",
        "colab": {
          "base_uri": "https://localhost:8080/"
        },
        "outputId": "0fae2132-cf23-4fe5-82cd-d25442638601"
      },
      "outputs": [
        {
          "output_type": "execute_result",
          "data": {
            "text/plain": [
              "array([[ 6,  8],\n",
              "       [16, 18],\n",
              "       [21, 23]])"
            ]
          },
          "metadata": {},
          "execution_count": 50
        }
      ],
      "source": [
        "#print(a[[1, 3, 4], 1:3])\n",
        "a[[1,3,4], :][:, [1,3]]"
      ]
    },
    {
      "cell_type": "markdown",
      "metadata": {
        "id": "gRle44JLc8oL"
      },
      "source": [
        "# Change the values 1, 10, 19 and 22 in the array to -2"
      ]
    },
    {
      "cell_type": "code",
      "execution_count": null,
      "metadata": {
        "id": "MnIs-SBzdMPv",
        "colab": {
          "base_uri": "https://localhost:8080/"
        },
        "outputId": "bcae0694-487f-4e2e-fa50-2b699aac0737"
      },
      "outputs": [
        {
          "output_type": "stream",
          "name": "stdout",
          "text": [
            "[[ 0 -2  2  3  4]\n",
            " [ 5  6  7  8  9]\n",
            " [-2 11 12 13 14]\n",
            " [15 16 17 18 -2]\n",
            " [20 21 -2 23 24]]\n"
          ]
        }
      ],
      "source": [
        "a = np.arange(25).reshape(5, 5)\n",
        "a[a==1] = -2\n",
        "a[a==10] = -2\n",
        "a[a==19] = -2\n",
        "a[a==22] = -2\n",
        "print(a)"
      ]
    },
    {
      "cell_type": "markdown",
      "metadata": {
        "id": "tWSQO5e3dZxf"
      },
      "source": [
        "# Repeat above using boolean indexing"
      ]
    },
    {
      "cell_type": "code",
      "execution_count": 17,
      "metadata": {
        "id": "zytB7nrMdYfT"
      },
      "outputs": [],
      "source": [
        "mask = (a == 1)\n",
        "mask = (a == 10)\n",
        "mask = (a == 19)\n",
        "mask = (a == 22)\n",
        "a[mask] = -2\n"
      ]
    },
    {
      "cell_type": "markdown",
      "metadata": {
        "id": "2i_7lkqpdhtx"
      },
      "source": [
        "# Combine slicing in the column dimension and boolean indexing in row dimension to extract the following sub-array: [[0, 3], [10, 13], [15, 18]]"
      ]
    },
    {
      "cell_type": "code",
      "execution_count": null,
      "metadata": {
        "id": "O8683ef2dYng",
        "colab": {
          "base_uri": "https://localhost:8080/"
        },
        "outputId": "51699cde-2ba3-4ba1-b98b-09a4dfb50266"
      },
      "outputs": [
        {
          "output_type": "stream",
          "name": "stdout",
          "text": [
            "[[ 0  3]\n",
            " [10 13]\n",
            " [15 18]]\n"
          ]
        }
      ],
      "source": [
        "a = np.arange(25).reshape(5, 5)\n",
        "rmask = np.array([True, False, True, True, False])\n",
        "print( a[rmask, :][:, [0, 3]])\n"
      ]
    },
    {
      "cell_type": "markdown",
      "metadata": {
        "id": "BLH29N-KLDEJ"
      },
      "source": [
        "# Calculating the sum, min and max of all diagonal values"
      ]
    },
    {
      "cell_type": "code",
      "execution_count": null,
      "metadata": {
        "id": "ARzj6VP9LCPz",
        "colab": {
          "base_uri": "https://localhost:8080/"
        },
        "outputId": "369100c7-05e1-469f-8d9e-fe86988b6e36"
      },
      "outputs": [
        {
          "output_type": "stream",
          "name": "stdout",
          "text": [
            "Sum:  60\n",
            "Min:  0\n",
            "Max:  24\n"
          ]
        }
      ],
      "source": [
        "diagonal = np.diagonal(a)\n",
        "print(\"Sum: \", np.sum(diagonal))\n",
        "print(\"Min: \", np.min(diagonal))\n",
        "print(\"Max: \", np.max(diagonal))"
      ]
    },
    {
      "cell_type": "markdown",
      "metadata": {
        "id": "IIL3aHfpMQpr"
      },
      "source": [
        "# Calculate the sum of differences between the 2nd row and 2nd last column\n",
        "\n",
        "1.   List item\n",
        "2.   List item\n",
        "\n"
      ]
    },
    {
      "cell_type": "code",
      "execution_count": null,
      "metadata": {
        "id": "mNyxI8d0Mcvz",
        "colab": {
          "base_uri": "https://localhost:8080/"
        },
        "outputId": "1a9185f9-c315-43ca-827c-b47878c94831"
      },
      "outputs": [
        {
          "output_type": "stream",
          "name": "stdout",
          "text": [
            "-30\n"
          ]
        }
      ],
      "source": [
        "second_row = a[1, :]\n",
        "second_last_column = a[:, -2]\n",
        "differences = second_row - second_last_column\n",
        "sum_of_dif = np.sum(differences)\n",
        "print(sum_of_dif)"
      ]
    },
    {
      "cell_type": "markdown",
      "metadata": {
        "id": "jEo7E6YNNIU5"
      },
      "source": [
        "# Create a new array that is the sum of even rows and odd rows"
      ]
    },
    {
      "cell_type": "code",
      "execution_count": 22,
      "metadata": {
        "id": "UEwbxwAPNikT",
        "colab": {
          "base_uri": "https://localhost:8080/"
        },
        "outputId": "8fb56687-e33e-4690-a368-1a2122bb5044"
      },
      "outputs": [
        {
          "output_type": "stream",
          "name": "stdout",
          "text": [
            "Sum of even rows is :  180\n",
            "Sum of odd rows is :  120\n",
            "New array is:  [180 120]\n"
          ]
        }
      ],
      "source": [
        "array7 = np.arange(25).reshape(5, 5)\n",
        "sum_of_even = array7[::2].sum(axis=0)\n",
        "\n",
        "print(\"Sum of even rows is : \", np.sum(sum_of_even))\n",
        "\n",
        "sum_of_odd = array7[1::2].sum(axis=0)\n",
        "\n",
        "print(\"Sum of odd rows is : \", np.sum(sum_of_odd))\n",
        "\n",
        "new_array = np.array([np.sum(sum_of_even), np.sum(sum_of_odd)])\n",
        "print(\"New array is: \", new_array)\n"
      ]
    },
    {
      "cell_type": "markdown",
      "metadata": {
        "id": "TaKXFf_5d67q"
      },
      "source": [
        "## You are done. Good job!"
      ]
    }
  ],
  "metadata": {
    "colab": {
      "provenance": []
    },
    "kernelspec": {
      "display_name": "Python 3",
      "name": "python3"
    },
    "language_info": {
      "name": "python"
    }
  },
  "nbformat": 4,
  "nbformat_minor": 0
}