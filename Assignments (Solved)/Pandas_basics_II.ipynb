{
  "cells": [
    {
      "cell_type": "code",
      "execution_count": 2,
      "metadata": {
        "id": "c_eVXa9OPtvB",
        "colab": {
          "base_uri": "https://localhost:8080/"
        },
        "outputId": "e17633e0-8d3f-4b84-f285-9bbd0273c68f"
      },
      "outputs": [
        {
          "output_type": "stream",
          "name": "stdout",
          "text": [
            "Mounted at /content/drive\n"
          ]
        }
      ],
      "source": [
        "import pandas as pd # A general purpose Python library for data analysis\n",
        "import numpy as np # A library for scientific computing in Python (e.g., provides high-performance multi-dimensional array objects and operations)\n",
        "\n",
        "import matplotlib.pyplot as plt # a plotting library for Python and NumPy (readily customizable)\n",
        "import seaborn as sns # Another plotting library for Python (fewer syntax, excellent default themes, behind the scenes, it uses matplotlib)\n",
        "import time\n",
        "\n",
        "\n",
        "from google.colab import drive\n",
        "drive.mount('/content/drive')\n",
        "\n",
        "import pandas as pd\n",
        "df1 = pd.read_csv('/content/drive/My Drive/Data for Pandas/elections.csv')\n",
        "df2 = pd.read_csv('/content/drive/My Drive/Data for Pandas/duplicate_columns.csv')\n",
        "df3 = pd.read_csv('/content/drive/My Drive/Data for Pandas/mottos.csv')\n"
      ]
    },
    {
      "cell_type": "markdown",
      "metadata": {
        "id": "PSdsojacPtvD"
      },
      "source": [
        "## Knowledge Streams 2024\n",
        "\n",
        "In this notebook, we will learn about the key data structures provided by the Pandas library: **Data Frames, Series, and Indices**.\n",
        "\n",
        "In addition, we will learn about the following operations:\n",
        "* How to access data contained in these structures?\n",
        "* How to read files (e.g., csv, xlsx, sql) to create these structures?\n",
        "* How to carry out different data manipulation tasks using these structures?\n",
        "\n",
        "`Dataset`: US elections with information about candidates, their party, votes won, year of election and the result."
      ]
    },
    {
      "cell_type": "markdown",
      "metadata": {
        "id": "sufDZrcePtvF"
      },
      "source": [
        "## Reading in Data Frames from Files\n",
        "We'll be using **read_csv** today. Note that this file reading function does all the *data parsing* for you, which is very useful."
      ]
    },
    {
      "cell_type": "markdown",
      "metadata": {
        "id": "wAchNI6BPtvG"
      },
      "source": [
        "Before loading a file into a dataframe, let's first take a look at the **elections.csv** file"
      ]
    },
    {
      "cell_type": "code",
      "execution_count": null,
      "metadata": {
        "id": "vQruwj5rPtvG",
        "scrolled": true
      },
      "outputs": [],
      "source": [
        "#Load csv file and print shape\n",
        "# Code here\n",
        "shape = df1.shape\n",
        "print(shape)\n",
        "# how many observation and features are given\n",
        "observations = df1.shape[0]\n",
        "featurea = df1.shape[1]\n",
        "#Code here"
      ]
    },
    {
      "cell_type": "code",
      "execution_count": null,
      "metadata": {
        "id": "ft8isrsOPtvI"
      },
      "outputs": [],
      "source": [
        "# We can use the **head command** to show only a few rows of a dataframe from start.\n",
        "# Code here\n",
        "head = df1.head(10)\n",
        "print(head)\n",
        "#Use **tail command** to show last few observation.\n",
        "tail = df1.tail(10)\n",
        "print(tail)\n",
        "# code here"
      ]
    },
    {
      "cell_type": "code",
      "execution_count": null,
      "metadata": {
        "id": "r3-biPiJPtvI"
      },
      "outputs": [],
      "source": [
        "#The `read_csv` command lets us specify a **column to use an index**. For example, we could have used __Year__ as the index.\n",
        "#Code here\n",
        "new_index = pd.read_csv('/content/drive/My Drive/Data for Pandas/elections.csv', index_col=\"Year\")\n",
        "print(new_index)"
      ]
    },
    {
      "cell_type": "code",
      "execution_count": null,
      "metadata": {
        "id": "-u_BJi6ZPtvJ"
      },
      "outputs": [],
      "source": [
        "#Alternately, we could have used the **set_index** commmand on the dataframe to set a particular column as index.\n",
        "# code here\n",
        "df1.set_index(\"Year\")\n"
      ]
    },
    {
      "cell_type": "markdown",
      "metadata": {
        "id": "kOpP3gBYPtvJ"
      },
      "source": [
        "# Caution:\n",
        "The **set_index command** (along with all other data frame methods) **does not modify the dataframe**, i.e., the original \"elections\" is untouched. Note: There is a flag called \"inplace\" which does modify the calling dataframe (e.g., `elections.set_index(\"Party\",inplace=True)`)."
      ]
    },
    {
      "cell_type": "markdown",
      "metadata": {
        "id": "HYFFeZwRPtvJ"
      },
      "source": [
        "## Duplicate Columns?\n",
        "By contast, column names MUST be unique. For example, if we try to read in a file for which column names are not unique, Pandas will automatically any duplicates. Load duplicate_columns.csv"
      ]
    },
    {
      "cell_type": "code",
      "execution_count": null,
      "metadata": {
        "id": "4VSBA-Y4PtvJ"
      },
      "outputs": [],
      "source": [
        "df2 = pd.read_csv('/content/drive/My Drive/Data for Pandas/duplicate_columns.csv')"
      ]
    },
    {
      "cell_type": "markdown",
      "metadata": {
        "id": "fUjSXLNhPtvK"
      },
      "source": [
        "## The [ ] Operator & Indexing"
      ]
    },
    {
      "cell_type": "markdown",
      "metadata": {
        "id": "_y0PM7R9PtvK"
      },
      "source": [
        "The DataFrame class has an indexing operator **[ ]** (also known as the 'brack' operator) that lets you do a variety of different things. If your provide a String to the **[ ]** operator, you get back a ***Series*** corresponding to the requested label.\n",
        "\n",
        "1.Use **[ ]** to display different columns\n",
        "\n",
        "2.Use List retrive multiple columns"
      ]
    },
    {
      "cell_type": "code",
      "execution_count": null,
      "metadata": {
        "id": "MpSUIkiHPtvK"
      },
      "outputs": [],
      "source": [
        "# Display and Retrieve multiple columns from the election data frame, the resultant would be the list for every column.\n",
        "#Code here\n",
        "\n",
        "# Selecting multiple columns\n",
        "columns = ['Candidate', 'Party']\n",
        "\n",
        "# Retrieving columns as lists\n",
        "result = {col: df1[col].tolist() for col in columns}\n",
        "\n",
        "# Displaying the result\n",
        "for col, values in result.items():\n",
        "    print(f\"{col}: {values}\")"
      ]
    },
    {
      "cell_type": "markdown",
      "metadata": {
        "id": "DopcbfEpPtvK"
      },
      "source": [
        "The **[ ]** operator also accepts a list of strings. In this case, you get back a **DataFrame** corresponding to the requested strings."
      ]
    },
    {
      "cell_type": "code",
      "execution_count": null,
      "metadata": {
        "id": "lX4YozsZPtvK",
        "scrolled": true
      },
      "outputs": [],
      "source": [
        "#The **[ ]** operator also accepts a list of strings. In this case, you get back a **DataFrame** corresponding to the requested strings.\n",
        "# code here\n",
        "df1[['Candidate', 'Party']]\n",
        "\n",
        "# Display the resultant DataFrame"
      ]
    },
    {
      "cell_type": "markdown",
      "metadata": {
        "id": "7pv2JkjRPtvK"
      },
      "source": [
        "A list of one label also returns a DataFrame. This can be handy if you want your results as a DataFrame, not a series."
      ]
    },
    {
      "cell_type": "markdown",
      "metadata": {
        "id": "XqKnvINoPtvL"
      },
      "source": [
        "Note that we can also use the **to_frame** method to turn a Series into a DataFrame.\n",
        "\n",
        "Extract one col name \"Candidates\" from DataFrame it will be a series. Convert series into a DataFrame."
      ]
    },
    {
      "cell_type": "code",
      "execution_count": null,
      "metadata": {
        "id": "XUOtNoVnPtvL"
      },
      "outputs": [],
      "source": [
        "# Answer Here"
      ]
    },
    {
      "cell_type": "code",
      "execution_count": 3,
      "metadata": {
        "colab": {
          "base_uri": "https://localhost:8080/",
          "height": 424
        },
        "id": "HdHWFzzSPtvL",
        "outputId": "b2b246e6-4cc4-4ce1-cfea-88618d40cba7"
      },
      "outputs": [
        {
          "output_type": "execute_result",
          "data": {
            "text/plain": [
              "             Candidate\n",
              "0       Andrew Jackson\n",
              "1    John Quincy Adams\n",
              "2       Andrew Jackson\n",
              "3    John Quincy Adams\n",
              "4       Andrew Jackson\n",
              "..                 ...\n",
              "177         Jill Stein\n",
              "178       Joseph Biden\n",
              "179       Donald Trump\n",
              "180       Jo Jorgensen\n",
              "181     Howard Hawkins\n",
              "\n",
              "[182 rows x 1 columns]"
            ],
            "text/html": [
              "\n",
              "  <div id=\"df-8aed1bf4-d0cc-43ad-ab37-f83e76ca22c2\" class=\"colab-df-container\">\n",
              "    <div>\n",
              "<style scoped>\n",
              "    .dataframe tbody tr th:only-of-type {\n",
              "        vertical-align: middle;\n",
              "    }\n",
              "\n",
              "    .dataframe tbody tr th {\n",
              "        vertical-align: top;\n",
              "    }\n",
              "\n",
              "    .dataframe thead th {\n",
              "        text-align: right;\n",
              "    }\n",
              "</style>\n",
              "<table border=\"1\" class=\"dataframe\">\n",
              "  <thead>\n",
              "    <tr style=\"text-align: right;\">\n",
              "      <th></th>\n",
              "      <th>Candidate</th>\n",
              "    </tr>\n",
              "  </thead>\n",
              "  <tbody>\n",
              "    <tr>\n",
              "      <th>0</th>\n",
              "      <td>Andrew Jackson</td>\n",
              "    </tr>\n",
              "    <tr>\n",
              "      <th>1</th>\n",
              "      <td>John Quincy Adams</td>\n",
              "    </tr>\n",
              "    <tr>\n",
              "      <th>2</th>\n",
              "      <td>Andrew Jackson</td>\n",
              "    </tr>\n",
              "    <tr>\n",
              "      <th>3</th>\n",
              "      <td>John Quincy Adams</td>\n",
              "    </tr>\n",
              "    <tr>\n",
              "      <th>4</th>\n",
              "      <td>Andrew Jackson</td>\n",
              "    </tr>\n",
              "    <tr>\n",
              "      <th>...</th>\n",
              "      <td>...</td>\n",
              "    </tr>\n",
              "    <tr>\n",
              "      <th>177</th>\n",
              "      <td>Jill Stein</td>\n",
              "    </tr>\n",
              "    <tr>\n",
              "      <th>178</th>\n",
              "      <td>Joseph Biden</td>\n",
              "    </tr>\n",
              "    <tr>\n",
              "      <th>179</th>\n",
              "      <td>Donald Trump</td>\n",
              "    </tr>\n",
              "    <tr>\n",
              "      <th>180</th>\n",
              "      <td>Jo Jorgensen</td>\n",
              "    </tr>\n",
              "    <tr>\n",
              "      <th>181</th>\n",
              "      <td>Howard Hawkins</td>\n",
              "    </tr>\n",
              "  </tbody>\n",
              "</table>\n",
              "<p>182 rows × 1 columns</p>\n",
              "</div>\n",
              "    <div class=\"colab-df-buttons\">\n",
              "\n",
              "  <div class=\"colab-df-container\">\n",
              "    <button class=\"colab-df-convert\" onclick=\"convertToInteractive('df-8aed1bf4-d0cc-43ad-ab37-f83e76ca22c2')\"\n",
              "            title=\"Convert this dataframe to an interactive table.\"\n",
              "            style=\"display:none;\">\n",
              "\n",
              "  <svg xmlns=\"http://www.w3.org/2000/svg\" height=\"24px\" viewBox=\"0 -960 960 960\">\n",
              "    <path d=\"M120-120v-720h720v720H120Zm60-500h600v-160H180v160Zm220 220h160v-160H400v160Zm0 220h160v-160H400v160ZM180-400h160v-160H180v160Zm440 0h160v-160H620v160ZM180-180h160v-160H180v160Zm440 0h160v-160H620v160Z\"/>\n",
              "  </svg>\n",
              "    </button>\n",
              "\n",
              "  <style>\n",
              "    .colab-df-container {\n",
              "      display:flex;\n",
              "      gap: 12px;\n",
              "    }\n",
              "\n",
              "    .colab-df-convert {\n",
              "      background-color: #E8F0FE;\n",
              "      border: none;\n",
              "      border-radius: 50%;\n",
              "      cursor: pointer;\n",
              "      display: none;\n",
              "      fill: #1967D2;\n",
              "      height: 32px;\n",
              "      padding: 0 0 0 0;\n",
              "      width: 32px;\n",
              "    }\n",
              "\n",
              "    .colab-df-convert:hover {\n",
              "      background-color: #E2EBFA;\n",
              "      box-shadow: 0px 1px 2px rgba(60, 64, 67, 0.3), 0px 1px 3px 1px rgba(60, 64, 67, 0.15);\n",
              "      fill: #174EA6;\n",
              "    }\n",
              "\n",
              "    .colab-df-buttons div {\n",
              "      margin-bottom: 4px;\n",
              "    }\n",
              "\n",
              "    [theme=dark] .colab-df-convert {\n",
              "      background-color: #3B4455;\n",
              "      fill: #D2E3FC;\n",
              "    }\n",
              "\n",
              "    [theme=dark] .colab-df-convert:hover {\n",
              "      background-color: #434B5C;\n",
              "      box-shadow: 0px 1px 3px 1px rgba(0, 0, 0, 0.15);\n",
              "      filter: drop-shadow(0px 1px 2px rgba(0, 0, 0, 0.3));\n",
              "      fill: #FFFFFF;\n",
              "    }\n",
              "  </style>\n",
              "\n",
              "    <script>\n",
              "      const buttonEl =\n",
              "        document.querySelector('#df-8aed1bf4-d0cc-43ad-ab37-f83e76ca22c2 button.colab-df-convert');\n",
              "      buttonEl.style.display =\n",
              "        google.colab.kernel.accessAllowed ? 'block' : 'none';\n",
              "\n",
              "      async function convertToInteractive(key) {\n",
              "        const element = document.querySelector('#df-8aed1bf4-d0cc-43ad-ab37-f83e76ca22c2');\n",
              "        const dataTable =\n",
              "          await google.colab.kernel.invokeFunction('convertToInteractive',\n",
              "                                                    [key], {});\n",
              "        if (!dataTable) return;\n",
              "\n",
              "        const docLinkHtml = 'Like what you see? Visit the ' +\n",
              "          '<a target=\"_blank\" href=https://colab.research.google.com/notebooks/data_table.ipynb>data table notebook</a>'\n",
              "          + ' to learn more about interactive tables.';\n",
              "        element.innerHTML = '';\n",
              "        dataTable['output_type'] = 'display_data';\n",
              "        await google.colab.output.renderOutput(dataTable, element);\n",
              "        const docLink = document.createElement('div');\n",
              "        docLink.innerHTML = docLinkHtml;\n",
              "        element.appendChild(docLink);\n",
              "      }\n",
              "    </script>\n",
              "  </div>\n",
              "\n",
              "\n",
              "<div id=\"df-2a8f94a7-3033-4413-9506-388cb0c4f2ec\">\n",
              "  <button class=\"colab-df-quickchart\" onclick=\"quickchart('df-2a8f94a7-3033-4413-9506-388cb0c4f2ec')\"\n",
              "            title=\"Suggest charts\"\n",
              "            style=\"display:none;\">\n",
              "\n",
              "<svg xmlns=\"http://www.w3.org/2000/svg\" height=\"24px\"viewBox=\"0 0 24 24\"\n",
              "     width=\"24px\">\n",
              "    <g>\n",
              "        <path d=\"M19 3H5c-1.1 0-2 .9-2 2v14c0 1.1.9 2 2 2h14c1.1 0 2-.9 2-2V5c0-1.1-.9-2-2-2zM9 17H7v-7h2v7zm4 0h-2V7h2v10zm4 0h-2v-4h2v4z\"/>\n",
              "    </g>\n",
              "</svg>\n",
              "  </button>\n",
              "\n",
              "<style>\n",
              "  .colab-df-quickchart {\n",
              "      --bg-color: #E8F0FE;\n",
              "      --fill-color: #1967D2;\n",
              "      --hover-bg-color: #E2EBFA;\n",
              "      --hover-fill-color: #174EA6;\n",
              "      --disabled-fill-color: #AAA;\n",
              "      --disabled-bg-color: #DDD;\n",
              "  }\n",
              "\n",
              "  [theme=dark] .colab-df-quickchart {\n",
              "      --bg-color: #3B4455;\n",
              "      --fill-color: #D2E3FC;\n",
              "      --hover-bg-color: #434B5C;\n",
              "      --hover-fill-color: #FFFFFF;\n",
              "      --disabled-bg-color: #3B4455;\n",
              "      --disabled-fill-color: #666;\n",
              "  }\n",
              "\n",
              "  .colab-df-quickchart {\n",
              "    background-color: var(--bg-color);\n",
              "    border: none;\n",
              "    border-radius: 50%;\n",
              "    cursor: pointer;\n",
              "    display: none;\n",
              "    fill: var(--fill-color);\n",
              "    height: 32px;\n",
              "    padding: 0;\n",
              "    width: 32px;\n",
              "  }\n",
              "\n",
              "  .colab-df-quickchart:hover {\n",
              "    background-color: var(--hover-bg-color);\n",
              "    box-shadow: 0 1px 2px rgba(60, 64, 67, 0.3), 0 1px 3px 1px rgba(60, 64, 67, 0.15);\n",
              "    fill: var(--button-hover-fill-color);\n",
              "  }\n",
              "\n",
              "  .colab-df-quickchart-complete:disabled,\n",
              "  .colab-df-quickchart-complete:disabled:hover {\n",
              "    background-color: var(--disabled-bg-color);\n",
              "    fill: var(--disabled-fill-color);\n",
              "    box-shadow: none;\n",
              "  }\n",
              "\n",
              "  .colab-df-spinner {\n",
              "    border: 2px solid var(--fill-color);\n",
              "    border-color: transparent;\n",
              "    border-bottom-color: var(--fill-color);\n",
              "    animation:\n",
              "      spin 1s steps(1) infinite;\n",
              "  }\n",
              "\n",
              "  @keyframes spin {\n",
              "    0% {\n",
              "      border-color: transparent;\n",
              "      border-bottom-color: var(--fill-color);\n",
              "      border-left-color: var(--fill-color);\n",
              "    }\n",
              "    20% {\n",
              "      border-color: transparent;\n",
              "      border-left-color: var(--fill-color);\n",
              "      border-top-color: var(--fill-color);\n",
              "    }\n",
              "    30% {\n",
              "      border-color: transparent;\n",
              "      border-left-color: var(--fill-color);\n",
              "      border-top-color: var(--fill-color);\n",
              "      border-right-color: var(--fill-color);\n",
              "    }\n",
              "    40% {\n",
              "      border-color: transparent;\n",
              "      border-right-color: var(--fill-color);\n",
              "      border-top-color: var(--fill-color);\n",
              "    }\n",
              "    60% {\n",
              "      border-color: transparent;\n",
              "      border-right-color: var(--fill-color);\n",
              "    }\n",
              "    80% {\n",
              "      border-color: transparent;\n",
              "      border-right-color: var(--fill-color);\n",
              "      border-bottom-color: var(--fill-color);\n",
              "    }\n",
              "    90% {\n",
              "      border-color: transparent;\n",
              "      border-bottom-color: var(--fill-color);\n",
              "    }\n",
              "  }\n",
              "</style>\n",
              "\n",
              "  <script>\n",
              "    async function quickchart(key) {\n",
              "      const quickchartButtonEl =\n",
              "        document.querySelector('#' + key + ' button');\n",
              "      quickchartButtonEl.disabled = true;  // To prevent multiple clicks.\n",
              "      quickchartButtonEl.classList.add('colab-df-spinner');\n",
              "      try {\n",
              "        const charts = await google.colab.kernel.invokeFunction(\n",
              "            'suggestCharts', [key], {});\n",
              "      } catch (error) {\n",
              "        console.error('Error during call to suggestCharts:', error);\n",
              "      }\n",
              "      quickchartButtonEl.classList.remove('colab-df-spinner');\n",
              "      quickchartButtonEl.classList.add('colab-df-quickchart-complete');\n",
              "    }\n",
              "    (() => {\n",
              "      let quickchartButtonEl =\n",
              "        document.querySelector('#df-2a8f94a7-3033-4413-9506-388cb0c4f2ec button');\n",
              "      quickchartButtonEl.style.display =\n",
              "        google.colab.kernel.accessAllowed ? 'block' : 'none';\n",
              "    })();\n",
              "  </script>\n",
              "</div>\n",
              "\n",
              "    </div>\n",
              "  </div>\n"
            ],
            "application/vnd.google.colaboratory.intrinsic+json": {
              "type": "dataframe",
              "summary": "{\n  \"name\": \"candidate_series\",\n  \"rows\": 182,\n  \"fields\": [\n    {\n      \"column\": \"Candidate\",\n      \"properties\": {\n        \"dtype\": \"string\",\n        \"num_unique_values\": 132,\n        \"samples\": [\n          \"Warren Harding\",\n          \"George McGovern\",\n          \"Stephen A. Douglas\"\n        ],\n        \"semantic_type\": \"\",\n        \"description\": \"\"\n      }\n    }\n  ]\n}"
            }
          },
          "metadata": {},
          "execution_count": 3
        }
      ],
      "source": [
        "# Answer Here# Extract the 'Candidate' column as a Series\n",
        "candidate_series = df1['Candidate']\n",
        "\n",
        "# Convert the Series into a DataFrame\n",
        "candidate_series.to_frame()"
      ]
    },
    {
      "cell_type": "markdown",
      "metadata": {
        "id": "8l2IdtBwPtvL"
      },
      "source": [
        "### Row Indexing\n",
        "\n",
        "The `[]` operator also accepts numerical slices as arguments. In this case, we are indexing by row, not column!\n",
        "\n",
        "Extract few rows from DataFrame"
      ]
    },
    {
      "cell_type": "code",
      "source": [],
      "metadata": {
        "id": "s12Y1RWTVNft"
      },
      "execution_count": null,
      "outputs": []
    },
    {
      "cell_type": "code",
      "execution_count": 5,
      "metadata": {
        "id": "VrZMcM5rPtvL",
        "scrolled": true,
        "colab": {
          "base_uri": "https://localhost:8080/"
        },
        "outputId": "a36a0d3e-0f50-4c06-da11-3f8ecf47854e"
      },
      "outputs": [
        {
          "output_type": "stream",
          "name": "stdout",
          "text": [
            "     State                Motto   Translation Language Date Adopted\n",
            "1   Alaska  North to the future             —  English         1967\n",
            "2  Arizona           Ditat Deus  God enriches    Latin         1863\n"
          ]
        }
      ],
      "source": [
        "subset1 = df3[1:3]\n",
        "\n",
        "print(subset1)"
      ]
    },
    {
      "cell_type": "markdown",
      "metadata": {
        "id": "BbzS6oI4PtvN"
      },
      "source": [
        "If you provide a single argument to the `[]` operator, it tries to use it as a name. This is true even if the argument passed to **[ ]** is an integer."
      ]
    },
    {
      "cell_type": "code",
      "execution_count": null,
      "metadata": {
        "id": "tw51ccpUPtvN"
      },
      "outputs": [],
      "source": [
        "#elections[0] #this does not work, try uncommenting this to see it fail in action, woo"
      ]
    },
    {
      "cell_type": "markdown",
      "metadata": {
        "id": "EJsBn7uKPtvN"
      },
      "source": [
        "The following cells allow you to **test your understanding**. Let's go over the summary of what we have learnt (see slides).\n",
        "\n",
        "# Creating DataFrames\n",
        "Create DataFrame using List and Columns name."
      ]
    },
    {
      "cell_type": "code",
      "execution_count": null,
      "metadata": {
        "id": "yA1NsyftUQYi"
      },
      "outputs": [],
      "source": [
        "pd.DataFrame([[1, \"one\"], [2, \"two\"]],\n",
        "columns = [\"Number\", \"Description\"])"
      ]
    },
    {
      "cell_type": "markdown",
      "metadata": {
        "id": "De8I7tdRhSCc"
      },
      "source": [
        "Creating DataFrames using **Dictionary**."
      ]
    },
    {
      "cell_type": "code",
      "execution_count": null,
      "metadata": {
        "id": "YLidbVoJPtvN"
      },
      "outputs": [],
      "source": [
        "pd.DataFrame([{\"Fruit\":\"Strawberry\", \"Price\":5.49},\n",
        "{\"Fruit\":\"Orange\", \"Price\":3.99}])"
      ]
    },
    {
      "cell_type": "markdown",
      "metadata": {
        "id": "GsX8jyA3PtvO"
      },
      "source": [
        "## Filtering via Boolean Array Selection"
      ]
    },
    {
      "cell_type": "markdown",
      "metadata": {
        "id": "RXDjTannPtvO"
      },
      "source": [
        "The `[]` operator also supports array of booleans as an input. In this case, the array must be exactly as long as the number of rows. The result is a **filtered version of the data frame**, where **only rows corresponding to True appear**."
      ]
    },
    {
      "cell_type": "code",
      "execution_count": 40,
      "metadata": {
        "id": "pD79oglhPtvP"
      },
      "outputs": [],
      "source": [
        "elections=[[False, False, False, False, False,\n",
        "          False, False, True, False, False,\n",
        "          True, False, False, False, True,\n",
        "          False, False, False, False, False,\n",
        "          False, True, False]]"
      ]
    },
    {
      "cell_type": "markdown",
      "metadata": {
        "id": "0lo-osU2PtvP"
      },
      "source": [
        "One very common task in Data Science is **filtering**. Boolean Array Selection is one way to achieve this in Pandas. We start by observing that **logical operators** like the equality operator can be applied to **Pandas Series data** to generate a **Boolean Array**.\n",
        "\n",
        "Compare the 'Result' column to the String 'win' and Show results"
      ]
    },
    {
      "cell_type": "code",
      "execution_count": 3,
      "metadata": {
        "id": "Or9NKO2kPtvP",
        "colab": {
          "base_uri": "https://localhost:8080/"
        },
        "outputId": "72f71461-8358-4d8c-b696-c91c665069db"
      },
      "outputs": [
        {
          "output_type": "stream",
          "name": "stdout",
          "text": [
            "     Year               Candidate                  Party  Popular vote Result  \\\n",
            "1    1824       John Quincy Adams  Democratic-Republican        113142    win   \n",
            "2    1828          Andrew Jackson             Democratic        642806    win   \n",
            "4    1832          Andrew Jackson             Democratic        702735    win   \n",
            "8    1836        Martin Van Buren             Democratic        763291    win   \n",
            "11   1840  William Henry Harrison                   Whig       1275583    win   \n",
            "13   1844              James Polk             Democratic       1339570    win   \n",
            "16   1848          Zachary Taylor                   Whig       1360235    win   \n",
            "17   1852         Franklin Pierce             Democratic       1605943    win   \n",
            "20   1856          James Buchanan             Democratic       1835140    win   \n",
            "23   1860         Abraham Lincoln             Republican       1855993    win   \n",
            "27   1864         Abraham Lincoln         National Union       2211317    win   \n",
            "30   1868           Ulysses Grant             Republican       3013790    win   \n",
            "32   1872           Ulysses Grant             Republican       3597439    win   \n",
            "33   1876        Rutherford Hayes             Republican       4034142    win   \n",
            "36   1880          James Garfield             Republican       4453337    win   \n",
            "39   1884        Grover Cleveland             Democratic       4914482    win   \n",
            "43   1888       Benjamin Harrison             Republican       5443633    win   \n",
            "47   1892        Grover Cleveland             Democratic       5553898    win   \n",
            "53   1896        William McKinley             Republican       7112138    win   \n",
            "56   1900        William McKinley             Republican       7228864    win   \n",
            "60   1904      Theodore Roosevelt             Republican       7630557    win   \n",
            "65   1908            William Taft             Republican       7678335    win   \n",
            "70   1912          Woodrow Wilson             Democratic       6296284    win   \n",
            "74   1916          Woodrow Wilson             Democratic       9126868    win   \n",
            "79   1920          Warren Harding             Republican      16144093    win   \n",
            "80   1924         Calvin Coolidge             Republican      15723789    win   \n",
            "84   1928          Herbert Hoover             Republican      21427123    win   \n",
            "86   1932      Franklin Roosevelt             Democratic      22821277    win   \n",
            "91   1936      Franklin Roosevelt             Democratic      27752648    win   \n",
            "94   1940      Franklin Roosevelt             Democratic      27313945    win   \n",
            "97   1944      Franklin Roosevelt             Democratic      25612916    win   \n",
            "100  1948            Harry Truman             Democratic      24179347    win   \n",
            "106  1952       Dwight Eisenhower             Republican      34075529    win   \n",
            "109  1956       Dwight Eisenhower             Republican      35579180    win   \n",
            "111  1960            John Kennedy             Democratic      34220984    win   \n",
            "114  1964          Lyndon Johnson             Democratic      43127041    win   \n",
            "117  1968           Richard Nixon             Republican      31783783    win   \n",
            "120  1972           Richard Nixon             Republican      47168710    win   \n",
            "123  1976            Jimmy Carter             Democratic      40831881    win   \n",
            "131  1980           Ronald Reagan             Republican      43903230    win   \n",
            "133  1984           Ronald Reagan             Republican      54455472    win   \n",
            "135  1988       George H. W. Bush             Republican      48886597    win   \n",
            "140  1992            Bill Clinton             Democratic      44909806    win   \n",
            "144  1996            Bill Clinton             Democratic      47400125    win   \n",
            "152  2000          George W. Bush             Republican      50456002    win   \n",
            "157  2004          George W. Bush             Republican      62040610    win   \n",
            "162  2008            Barack Obama             Democratic      69498516    win   \n",
            "168  2012            Barack Obama             Democratic      65915795    win   \n",
            "173  2016            Donald Trump             Republican      62984828    win   \n",
            "178  2020            Joseph Biden             Democratic      81268924    win   \n",
            "\n",
            "             %  \n",
            "1    42.789878  \n",
            "2    56.203927  \n",
            "4    54.574789  \n",
            "8    52.272472  \n",
            "11   53.051213  \n",
            "13   50.749477  \n",
            "16   47.309296  \n",
            "17   51.013168  \n",
            "20   45.306080  \n",
            "23   39.699408  \n",
            "27   54.951512  \n",
            "30   52.665305  \n",
            "32   55.928594  \n",
            "33   48.471624  \n",
            "36   48.369234  \n",
            "39   48.884933  \n",
            "43   47.858041  \n",
            "47   46.121393  \n",
            "53   51.213817  \n",
            "56   52.342640  \n",
            "60   56.562787  \n",
            "65   52.013300  \n",
            "70   41.933422  \n",
            "74   49.367987  \n",
            "79   60.574501  \n",
            "80   54.329113  \n",
            "84   58.368524  \n",
            "86   57.672125  \n",
            "91   60.978107  \n",
            "94   54.871202  \n",
            "97   53.773801  \n",
            "100  49.601536  \n",
            "106  55.325173  \n",
            "109  57.650654  \n",
            "111  50.082561  \n",
            "114  61.344703  \n",
            "117  43.565246  \n",
            "120  60.907806  \n",
            "123  50.271900  \n",
            "131  50.897944  \n",
            "133  59.023326  \n",
            "135  53.518845  \n",
            "140  43.118485  \n",
            "144  49.296938  \n",
            "152  47.974666  \n",
            "157  50.771824  \n",
            "162  53.023510  \n",
            "168  51.258484  \n",
            "173  46.407862  \n",
            "178  51.311515  \n"
          ]
        }
      ],
      "source": [
        "#Answer Here\n",
        "\n",
        "bool_filter = df1['Result'] == 'win'\n",
        "\n",
        "winning_candidates = df1[bool_filter]\n",
        "\n",
        "print(winning_candidates)"
      ]
    },
    {
      "cell_type": "markdown",
      "metadata": {
        "id": "bFEH7w974G63"
      },
      "source": [
        "Compare the 'Party' column to the String 'Democratic' and Show results"
      ]
    },
    {
      "cell_type": "code",
      "execution_count": 4,
      "metadata": {
        "id": "BeyIZ48fPtvP",
        "colab": {
          "base_uri": "https://localhost:8080/"
        },
        "outputId": "35b3d557-18dc-49e2-d541-c674c6187f84"
      },
      "outputs": [
        {
          "output_type": "stream",
          "name": "stdout",
          "text": [
            "     Year               Candidate       Party  Popular vote Result          %\n",
            "2    1828          Andrew Jackson  Democratic        642806    win  56.203927\n",
            "4    1832          Andrew Jackson  Democratic        702735    win  54.574789\n",
            "8    1836        Martin Van Buren  Democratic        763291    win  52.272472\n",
            "10   1840        Martin Van Buren  Democratic       1128854   loss  46.948787\n",
            "13   1844              James Polk  Democratic       1339570    win  50.749477\n",
            "14   1848              Lewis Cass  Democratic       1223460   loss  42.552229\n",
            "17   1852         Franklin Pierce  Democratic       1605943    win  51.013168\n",
            "20   1856          James Buchanan  Democratic       1835140    win  45.306080\n",
            "28   1864     George B. McClellan  Democratic       1812807   loss  45.048488\n",
            "29   1868         Horatio Seymour  Democratic       2708744   loss  47.334695\n",
            "34   1876        Samuel J. Tilden  Democratic       4288546   loss  51.528376\n",
            "37   1880  Winfield Scott Hancock  Democratic       4444976   loss  48.278422\n",
            "39   1884        Grover Cleveland  Democratic       4914482    win  48.884933\n",
            "45   1888        Grover Cleveland  Democratic       5534488   loss  48.656799\n",
            "47   1892        Grover Cleveland  Democratic       5553898    win  46.121393\n",
            "52   1896  William Jennings Bryan  Democratic       6509052   loss  46.871053\n",
            "55   1900  William Jennings Bryan  Democratic       6370932   loss  46.130540\n",
            "57   1904         Alton B. Parker  Democratic       5083880   loss  37.685116\n",
            "64   1908  William Jennings Bryan  Democratic       6408979   loss  43.414640\n",
            "70   1912          Woodrow Wilson  Democratic       6296284    win  41.933422\n",
            "74   1916          Woodrow Wilson  Democratic       9126868    win  49.367987\n",
            "77   1920            James M. Cox  Democratic       9139661   loss  34.293063\n",
            "81   1924           John W. Davis  Democratic       8386242   loss  28.976291\n",
            "83   1928                Al Smith  Democratic      15015464   loss  40.902853\n",
            "86   1932      Franklin Roosevelt  Democratic      22821277    win  57.672125\n",
            "91   1936      Franklin Roosevelt  Democratic      27752648    win  60.978107\n",
            "94   1940      Franklin Roosevelt  Democratic      27313945    win  54.871202\n",
            "97   1944      Franklin Roosevelt  Democratic      25612916    win  53.773801\n",
            "100  1948            Harry Truman  Democratic      24179347    win  49.601536\n",
            "105  1952         Adlai Stevenson  Democratic      27375090   loss  44.446312\n",
            "108  1956         Adlai Stevenson  Democratic      26028028   loss  42.174464\n",
            "111  1960            John Kennedy  Democratic      34220984    win  50.082561\n",
            "114  1964          Lyndon Johnson  Democratic      43127041    win  61.344703\n",
            "116  1968         Hubert Humphrey  Democratic      31271839   loss  42.863537\n",
            "118  1972         George McGovern  Democratic      29173222   loss  37.670670\n",
            "123  1976            Jimmy Carter  Democratic      40831881    win  50.271900\n",
            "129  1980            Jimmy Carter  Democratic      35480115   loss  41.132848\n",
            "134  1984          Walter Mondale  Democratic      37577352   loss  40.729429\n",
            "137  1988         Michael Dukakis  Democratic      41809074   loss  45.770691\n",
            "140  1992            Bill Clinton  Democratic      44909806    win  43.118485\n",
            "144  1996            Bill Clinton  Democratic      47400125    win  49.296938\n",
            "151  2000                 Al Gore  Democratic      50999897   loss  48.491813\n",
            "158  2004              John Kerry  Democratic      59028444   loss  48.306775\n",
            "162  2008            Barack Obama  Democratic      69498516    win  53.023510\n",
            "168  2012            Barack Obama  Democratic      65915795    win  51.258484\n",
            "176  2016         Hillary Clinton  Democratic      65853514   loss  48.521539\n",
            "178  2020            Joseph Biden  Democratic      81268924    win  51.311515\n"
          ]
        }
      ],
      "source": [
        "#Answer Here\n",
        "\n",
        "bool_filter = df1['Party'] == 'Democratic'\n",
        "\n",
        "democratic_candidates = df1[bool_filter]\n",
        "\n",
        "print(democratic_candidates)"
      ]
    },
    {
      "cell_type": "markdown",
      "metadata": {
        "id": "TiRu5S1FPtvP"
      },
      "source": [
        "The output of the logical operator applied to the Series is **another Series with the same name and index, but of datatype boolean**."
      ]
    },
    {
      "cell_type": "markdown",
      "metadata": {
        "id": "Avt0U9UBPtvQ"
      },
      "source": [
        "These boolean Series can be used as an argument to the `[]` operator.\n",
        "\n",
        "Creates  DataFrame of all election winners since 1980."
      ]
    },
    {
      "cell_type": "code",
      "execution_count": 7,
      "metadata": {
        "id": "UTzXe5syPtvQ",
        "colab": {
          "base_uri": "https://localhost:8080/"
        },
        "outputId": "eefb6c78-ca56-4df9-bdd1-b29ee9087fb2"
      },
      "outputs": [
        {
          "output_type": "stream",
          "name": "stdout",
          "text": [
            "     Year          Candidate       Party  Popular vote Result          %\n",
            "131  1980      Ronald Reagan  Republican      43903230    win  50.897944\n",
            "133  1984      Ronald Reagan  Republican      54455472    win  59.023326\n",
            "135  1988  George H. W. Bush  Republican      48886597    win  53.518845\n",
            "140  1992       Bill Clinton  Democratic      44909806    win  43.118485\n",
            "144  1996       Bill Clinton  Democratic      47400125    win  49.296938\n",
            "152  2000     George W. Bush  Republican      50456002    win  47.974666\n",
            "157  2004     George W. Bush  Republican      62040610    win  50.771824\n",
            "162  2008       Barack Obama  Democratic      69498516    win  53.023510\n",
            "168  2012       Barack Obama  Democratic      65915795    win  51.258484\n",
            "173  2016       Donald Trump  Republican      62984828    win  46.407862\n",
            "178  2020       Joseph Biden  Democratic      81268924    win  51.311515\n"
          ]
        }
      ],
      "source": [
        "#Answer Here\n",
        "bool_filter = (df1['Year'] >= 1980) & (df1['Result'] == 'win')\n",
        "\n",
        "winners_since_1980 = df1[bool_filter]\n",
        "\n",
        "print(winners_since_1980)"
      ]
    },
    {
      "cell_type": "markdown",
      "metadata": {
        "id": "EEv5yYEhPtvQ"
      },
      "source": [
        "Above, we've assigned the result of the logical operator to a new variable called `iswin`. This is uncommon. Usually, the series is created and used on the same line. Such code is a little tricky to read at first, but you'll get used to it quickly.\n",
        "\n",
        "Show all 'win' results between 1980 to 2000"
      ]
    },
    {
      "cell_type": "code",
      "execution_count": 11,
      "metadata": {
        "id": "BBFYJwLwPtvQ",
        "colab": {
          "base_uri": "https://localhost:8080/"
        },
        "outputId": "bba9f689-0db3-4110-ca0c-83c949e5a5dc"
      },
      "outputs": [
        {
          "output_type": "stream",
          "name": "stdout",
          "text": [
            "     Year          Candidate       Party  Popular vote Result          %\n",
            "131  1980      Ronald Reagan  Republican      43903230    win  50.897944\n",
            "133  1984      Ronald Reagan  Republican      54455472    win  59.023326\n",
            "135  1988  George H. W. Bush  Republican      48886597    win  53.518845\n",
            "140  1992       Bill Clinton  Democratic      44909806    win  43.118485\n",
            "144  1996       Bill Clinton  Democratic      47400125    win  49.296938\n",
            "152  2000     George W. Bush  Republican      50456002    win  47.974666\n"
          ]
        }
      ],
      "source": [
        "#Answer Here\n",
        "winners_1980_2000 = df1[(df1['Year'] >= 1980) & (df1['Year'] <= 2000) & (df1['Result'] == 'win')]\n",
        "\n",
        "print(winners_1980_2000)"
      ]
    },
    {
      "cell_type": "markdown",
      "metadata": {
        "id": "_NW4uODP5C7M"
      },
      "source": [
        "Show all 'Loss' results of Independent party"
      ]
    },
    {
      "cell_type": "code",
      "execution_count": 10,
      "metadata": {
        "id": "SucI5W7yPtvQ",
        "colab": {
          "base_uri": "https://localhost:8080/"
        },
        "outputId": "e895bb5d-a2b6-4d24-a8dd-6ba6a7898761"
      },
      "outputs": [
        {
          "output_type": "stream",
          "name": "stdout",
          "text": [
            "     Year         Candidate        Party  Popular vote Result          %\n",
            "121  1976   Eugene McCarthy  Independent        740460   loss   0.911649\n",
            "130  1980  John B. Anderson  Independent       5719850   loss   6.631143\n",
            "143  1992        Ross Perot  Independent      19743821   loss  18.956298\n",
            "161  2004       Ralph Nader  Independent        465151   loss   0.380663\n",
            "167  2008       Ralph Nader  Independent        739034   loss   0.563842\n",
            "174  2016     Evan McMullin  Independent        732273   loss   0.539546\n"
          ]
        }
      ],
      "source": [
        "# Answer Here\n",
        "loss_independent = df1[(df1['Result'] == 'loss') & (df1['Party'] == 'Independent')]\n",
        "\n",
        "print(loss_independent)"
      ]
    },
    {
      "cell_type": "markdown",
      "metadata": {
        "id": "wr9tNNT_PtvQ"
      },
      "source": [
        "We can select multiple criteria by creating multiple boolean Series and combining them using the `&` operator.\n",
        "\n",
        "Show results of win with percentage less than 50%"
      ]
    },
    {
      "cell_type": "code",
      "execution_count": 13,
      "metadata": {
        "id": "7VygVujvPtvQ",
        "scrolled": true,
        "colab": {
          "base_uri": "https://localhost:8080/"
        },
        "outputId": "e78bd25e-9302-4341-fa44-c0b3f322d213"
      },
      "outputs": [
        {
          "output_type": "stream",
          "name": "stdout",
          "text": [
            "     Year          Candidate                  Party  Popular vote Result  \\\n",
            "1    1824  John Quincy Adams  Democratic-Republican        113142    win   \n",
            "16   1848     Zachary Taylor                   Whig       1360235    win   \n",
            "20   1856     James Buchanan             Democratic       1835140    win   \n",
            "23   1860    Abraham Lincoln             Republican       1855993    win   \n",
            "33   1876   Rutherford Hayes             Republican       4034142    win   \n",
            "36   1880     James Garfield             Republican       4453337    win   \n",
            "39   1884   Grover Cleveland             Democratic       4914482    win   \n",
            "43   1888  Benjamin Harrison             Republican       5443633    win   \n",
            "47   1892   Grover Cleveland             Democratic       5553898    win   \n",
            "70   1912     Woodrow Wilson             Democratic       6296284    win   \n",
            "74   1916     Woodrow Wilson             Democratic       9126868    win   \n",
            "100  1948       Harry Truman             Democratic      24179347    win   \n",
            "117  1968      Richard Nixon             Republican      31783783    win   \n",
            "140  1992       Bill Clinton             Democratic      44909806    win   \n",
            "144  1996       Bill Clinton             Democratic      47400125    win   \n",
            "152  2000     George W. Bush             Republican      50456002    win   \n",
            "173  2016       Donald Trump             Republican      62984828    win   \n",
            "\n",
            "             %  \n",
            "1    42.789878  \n",
            "16   47.309296  \n",
            "20   45.306080  \n",
            "23   39.699408  \n",
            "33   48.471624  \n",
            "36   48.369234  \n",
            "39   48.884933  \n",
            "43   47.858041  \n",
            "47   46.121393  \n",
            "70   41.933422  \n",
            "74   49.367987  \n",
            "100  49.601536  \n",
            "117  43.565246  \n",
            "140  43.118485  \n",
            "144  49.296938  \n",
            "152  47.974666  \n",
            "173  46.407862  \n"
          ]
        }
      ],
      "source": [
        "# Answer Here\n",
        "low_percentage = df1[(df1['Result'] == 'win') & (df1['%'] < 50)]\n",
        "\n",
        "print(low_percentage)"
      ]
    },
    {
      "cell_type": "markdown",
      "metadata": {
        "id": "ToedM6lA6Bp7"
      },
      "source": [
        "Show all 'win' results between 1980 to 2000"
      ]
    },
    {
      "cell_type": "code",
      "execution_count": 14,
      "metadata": {
        "id": "RfqDKcii6Dcs",
        "colab": {
          "base_uri": "https://localhost:8080/"
        },
        "outputId": "9b39679f-ad94-40bf-9e89-dc4f9f6fe607"
      },
      "outputs": [
        {
          "output_type": "stream",
          "name": "stdout",
          "text": [
            "     Year          Candidate       Party  Popular vote Result          %\n",
            "131  1980      Ronald Reagan  Republican      43903230    win  50.897944\n",
            "133  1984      Ronald Reagan  Republican      54455472    win  59.023326\n",
            "135  1988  George H. W. Bush  Republican      48886597    win  53.518845\n",
            "140  1992       Bill Clinton  Democratic      44909806    win  43.118485\n",
            "144  1996       Bill Clinton  Democratic      47400125    win  49.296938\n",
            "152  2000     George W. Bush  Republican      50456002    win  47.974666\n"
          ]
        }
      ],
      "source": [
        "# Answer Here\n",
        "winners_1980_2000 = df1[(df1['Year'] >= 1980) & (df1['Year'] <= 2000) & (df1['Result'] == 'win')]\n",
        "\n",
        "print(winners_1980_2000)"
      ]
    },
    {
      "cell_type": "markdown",
      "metadata": {
        "id": "pkonOW2pPtvR"
      },
      "source": [
        "## Loc and iLoc"
      ]
    },
    {
      "cell_type": "markdown",
      "metadata": {
        "id": "hSiAy9KD5eJk"
      },
      "source": [
        "Show 5 enteries from start"
      ]
    },
    {
      "cell_type": "code",
      "execution_count": 15,
      "metadata": {
        "id": "OIwnpgEM6HeI",
        "colab": {
          "base_uri": "https://localhost:8080/"
        },
        "outputId": "41541077-b2d9-4d89-da3a-4737b430f186"
      },
      "outputs": [
        {
          "output_type": "stream",
          "name": "stdout",
          "text": [
            "   Year          Candidate                  Party  Popular vote Result  \\\n",
            "0  1824     Andrew Jackson  Democratic-Republican        151271   loss   \n",
            "1  1824  John Quincy Adams  Democratic-Republican        113142    win   \n",
            "2  1828     Andrew Jackson             Democratic        642806    win   \n",
            "3  1828  John Quincy Adams    National Republican        500897   loss   \n",
            "4  1832     Andrew Jackson             Democratic        702735    win   \n",
            "\n",
            "           %  \n",
            "0  57.210122  \n",
            "1  42.789878  \n",
            "2  56.203927  \n",
            "3  43.796073  \n",
            "4  54.574789  \n"
          ]
        }
      ],
      "source": [
        "print(df1.head(5))"
      ]
    },
    {
      "cell_type": "markdown",
      "metadata": {
        "id": "XHhLGedmPtvR"
      },
      "source": [
        "You can provide `.loc` a list of row labels [0-5] and column labels ['Candidate','Party', 'Year'] as input to return a dataframe"
      ]
    },
    {
      "cell_type": "code",
      "execution_count": 16,
      "metadata": {
        "id": "XUZe4G0WPtvR",
        "colab": {
          "base_uri": "https://localhost:8080/"
        },
        "outputId": "d7316aaa-e586-4203-c0fe-b05c00d73064"
      },
      "outputs": [
        {
          "output_type": "stream",
          "name": "stdout",
          "text": [
            "           Candidate                  Party  Year\n",
            "0     Andrew Jackson  Democratic-Republican  1824\n",
            "1  John Quincy Adams  Democratic-Republican  1824\n",
            "2     Andrew Jackson             Democratic  1828\n",
            "3  John Quincy Adams    National Republican  1828\n",
            "4     Andrew Jackson             Democratic  1832\n",
            "5         Henry Clay    National Republican  1832\n"
          ]
        }
      ],
      "source": [
        "\n",
        "df1_subset = df1.loc[0:5, ['Candidate', 'Party', 'Year']]\n",
        "\n",
        "print(df1_subset)\n"
      ]
    },
    {
      "cell_type": "markdown",
      "metadata": {
        "id": "Tw5Er1BCPtvR"
      },
      "source": [
        "Loc also supports **slicing** (for all types, including numeric and string labels!). Note that the slicing for loc is **inclusive**, even for numeric slices.\n",
        "\n",
        "Use Slicing on Rows and Columns"
      ]
    },
    {
      "cell_type": "code",
      "execution_count": null,
      "metadata": {
        "id": "SXI38aagPtvR",
        "scrolled": true
      },
      "outputs": [],
      "source": [
        "\n",
        "df1_subset = df1.loc[0:5, 'Candidate':'Party']\n",
        "\n",
        "print(df1_subset)\n"
      ]
    },
    {
      "cell_type": "markdown",
      "metadata": {
        "id": "pM5KD0kPPtvR"
      },
      "source": [
        "If we provide only a **single label** for the column argument, we get back a **Series**."
      ]
    },
    {
      "cell_type": "code",
      "execution_count": null,
      "metadata": {
        "id": "Ps6PUX9_PtvS"
      },
      "outputs": [],
      "source": [
        "\n",
        "candidates_series = df1.loc[0:5, 'Candidate']\n",
        "\n",
        "print(candidates_series)\n"
      ]
    },
    {
      "cell_type": "markdown",
      "metadata": {
        "id": "z8qglbBwPtvS"
      },
      "source": [
        "If we want a data frame instead and don't want to use to_frame, we can provide a **list** containing the column name."
      ]
    },
    {
      "cell_type": "code",
      "execution_count": null,
      "metadata": {
        "id": "I9JqZBVMPtvS",
        "scrolled": true
      },
      "outputs": [],
      "source": [
        "candidates_df = df1.loc[0:5, ['Candidate']]\n",
        "\n",
        "print(candidates_df)"
      ]
    },
    {
      "cell_type": "markdown",
      "metadata": {
        "id": "QighByBIPtvS"
      },
      "source": [
        "If we give only one row but many column labels, we'll get back a **Series** corresponding to a row of the table. This new Series has a neat index, where **each entry is the name of the column** that the data came from."
      ]
    },
    {
      "cell_type": "code",
      "execution_count": null,
      "metadata": {
        "id": "5XT8-_bpPtvS"
      },
      "outputs": [],
      "source": [
        "# Answer Here"
      ]
    },
    {
      "cell_type": "code",
      "execution_count": null,
      "metadata": {
        "id": "hcdTlR8uPtvS"
      },
      "outputs": [],
      "source": [
        "\n",
        "row_series = df1.loc[0, ['Candidate', 'Party', 'Year']]\n",
        "\n",
        "print(row_series)\n"
      ]
    },
    {
      "cell_type": "markdown",
      "metadata": {
        "id": "oB0GTCT5PtvS"
      },
      "source": [
        "If we omit the column argument altogether, the **default behavior is to retrieve all columns**."
      ]
    },
    {
      "cell_type": "code",
      "execution_count": null,
      "metadata": {
        "id": "cewKbmCYPtvT"
      },
      "outputs": [],
      "source": [
        "row_all_columns = df1.loc[0]\n",
        "\n",
        "print(row_all_columns)"
      ]
    },
    {
      "cell_type": "markdown",
      "metadata": {
        "id": "GIuYoSqH7TYj"
      },
      "source": [
        "Specify Rows and Columns as List to retrive specific enteries"
      ]
    },
    {
      "cell_type": "code",
      "execution_count": null,
      "metadata": {
        "id": "roAnjNt2PtvT",
        "scrolled": true
      },
      "outputs": [],
      "source": [
        "selected_entries = df1.loc[[0, 1, 2], ['Candidate', 'Party', 'Year']]\n",
        "\n",
        "print(selected_entries)"
      ]
    },
    {
      "cell_type": "markdown",
      "metadata": {
        "id": "C7Bfwc6gPtvT"
      },
      "source": [
        "Boolean Series are also boolean arrays, so we can use the Boolean Array Selection from earlier using loc as well."
      ]
    },
    {
      "cell_type": "code",
      "execution_count": null,
      "metadata": {
        "id": "Ub9I30OxPtvT"
      },
      "outputs": [],
      "source": [
        "is_democratic = df1['Party'] == 'Democratic'\n",
        "\n",
        "democratic_candidates = df1.loc[is_democratic]\n",
        "print(democratic_candidates)"
      ]
    },
    {
      "cell_type": "markdown",
      "metadata": {
        "id": "533WKwGXPtvT"
      },
      "source": [
        "## String-labeled Rows\n",
        "\n",
        "Let's do a quick example using data with string-labeled rows instead of integer labeled rows, just to make sure we're really understanding loc.\n",
        "\n",
        "Use mottos.csv file"
      ]
    },
    {
      "cell_type": "code",
      "execution_count": 38,
      "metadata": {
        "id": "-y7r7wfBPtvT",
        "colab": {
          "base_uri": "https://localhost:8080/",
          "height": 1000
        },
        "outputId": "ed87e129-1508-4a63-e536-508aee4c1939"
      },
      "outputs": [
        {
          "output_type": "stream",
          "name": "stdout",
          "text": [
            "             State                                              Motto  \\\n",
            "0          Alabama                      Audemus jura nostra defendere   \n",
            "1           Alaska                                North to the future   \n",
            "2          Arizona                                         Ditat Deus   \n",
            "3         Arkansas                                     Regnat populus   \n",
            "4       California                                    Eureka (Εὕρηκα)   \n",
            "5         Colorado                                    Nil sine numine   \n",
            "6      Connecticut                            Qui transtulit sustinet   \n",
            "7         Delaware                           Liberty and Independence   \n",
            "8          Florida                                    In God We Trust   \n",
            "9          Georgia                        Wisdom, Justice, Moderation   \n",
            "10          Hawaii                  Ua mau ke ea o ka ʻāina i ka pono   \n",
            "11           Idaho                                      Esto perpetua   \n",
            "12        Illinois                  State sovereignty, national union   \n",
            "13         Indiana                          The Crossroads of America   \n",
            "14            Iowa  Our liberties we prize and our rights we will ...   \n",
            "15          Kansas                                Ad astra per aspera   \n",
            "16        Kentucky                               Deo gratiam habeamus   \n",
            "17       Louisiana                         Union, justice, confidence   \n",
            "18           Maine                                             Dirigo   \n",
            "19        Maryland                       Fatti maschii, parole femine   \n",
            "20   Massachusetts          Ense petit placidam sub libertate quietem   \n",
            "21        Michigan          Si quaeris peninsulam amoenam circumspice   \n",
            "22       Minnesota                                   L'étoile du Nord   \n",
            "23     Mississippi                                   Virtute et armis   \n",
            "24        Missouri                      Salus populi suprema lex esto   \n",
            "25         Montana                                        Oro y plata   \n",
            "26        Nebraska                            Equality before the law   \n",
            "27          Nevada                                All For Our Country   \n",
            "28   New Hampshire                                   Live Free or Die   \n",
            "29      New Jersey                             Liberty and prosperity   \n",
            "30      New Mexico                                      Crescit eundo   \n",
            "31        New York                                          Excelsior   \n",
            "32  North Carolina                                   Esse quam videri   \n",
            "33    North Dakota                    \\nSerit ut alteri saeclo prosit   \n",
            "34            Ohio                  With God, all things are possible   \n",
            "35        Oklahoma                                 Labor omnia vincit   \n",
            "36          Oregon                                Alis volat propriis   \n",
            "37    Pennsylvania                  Virtue, liberty, and independence   \n",
            "38    Rhode Island                                               Hope   \n",
            "39  South Carolina          Dum spiro spero \\nAnimis opibusque parati   \n",
            "40    South Dakota                          Under God the people rule   \n",
            "41       Tennessee                           Agriculture and Commerce   \n",
            "42           Texas                                         Friendship   \n",
            "43            Utah                                           Industry   \n",
            "44         Vermont                       Stella quarta decima fulgeat   \n",
            "45        Virginia                                Sic semper tyrannis   \n",
            "46      Washington                                      Al-ki or Alki   \n",
            "47   West Virginia                              Montani semper liberi   \n",
            "48       Wisconsin                                            Forward   \n",
            "49         Wyoming                                       Equal Rights   \n",
            "\n",
            "                                          Translation        Language  \\\n",
            "0                          We dare defend our rights!           Latin   \n",
            "1                                                   —         English   \n",
            "2                                        God enriches           Latin   \n",
            "3                                     The people rule           Latin   \n",
            "4                                     I have found it           Greek   \n",
            "5                         Nothing without providence.           Latin   \n",
            "6                        He who transplanted sustains           Latin   \n",
            "7                                                   —         English   \n",
            "8                                                   —         English   \n",
            "9                                                   —         English   \n",
            "10  The life of the land is perpetuated in righteo...        Hawaiian   \n",
            "11                                Let it be perpetual           Latin   \n",
            "12                                                  —         English   \n",
            "13                                                  —         English   \n",
            "14                                                  —         English   \n",
            "15                  To the stars through difficulties           Latin   \n",
            "16                          Let us be grateful to God           Latin   \n",
            "17                                                  —         English   \n",
            "18                                             I lead           Latin   \n",
            "19                         Manly deeds, womanly words         Italian   \n",
            "20  By the sword we seek peace, but peace only und...           Latin   \n",
            "21   If you seek a pleasant peninsula, look about you           Latin   \n",
            "22                              The star of the North          French   \n",
            "23                                  By valor and arms           Latin   \n",
            "24   Let the welfare of the people be the supreme law           Latin   \n",
            "25                                    Gold and silver         Spanish   \n",
            "26                                                  —         English   \n",
            "27                                                  —         English   \n",
            "28                                                  —         English   \n",
            "29                                                  —         English   \n",
            "30                                It grows as it goes           Latin   \n",
            "31                                        Ever upward           Latin   \n",
            "32                         To be, rather than to seem           Latin   \n",
            "33            One sows for the benefit of another age           Latin   \n",
            "34                                                  —         English   \n",
            "35                          Labor conquers all things           Latin   \n",
            "36                       She flies with her own wings           Latin   \n",
            "37                                                  —         English   \n",
            "38                                                  —         English   \n",
            "39  While I breathe, I hope \\nReady in soul and re...           Latin   \n",
            "40                                                  —         English   \n",
            "41                                                  —         English   \n",
            "42                                                  —         English   \n",
            "43                                                NaN         English   \n",
            "44               May the fourteenth star shine bright           Latin   \n",
            "45                             Thus always to tyrants           Latin   \n",
            "46                                          By and by  Chinook Jargon   \n",
            "47                       Mountaineers are always free           Latin   \n",
            "48                                                  —         English   \n",
            "49                                                  —         English   \n",
            "\n",
            "          Date Adopted  \n",
            "0                 1923  \n",
            "1                 1967  \n",
            "2                 1863  \n",
            "3                 1907  \n",
            "4                 1849  \n",
            "5     November 6, 1861  \n",
            "6      October 9, 1662  \n",
            "7                 1847  \n",
            "8                 1868  \n",
            "9                 1798  \n",
            "10       July 31, 1843  \n",
            "11                1890  \n",
            "12                1819  \n",
            "13                1937  \n",
            "14                1847  \n",
            "15                1861  \n",
            "16                2002  \n",
            "17                1902  \n",
            "18                1820  \n",
            "19                1874  \n",
            "20                1775  \n",
            "21        June 2, 1835  \n",
            "22                1861  \n",
            "23    February 7, 1894  \n",
            "24    January 11, 1822  \n",
            "25    February 9, 1865  \n",
            "26                1867  \n",
            "27   February 24, 1866  \n",
            "28                1945  \n",
            "29      March 26, 1928  \n",
            "30                1887  \n",
            "31                1778  \n",
            "32                1893  \n",
            "33      March 11, 2011  \n",
            "34     October 1, 1959  \n",
            "35      March 10, 1893  \n",
            "36                1854  \n",
            "37                1875  \n",
            "38         May 4, 1664  \n",
            "39        May 22, 1777  \n",
            "40                1885  \n",
            "41        May 24, 1802  \n",
            "42                1930  \n",
            "43         May 3, 1896  \n",
            "44      April 10, 2015  \n",
            "45                1776  \n",
            "46                   —  \n",
            "47  September 26, 1863  \n",
            "48                1851  \n",
            "49                1893  \n"
          ]
        },
        {
          "output_type": "error",
          "ename": "KeyError",
          "evalue": "'USA'",
          "traceback": [
            "\u001b[0;31m---------------------------------------------------------------------------\u001b[0m",
            "\u001b[0;31mKeyError\u001b[0m                                  Traceback (most recent call last)",
            "\u001b[0;32m<ipython-input-38-98106fd876b3>\u001b[0m in \u001b[0;36m<cell line: 4>\u001b[0;34m()\u001b[0m\n\u001b[1;32m      2\u001b[0m \u001b[0;34m\u001b[0m\u001b[0m\n\u001b[1;32m      3\u001b[0m \u001b[0mprint\u001b[0m\u001b[0;34m(\u001b[0m\u001b[0mdf3\u001b[0m\u001b[0;34m)\u001b[0m\u001b[0;34m\u001b[0m\u001b[0;34m\u001b[0m\u001b[0m\n\u001b[0;32m----> 4\u001b[0;31m \u001b[0mdf3\u001b[0m\u001b[0;34m.\u001b[0m\u001b[0mloc\u001b[0m\u001b[0;34m[\u001b[0m\u001b[0;34m'USA'\u001b[0m\u001b[0;34m]\u001b[0m\u001b[0;34m\u001b[0m\u001b[0;34m\u001b[0m\u001b[0m\n\u001b[0m",
            "\u001b[0;32m/usr/local/lib/python3.10/dist-packages/pandas/core/indexing.py\u001b[0m in \u001b[0;36m__getitem__\u001b[0;34m(self, key)\u001b[0m\n\u001b[1;32m   1189\u001b[0m             \u001b[0mmaybe_callable\u001b[0m \u001b[0;34m=\u001b[0m \u001b[0mcom\u001b[0m\u001b[0;34m.\u001b[0m\u001b[0mapply_if_callable\u001b[0m\u001b[0;34m(\u001b[0m\u001b[0mkey\u001b[0m\u001b[0;34m,\u001b[0m \u001b[0mself\u001b[0m\u001b[0;34m.\u001b[0m\u001b[0mobj\u001b[0m\u001b[0;34m)\u001b[0m\u001b[0;34m\u001b[0m\u001b[0;34m\u001b[0m\u001b[0m\n\u001b[1;32m   1190\u001b[0m             \u001b[0mmaybe_callable\u001b[0m \u001b[0;34m=\u001b[0m \u001b[0mself\u001b[0m\u001b[0;34m.\u001b[0m\u001b[0m_check_deprecated_callable_usage\u001b[0m\u001b[0;34m(\u001b[0m\u001b[0mkey\u001b[0m\u001b[0;34m,\u001b[0m \u001b[0mmaybe_callable\u001b[0m\u001b[0;34m)\u001b[0m\u001b[0;34m\u001b[0m\u001b[0;34m\u001b[0m\u001b[0m\n\u001b[0;32m-> 1191\u001b[0;31m             \u001b[0;32mreturn\u001b[0m \u001b[0mself\u001b[0m\u001b[0;34m.\u001b[0m\u001b[0m_getitem_axis\u001b[0m\u001b[0;34m(\u001b[0m\u001b[0mmaybe_callable\u001b[0m\u001b[0;34m,\u001b[0m \u001b[0maxis\u001b[0m\u001b[0;34m=\u001b[0m\u001b[0maxis\u001b[0m\u001b[0;34m)\u001b[0m\u001b[0;34m\u001b[0m\u001b[0;34m\u001b[0m\u001b[0m\n\u001b[0m\u001b[1;32m   1192\u001b[0m \u001b[0;34m\u001b[0m\u001b[0m\n\u001b[1;32m   1193\u001b[0m     \u001b[0;32mdef\u001b[0m \u001b[0m_is_scalar_access\u001b[0m\u001b[0;34m(\u001b[0m\u001b[0mself\u001b[0m\u001b[0;34m,\u001b[0m \u001b[0mkey\u001b[0m\u001b[0;34m:\u001b[0m \u001b[0mtuple\u001b[0m\u001b[0;34m)\u001b[0m\u001b[0;34m:\u001b[0m\u001b[0;34m\u001b[0m\u001b[0;34m\u001b[0m\u001b[0m\n",
            "\u001b[0;32m/usr/local/lib/python3.10/dist-packages/pandas/core/indexing.py\u001b[0m in \u001b[0;36m_getitem_axis\u001b[0;34m(self, key, axis)\u001b[0m\n\u001b[1;32m   1429\u001b[0m         \u001b[0;31m# fall thru to straight lookup\u001b[0m\u001b[0;34m\u001b[0m\u001b[0;34m\u001b[0m\u001b[0m\n\u001b[1;32m   1430\u001b[0m         \u001b[0mself\u001b[0m\u001b[0;34m.\u001b[0m\u001b[0m_validate_key\u001b[0m\u001b[0;34m(\u001b[0m\u001b[0mkey\u001b[0m\u001b[0;34m,\u001b[0m \u001b[0maxis\u001b[0m\u001b[0;34m)\u001b[0m\u001b[0;34m\u001b[0m\u001b[0;34m\u001b[0m\u001b[0m\n\u001b[0;32m-> 1431\u001b[0;31m         \u001b[0;32mreturn\u001b[0m \u001b[0mself\u001b[0m\u001b[0;34m.\u001b[0m\u001b[0m_get_label\u001b[0m\u001b[0;34m(\u001b[0m\u001b[0mkey\u001b[0m\u001b[0;34m,\u001b[0m \u001b[0maxis\u001b[0m\u001b[0;34m=\u001b[0m\u001b[0maxis\u001b[0m\u001b[0;34m)\u001b[0m\u001b[0;34m\u001b[0m\u001b[0;34m\u001b[0m\u001b[0m\n\u001b[0m\u001b[1;32m   1432\u001b[0m \u001b[0;34m\u001b[0m\u001b[0m\n\u001b[1;32m   1433\u001b[0m     \u001b[0;32mdef\u001b[0m \u001b[0m_get_slice_axis\u001b[0m\u001b[0;34m(\u001b[0m\u001b[0mself\u001b[0m\u001b[0;34m,\u001b[0m \u001b[0mslice_obj\u001b[0m\u001b[0;34m:\u001b[0m \u001b[0mslice\u001b[0m\u001b[0;34m,\u001b[0m \u001b[0maxis\u001b[0m\u001b[0;34m:\u001b[0m \u001b[0mAxisInt\u001b[0m\u001b[0;34m)\u001b[0m\u001b[0;34m:\u001b[0m\u001b[0;34m\u001b[0m\u001b[0;34m\u001b[0m\u001b[0m\n",
            "\u001b[0;32m/usr/local/lib/python3.10/dist-packages/pandas/core/indexing.py\u001b[0m in \u001b[0;36m_get_label\u001b[0;34m(self, label, axis)\u001b[0m\n\u001b[1;32m   1379\u001b[0m     \u001b[0;32mdef\u001b[0m \u001b[0m_get_label\u001b[0m\u001b[0;34m(\u001b[0m\u001b[0mself\u001b[0m\u001b[0;34m,\u001b[0m \u001b[0mlabel\u001b[0m\u001b[0;34m,\u001b[0m \u001b[0maxis\u001b[0m\u001b[0;34m:\u001b[0m \u001b[0mAxisInt\u001b[0m\u001b[0;34m)\u001b[0m\u001b[0;34m:\u001b[0m\u001b[0;34m\u001b[0m\u001b[0;34m\u001b[0m\u001b[0m\n\u001b[1;32m   1380\u001b[0m         \u001b[0;31m# GH#5567 this will fail if the label is not present in the axis.\u001b[0m\u001b[0;34m\u001b[0m\u001b[0;34m\u001b[0m\u001b[0m\n\u001b[0;32m-> 1381\u001b[0;31m         \u001b[0;32mreturn\u001b[0m \u001b[0mself\u001b[0m\u001b[0;34m.\u001b[0m\u001b[0mobj\u001b[0m\u001b[0;34m.\u001b[0m\u001b[0mxs\u001b[0m\u001b[0;34m(\u001b[0m\u001b[0mlabel\u001b[0m\u001b[0;34m,\u001b[0m \u001b[0maxis\u001b[0m\u001b[0;34m=\u001b[0m\u001b[0maxis\u001b[0m\u001b[0;34m)\u001b[0m\u001b[0;34m\u001b[0m\u001b[0;34m\u001b[0m\u001b[0m\n\u001b[0m\u001b[1;32m   1382\u001b[0m \u001b[0;34m\u001b[0m\u001b[0m\n\u001b[1;32m   1383\u001b[0m     \u001b[0;32mdef\u001b[0m \u001b[0m_handle_lowerdim_multi_index_axis0\u001b[0m\u001b[0;34m(\u001b[0m\u001b[0mself\u001b[0m\u001b[0;34m,\u001b[0m \u001b[0mtup\u001b[0m\u001b[0;34m:\u001b[0m \u001b[0mtuple\u001b[0m\u001b[0;34m)\u001b[0m\u001b[0;34m:\u001b[0m\u001b[0;34m\u001b[0m\u001b[0;34m\u001b[0m\u001b[0m\n",
            "\u001b[0;32m/usr/local/lib/python3.10/dist-packages/pandas/core/generic.py\u001b[0m in \u001b[0;36mxs\u001b[0;34m(self, key, axis, level, drop_level)\u001b[0m\n\u001b[1;32m   4299\u001b[0m                     \u001b[0mnew_index\u001b[0m \u001b[0;34m=\u001b[0m \u001b[0mindex\u001b[0m\u001b[0;34m[\u001b[0m\u001b[0mloc\u001b[0m\u001b[0;34m]\u001b[0m\u001b[0;34m\u001b[0m\u001b[0;34m\u001b[0m\u001b[0m\n\u001b[1;32m   4300\u001b[0m         \u001b[0;32melse\u001b[0m\u001b[0;34m:\u001b[0m\u001b[0;34m\u001b[0m\u001b[0;34m\u001b[0m\u001b[0m\n\u001b[0;32m-> 4301\u001b[0;31m             \u001b[0mloc\u001b[0m \u001b[0;34m=\u001b[0m \u001b[0mindex\u001b[0m\u001b[0;34m.\u001b[0m\u001b[0mget_loc\u001b[0m\u001b[0;34m(\u001b[0m\u001b[0mkey\u001b[0m\u001b[0;34m)\u001b[0m\u001b[0;34m\u001b[0m\u001b[0;34m\u001b[0m\u001b[0m\n\u001b[0m\u001b[1;32m   4302\u001b[0m \u001b[0;34m\u001b[0m\u001b[0m\n\u001b[1;32m   4303\u001b[0m             \u001b[0;32mif\u001b[0m \u001b[0misinstance\u001b[0m\u001b[0;34m(\u001b[0m\u001b[0mloc\u001b[0m\u001b[0;34m,\u001b[0m \u001b[0mnp\u001b[0m\u001b[0;34m.\u001b[0m\u001b[0mndarray\u001b[0m\u001b[0;34m)\u001b[0m\u001b[0;34m:\u001b[0m\u001b[0;34m\u001b[0m\u001b[0;34m\u001b[0m\u001b[0m\n",
            "\u001b[0;32m/usr/local/lib/python3.10/dist-packages/pandas/core/indexes/range.py\u001b[0m in \u001b[0;36mget_loc\u001b[0;34m(self, key)\u001b[0m\n\u001b[1;32m    415\u001b[0m                 \u001b[0;32mraise\u001b[0m \u001b[0mKeyError\u001b[0m\u001b[0;34m(\u001b[0m\u001b[0mkey\u001b[0m\u001b[0;34m)\u001b[0m \u001b[0;32mfrom\u001b[0m \u001b[0merr\u001b[0m\u001b[0;34m\u001b[0m\u001b[0;34m\u001b[0m\u001b[0m\n\u001b[1;32m    416\u001b[0m         \u001b[0;32mif\u001b[0m \u001b[0misinstance\u001b[0m\u001b[0;34m(\u001b[0m\u001b[0mkey\u001b[0m\u001b[0;34m,\u001b[0m \u001b[0mHashable\u001b[0m\u001b[0;34m)\u001b[0m\u001b[0;34m:\u001b[0m\u001b[0;34m\u001b[0m\u001b[0;34m\u001b[0m\u001b[0m\n\u001b[0;32m--> 417\u001b[0;31m             \u001b[0;32mraise\u001b[0m \u001b[0mKeyError\u001b[0m\u001b[0;34m(\u001b[0m\u001b[0mkey\u001b[0m\u001b[0;34m)\u001b[0m\u001b[0;34m\u001b[0m\u001b[0;34m\u001b[0m\u001b[0m\n\u001b[0m\u001b[1;32m    418\u001b[0m         \u001b[0mself\u001b[0m\u001b[0;34m.\u001b[0m\u001b[0m_check_indexing_error\u001b[0m\u001b[0;34m(\u001b[0m\u001b[0mkey\u001b[0m\u001b[0;34m)\u001b[0m\u001b[0;34m\u001b[0m\u001b[0;34m\u001b[0m\u001b[0m\n\u001b[1;32m    419\u001b[0m         \u001b[0;32mraise\u001b[0m \u001b[0mKeyError\u001b[0m\u001b[0;34m(\u001b[0m\u001b[0mkey\u001b[0m\u001b[0;34m)\u001b[0m\u001b[0;34m\u001b[0m\u001b[0;34m\u001b[0m\u001b[0m\n",
            "\u001b[0;31mKeyError\u001b[0m: 'USA'"
          ]
        }
      ],
      "source": [
        "\n",
        "df3 = pd.read_csv('/content/drive/My Drive/Data for Pandas/mottos.csv')\n",
        "\n",
        "print(df3)\n",
        "df3.loc['USA']\n"
      ]
    },
    {
      "cell_type": "markdown",
      "metadata": {
        "id": "8E1olDerPtvT"
      },
      "source": [
        "Extract slice, can be specified using slice notation, even if the rows have string labels instead of integer labels."
      ]
    },
    {
      "cell_type": "markdown",
      "metadata": {
        "id": "9meAs22VPtvU"
      },
      "source": [
        "### iloc"
      ]
    },
    {
      "cell_type": "markdown",
      "metadata": {
        "id": "Kgz9kKXLPtvU"
      },
      "source": [
        "loc's cousin iloc is very similar, but is used to access based on numerical position instead of label. For example, to access to the top 3 rows and top 3 columns of a table, we can use [0:3, 0:3]. 'iloc' slicing is **exclusive**, just like standard Python slicing of numerical values.\n",
        "\n",
        "Use iloc to extract first 3 rows and columns from elections DataFrame"
      ]
    },
    {
      "cell_type": "code",
      "execution_count": null,
      "metadata": {
        "id": "TveQUq2oPtvU"
      },
      "outputs": [],
      "source": [
        "first_three_rows_columns = df1.iloc[0:3, 0:3]\n",
        "print(first_three_rows_columns)\n"
      ]
    },
    {
      "cell_type": "markdown",
      "metadata": {
        "id": "d75cITKiPtvV"
      },
      "source": [
        "We will use both `loc` and `iloc` in the course. `loc` is generally preferred for a number of reasons, for example:\n",
        "\n",
        "1. It is harder to make mistakes since you have to literally write out what you want to get.\n",
        "2. Code is easier to read, because the reader doesn't have to know e.g., what column #17 represents.\n",
        "3. It is robust against permutations of the data, e.g. the social security administration switches the order of two columns.\n",
        "\n",
        "However, iloc is sometimes more convenient. We'll provide examples of when iloc is the superior choice."
      ]
    },
    {
      "cell_type": "markdown",
      "metadata": {
        "id": "Sj-li9oQPtvV"
      },
      "source": [
        "## Handy Properties and Utility Functions for Series and DataFrames"
      ]
    },
    {
      "cell_type": "markdown",
      "metadata": {
        "id": "2D6yrBvcPtvV"
      },
      "source": [
        "The head, shape, size, and describe methods can be used to quickly get a good sense of the data we're working with. For example:"
      ]
    },
    {
      "cell_type": "code",
      "execution_count": null,
      "metadata": {
        "id": "I2c3ON6BPtvV"
      },
      "outputs": [],
      "source": [
        "mottos = pd.read_csv(\"/content/drive/MyDrive/mottos.csv\")"
      ]
    },
    {
      "cell_type": "code",
      "execution_count": null,
      "metadata": {
        "id": "3lj5YSbzPtvV"
      },
      "outputs": [],
      "source": [
        "# Answer Here\n",
        "\n"
      ]
    },
    {
      "cell_type": "markdown",
      "metadata": {
        "id": "bQSKGPxTroVf"
      },
      "source": [
        "Size of DataFrame"
      ]
    },
    {
      "cell_type": "code",
      "execution_count": 18,
      "metadata": {
        "id": "iGVtW1YEPtvV",
        "colab": {
          "base_uri": "https://localhost:8080/"
        },
        "outputId": "df138d96-e7c3-410c-e0b5-ce610e590208"
      },
      "outputs": [
        {
          "output_type": "execute_result",
          "data": {
            "text/plain": [
              "250"
            ]
          },
          "metadata": {},
          "execution_count": 18
        }
      ],
      "source": [
        "# Answer Here\n",
        "df3.size"
      ]
    },
    {
      "cell_type": "markdown",
      "metadata": {
        "id": "PB4R3k_6PtvW"
      },
      "source": [
        "The fact that the size is 250 means our data file is relatively small, with only 250 total entries.\n",
        "\n",
        "Shape of DataFrame"
      ]
    },
    {
      "cell_type": "code",
      "execution_count": 19,
      "metadata": {
        "id": "dBaU7nMNPtvW",
        "colab": {
          "base_uri": "https://localhost:8080/"
        },
        "outputId": "28d1f0e9-4b92-4fbc-c59b-bc8710babd5a"
      },
      "outputs": [
        {
          "output_type": "execute_result",
          "data": {
            "text/plain": [
              "(50, 5)"
            ]
          },
          "metadata": {},
          "execution_count": 19
        }
      ],
      "source": [
        "# Answer Here\n",
        "df3.shape\n"
      ]
    },
    {
      "cell_type": "markdown",
      "metadata": {
        "id": "NevFNt3_PtvW"
      },
      "source": [
        "Use describe function and extract the meaningful information from DataFrame"
      ]
    },
    {
      "cell_type": "code",
      "execution_count": 20,
      "metadata": {
        "id": "7T7Xg4wePtvW",
        "colab": {
          "base_uri": "https://localhost:8080/",
          "height": 187
        },
        "outputId": "611b9ea6-3148-49ca-dafc-50ec76a5c8b6"
      },
      "outputs": [
        {
          "output_type": "execute_result",
          "data": {
            "text/plain": [
              "<bound method NDFrame.describe of              State                                              Motto  \\\n",
              "0          Alabama                      Audemus jura nostra defendere   \n",
              "1           Alaska                                North to the future   \n",
              "2          Arizona                                         Ditat Deus   \n",
              "3         Arkansas                                     Regnat populus   \n",
              "4       California                                    Eureka (Εὕρηκα)   \n",
              "5         Colorado                                    Nil sine numine   \n",
              "6      Connecticut                            Qui transtulit sustinet   \n",
              "7         Delaware                           Liberty and Independence   \n",
              "8          Florida                                    In God We Trust   \n",
              "9          Georgia                        Wisdom, Justice, Moderation   \n",
              "10          Hawaii                  Ua mau ke ea o ka ʻāina i ka pono   \n",
              "11           Idaho                                      Esto perpetua   \n",
              "12        Illinois                  State sovereignty, national union   \n",
              "13         Indiana                          The Crossroads of America   \n",
              "14            Iowa  Our liberties we prize and our rights we will ...   \n",
              "15          Kansas                                Ad astra per aspera   \n",
              "16        Kentucky                               Deo gratiam habeamus   \n",
              "17       Louisiana                         Union, justice, confidence   \n",
              "18           Maine                                             Dirigo   \n",
              "19        Maryland                       Fatti maschii, parole femine   \n",
              "20   Massachusetts          Ense petit placidam sub libertate quietem   \n",
              "21        Michigan          Si quaeris peninsulam amoenam circumspice   \n",
              "22       Minnesota                                   L'étoile du Nord   \n",
              "23     Mississippi                                   Virtute et armis   \n",
              "24        Missouri                      Salus populi suprema lex esto   \n",
              "25         Montana                                        Oro y plata   \n",
              "26        Nebraska                            Equality before the law   \n",
              "27          Nevada                                All For Our Country   \n",
              "28   New Hampshire                                   Live Free or Die   \n",
              "29      New Jersey                             Liberty and prosperity   \n",
              "30      New Mexico                                      Crescit eundo   \n",
              "31        New York                                          Excelsior   \n",
              "32  North Carolina                                   Esse quam videri   \n",
              "33    North Dakota                    \\nSerit ut alteri saeclo prosit   \n",
              "34            Ohio                  With God, all things are possible   \n",
              "35        Oklahoma                                 Labor omnia vincit   \n",
              "36          Oregon                                Alis volat propriis   \n",
              "37    Pennsylvania                  Virtue, liberty, and independence   \n",
              "38    Rhode Island                                               Hope   \n",
              "39  South Carolina          Dum spiro spero \\nAnimis opibusque parati   \n",
              "40    South Dakota                          Under God the people rule   \n",
              "41       Tennessee                           Agriculture and Commerce   \n",
              "42           Texas                                         Friendship   \n",
              "43            Utah                                           Industry   \n",
              "44         Vermont                       Stella quarta decima fulgeat   \n",
              "45        Virginia                                Sic semper tyrannis   \n",
              "46      Washington                                      Al-ki or Alki   \n",
              "47   West Virginia                              Montani semper liberi   \n",
              "48       Wisconsin                                            Forward   \n",
              "49         Wyoming                                       Equal Rights   \n",
              "\n",
              "                                          Translation        Language  \\\n",
              "0                          We dare defend our rights!           Latin   \n",
              "1                                                   —         English   \n",
              "2                                        God enriches           Latin   \n",
              "3                                     The people rule           Latin   \n",
              "4                                     I have found it           Greek   \n",
              "5                         Nothing without providence.           Latin   \n",
              "6                        He who transplanted sustains           Latin   \n",
              "7                                                   —         English   \n",
              "8                                                   —         English   \n",
              "9                                                   —         English   \n",
              "10  The life of the land is perpetuated in righteo...        Hawaiian   \n",
              "11                                Let it be perpetual           Latin   \n",
              "12                                                  —         English   \n",
              "13                                                  —         English   \n",
              "14                                                  —         English   \n",
              "15                  To the stars through difficulties           Latin   \n",
              "16                          Let us be grateful to God           Latin   \n",
              "17                                                  —         English   \n",
              "18                                             I lead           Latin   \n",
              "19                         Manly deeds, womanly words         Italian   \n",
              "20  By the sword we seek peace, but peace only und...           Latin   \n",
              "21   If you seek a pleasant peninsula, look about you           Latin   \n",
              "22                              The star of the North          French   \n",
              "23                                  By valor and arms           Latin   \n",
              "24   Let the welfare of the people be the supreme law           Latin   \n",
              "25                                    Gold and silver         Spanish   \n",
              "26                                                  —         English   \n",
              "27                                                  —         English   \n",
              "28                                                  —         English   \n",
              "29                                                  —         English   \n",
              "30                                It grows as it goes           Latin   \n",
              "31                                        Ever upward           Latin   \n",
              "32                         To be, rather than to seem           Latin   \n",
              "33            One sows for the benefit of another age           Latin   \n",
              "34                                                  —         English   \n",
              "35                          Labor conquers all things           Latin   \n",
              "36                       She flies with her own wings           Latin   \n",
              "37                                                  —         English   \n",
              "38                                                  —         English   \n",
              "39  While I breathe, I hope \\nReady in soul and re...           Latin   \n",
              "40                                                  —         English   \n",
              "41                                                  —         English   \n",
              "42                                                  —         English   \n",
              "43                                                NaN         English   \n",
              "44               May the fourteenth star shine bright           Latin   \n",
              "45                             Thus always to tyrants           Latin   \n",
              "46                                          By and by  Chinook Jargon   \n",
              "47                       Mountaineers are always free           Latin   \n",
              "48                                                  —         English   \n",
              "49                                                  —         English   \n",
              "\n",
              "          Date Adopted  \n",
              "0                 1923  \n",
              "1                 1967  \n",
              "2                 1863  \n",
              "3                 1907  \n",
              "4                 1849  \n",
              "5     November 6, 1861  \n",
              "6      October 9, 1662  \n",
              "7                 1847  \n",
              "8                 1868  \n",
              "9                 1798  \n",
              "10       July 31, 1843  \n",
              "11                1890  \n",
              "12                1819  \n",
              "13                1937  \n",
              "14                1847  \n",
              "15                1861  \n",
              "16                2002  \n",
              "17                1902  \n",
              "18                1820  \n",
              "19                1874  \n",
              "20                1775  \n",
              "21        June 2, 1835  \n",
              "22                1861  \n",
              "23    February 7, 1894  \n",
              "24    January 11, 1822  \n",
              "25    February 9, 1865  \n",
              "26                1867  \n",
              "27   February 24, 1866  \n",
              "28                1945  \n",
              "29      March 26, 1928  \n",
              "30                1887  \n",
              "31                1778  \n",
              "32                1893  \n",
              "33      March 11, 2011  \n",
              "34     October 1, 1959  \n",
              "35      March 10, 1893  \n",
              "36                1854  \n",
              "37                1875  \n",
              "38         May 4, 1664  \n",
              "39        May 22, 1777  \n",
              "40                1885  \n",
              "41        May 24, 1802  \n",
              "42                1930  \n",
              "43         May 3, 1896  \n",
              "44      April 10, 2015  \n",
              "45                1776  \n",
              "46                   —  \n",
              "47  September 26, 1863  \n",
              "48                1851  \n",
              "49                1893  >"
            ],
            "text/html": [
              "<div style=\"max-width:800px; border: 1px solid var(--colab-border-color);\"><style>\n",
              "      pre.function-repr-contents {\n",
              "        overflow-x: auto;\n",
              "        padding: 8px 12px;\n",
              "        max-height: 500px;\n",
              "      }\n",
              "\n",
              "      pre.function-repr-contents.function-repr-contents-collapsed {\n",
              "        cursor: pointer;\n",
              "        max-height: 100px;\n",
              "      }\n",
              "    </style>\n",
              "    <pre style=\"white-space: initial; background:\n",
              "         var(--colab-secondary-surface-color); padding: 8px 12px;\n",
              "         border-bottom: 1px solid var(--colab-border-color);\"><b>pandas.core.generic.NDFrame.describe</b><br/>def describe(percentiles=None, include=None, exclude=None) -&gt; Self</pre><pre class=\"function-repr-contents function-repr-contents-collapsed\" style=\"\"><a class=\"filepath\" style=\"display:none\" href=\"#\">/usr/local/lib/python3.10/dist-packages/pandas/core/generic.py</a>Generate descriptive statistics.\n",
              "\n",
              "Descriptive statistics include those that summarize the central\n",
              "tendency, dispersion and shape of a\n",
              "dataset&#x27;s distribution, excluding ``NaN`` values.\n",
              "\n",
              "Analyzes both numeric and object series, as well\n",
              "as ``DataFrame`` column sets of mixed data types. The output\n",
              "will vary depending on what is provided. Refer to the notes\n",
              "below for more detail.\n",
              "\n",
              "Parameters\n",
              "----------\n",
              "percentiles : list-like of numbers, optional\n",
              "    The percentiles to include in the output. All should\n",
              "    fall between 0 and 1. The default is\n",
              "    ``[.25, .5, .75]``, which returns the 25th, 50th, and\n",
              "    75th percentiles.\n",
              "include : &#x27;all&#x27;, list-like of dtypes or None (default), optional\n",
              "    A white list of data types to include in the result. Ignored\n",
              "    for ``Series``. Here are the options:\n",
              "\n",
              "    - &#x27;all&#x27; : All columns of the input will be included in the output.\n",
              "    - A list-like of dtypes : Limits the results to the\n",
              "      provided data types.\n",
              "      To limit the result to numeric types submit\n",
              "      ``numpy.number``. To limit it instead to object columns submit\n",
              "      the ``numpy.object`` data type. Strings\n",
              "      can also be used in the style of\n",
              "      ``select_dtypes`` (e.g. ``df.describe(include=[&#x27;O&#x27;])``). To\n",
              "      select pandas categorical columns, use ``&#x27;category&#x27;``\n",
              "    - None (default) : The result will include all numeric columns.\n",
              "exclude : list-like of dtypes or None (default), optional,\n",
              "    A black list of data types to omit from the result. Ignored\n",
              "    for ``Series``. Here are the options:\n",
              "\n",
              "    - A list-like of dtypes : Excludes the provided data types\n",
              "      from the result. To exclude numeric types submit\n",
              "      ``numpy.number``. To exclude object columns submit the data\n",
              "      type ``numpy.object``. Strings can also be used in the style of\n",
              "      ``select_dtypes`` (e.g. ``df.describe(exclude=[&#x27;O&#x27;])``). To\n",
              "      exclude pandas categorical columns, use ``&#x27;category&#x27;``\n",
              "    - None (default) : The result will exclude nothing.\n",
              "\n",
              "Returns\n",
              "-------\n",
              "Series or DataFrame\n",
              "    Summary statistics of the Series or Dataframe provided.\n",
              "\n",
              "See Also\n",
              "--------\n",
              "DataFrame.count: Count number of non-NA/null observations.\n",
              "DataFrame.max: Maximum of the values in the object.\n",
              "DataFrame.min: Minimum of the values in the object.\n",
              "DataFrame.mean: Mean of the values.\n",
              "DataFrame.std: Standard deviation of the observations.\n",
              "DataFrame.select_dtypes: Subset of a DataFrame including/excluding\n",
              "    columns based on their dtype.\n",
              "\n",
              "Notes\n",
              "-----\n",
              "For numeric data, the result&#x27;s index will include ``count``,\n",
              "``mean``, ``std``, ``min``, ``max`` as well as lower, ``50`` and\n",
              "upper percentiles. By default the lower percentile is ``25`` and the\n",
              "upper percentile is ``75``. The ``50`` percentile is the\n",
              "same as the median.\n",
              "\n",
              "For object data (e.g. strings or timestamps), the result&#x27;s index\n",
              "will include ``count``, ``unique``, ``top``, and ``freq``. The ``top``\n",
              "is the most common value. The ``freq`` is the most common value&#x27;s\n",
              "frequency. Timestamps also include the ``first`` and ``last`` items.\n",
              "\n",
              "If multiple object values have the highest count, then the\n",
              "``count`` and ``top`` results will be arbitrarily chosen from\n",
              "among those with the highest count.\n",
              "\n",
              "For mixed data types provided via a ``DataFrame``, the default is to\n",
              "return only an analysis of numeric columns. If the dataframe consists\n",
              "only of object and categorical data without any numeric columns, the\n",
              "default is to return an analysis of both the object and categorical\n",
              "columns. If ``include=&#x27;all&#x27;`` is provided as an option, the result\n",
              "will include a union of attributes of each type.\n",
              "\n",
              "The `include` and `exclude` parameters can be used to limit\n",
              "which columns in a ``DataFrame`` are analyzed for the output.\n",
              "The parameters are ignored when analyzing a ``Series``.\n",
              "\n",
              "Examples\n",
              "--------\n",
              "Describing a numeric ``Series``.\n",
              "\n",
              "&gt;&gt;&gt; s = pd.Series([1, 2, 3])\n",
              "&gt;&gt;&gt; s.describe()\n",
              "count    3.0\n",
              "mean     2.0\n",
              "std      1.0\n",
              "min      1.0\n",
              "25%      1.5\n",
              "50%      2.0\n",
              "75%      2.5\n",
              "max      3.0\n",
              "dtype: float64\n",
              "\n",
              "Describing a categorical ``Series``.\n",
              "\n",
              "&gt;&gt;&gt; s = pd.Series([&#x27;a&#x27;, &#x27;a&#x27;, &#x27;b&#x27;, &#x27;c&#x27;])\n",
              "&gt;&gt;&gt; s.describe()\n",
              "count     4\n",
              "unique    3\n",
              "top       a\n",
              "freq      2\n",
              "dtype: object\n",
              "\n",
              "Describing a timestamp ``Series``.\n",
              "\n",
              "&gt;&gt;&gt; s = pd.Series([\n",
              "...     np.datetime64(&quot;2000-01-01&quot;),\n",
              "...     np.datetime64(&quot;2010-01-01&quot;),\n",
              "...     np.datetime64(&quot;2010-01-01&quot;)\n",
              "... ])\n",
              "&gt;&gt;&gt; s.describe()\n",
              "count                      3\n",
              "mean     2006-09-01 08:00:00\n",
              "min      2000-01-01 00:00:00\n",
              "25%      2004-12-31 12:00:00\n",
              "50%      2010-01-01 00:00:00\n",
              "75%      2010-01-01 00:00:00\n",
              "max      2010-01-01 00:00:00\n",
              "dtype: object\n",
              "\n",
              "Describing a ``DataFrame``. By default only numeric fields\n",
              "are returned.\n",
              "\n",
              "&gt;&gt;&gt; df = pd.DataFrame({&#x27;categorical&#x27;: pd.Categorical([&#x27;d&#x27;, &#x27;e&#x27;, &#x27;f&#x27;]),\n",
              "...                    &#x27;numeric&#x27;: [1, 2, 3],\n",
              "...                    &#x27;object&#x27;: [&#x27;a&#x27;, &#x27;b&#x27;, &#x27;c&#x27;]\n",
              "...                    })\n",
              "&gt;&gt;&gt; df.describe()\n",
              "       numeric\n",
              "count      3.0\n",
              "mean       2.0\n",
              "std        1.0\n",
              "min        1.0\n",
              "25%        1.5\n",
              "50%        2.0\n",
              "75%        2.5\n",
              "max        3.0\n",
              "\n",
              "Describing all columns of a ``DataFrame`` regardless of data type.\n",
              "\n",
              "&gt;&gt;&gt; df.describe(include=&#x27;all&#x27;)  # doctest: +SKIP\n",
              "       categorical  numeric object\n",
              "count            3      3.0      3\n",
              "unique           3      NaN      3\n",
              "top              f      NaN      a\n",
              "freq             1      NaN      1\n",
              "mean           NaN      2.0    NaN\n",
              "std            NaN      1.0    NaN\n",
              "min            NaN      1.0    NaN\n",
              "25%            NaN      1.5    NaN\n",
              "50%            NaN      2.0    NaN\n",
              "75%            NaN      2.5    NaN\n",
              "max            NaN      3.0    NaN\n",
              "\n",
              "Describing a column from a ``DataFrame`` by accessing it as\n",
              "an attribute.\n",
              "\n",
              "&gt;&gt;&gt; df.numeric.describe()\n",
              "count    3.0\n",
              "mean     2.0\n",
              "std      1.0\n",
              "min      1.0\n",
              "25%      1.5\n",
              "50%      2.0\n",
              "75%      2.5\n",
              "max      3.0\n",
              "Name: numeric, dtype: float64\n",
              "\n",
              "Including only numeric columns in a ``DataFrame`` description.\n",
              "\n",
              "&gt;&gt;&gt; df.describe(include=[np.number])\n",
              "       numeric\n",
              "count      3.0\n",
              "mean       2.0\n",
              "std        1.0\n",
              "min        1.0\n",
              "25%        1.5\n",
              "50%        2.0\n",
              "75%        2.5\n",
              "max        3.0\n",
              "\n",
              "Including only string columns in a ``DataFrame`` description.\n",
              "\n",
              "&gt;&gt;&gt; df.describe(include=[object])  # doctest: +SKIP\n",
              "       object\n",
              "count       3\n",
              "unique      3\n",
              "top         a\n",
              "freq        1\n",
              "\n",
              "Including only categorical columns from a ``DataFrame`` description.\n",
              "\n",
              "&gt;&gt;&gt; df.describe(include=[&#x27;category&#x27;])\n",
              "       categorical\n",
              "count            3\n",
              "unique           3\n",
              "top              d\n",
              "freq             1\n",
              "\n",
              "Excluding numeric columns from a ``DataFrame`` description.\n",
              "\n",
              "&gt;&gt;&gt; df.describe(exclude=[np.number])  # doctest: +SKIP\n",
              "       categorical object\n",
              "count            3      3\n",
              "unique           3      3\n",
              "top              f      a\n",
              "freq             1      1\n",
              "\n",
              "Excluding object columns from a ``DataFrame`` description.\n",
              "\n",
              "&gt;&gt;&gt; df.describe(exclude=[object])  # doctest: +SKIP\n",
              "       categorical  numeric\n",
              "count            3      3.0\n",
              "unique           3      NaN\n",
              "top              f      NaN\n",
              "freq             1      NaN\n",
              "mean           NaN      2.0\n",
              "std            NaN      1.0\n",
              "min            NaN      1.0\n",
              "25%            NaN      1.5\n",
              "50%            NaN      2.0\n",
              "75%            NaN      2.5\n",
              "max            NaN      3.0</pre>\n",
              "      <script>\n",
              "      if (google.colab.kernel.accessAllowed && google.colab.files && google.colab.files.view) {\n",
              "        for (const element of document.querySelectorAll('.filepath')) {\n",
              "          element.style.display = 'block'\n",
              "          element.onclick = (event) => {\n",
              "            event.preventDefault();\n",
              "            event.stopPropagation();\n",
              "            google.colab.files.view(element.textContent, 11734);\n",
              "          };\n",
              "        }\n",
              "      }\n",
              "      for (const element of document.querySelectorAll('.function-repr-contents')) {\n",
              "        element.onclick = (event) => {\n",
              "          event.preventDefault();\n",
              "          event.stopPropagation();\n",
              "          element.classList.toggle('function-repr-contents-collapsed');\n",
              "        };\n",
              "      }\n",
              "      </script>\n",
              "      </div>"
            ]
          },
          "metadata": {},
          "execution_count": 20
        }
      ],
      "source": [
        "# Answer Here\n",
        "df3.describe"
      ]
    },
    {
      "cell_type": "markdown",
      "metadata": {
        "id": "jEAxyt57PtvW"
      },
      "source": [
        "Above, we see a quick summary of all the data. For example, the most common language for mottos is Latin, which covers 23 different states. Does anything else seem surprising?"
      ]
    },
    {
      "cell_type": "markdown",
      "metadata": {
        "id": "5Sz84ZcoPtvX"
      },
      "source": [
        "We can get a direct reference to the index using .index."
      ]
    },
    {
      "cell_type": "code",
      "execution_count": 21,
      "metadata": {
        "id": "Oc8PNHQSPtvX",
        "colab": {
          "base_uri": "https://localhost:8080/"
        },
        "outputId": "bacc9c85-c3fe-4e5a-d0d3-10ff7cafdf4d"
      },
      "outputs": [
        {
          "output_type": "execute_result",
          "data": {
            "text/plain": [
              "RangeIndex(start=0, stop=50, step=1)"
            ]
          },
          "metadata": {},
          "execution_count": 21
        }
      ],
      "source": [
        "# Answer Here\n",
        "df3.index"
      ]
    },
    {
      "cell_type": "code",
      "execution_count": null,
      "metadata": {
        "id": "fHrsk46BPtvX"
      },
      "outputs": [],
      "source": [
        "mottos.head(2)"
      ]
    },
    {
      "cell_type": "markdown",
      "metadata": {
        "id": "IZRgHL-cPtvX"
      },
      "source": [
        "It turns out the columns also have an Index. We can access this index by using `.columns`."
      ]
    },
    {
      "cell_type": "code",
      "execution_count": 22,
      "metadata": {
        "colab": {
          "base_uri": "https://localhost:8080/"
        },
        "id": "b3uXufYwPtvX",
        "outputId": "c29a2264-a5ec-43db-eef3-1dfa481ded0c"
      },
      "outputs": [
        {
          "output_type": "execute_result",
          "data": {
            "text/plain": [
              "Index(['State', 'Motto', 'Translation', 'Language', 'Date Adopted'], dtype='object')"
            ]
          },
          "metadata": {},
          "execution_count": 22
        }
      ],
      "source": [
        "# Answer Here\n",
        "df3.columns"
      ]
    },
    {
      "cell_type": "markdown",
      "metadata": {
        "id": "vfqTqtXjPtvY"
      },
      "source": [
        "## Sorting and Value Counts\n",
        "\n",
        "There are also a ton of useful utility methods we can use with Data Frames and Series. For example, we can create a copy of a data frame sorted by a specific column using `sort_values`."
      ]
    },
    {
      "cell_type": "code",
      "execution_count": 24,
      "metadata": {
        "id": "ioH43WI_PtvY",
        "colab": {
          "base_uri": "https://localhost:8080/",
          "height": 1000
        },
        "outputId": "7598b57e-87c7-415c-9c25-43a5ce1f4d62"
      },
      "outputs": [
        {
          "output_type": "execute_result",
          "data": {
            "text/plain": [
              "             State                                              Motto  \\\n",
              "20   Massachusetts          Ense petit placidam sub libertate quietem   \n",
              "45        Virginia                                Sic semper tyrannis   \n",
              "31        New York                                          Excelsior   \n",
              "9          Georgia                        Wisdom, Justice, Moderation   \n",
              "12        Illinois                  State sovereignty, national union   \n",
              "18           Maine                                             Dirigo   \n",
              "14            Iowa  Our liberties we prize and our rights we will ...   \n",
              "7         Delaware                           Liberty and Independence   \n",
              "4       California                                    Eureka (Εὕρηκα)   \n",
              "48       Wisconsin                                            Forward   \n",
              "36          Oregon                                Alis volat propriis   \n",
              "15          Kansas                                Ad astra per aspera   \n",
              "22       Minnesota                                   L'étoile du Nord   \n",
              "2          Arizona                                         Ditat Deus   \n",
              "26        Nebraska                            Equality before the law   \n",
              "8          Florida                                    In God We Trust   \n",
              "19        Maryland                       Fatti maschii, parole femine   \n",
              "37    Pennsylvania                  Virtue, liberty, and independence   \n",
              "40    South Dakota                          Under God the people rule   \n",
              "30      New Mexico                                      Crescit eundo   \n",
              "11           Idaho                                      Esto perpetua   \n",
              "32  North Carolina                                   Esse quam videri   \n",
              "49         Wyoming                                       Equal Rights   \n",
              "17       Louisiana                         Union, justice, confidence   \n",
              "3         Arkansas                                     Regnat populus   \n",
              "0          Alabama                      Audemus jura nostra defendere   \n",
              "42           Texas                                         Friendship   \n",
              "13         Indiana                          The Crossroads of America   \n",
              "28   New Hampshire                                   Live Free or Die   \n",
              "1           Alaska                                North to the future   \n",
              "16        Kentucky                               Deo gratiam habeamus   \n",
              "44         Vermont                       Stella quarta decima fulgeat   \n",
              "27          Nevada                                All For Our Country   \n",
              "23     Mississippi                                   Virtute et armis   \n",
              "25         Montana                                        Oro y plata   \n",
              "24        Missouri                      Salus populi suprema lex esto   \n",
              "10          Hawaii                  Ua mau ke ea o ka ʻāina i ka pono   \n",
              "21        Michigan          Si quaeris peninsulam amoenam circumspice   \n",
              "35        Oklahoma                                 Labor omnia vincit   \n",
              "33    North Dakota                    \\nSerit ut alteri saeclo prosit   \n",
              "29      New Jersey                             Liberty and prosperity   \n",
              "39  South Carolina          Dum spiro spero \\nAnimis opibusque parati   \n",
              "41       Tennessee                           Agriculture and Commerce   \n",
              "43            Utah                                           Industry   \n",
              "38    Rhode Island                                               Hope   \n",
              "5         Colorado                                    Nil sine numine   \n",
              "34            Ohio                  With God, all things are possible   \n",
              "6      Connecticut                            Qui transtulit sustinet   \n",
              "47   West Virginia                              Montani semper liberi   \n",
              "46      Washington                                      Al-ki or Alki   \n",
              "\n",
              "                                          Translation        Language  \\\n",
              "20  By the sword we seek peace, but peace only und...           Latin   \n",
              "45                             Thus always to tyrants           Latin   \n",
              "31                                        Ever upward           Latin   \n",
              "9                                                   —         English   \n",
              "12                                                  —         English   \n",
              "18                                             I lead           Latin   \n",
              "14                                                  —         English   \n",
              "7                                                   —         English   \n",
              "4                                     I have found it           Greek   \n",
              "48                                                  —         English   \n",
              "36                       She flies with her own wings           Latin   \n",
              "15                  To the stars through difficulties           Latin   \n",
              "22                              The star of the North          French   \n",
              "2                                        God enriches           Latin   \n",
              "26                                                  —         English   \n",
              "8                                                   —         English   \n",
              "19                         Manly deeds, womanly words         Italian   \n",
              "37                                                  —         English   \n",
              "40                                                  —         English   \n",
              "30                                It grows as it goes           Latin   \n",
              "11                                Let it be perpetual           Latin   \n",
              "32                         To be, rather than to seem           Latin   \n",
              "49                                                  —         English   \n",
              "17                                                  —         English   \n",
              "3                                     The people rule           Latin   \n",
              "0                          We dare defend our rights!           Latin   \n",
              "42                                                  —         English   \n",
              "13                                                  —         English   \n",
              "28                                                  —         English   \n",
              "1                                                   —         English   \n",
              "16                          Let us be grateful to God           Latin   \n",
              "44               May the fourteenth star shine bright           Latin   \n",
              "27                                                  —         English   \n",
              "23                                  By valor and arms           Latin   \n",
              "25                                    Gold and silver         Spanish   \n",
              "24   Let the welfare of the people be the supreme law           Latin   \n",
              "10  The life of the land is perpetuated in righteo...        Hawaiian   \n",
              "21   If you seek a pleasant peninsula, look about you           Latin   \n",
              "35                          Labor conquers all things           Latin   \n",
              "33            One sows for the benefit of another age           Latin   \n",
              "29                                                  —         English   \n",
              "39  While I breathe, I hope \\nReady in soul and re...           Latin   \n",
              "41                                                  —         English   \n",
              "43                                                NaN         English   \n",
              "38                                                  —         English   \n",
              "5                         Nothing without providence.           Latin   \n",
              "34                                                  —         English   \n",
              "6                        He who transplanted sustains           Latin   \n",
              "47                       Mountaineers are always free           Latin   \n",
              "46                                          By and by  Chinook Jargon   \n",
              "\n",
              "          Date Adopted  \n",
              "20                1775  \n",
              "45                1776  \n",
              "31                1778  \n",
              "9                 1798  \n",
              "12                1819  \n",
              "18                1820  \n",
              "14                1847  \n",
              "7                 1847  \n",
              "4                 1849  \n",
              "48                1851  \n",
              "36                1854  \n",
              "15                1861  \n",
              "22                1861  \n",
              "2                 1863  \n",
              "26                1867  \n",
              "8                 1868  \n",
              "19                1874  \n",
              "37                1875  \n",
              "40                1885  \n",
              "30                1887  \n",
              "11                1890  \n",
              "32                1893  \n",
              "49                1893  \n",
              "17                1902  \n",
              "3                 1907  \n",
              "0                 1923  \n",
              "42                1930  \n",
              "13                1937  \n",
              "28                1945  \n",
              "1                 1967  \n",
              "16                2002  \n",
              "44      April 10, 2015  \n",
              "27   February 24, 1866  \n",
              "23    February 7, 1894  \n",
              "25    February 9, 1865  \n",
              "24    January 11, 1822  \n",
              "10       July 31, 1843  \n",
              "21        June 2, 1835  \n",
              "35      March 10, 1893  \n",
              "33      March 11, 2011  \n",
              "29      March 26, 1928  \n",
              "39        May 22, 1777  \n",
              "41        May 24, 1802  \n",
              "43         May 3, 1896  \n",
              "38         May 4, 1664  \n",
              "5     November 6, 1861  \n",
              "34     October 1, 1959  \n",
              "6      October 9, 1662  \n",
              "47  September 26, 1863  \n",
              "46                   —  "
            ],
            "text/html": [
              "\n",
              "  <div id=\"df-e693a9f7-3ea7-4623-9886-b3f64fef177e\" class=\"colab-df-container\">\n",
              "    <div>\n",
              "<style scoped>\n",
              "    .dataframe tbody tr th:only-of-type {\n",
              "        vertical-align: middle;\n",
              "    }\n",
              "\n",
              "    .dataframe tbody tr th {\n",
              "        vertical-align: top;\n",
              "    }\n",
              "\n",
              "    .dataframe thead th {\n",
              "        text-align: right;\n",
              "    }\n",
              "</style>\n",
              "<table border=\"1\" class=\"dataframe\">\n",
              "  <thead>\n",
              "    <tr style=\"text-align: right;\">\n",
              "      <th></th>\n",
              "      <th>State</th>\n",
              "      <th>Motto</th>\n",
              "      <th>Translation</th>\n",
              "      <th>Language</th>\n",
              "      <th>Date Adopted</th>\n",
              "    </tr>\n",
              "  </thead>\n",
              "  <tbody>\n",
              "    <tr>\n",
              "      <th>20</th>\n",
              "      <td>Massachusetts</td>\n",
              "      <td>Ense petit placidam sub libertate quietem</td>\n",
              "      <td>By the sword we seek peace, but peace only und...</td>\n",
              "      <td>Latin</td>\n",
              "      <td>1775</td>\n",
              "    </tr>\n",
              "    <tr>\n",
              "      <th>45</th>\n",
              "      <td>Virginia</td>\n",
              "      <td>Sic semper tyrannis</td>\n",
              "      <td>Thus always to tyrants</td>\n",
              "      <td>Latin</td>\n",
              "      <td>1776</td>\n",
              "    </tr>\n",
              "    <tr>\n",
              "      <th>31</th>\n",
              "      <td>New York</td>\n",
              "      <td>Excelsior</td>\n",
              "      <td>Ever upward</td>\n",
              "      <td>Latin</td>\n",
              "      <td>1778</td>\n",
              "    </tr>\n",
              "    <tr>\n",
              "      <th>9</th>\n",
              "      <td>Georgia</td>\n",
              "      <td>Wisdom, Justice, Moderation</td>\n",
              "      <td>—</td>\n",
              "      <td>English</td>\n",
              "      <td>1798</td>\n",
              "    </tr>\n",
              "    <tr>\n",
              "      <th>12</th>\n",
              "      <td>Illinois</td>\n",
              "      <td>State sovereignty, national union</td>\n",
              "      <td>—</td>\n",
              "      <td>English</td>\n",
              "      <td>1819</td>\n",
              "    </tr>\n",
              "    <tr>\n",
              "      <th>18</th>\n",
              "      <td>Maine</td>\n",
              "      <td>Dirigo</td>\n",
              "      <td>I lead</td>\n",
              "      <td>Latin</td>\n",
              "      <td>1820</td>\n",
              "    </tr>\n",
              "    <tr>\n",
              "      <th>14</th>\n",
              "      <td>Iowa</td>\n",
              "      <td>Our liberties we prize and our rights we will ...</td>\n",
              "      <td>—</td>\n",
              "      <td>English</td>\n",
              "      <td>1847</td>\n",
              "    </tr>\n",
              "    <tr>\n",
              "      <th>7</th>\n",
              "      <td>Delaware</td>\n",
              "      <td>Liberty and Independence</td>\n",
              "      <td>—</td>\n",
              "      <td>English</td>\n",
              "      <td>1847</td>\n",
              "    </tr>\n",
              "    <tr>\n",
              "      <th>4</th>\n",
              "      <td>California</td>\n",
              "      <td>Eureka (Εὕρηκα)</td>\n",
              "      <td>I have found it</td>\n",
              "      <td>Greek</td>\n",
              "      <td>1849</td>\n",
              "    </tr>\n",
              "    <tr>\n",
              "      <th>48</th>\n",
              "      <td>Wisconsin</td>\n",
              "      <td>Forward</td>\n",
              "      <td>—</td>\n",
              "      <td>English</td>\n",
              "      <td>1851</td>\n",
              "    </tr>\n",
              "    <tr>\n",
              "      <th>36</th>\n",
              "      <td>Oregon</td>\n",
              "      <td>Alis volat propriis</td>\n",
              "      <td>She flies with her own wings</td>\n",
              "      <td>Latin</td>\n",
              "      <td>1854</td>\n",
              "    </tr>\n",
              "    <tr>\n",
              "      <th>15</th>\n",
              "      <td>Kansas</td>\n",
              "      <td>Ad astra per aspera</td>\n",
              "      <td>To the stars through difficulties</td>\n",
              "      <td>Latin</td>\n",
              "      <td>1861</td>\n",
              "    </tr>\n",
              "    <tr>\n",
              "      <th>22</th>\n",
              "      <td>Minnesota</td>\n",
              "      <td>L'étoile du Nord</td>\n",
              "      <td>The star of the North</td>\n",
              "      <td>French</td>\n",
              "      <td>1861</td>\n",
              "    </tr>\n",
              "    <tr>\n",
              "      <th>2</th>\n",
              "      <td>Arizona</td>\n",
              "      <td>Ditat Deus</td>\n",
              "      <td>God enriches</td>\n",
              "      <td>Latin</td>\n",
              "      <td>1863</td>\n",
              "    </tr>\n",
              "    <tr>\n",
              "      <th>26</th>\n",
              "      <td>Nebraska</td>\n",
              "      <td>Equality before the law</td>\n",
              "      <td>—</td>\n",
              "      <td>English</td>\n",
              "      <td>1867</td>\n",
              "    </tr>\n",
              "    <tr>\n",
              "      <th>8</th>\n",
              "      <td>Florida</td>\n",
              "      <td>In God We Trust</td>\n",
              "      <td>—</td>\n",
              "      <td>English</td>\n",
              "      <td>1868</td>\n",
              "    </tr>\n",
              "    <tr>\n",
              "      <th>19</th>\n",
              "      <td>Maryland</td>\n",
              "      <td>Fatti maschii, parole femine</td>\n",
              "      <td>Manly deeds, womanly words</td>\n",
              "      <td>Italian</td>\n",
              "      <td>1874</td>\n",
              "    </tr>\n",
              "    <tr>\n",
              "      <th>37</th>\n",
              "      <td>Pennsylvania</td>\n",
              "      <td>Virtue, liberty, and independence</td>\n",
              "      <td>—</td>\n",
              "      <td>English</td>\n",
              "      <td>1875</td>\n",
              "    </tr>\n",
              "    <tr>\n",
              "      <th>40</th>\n",
              "      <td>South Dakota</td>\n",
              "      <td>Under God the people rule</td>\n",
              "      <td>—</td>\n",
              "      <td>English</td>\n",
              "      <td>1885</td>\n",
              "    </tr>\n",
              "    <tr>\n",
              "      <th>30</th>\n",
              "      <td>New Mexico</td>\n",
              "      <td>Crescit eundo</td>\n",
              "      <td>It grows as it goes</td>\n",
              "      <td>Latin</td>\n",
              "      <td>1887</td>\n",
              "    </tr>\n",
              "    <tr>\n",
              "      <th>11</th>\n",
              "      <td>Idaho</td>\n",
              "      <td>Esto perpetua</td>\n",
              "      <td>Let it be perpetual</td>\n",
              "      <td>Latin</td>\n",
              "      <td>1890</td>\n",
              "    </tr>\n",
              "    <tr>\n",
              "      <th>32</th>\n",
              "      <td>North Carolina</td>\n",
              "      <td>Esse quam videri</td>\n",
              "      <td>To be, rather than to seem</td>\n",
              "      <td>Latin</td>\n",
              "      <td>1893</td>\n",
              "    </tr>\n",
              "    <tr>\n",
              "      <th>49</th>\n",
              "      <td>Wyoming</td>\n",
              "      <td>Equal Rights</td>\n",
              "      <td>—</td>\n",
              "      <td>English</td>\n",
              "      <td>1893</td>\n",
              "    </tr>\n",
              "    <tr>\n",
              "      <th>17</th>\n",
              "      <td>Louisiana</td>\n",
              "      <td>Union, justice, confidence</td>\n",
              "      <td>—</td>\n",
              "      <td>English</td>\n",
              "      <td>1902</td>\n",
              "    </tr>\n",
              "    <tr>\n",
              "      <th>3</th>\n",
              "      <td>Arkansas</td>\n",
              "      <td>Regnat populus</td>\n",
              "      <td>The people rule</td>\n",
              "      <td>Latin</td>\n",
              "      <td>1907</td>\n",
              "    </tr>\n",
              "    <tr>\n",
              "      <th>0</th>\n",
              "      <td>Alabama</td>\n",
              "      <td>Audemus jura nostra defendere</td>\n",
              "      <td>We dare defend our rights!</td>\n",
              "      <td>Latin</td>\n",
              "      <td>1923</td>\n",
              "    </tr>\n",
              "    <tr>\n",
              "      <th>42</th>\n",
              "      <td>Texas</td>\n",
              "      <td>Friendship</td>\n",
              "      <td>—</td>\n",
              "      <td>English</td>\n",
              "      <td>1930</td>\n",
              "    </tr>\n",
              "    <tr>\n",
              "      <th>13</th>\n",
              "      <td>Indiana</td>\n",
              "      <td>The Crossroads of America</td>\n",
              "      <td>—</td>\n",
              "      <td>English</td>\n",
              "      <td>1937</td>\n",
              "    </tr>\n",
              "    <tr>\n",
              "      <th>28</th>\n",
              "      <td>New Hampshire</td>\n",
              "      <td>Live Free or Die</td>\n",
              "      <td>—</td>\n",
              "      <td>English</td>\n",
              "      <td>1945</td>\n",
              "    </tr>\n",
              "    <tr>\n",
              "      <th>1</th>\n",
              "      <td>Alaska</td>\n",
              "      <td>North to the future</td>\n",
              "      <td>—</td>\n",
              "      <td>English</td>\n",
              "      <td>1967</td>\n",
              "    </tr>\n",
              "    <tr>\n",
              "      <th>16</th>\n",
              "      <td>Kentucky</td>\n",
              "      <td>Deo gratiam habeamus</td>\n",
              "      <td>Let us be grateful to God</td>\n",
              "      <td>Latin</td>\n",
              "      <td>2002</td>\n",
              "    </tr>\n",
              "    <tr>\n",
              "      <th>44</th>\n",
              "      <td>Vermont</td>\n",
              "      <td>Stella quarta decima fulgeat</td>\n",
              "      <td>May the fourteenth star shine bright</td>\n",
              "      <td>Latin</td>\n",
              "      <td>April 10, 2015</td>\n",
              "    </tr>\n",
              "    <tr>\n",
              "      <th>27</th>\n",
              "      <td>Nevada</td>\n",
              "      <td>All For Our Country</td>\n",
              "      <td>—</td>\n",
              "      <td>English</td>\n",
              "      <td>February 24, 1866</td>\n",
              "    </tr>\n",
              "    <tr>\n",
              "      <th>23</th>\n",
              "      <td>Mississippi</td>\n",
              "      <td>Virtute et armis</td>\n",
              "      <td>By valor and arms</td>\n",
              "      <td>Latin</td>\n",
              "      <td>February 7, 1894</td>\n",
              "    </tr>\n",
              "    <tr>\n",
              "      <th>25</th>\n",
              "      <td>Montana</td>\n",
              "      <td>Oro y plata</td>\n",
              "      <td>Gold and silver</td>\n",
              "      <td>Spanish</td>\n",
              "      <td>February 9, 1865</td>\n",
              "    </tr>\n",
              "    <tr>\n",
              "      <th>24</th>\n",
              "      <td>Missouri</td>\n",
              "      <td>Salus populi suprema lex esto</td>\n",
              "      <td>Let the welfare of the people be the supreme law</td>\n",
              "      <td>Latin</td>\n",
              "      <td>January 11, 1822</td>\n",
              "    </tr>\n",
              "    <tr>\n",
              "      <th>10</th>\n",
              "      <td>Hawaii</td>\n",
              "      <td>Ua mau ke ea o ka ʻāina i ka pono</td>\n",
              "      <td>The life of the land is perpetuated in righteo...</td>\n",
              "      <td>Hawaiian</td>\n",
              "      <td>July 31, 1843</td>\n",
              "    </tr>\n",
              "    <tr>\n",
              "      <th>21</th>\n",
              "      <td>Michigan</td>\n",
              "      <td>Si quaeris peninsulam amoenam circumspice</td>\n",
              "      <td>If you seek a pleasant peninsula, look about you</td>\n",
              "      <td>Latin</td>\n",
              "      <td>June 2, 1835</td>\n",
              "    </tr>\n",
              "    <tr>\n",
              "      <th>35</th>\n",
              "      <td>Oklahoma</td>\n",
              "      <td>Labor omnia vincit</td>\n",
              "      <td>Labor conquers all things</td>\n",
              "      <td>Latin</td>\n",
              "      <td>March 10, 1893</td>\n",
              "    </tr>\n",
              "    <tr>\n",
              "      <th>33</th>\n",
              "      <td>North Dakota</td>\n",
              "      <td>\\nSerit ut alteri saeclo prosit</td>\n",
              "      <td>One sows for the benefit of another age</td>\n",
              "      <td>Latin</td>\n",
              "      <td>March 11, 2011</td>\n",
              "    </tr>\n",
              "    <tr>\n",
              "      <th>29</th>\n",
              "      <td>New Jersey</td>\n",
              "      <td>Liberty and prosperity</td>\n",
              "      <td>—</td>\n",
              "      <td>English</td>\n",
              "      <td>March 26, 1928</td>\n",
              "    </tr>\n",
              "    <tr>\n",
              "      <th>39</th>\n",
              "      <td>South Carolina</td>\n",
              "      <td>Dum spiro spero \\nAnimis opibusque parati</td>\n",
              "      <td>While I breathe, I hope \\nReady in soul and re...</td>\n",
              "      <td>Latin</td>\n",
              "      <td>May 22, 1777</td>\n",
              "    </tr>\n",
              "    <tr>\n",
              "      <th>41</th>\n",
              "      <td>Tennessee</td>\n",
              "      <td>Agriculture and Commerce</td>\n",
              "      <td>—</td>\n",
              "      <td>English</td>\n",
              "      <td>May 24, 1802</td>\n",
              "    </tr>\n",
              "    <tr>\n",
              "      <th>43</th>\n",
              "      <td>Utah</td>\n",
              "      <td>Industry</td>\n",
              "      <td>NaN</td>\n",
              "      <td>English</td>\n",
              "      <td>May 3, 1896</td>\n",
              "    </tr>\n",
              "    <tr>\n",
              "      <th>38</th>\n",
              "      <td>Rhode Island</td>\n",
              "      <td>Hope</td>\n",
              "      <td>—</td>\n",
              "      <td>English</td>\n",
              "      <td>May 4, 1664</td>\n",
              "    </tr>\n",
              "    <tr>\n",
              "      <th>5</th>\n",
              "      <td>Colorado</td>\n",
              "      <td>Nil sine numine</td>\n",
              "      <td>Nothing without providence.</td>\n",
              "      <td>Latin</td>\n",
              "      <td>November 6, 1861</td>\n",
              "    </tr>\n",
              "    <tr>\n",
              "      <th>34</th>\n",
              "      <td>Ohio</td>\n",
              "      <td>With God, all things are possible</td>\n",
              "      <td>—</td>\n",
              "      <td>English</td>\n",
              "      <td>October 1, 1959</td>\n",
              "    </tr>\n",
              "    <tr>\n",
              "      <th>6</th>\n",
              "      <td>Connecticut</td>\n",
              "      <td>Qui transtulit sustinet</td>\n",
              "      <td>He who transplanted sustains</td>\n",
              "      <td>Latin</td>\n",
              "      <td>October 9, 1662</td>\n",
              "    </tr>\n",
              "    <tr>\n",
              "      <th>47</th>\n",
              "      <td>West Virginia</td>\n",
              "      <td>Montani semper liberi</td>\n",
              "      <td>Mountaineers are always free</td>\n",
              "      <td>Latin</td>\n",
              "      <td>September 26, 1863</td>\n",
              "    </tr>\n",
              "    <tr>\n",
              "      <th>46</th>\n",
              "      <td>Washington</td>\n",
              "      <td>Al-ki or Alki</td>\n",
              "      <td>By and by</td>\n",
              "      <td>Chinook Jargon</td>\n",
              "      <td>—</td>\n",
              "    </tr>\n",
              "  </tbody>\n",
              "</table>\n",
              "</div>\n",
              "    <div class=\"colab-df-buttons\">\n",
              "\n",
              "  <div class=\"colab-df-container\">\n",
              "    <button class=\"colab-df-convert\" onclick=\"convertToInteractive('df-e693a9f7-3ea7-4623-9886-b3f64fef177e')\"\n",
              "            title=\"Convert this dataframe to an interactive table.\"\n",
              "            style=\"display:none;\">\n",
              "\n",
              "  <svg xmlns=\"http://www.w3.org/2000/svg\" height=\"24px\" viewBox=\"0 -960 960 960\">\n",
              "    <path d=\"M120-120v-720h720v720H120Zm60-500h600v-160H180v160Zm220 220h160v-160H400v160Zm0 220h160v-160H400v160ZM180-400h160v-160H180v160Zm440 0h160v-160H620v160ZM180-180h160v-160H180v160Zm440 0h160v-160H620v160Z\"/>\n",
              "  </svg>\n",
              "    </button>\n",
              "\n",
              "  <style>\n",
              "    .colab-df-container {\n",
              "      display:flex;\n",
              "      gap: 12px;\n",
              "    }\n",
              "\n",
              "    .colab-df-convert {\n",
              "      background-color: #E8F0FE;\n",
              "      border: none;\n",
              "      border-radius: 50%;\n",
              "      cursor: pointer;\n",
              "      display: none;\n",
              "      fill: #1967D2;\n",
              "      height: 32px;\n",
              "      padding: 0 0 0 0;\n",
              "      width: 32px;\n",
              "    }\n",
              "\n",
              "    .colab-df-convert:hover {\n",
              "      background-color: #E2EBFA;\n",
              "      box-shadow: 0px 1px 2px rgba(60, 64, 67, 0.3), 0px 1px 3px 1px rgba(60, 64, 67, 0.15);\n",
              "      fill: #174EA6;\n",
              "    }\n",
              "\n",
              "    .colab-df-buttons div {\n",
              "      margin-bottom: 4px;\n",
              "    }\n",
              "\n",
              "    [theme=dark] .colab-df-convert {\n",
              "      background-color: #3B4455;\n",
              "      fill: #D2E3FC;\n",
              "    }\n",
              "\n",
              "    [theme=dark] .colab-df-convert:hover {\n",
              "      background-color: #434B5C;\n",
              "      box-shadow: 0px 1px 3px 1px rgba(0, 0, 0, 0.15);\n",
              "      filter: drop-shadow(0px 1px 2px rgba(0, 0, 0, 0.3));\n",
              "      fill: #FFFFFF;\n",
              "    }\n",
              "  </style>\n",
              "\n",
              "    <script>\n",
              "      const buttonEl =\n",
              "        document.querySelector('#df-e693a9f7-3ea7-4623-9886-b3f64fef177e button.colab-df-convert');\n",
              "      buttonEl.style.display =\n",
              "        google.colab.kernel.accessAllowed ? 'block' : 'none';\n",
              "\n",
              "      async function convertToInteractive(key) {\n",
              "        const element = document.querySelector('#df-e693a9f7-3ea7-4623-9886-b3f64fef177e');\n",
              "        const dataTable =\n",
              "          await google.colab.kernel.invokeFunction('convertToInteractive',\n",
              "                                                    [key], {});\n",
              "        if (!dataTable) return;\n",
              "\n",
              "        const docLinkHtml = 'Like what you see? Visit the ' +\n",
              "          '<a target=\"_blank\" href=https://colab.research.google.com/notebooks/data_table.ipynb>data table notebook</a>'\n",
              "          + ' to learn more about interactive tables.';\n",
              "        element.innerHTML = '';\n",
              "        dataTable['output_type'] = 'display_data';\n",
              "        await google.colab.output.renderOutput(dataTable, element);\n",
              "        const docLink = document.createElement('div');\n",
              "        docLink.innerHTML = docLinkHtml;\n",
              "        element.appendChild(docLink);\n",
              "      }\n",
              "    </script>\n",
              "  </div>\n",
              "\n",
              "\n",
              "<div id=\"df-393ffa3d-7eea-4f08-9687-0aae5b428c7a\">\n",
              "  <button class=\"colab-df-quickchart\" onclick=\"quickchart('df-393ffa3d-7eea-4f08-9687-0aae5b428c7a')\"\n",
              "            title=\"Suggest charts\"\n",
              "            style=\"display:none;\">\n",
              "\n",
              "<svg xmlns=\"http://www.w3.org/2000/svg\" height=\"24px\"viewBox=\"0 0 24 24\"\n",
              "     width=\"24px\">\n",
              "    <g>\n",
              "        <path d=\"M19 3H5c-1.1 0-2 .9-2 2v14c0 1.1.9 2 2 2h14c1.1 0 2-.9 2-2V5c0-1.1-.9-2-2-2zM9 17H7v-7h2v7zm4 0h-2V7h2v10zm4 0h-2v-4h2v4z\"/>\n",
              "    </g>\n",
              "</svg>\n",
              "  </button>\n",
              "\n",
              "<style>\n",
              "  .colab-df-quickchart {\n",
              "      --bg-color: #E8F0FE;\n",
              "      --fill-color: #1967D2;\n",
              "      --hover-bg-color: #E2EBFA;\n",
              "      --hover-fill-color: #174EA6;\n",
              "      --disabled-fill-color: #AAA;\n",
              "      --disabled-bg-color: #DDD;\n",
              "  }\n",
              "\n",
              "  [theme=dark] .colab-df-quickchart {\n",
              "      --bg-color: #3B4455;\n",
              "      --fill-color: #D2E3FC;\n",
              "      --hover-bg-color: #434B5C;\n",
              "      --hover-fill-color: #FFFFFF;\n",
              "      --disabled-bg-color: #3B4455;\n",
              "      --disabled-fill-color: #666;\n",
              "  }\n",
              "\n",
              "  .colab-df-quickchart {\n",
              "    background-color: var(--bg-color);\n",
              "    border: none;\n",
              "    border-radius: 50%;\n",
              "    cursor: pointer;\n",
              "    display: none;\n",
              "    fill: var(--fill-color);\n",
              "    height: 32px;\n",
              "    padding: 0;\n",
              "    width: 32px;\n",
              "  }\n",
              "\n",
              "  .colab-df-quickchart:hover {\n",
              "    background-color: var(--hover-bg-color);\n",
              "    box-shadow: 0 1px 2px rgba(60, 64, 67, 0.3), 0 1px 3px 1px rgba(60, 64, 67, 0.15);\n",
              "    fill: var(--button-hover-fill-color);\n",
              "  }\n",
              "\n",
              "  .colab-df-quickchart-complete:disabled,\n",
              "  .colab-df-quickchart-complete:disabled:hover {\n",
              "    background-color: var(--disabled-bg-color);\n",
              "    fill: var(--disabled-fill-color);\n",
              "    box-shadow: none;\n",
              "  }\n",
              "\n",
              "  .colab-df-spinner {\n",
              "    border: 2px solid var(--fill-color);\n",
              "    border-color: transparent;\n",
              "    border-bottom-color: var(--fill-color);\n",
              "    animation:\n",
              "      spin 1s steps(1) infinite;\n",
              "  }\n",
              "\n",
              "  @keyframes spin {\n",
              "    0% {\n",
              "      border-color: transparent;\n",
              "      border-bottom-color: var(--fill-color);\n",
              "      border-left-color: var(--fill-color);\n",
              "    }\n",
              "    20% {\n",
              "      border-color: transparent;\n",
              "      border-left-color: var(--fill-color);\n",
              "      border-top-color: var(--fill-color);\n",
              "    }\n",
              "    30% {\n",
              "      border-color: transparent;\n",
              "      border-left-color: var(--fill-color);\n",
              "      border-top-color: var(--fill-color);\n",
              "      border-right-color: var(--fill-color);\n",
              "    }\n",
              "    40% {\n",
              "      border-color: transparent;\n",
              "      border-right-color: var(--fill-color);\n",
              "      border-top-color: var(--fill-color);\n",
              "    }\n",
              "    60% {\n",
              "      border-color: transparent;\n",
              "      border-right-color: var(--fill-color);\n",
              "    }\n",
              "    80% {\n",
              "      border-color: transparent;\n",
              "      border-right-color: var(--fill-color);\n",
              "      border-bottom-color: var(--fill-color);\n",
              "    }\n",
              "    90% {\n",
              "      border-color: transparent;\n",
              "      border-bottom-color: var(--fill-color);\n",
              "    }\n",
              "  }\n",
              "</style>\n",
              "\n",
              "  <script>\n",
              "    async function quickchart(key) {\n",
              "      const quickchartButtonEl =\n",
              "        document.querySelector('#' + key + ' button');\n",
              "      quickchartButtonEl.disabled = true;  // To prevent multiple clicks.\n",
              "      quickchartButtonEl.classList.add('colab-df-spinner');\n",
              "      try {\n",
              "        const charts = await google.colab.kernel.invokeFunction(\n",
              "            'suggestCharts', [key], {});\n",
              "      } catch (error) {\n",
              "        console.error('Error during call to suggestCharts:', error);\n",
              "      }\n",
              "      quickchartButtonEl.classList.remove('colab-df-spinner');\n",
              "      quickchartButtonEl.classList.add('colab-df-quickchart-complete');\n",
              "    }\n",
              "    (() => {\n",
              "      let quickchartButtonEl =\n",
              "        document.querySelector('#df-393ffa3d-7eea-4f08-9687-0aae5b428c7a button');\n",
              "      quickchartButtonEl.style.display =\n",
              "        google.colab.kernel.accessAllowed ? 'block' : 'none';\n",
              "    })();\n",
              "  </script>\n",
              "</div>\n",
              "\n",
              "    </div>\n",
              "  </div>\n"
            ],
            "application/vnd.google.colaboratory.intrinsic+json": {
              "type": "dataframe",
              "summary": "{\n  \"name\": \"df3\",\n  \"rows\": 50,\n  \"fields\": [\n    {\n      \"column\": \"State\",\n      \"properties\": {\n        \"dtype\": \"string\",\n        \"num_unique_values\": 50,\n        \"samples\": [\n          \"Arizona\",\n          \"North Dakota\",\n          \"Kentucky\"\n        ],\n        \"semantic_type\": \"\",\n        \"description\": \"\"\n      }\n    },\n    {\n      \"column\": \"Motto\",\n      \"properties\": {\n        \"dtype\": \"string\",\n        \"num_unique_values\": 50,\n        \"samples\": [\n          \"Ditat Deus\",\n          \"\\nSerit ut alteri saeclo prosit\",\n          \"Deo gratiam habeamus\"\n        ],\n        \"semantic_type\": \"\",\n        \"description\": \"\"\n      }\n    },\n    {\n      \"column\": \"Translation\",\n      \"properties\": {\n        \"dtype\": \"string\",\n        \"num_unique_values\": 30,\n        \"samples\": [\n          \"He who transplanted sustains\",\n          \"We dare defend our rights!\",\n          \"Labor conquers all things\"\n        ],\n        \"semantic_type\": \"\",\n        \"description\": \"\"\n      }\n    },\n    {\n      \"column\": \"Language\",\n      \"properties\": {\n        \"dtype\": \"category\",\n        \"num_unique_values\": 8,\n        \"samples\": [\n          \"English\",\n          \"Spanish\",\n          \"Latin\"\n        ],\n        \"semantic_type\": \"\",\n        \"description\": \"\"\n      }\n    },\n    {\n      \"column\": \"Date Adopted\",\n      \"properties\": {\n        \"dtype\": \"string\",\n        \"num_unique_values\": 47,\n        \"samples\": [\n          \"2002\",\n          \"May 24, 1802\",\n          \"1967\"\n        ],\n        \"semantic_type\": \"\",\n        \"description\": \"\"\n      }\n    }\n  ]\n}"
            }
          },
          "metadata": {},
          "execution_count": 24
        }
      ],
      "source": [
        "# Answer Here\n",
        "df3.sort_values(by='Date Adopted')\n",
        "\n"
      ]
    },
    {
      "cell_type": "markdown",
      "metadata": {
        "id": "LwW2YK8gPtvY"
      },
      "source": [
        "As mentioned before, all Data Frame methods return a copy and do **not** modify the original data structure, unless you set inplace to True."
      ]
    },
    {
      "cell_type": "markdown",
      "metadata": {
        "id": "tMqlf3Q8PtvY"
      },
      "source": [
        "If we want to sort in reverse order, we can set `ascending=False`."
      ]
    },
    {
      "cell_type": "code",
      "execution_count": 27,
      "metadata": {
        "id": "-Cx7vHzKPtvY",
        "colab": {
          "base_uri": "https://localhost:8080/"
        },
        "outputId": "f4b1eca4-76cd-497f-e309-c594d7858fb9"
      },
      "outputs": [
        {
          "output_type": "stream",
          "name": "stdout",
          "text": [
            "             State                                              Motto  \\\n",
            "46      Washington                                      Al-ki or Alki   \n",
            "47   West Virginia                              Montani semper liberi   \n",
            "6      Connecticut                            Qui transtulit sustinet   \n",
            "34            Ohio                  With God, all things are possible   \n",
            "5         Colorado                                    Nil sine numine   \n",
            "38    Rhode Island                                               Hope   \n",
            "43            Utah                                           Industry   \n",
            "41       Tennessee                           Agriculture and Commerce   \n",
            "39  South Carolina          Dum spiro spero \\nAnimis opibusque parati   \n",
            "29      New Jersey                             Liberty and prosperity   \n",
            "33    North Dakota                    \\nSerit ut alteri saeclo prosit   \n",
            "35        Oklahoma                                 Labor omnia vincit   \n",
            "21        Michigan          Si quaeris peninsulam amoenam circumspice   \n",
            "10          Hawaii                  Ua mau ke ea o ka ʻāina i ka pono   \n",
            "24        Missouri                      Salus populi suprema lex esto   \n",
            "25         Montana                                        Oro y plata   \n",
            "23     Mississippi                                   Virtute et armis   \n",
            "27          Nevada                                All For Our Country   \n",
            "44         Vermont                       Stella quarta decima fulgeat   \n",
            "16        Kentucky                               Deo gratiam habeamus   \n",
            "1           Alaska                                North to the future   \n",
            "28   New Hampshire                                   Live Free or Die   \n",
            "13         Indiana                          The Crossroads of America   \n",
            "42           Texas                                         Friendship   \n",
            "0          Alabama                      Audemus jura nostra defendere   \n",
            "3         Arkansas                                     Regnat populus   \n",
            "17       Louisiana                         Union, justice, confidence   \n",
            "49         Wyoming                                       Equal Rights   \n",
            "32  North Carolina                                   Esse quam videri   \n",
            "11           Idaho                                      Esto perpetua   \n",
            "30      New Mexico                                      Crescit eundo   \n",
            "40    South Dakota                          Under God the people rule   \n",
            "37    Pennsylvania                  Virtue, liberty, and independence   \n",
            "19        Maryland                       Fatti maschii, parole femine   \n",
            "8          Florida                                    In God We Trust   \n",
            "26        Nebraska                            Equality before the law   \n",
            "2          Arizona                                         Ditat Deus   \n",
            "22       Minnesota                                   L'étoile du Nord   \n",
            "15          Kansas                                Ad astra per aspera   \n",
            "36          Oregon                                Alis volat propriis   \n",
            "48       Wisconsin                                            Forward   \n",
            "4       California                                    Eureka (Εὕρηκα)   \n",
            "14            Iowa  Our liberties we prize and our rights we will ...   \n",
            "7         Delaware                           Liberty and Independence   \n",
            "18           Maine                                             Dirigo   \n",
            "12        Illinois                  State sovereignty, national union   \n",
            "9          Georgia                        Wisdom, Justice, Moderation   \n",
            "31        New York                                          Excelsior   \n",
            "45        Virginia                                Sic semper tyrannis   \n",
            "20   Massachusetts          Ense petit placidam sub libertate quietem   \n",
            "\n",
            "                                          Translation        Language  \\\n",
            "46                                          By and by  Chinook Jargon   \n",
            "47                       Mountaineers are always free           Latin   \n",
            "6                        He who transplanted sustains           Latin   \n",
            "34                                                  —         English   \n",
            "5                         Nothing without providence.           Latin   \n",
            "38                                                  —         English   \n",
            "43                                                NaN         English   \n",
            "41                                                  —         English   \n",
            "39  While I breathe, I hope \\nReady in soul and re...           Latin   \n",
            "29                                                  —         English   \n",
            "33            One sows for the benefit of another age           Latin   \n",
            "35                          Labor conquers all things           Latin   \n",
            "21   If you seek a pleasant peninsula, look about you           Latin   \n",
            "10  The life of the land is perpetuated in righteo...        Hawaiian   \n",
            "24   Let the welfare of the people be the supreme law           Latin   \n",
            "25                                    Gold and silver         Spanish   \n",
            "23                                  By valor and arms           Latin   \n",
            "27                                                  —         English   \n",
            "44               May the fourteenth star shine bright           Latin   \n",
            "16                          Let us be grateful to God           Latin   \n",
            "1                                                   —         English   \n",
            "28                                                  —         English   \n",
            "13                                                  —         English   \n",
            "42                                                  —         English   \n",
            "0                          We dare defend our rights!           Latin   \n",
            "3                                     The people rule           Latin   \n",
            "17                                                  —         English   \n",
            "49                                                  —         English   \n",
            "32                         To be, rather than to seem           Latin   \n",
            "11                                Let it be perpetual           Latin   \n",
            "30                                It grows as it goes           Latin   \n",
            "40                                                  —         English   \n",
            "37                                                  —         English   \n",
            "19                         Manly deeds, womanly words         Italian   \n",
            "8                                                   —         English   \n",
            "26                                                  —         English   \n",
            "2                                        God enriches           Latin   \n",
            "22                              The star of the North          French   \n",
            "15                  To the stars through difficulties           Latin   \n",
            "36                       She flies with her own wings           Latin   \n",
            "48                                                  —         English   \n",
            "4                                     I have found it           Greek   \n",
            "14                                                  —         English   \n",
            "7                                                   —         English   \n",
            "18                                             I lead           Latin   \n",
            "12                                                  —         English   \n",
            "9                                                   —         English   \n",
            "31                                        Ever upward           Latin   \n",
            "45                             Thus always to tyrants           Latin   \n",
            "20  By the sword we seek peace, but peace only und...           Latin   \n",
            "\n",
            "          Date Adopted  \n",
            "46                   —  \n",
            "47  September 26, 1863  \n",
            "6      October 9, 1662  \n",
            "34     October 1, 1959  \n",
            "5     November 6, 1861  \n",
            "38         May 4, 1664  \n",
            "43         May 3, 1896  \n",
            "41        May 24, 1802  \n",
            "39        May 22, 1777  \n",
            "29      March 26, 1928  \n",
            "33      March 11, 2011  \n",
            "35      March 10, 1893  \n",
            "21        June 2, 1835  \n",
            "10       July 31, 1843  \n",
            "24    January 11, 1822  \n",
            "25    February 9, 1865  \n",
            "23    February 7, 1894  \n",
            "27   February 24, 1866  \n",
            "44      April 10, 2015  \n",
            "16                2002  \n",
            "1                 1967  \n",
            "28                1945  \n",
            "13                1937  \n",
            "42                1930  \n",
            "0                 1923  \n",
            "3                 1907  \n",
            "17                1902  \n",
            "49                1893  \n",
            "32                1893  \n",
            "11                1890  \n",
            "30                1887  \n",
            "40                1885  \n",
            "37                1875  \n",
            "19                1874  \n",
            "8                 1868  \n",
            "26                1867  \n",
            "2                 1863  \n",
            "22                1861  \n",
            "15                1861  \n",
            "36                1854  \n",
            "48                1851  \n",
            "4                 1849  \n",
            "14                1847  \n",
            "7                 1847  \n",
            "18                1820  \n",
            "12                1819  \n",
            "9                 1798  \n",
            "31                1778  \n",
            "45                1776  \n",
            "20                1775  \n"
          ]
        }
      ],
      "source": [
        "#elections.sort_values('%', ascending=False)\n",
        "sorted_df3_descending = df3.sort_values(by='Date Adopted', ascending=False)\n",
        "\n",
        "print(sorted_df3_descending)\n"
      ]
    },
    {
      "cell_type": "markdown",
      "metadata": {
        "id": "l88QC8yvPtvZ"
      },
      "source": [
        "We can also use `sort_values` on Series objects."
      ]
    },
    {
      "cell_type": "code",
      "execution_count": 29,
      "metadata": {
        "id": "4wTi414QPtva",
        "colab": {
          "base_uri": "https://localhost:8080/"
        },
        "outputId": "13ea3cf3-8aa7-46d4-f67d-14ad75b514e6"
      },
      "outputs": [
        {
          "output_type": "stream",
          "name": "stdout",
          "text": [
            "46    Chinook Jargon\n",
            "49           English\n",
            "29           English\n",
            "28           English\n",
            "27           English\n",
            "26           English\n",
            "48           English\n",
            "37           English\n",
            "38           English\n",
            "40           English\n",
            "17           English\n",
            "34           English\n",
            "42           English\n",
            "14           English\n",
            "41           English\n",
            "12           English\n",
            "1            English\n",
            "13           English\n",
            "8            English\n",
            "7            English\n",
            "9            English\n",
            "43           English\n",
            "22            French\n",
            "4              Greek\n",
            "10          Hawaiian\n",
            "19           Italian\n",
            "39             Latin\n",
            "44             Latin\n",
            "36             Latin\n",
            "45             Latin\n",
            "47             Latin\n",
            "35             Latin\n",
            "33             Latin\n",
            "0              Latin\n",
            "31             Latin\n",
            "30             Latin\n",
            "23             Latin\n",
            "21             Latin\n",
            "20             Latin\n",
            "18             Latin\n",
            "16             Latin\n",
            "15             Latin\n",
            "11             Latin\n",
            "6              Latin\n",
            "5              Latin\n",
            "3              Latin\n",
            "2              Latin\n",
            "32             Latin\n",
            "24             Latin\n",
            "25           Spanish\n",
            "Name: Language, dtype: object\n"
          ]
        }
      ],
      "source": [
        "df3['Language'].sort_values().head(50)\n",
        "\n",
        "sorted_languages = df3['Language'].sort_values()\n",
        "\n",
        "print(sorted_languages.head(50))\n"
      ]
    },
    {
      "cell_type": "markdown",
      "metadata": {
        "id": "8_4EHw_lPtvb"
      },
      "source": [
        "For Series, the `value_counts` method is often quite handy."
      ]
    },
    {
      "cell_type": "code",
      "execution_count": 30,
      "metadata": {
        "id": "qO1Uxnw3Ptvb",
        "colab": {
          "base_uri": "https://localhost:8080/",
          "height": 366
        },
        "outputId": "6a8abcb2-7d99-462c-92ca-f5fb4eb9bd7b"
      },
      "outputs": [
        {
          "output_type": "execute_result",
          "data": {
            "text/plain": [
              "Language\n",
              "Latin             23\n",
              "English           21\n",
              "Greek              1\n",
              "Hawaiian           1\n",
              "Italian            1\n",
              "French             1\n",
              "Spanish            1\n",
              "Chinook Jargon     1\n",
              "Name: count, dtype: int64"
            ],
            "text/html": [
              "<div>\n",
              "<style scoped>\n",
              "    .dataframe tbody tr th:only-of-type {\n",
              "        vertical-align: middle;\n",
              "    }\n",
              "\n",
              "    .dataframe tbody tr th {\n",
              "        vertical-align: top;\n",
              "    }\n",
              "\n",
              "    .dataframe thead th {\n",
              "        text-align: right;\n",
              "    }\n",
              "</style>\n",
              "<table border=\"1\" class=\"dataframe\">\n",
              "  <thead>\n",
              "    <tr style=\"text-align: right;\">\n",
              "      <th></th>\n",
              "      <th>count</th>\n",
              "    </tr>\n",
              "    <tr>\n",
              "      <th>Language</th>\n",
              "      <th></th>\n",
              "    </tr>\n",
              "  </thead>\n",
              "  <tbody>\n",
              "    <tr>\n",
              "      <th>Latin</th>\n",
              "      <td>23</td>\n",
              "    </tr>\n",
              "    <tr>\n",
              "      <th>English</th>\n",
              "      <td>21</td>\n",
              "    </tr>\n",
              "    <tr>\n",
              "      <th>Greek</th>\n",
              "      <td>1</td>\n",
              "    </tr>\n",
              "    <tr>\n",
              "      <th>Hawaiian</th>\n",
              "      <td>1</td>\n",
              "    </tr>\n",
              "    <tr>\n",
              "      <th>Italian</th>\n",
              "      <td>1</td>\n",
              "    </tr>\n",
              "    <tr>\n",
              "      <th>French</th>\n",
              "      <td>1</td>\n",
              "    </tr>\n",
              "    <tr>\n",
              "      <th>Spanish</th>\n",
              "      <td>1</td>\n",
              "    </tr>\n",
              "    <tr>\n",
              "      <th>Chinook Jargon</th>\n",
              "      <td>1</td>\n",
              "    </tr>\n",
              "  </tbody>\n",
              "</table>\n",
              "</div><br><label><b>dtype:</b> int64</label>"
            ]
          },
          "metadata": {},
          "execution_count": 30
        }
      ],
      "source": [
        "df3['Language'].value_counts()\n",
        "df3['Language'].value_counts()"
      ]
    },
    {
      "cell_type": "markdown",
      "metadata": {
        "id": "l1fAovTpPtvb"
      },
      "source": [
        "Also commonly used is the `unique` method, which returns **all unique values** as a numpy array."
      ]
    },
    {
      "cell_type": "code",
      "execution_count": 35,
      "metadata": {
        "id": "_ToE_vqVPtvb",
        "colab": {
          "base_uri": "https://localhost:8080/"
        },
        "outputId": "bcdd88fa-65e6-40bc-c110-4c55525375ac"
      },
      "outputs": [
        {
          "output_type": "stream",
          "name": "stdout",
          "text": [
            "['Latin' 'English' 'Greek' 'Hawaiian' 'Italian' 'French' 'Spanish'\n",
            " 'Chinook Jargon']\n"
          ]
        }
      ],
      "source": [
        "df3['Language'].unique()\n",
        "\n",
        "unique_languages = df3['Language'].unique()\n",
        "\n",
        "print(unique_languages)"
      ]
    },
    {
      "cell_type": "code",
      "execution_count": 31,
      "metadata": {
        "colab": {
          "base_uri": "https://localhost:8080/"
        },
        "id": "HAYgnI5ZPtvb",
        "outputId": "2b6e11dd-7c93-4a47-d030-1f19706200a4"
      },
      "outputs": [
        {
          "output_type": "execute_result",
          "data": {
            "text/plain": [
              "5"
            ]
          },
          "metadata": {},
          "execution_count": 31
        }
      ],
      "source": [
        "def fiba(n):\n",
        "    if n < 2:\n",
        "        return n\n",
        "    else:\n",
        "        return fiba(n-1) + fiba(n-2)\n",
        "\n",
        "\n",
        "\n",
        "fiba(5)"
      ]
    },
    {
      "cell_type": "markdown",
      "metadata": {
        "id": "nyvmtSviPtvc"
      },
      "source": [
        "# Thank you!"
      ]
    }
  ],
  "metadata": {
    "colab": {
      "provenance": []
    },
    "kernelspec": {
      "display_name": "Python 3",
      "language": "python",
      "name": "python3"
    },
    "language_info": {
      "codemirror_mode": {
        "name": "ipython",
        "version": 3
      },
      "file_extension": ".py",
      "mimetype": "text/x-python",
      "name": "python",
      "nbconvert_exporter": "python",
      "pygments_lexer": "ipython3",
      "version": "3.7.13"
    },
    "vscode": {
      "interpreter": {
        "hash": "7a3d88c904243d2c3f246166597f86d1c0a39f3d97496d1fe394945d0c6d436d"
      }
    }
  },
  "nbformat": 4,
  "nbformat_minor": 0
}