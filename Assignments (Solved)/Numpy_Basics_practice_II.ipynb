{
  "cells": [
    {
      "cell_type": "code",
      "execution_count": 1,
      "id": "2a8a0fa8-ceee-4b65-9739-39bdbf33d23c",
      "metadata": {
        "id": "2a8a0fa8-ceee-4b65-9739-39bdbf33d23c"
      },
      "outputs": [],
      "source": [
        "import numpy as np"
      ]
    },
    {
      "cell_type": "markdown",
      "id": "6cd94836-36bf-4eca-a68c-4d4afb52ef7d",
      "metadata": {
        "id": "6cd94836-36bf-4eca-a68c-4d4afb52ef7d"
      },
      "source": [
        "# Q1"
      ]
    },
    {
      "cell_type": "markdown",
      "id": "26a82645-942a-40ba-9d5b-a58c65d27817",
      "metadata": {
        "id": "26a82645-942a-40ba-9d5b-a58c65d27817"
      },
      "source": [
        "Statement: Given a 3D NumPy array arr of shape (2, 3, 4), write a code snippet to calculate the sum of all elements in the array.\n",
        "\n",
        "Sample Input:"
      ]
    },
    {
      "cell_type": "code",
      "execution_count": null,
      "id": "dbf71bf2-1ac9-48f3-96fb-5f22ad767b29",
      "metadata": {
        "id": "dbf71bf2-1ac9-48f3-96fb-5f22ad767b29"
      },
      "outputs": [],
      "source": [
        "array1 = np.random.randint(0, 100, size=(2,3,4))\n",
        "print(array1)\n",
        "sum = np.sum(array1)\n",
        "\n",
        "print(\"Sum of all elements in the array: \", sum)"
      ]
    },
    {
      "cell_type": "markdown",
      "id": "14bd52a2-86d8-4ef6-b1ee-de66e9703458",
      "metadata": {
        "id": "14bd52a2-86d8-4ef6-b1ee-de66e9703458"
      },
      "source": [
        "# Q2"
      ]
    },
    {
      "cell_type": "markdown",
      "id": "9a536e77-25c6-4b63-906b-7aa8eaaa073e",
      "metadata": {
        "id": "9a536e77-25c6-4b63-906b-7aa8eaaa073e"
      },
      "source": [
        "Statement: Write a NumPy code snippet to create a 4D array arr of shape (2, 3, 4, 5) filled with random integers ranging from 0 to 9.\n",
        "\n",
        "Sample Output:"
      ]
    },
    {
      "cell_type": "code",
      "execution_count": null,
      "id": "5602b3f2-13e2-4585-9870-9bc07563c60e",
      "metadata": {
        "id": "5602b3f2-13e2-4585-9870-9bc07563c60e"
      },
      "outputs": [],
      "source": [
        "array2 = np.random.randint(0, 10, size=(2, 3, 4, 5))\n",
        "print(array2)\n"
      ]
    },
    {
      "cell_type": "markdown",
      "id": "540f8d57-6cc0-4e53-8744-787e868276a4",
      "metadata": {
        "id": "540f8d57-6cc0-4e53-8744-787e868276a4"
      },
      "source": [
        "# Q3"
      ]
    },
    {
      "cell_type": "markdown",
      "id": "37497bad-10e3-4c65-b4f6-65bb5ed0b00d",
      "metadata": {
        "id": "37497bad-10e3-4c65-b4f6-65bb5ed0b00d"
      },
      "source": [
        "Statement: Given a 4D NumPy array arr of shape (2, 3, 4, 5), write a code snippet to calculate the mean along the second axis.\n",
        "\n",
        "Sample Input:"
      ]
    },
    {
      "cell_type": "code",
      "execution_count": 11,
      "id": "84df3761-5341-4010-b541-6a79a1b74625",
      "metadata": {
        "id": "84df3761-5341-4010-b541-6a79a1b74625",
        "colab": {
          "base_uri": "https://localhost:8080/"
        },
        "outputId": "b76fd1c2-f052-44c2-8417-f9bc21fae4ef"
      },
      "outputs": [
        {
          "output_type": "stream",
          "name": "stdout",
          "text": [
            "Mean:  [[[3.66666667 1.66666667 5.66666667 4.66666667 5.33333333]\n",
            "  [1.         6.33333333 6.         3.66666667 1.33333333]\n",
            "  [3.66666667 6.33333333 4.66666667 5.66666667 4.33333333]\n",
            "  [6.66666667 6.33333333 5.66666667 1.33333333 5.66666667]]\n",
            "\n",
            " [[5.33333333 5.33333333 5.66666667 3.66666667 3.33333333]\n",
            "  [6.33333333 5.         0.66666667 3.         5.33333333]\n",
            "  [3.         3.         5.66666667 5.66666667 6.66666667]\n",
            "  [7.         2.         5.33333333 4.66666667 4.        ]]]\n"
          ]
        }
      ],
      "source": [
        "array3 = np.random.randint(0, 10, size=(2, 3, 4, 5))\n",
        "mean = np.mean(array3, axis=1)\n",
        "\n",
        "print(\"Mean: \", mean)\n"
      ]
    },
    {
      "cell_type": "markdown",
      "id": "9d4cd387-ca18-4951-a1ab-63a7a1f80a0d",
      "metadata": {
        "id": "9d4cd387-ca18-4951-a1ab-63a7a1f80a0d"
      },
      "source": [
        "# Q4"
      ]
    },
    {
      "cell_type": "markdown",
      "id": "768891f0-dd85-4a6b-a336-31061a30945f",
      "metadata": {
        "id": "768891f0-dd85-4a6b-a336-31061a30945f"
      },
      "source": [
        "Statement: You have collected data from a temperature sensor placed at different locations over a period of time. The recorded temperatures are stored in a 3D NumPy array temps of shape (7, 24, 60), where the dimensions represent the number of days, hours in a day, and minutes in an hour, respectively. Write a code snippet to calculate the average temperature for each day.\n",
        "\n",
        "Sample Input:"
      ]
    },
    {
      "cell_type": "code",
      "execution_count": 10,
      "id": "905df96f-ee7f-410f-adae-88758871af96",
      "metadata": {
        "id": "905df96f-ee7f-410f-adae-88758871af96",
        "colab": {
          "base_uri": "https://localhost:8080/"
        },
        "outputId": "24f3f972-26b3-438f-da71-13dc86c5b909"
      },
      "outputs": [
        {
          "output_type": "stream",
          "name": "stdout",
          "text": [
            "Average temperatures for each day: [51.64017509 49.25382862 48.84904814 49.867323   50.32053184 49.50481767\n",
            " 50.89926101]\n"
          ]
        }
      ],
      "source": [
        "temps = np.random.rand(7, 24, 60) * 100\n",
        "average_temps_per_day = np.mean(temps, axis=(1, 2))\n",
        "\n",
        "\n",
        "print(\"Average temperatures for each day:\", average_temps_per_day)\n"
      ]
    },
    {
      "cell_type": "markdown",
      "id": "f8913844-39a1-4d9b-a434-7af478336f20",
      "metadata": {
        "id": "f8913844-39a1-4d9b-a434-7af478336f20"
      },
      "source": [
        "Sample Output:\n",
        "\n",
        "array([27.43864059, 26.99643944, 27.10398301, 27.43854821, 26.81072977,\n",
        "       26.76581481, 27.07946152])"
      ]
    },
    {
      "cell_type": "markdown",
      "id": "55a224ca-01c9-4b13-8bc9-1db7269a35d5",
      "metadata": {
        "id": "55a224ca-01c9-4b13-8bc9-1db7269a35d5"
      },
      "source": [
        "# Q5"
      ]
    },
    {
      "cell_type": "markdown",
      "id": "af5efd9b-ff4f-4ae1-af9a-da9bf621d3bd",
      "metadata": {
        "id": "af5efd9b-ff4f-4ae1-af9a-da9bf621d3bd"
      },
      "source": [
        "Statement: You have collected data from multiple sensors placed in different rooms of a building. The sensor readings are stored in a 4D NumPy array readings of shape (4, 7, 24, 60), where the dimensions represent the number of sensors, number of days, hours in a day, and minutes in an hour, respectively. Write a code snippet to calculate the maximum reading for each sensor across all days."
      ]
    },
    {
      "cell_type": "code",
      "execution_count": 13,
      "id": "79873e69-35ad-4bde-ba48-cf33218b1dc2",
      "metadata": {
        "id": "79873e69-35ad-4bde-ba48-cf33218b1dc2",
        "colab": {
          "base_uri": "https://localhost:8080/"
        },
        "outputId": "de898cc3-c0d9-4408-cc14-1173f2f1f1de"
      },
      "outputs": [
        {
          "output_type": "stream",
          "name": "stdout",
          "text": [
            "Maximum readings for each sensor across all days:  [[[95 91 86 ... 99 93 83]\n",
            "  [91 81 96 ... 97 97 84]\n",
            "  [80 98 82 ... 93 97 85]\n",
            "  ...\n",
            "  [95 76 79 ... 92 92 95]\n",
            "  [70 96 94 ... 78 88 87]\n",
            "  [91 83 96 ... 79 95 80]]\n",
            "\n",
            " [[81 96 86 ... 96 98 91]\n",
            "  [96 90 85 ... 64 87 93]\n",
            "  [87 99 98 ... 98 92 72]\n",
            "  ...\n",
            "  [76 70 92 ... 87 83 93]\n",
            "  [96 97 91 ... 82 92 98]\n",
            "  [95 99 90 ... 92 97 75]]\n",
            "\n",
            " [[73 72 71 ... 93 95 96]\n",
            "  [90 96 88 ... 75 99 91]\n",
            "  [86 98 98 ... 88 84 87]\n",
            "  ...\n",
            "  [78 93 83 ... 80 85 99]\n",
            "  [98 81 86 ... 93 66 76]\n",
            "  [99 80 88 ... 94 97 93]]\n",
            "\n",
            " [[77 90 93 ... 79 96 72]\n",
            "  [75 67 82 ... 90 98 97]\n",
            "  [99 97 76 ... 91 86 90]\n",
            "  ...\n",
            "  [85 92 87 ... 84 94 92]\n",
            "  [56 67 87 ... 95 99 56]\n",
            "  [97 59 97 ... 85 79 99]]]\n"
          ]
        }
      ],
      "source": [
        "import numpy as np\n",
        "readings = np.random.randint(0, 100, size=(4, 7, 24, 60))\n",
        "max_readings = np.max(readings, axis=1)\n",
        "\n",
        "print(\"Maximum readings for each sensor across all days: \", max_readings)"
      ]
    },
    {
      "cell_type": "markdown",
      "id": "e8ca2836-0977-4b11-a214-a93630131927",
      "metadata": {
        "id": "e8ca2836-0977-4b11-a214-a93630131927"
      },
      "source": [
        "# Q6"
      ]
    },
    {
      "cell_type": "markdown",
      "id": "b324cb33-b481-4cf8-a148-9292ec382a8c",
      "metadata": {
        "id": "b324cb33-b481-4cf8-a148-9292ec382a8c"
      },
      "source": [
        "Statement: You have collected data from a 3D printer that measures the dimensions of printed objects. The recorded dimensions are stored in a 3D NumPy array dimensions of shape (100, 50, 3), where the dimensions represent the number of printed objects, number of measurements for each object, and the three dimensions (length, width, height), respectively. Write a code snippet to calculate the average length, width, and height across all objects.\n",
        "\n",
        "Sample Inpumt:"
      ]
    },
    {
      "cell_type": "code",
      "execution_count": 22,
      "id": "d1199cf1-5f47-45f5-a090-615021490d8e",
      "metadata": {
        "id": "d1199cf1-5f47-45f5-a090-615021490d8e",
        "colab": {
          "base_uri": "https://localhost:8080/"
        },
        "outputId": "032e8c51-adb9-4d6c-a3f7-3db922f72da9"
      },
      "outputs": [
        {
          "output_type": "stream",
          "name": "stdout",
          "text": [
            "Average Length:  49.6724\n",
            "Average Width:  50.0592\n",
            "Average Height:  49.3954\n"
          ]
        }
      ],
      "source": [
        "array6 = np.random.randint(1, 100, size=(100, 50, 3))\n",
        "average_dimensions = np.mean(array6, axis=(0, 1))\n",
        "average_length, average_width, average_height = average_dimensions\n",
        "\n",
        "print(\"Average Length: \", average_length)\n",
        "print(\"Average Width: \", average_width)\n",
        "print(\"Average Height: \", average_height)\n"
      ]
    },
    {
      "cell_type": "markdown",
      "id": "a3c20cfa-7ad6-437b-8837-1eabded47ac7",
      "metadata": {
        "id": "a3c20cfa-7ad6-437b-8837-1eabded47ac7"
      },
      "source": [
        "# Q7"
      ]
    },
    {
      "cell_type": "markdown",
      "id": "c5c5e835-2d6d-4bec-a700-4125e2ea7375",
      "metadata": {
        "id": "c5c5e835-2d6d-4bec-a700-4125e2ea7375"
      },
      "source": [
        "Statement: You are given a 3D NumPy array data of shape (5, 6, 7) representing the sensor readings from multiple sensors placed in different locations over a period of time. Each sensor provides measurements at different time points. Write a code snippet to calculate the following statistics for each sensor:\n",
        "\n",
        "Total number of measurements\n",
        "\n",
        "Average measurement value\n",
        "\n",
        "Standard deviation of measurements\n",
        "\n",
        "Minimum measurement value\n",
        "\n",
        "Maximum measurement value\n",
        "\n",
        "Sample Input:"
      ]
    },
    {
      "cell_type": "code",
      "execution_count": null,
      "id": "46256376-8395-460c-a736-71a83252e47f",
      "metadata": {
        "id": "46256376-8395-460c-a736-71a83252e47f"
      },
      "outputs": [],
      "source": [
        "# Answer Here\n"
      ]
    },
    {
      "cell_type": "code",
      "execution_count": 25,
      "id": "87f085a1-fec3-40e5-90db-d535c0de01c0",
      "metadata": {
        "id": "87f085a1-fec3-40e5-90db-d535c0de01c0",
        "colab": {
          "base_uri": "https://localhost:8080/"
        },
        "outputId": "dc711210-3d48-40a4-a42d-02e65d345b0d"
      },
      "outputs": [
        {
          "output_type": "stream",
          "name": "stdout",
          "text": [
            "Sensor :  1\n",
            "  Total Measurements:  7\n",
            "  Average Value:  48\n",
            "  Standard Deviation:  24.446526400722547\n",
            "  Minimum Value:  8\n",
            "  Maximum Value:  83\n",
            "Sensor :  2\n",
            "  Total Measurements:  7\n",
            "  Average Value:  57\n",
            "  Standard Deviation:  24.465719457465962\n",
            "  Minimum Value:  18\n",
            "  Maximum Value:  96\n",
            "Sensor :  3\n",
            "  Total Measurements:  7\n",
            "  Average Value:  56\n",
            "  Standard Deviation:  10.61573725894817\n",
            "  Minimum Value:  39\n",
            "  Maximum Value:  77\n",
            "Sensor :  4\n",
            "  Total Measurements:  7\n",
            "  Average Value:  37\n",
            "  Standard Deviation:  26.4328181916159\n",
            "  Minimum Value:  4\n",
            "  Maximum Value:  75\n",
            "Sensor :  5\n",
            "  Total Measurements:  7\n",
            "  Average Value:  50\n",
            "  Standard Deviation:  25.511102025012804\n",
            "  Minimum Value:  10\n",
            "  Maximum Value:  91\n",
            "Sensor :  6\n",
            "  Total Measurements:  7\n",
            "  Average Value:  38\n",
            "  Standard Deviation:  28.956688276085153\n",
            "  Minimum Value:  3\n",
            "  Maximum Value:  93\n",
            "Sensor :  7\n",
            "  Total Measurements:  7\n",
            "  Average Value:  54\n",
            "  Standard Deviation:  25.223895376392274\n",
            "  Minimum Value:  1\n",
            "  Maximum Value:  87\n",
            "Sensor :  8\n",
            "  Total Measurements:  7\n",
            "  Average Value:  41\n",
            "  Standard Deviation:  22.97114427684775\n",
            "  Minimum Value:  12\n",
            "  Maximum Value:  71\n",
            "Sensor :  9\n",
            "  Total Measurements:  7\n",
            "  Average Value:  40\n",
            "  Standard Deviation:  21.960075090016968\n",
            "  Minimum Value:  17\n",
            "  Maximum Value:  76\n",
            "Sensor :  10\n",
            "  Total Measurements:  7\n",
            "  Average Value:  52\n",
            "  Standard Deviation:  26.542226657128207\n",
            "  Minimum Value:  1\n",
            "  Maximum Value:  96\n",
            "Sensor :  11\n",
            "  Total Measurements:  7\n",
            "  Average Value:  38\n",
            "  Standard Deviation:  32.539457993805186\n",
            "  Minimum Value:  3\n",
            "  Maximum Value:  98\n",
            "Sensor :  12\n",
            "  Total Measurements:  7\n",
            "  Average Value:  71\n",
            "  Standard Deviation:  11.362307900084673\n",
            "  Minimum Value:  58\n",
            "  Maximum Value:  91\n",
            "Sensor :  13\n",
            "  Total Measurements:  7\n",
            "  Average Value:  41\n",
            "  Standard Deviation:  27.388363386292212\n",
            "  Minimum Value:  12\n",
            "  Maximum Value:  87\n",
            "Sensor :  14\n",
            "  Total Measurements:  7\n",
            "  Average Value:  58\n",
            "  Standard Deviation:  40.97385926242661\n",
            "  Minimum Value:  0\n",
            "  Maximum Value:  99\n",
            "Sensor :  15\n",
            "  Total Measurements:  7\n",
            "  Average Value:  52\n",
            "  Standard Deviation:  23.174581430735614\n",
            "  Minimum Value:  20\n",
            "  Maximum Value:  94\n",
            "Sensor :  16\n",
            "  Total Measurements:  7\n",
            "  Average Value:  41\n",
            "  Standard Deviation:  27.668592671261095\n",
            "  Minimum Value:  13\n",
            "  Maximum Value:  86\n",
            "Sensor :  17\n",
            "  Total Measurements:  7\n",
            "  Average Value:  44\n",
            "  Standard Deviation:  24.633642169411573\n",
            "  Minimum Value:  2\n",
            "  Maximum Value:  85\n",
            "Sensor :  18\n",
            "  Total Measurements:  7\n",
            "  Average Value:  52\n",
            "  Standard Deviation:  24.61540914441478\n",
            "  Minimum Value:  20\n",
            "  Maximum Value:  87\n",
            "Sensor :  19\n",
            "  Total Measurements:  7\n",
            "  Average Value:  52\n",
            "  Standard Deviation:  33.20437640198801\n",
            "  Minimum Value:  5\n",
            "  Maximum Value:  88\n",
            "Sensor :  20\n",
            "  Total Measurements:  7\n",
            "  Average Value:  63\n",
            "  Standard Deviation:  28.318883870545985\n",
            "  Minimum Value:  10\n",
            "  Maximum Value:  93\n",
            "Sensor :  21\n",
            "  Total Measurements:  7\n",
            "  Average Value:  55\n",
            "  Standard Deviation:  27.575499329392134\n",
            "  Minimum Value:  12\n",
            "  Maximum Value:  87\n",
            "Sensor :  22\n",
            "  Total Measurements:  7\n",
            "  Average Value:  58\n",
            "  Standard Deviation:  20.182837728513555\n",
            "  Minimum Value:  30\n",
            "  Maximum Value:  89\n",
            "Sensor :  23\n",
            "  Total Measurements:  7\n",
            "  Average Value:  58\n",
            "  Standard Deviation:  22.7954524644988\n",
            "  Minimum Value:  11\n",
            "  Maximum Value:  89\n",
            "Sensor :  24\n",
            "  Total Measurements:  7\n",
            "  Average Value:  54\n",
            "  Standard Deviation:  19.71842606626128\n",
            "  Minimum Value:  23\n",
            "  Maximum Value:  84\n",
            "Sensor :  25\n",
            "  Total Measurements:  7\n",
            "  Average Value:  42\n",
            "  Standard Deviation:  23.126978679826358\n",
            "  Minimum Value:  19\n",
            "  Maximum Value:  77\n",
            "Sensor :  26\n",
            "  Total Measurements:  7\n",
            "  Average Value:  55\n",
            "  Standard Deviation:  27.547361813014742\n",
            "  Minimum Value:  25\n",
            "  Maximum Value:  97\n",
            "Sensor :  27\n",
            "  Total Measurements:  7\n",
            "  Average Value:  62\n",
            "  Standard Deviation:  28.35417400795638\n",
            "  Minimum Value:  12\n",
            "  Maximum Value:  91\n",
            "Sensor :  28\n",
            "  Total Measurements:  7\n",
            "  Average Value:  68\n",
            "  Standard Deviation:  27.735632426942225\n",
            "  Minimum Value:  23\n",
            "  Maximum Value:  96\n",
            "Sensor :  29\n",
            "  Total Measurements:  7\n",
            "  Average Value:  44\n",
            "  Standard Deviation:  33.442609994815086\n",
            "  Minimum Value:  6\n",
            "  Maximum Value:  94\n",
            "Sensor :  30\n",
            "  Total Measurements:  7\n",
            "  Average Value:  41\n",
            "  Standard Deviation:  26.49374204122435\n",
            "  Minimum Value:  8\n",
            "  Maximum Value:  95\n"
          ]
        }
      ],
      "source": [
        "a = np.random.randint(0, 100, size=(5, 6, 7))\n",
        "\n",
        "num_sensors = a.shape[0] * a.shape[1]\n",
        "results = np.empty((num_sensors, 5))\n",
        "\n",
        "index = 0\n",
        "for i in range(a.shape[0]):\n",
        "    for j in range(a.shape[1]):\n",
        "        measurements = a[i, j, :]\n",
        "\n",
        "        total_measurements = measurements.size\n",
        "        avg_measurement = np.mean(measurements)\n",
        "        std_measurement = np.std(measurements)\n",
        "        min_measurement = np.min(measurements)\n",
        "        max_measurement = np.max(measurements)\n",
        "\n",
        "        results[index] = [total_measurements, avg_measurement, std_measurement, min_measurement, max_measurement]\n",
        "        index += 1\n",
        "\n",
        "for sensor_id in range(num_sensors):\n",
        "    print(\"Sensor : \", sensor_id + 1)\n",
        "    print(\"  Total Measurements: \", int(results[sensor_id][0]))\n",
        "    print(\"  Average Value: \", int(results[sensor_id][1]))\n",
        "    print(\"  Standard Deviation: \", results[sensor_id][2])\n",
        "    print(\"  Minimum Value: \", int(results[sensor_id][3]))\n",
        "    print(\"  Maximum Value: \", int(results[sensor_id][4]))"
      ]
    }
  ],
  "metadata": {
    "kernelspec": {
      "display_name": "Python 3 (ipykernel)",
      "language": "python",
      "name": "python3"
    },
    "language_info": {
      "codemirror_mode": {
        "name": "ipython",
        "version": 3
      },
      "file_extension": ".py",
      "mimetype": "text/x-python",
      "name": "python",
      "nbconvert_exporter": "python",
      "pygments_lexer": "ipython3",
      "version": "3.10.8"
    },
    "colab": {
      "provenance": []
    }
  },
  "nbformat": 4,
  "nbformat_minor": 5
}