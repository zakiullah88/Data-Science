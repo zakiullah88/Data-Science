{
  "cells": [
    {
      "cell_type": "markdown",
      "id": "bab58abc-b5cc-43b1-9e88-7a68504e743a",
      "metadata": {
        "id": "bab58abc-b5cc-43b1-9e88-7a68504e743a"
      },
      "source": [
        "# Lecture 9 II– Spring 2024"
      ]
    },
    {
      "cell_type": "code",
      "execution_count": 11,
      "id": "LH4saJ1ttfBW",
      "metadata": {
        "id": "LH4saJ1ttfBW"
      },
      "outputs": [],
      "source": [
        "# from google.colab import drive\n",
        "# drive.mount('/content/drive')"
      ]
    },
    {
      "cell_type": "code",
      "execution_count": 12,
      "id": "DRGBoGNYtg65",
      "metadata": {
        "id": "DRGBoGNYtg65"
      },
      "outputs": [],
      "source": [
        "# load your required Librariess\n",
        "import pandas as pd\n",
        "import numpy as np\n",
        "import matplotlib.pyplot as plt\n",
        "\n",
        "df = pd.read_csv('/content/world_bank.csv')\n"
      ]
    },
    {
      "cell_type": "code",
      "execution_count": 30,
      "id": "df2b1290-8207-463c-998a-1ed9a3fee07c",
      "metadata": {
        "colab": {
          "base_uri": "https://localhost:8080/",
          "height": 373
        },
        "id": "df2b1290-8207-463c-998a-1ed9a3fee07c",
        "outputId": "688286b0-229f-4826-83e1-c1e74e930921"
      },
      "outputs": [
        {
          "output_type": "execute_result",
          "data": {
            "text/plain": [
              "   Unnamed: 0 Continent  Country  \\\n",
              "0           0    Africa  Algeria   \n",
              "\n",
              "   Primary completion rate: Male: % of relevant age group: 2015  \\\n",
              "0                                              106.0              \n",
              "\n",
              "   Primary completion rate: Female: % of relevant age group: 2015  \\\n",
              "0                                              105.0                \n",
              "\n",
              "   Lower secondary completion rate: Male: % of relevant age group: 2015  \\\n",
              "0                                               68.0                      \n",
              "\n",
              "   Lower secondary completion rate: Female: % of relevant age group: 2015  \\\n",
              "0                                               85.0                        \n",
              "\n",
              "   Youth literacy rate: Male: % of ages 15-24: 2005-14  \\\n",
              "0                                               96.0     \n",
              "\n",
              "   Youth literacy rate: Female: % of ages 15-24: 2005-14  \\\n",
              "0                                               92.0       \n",
              "\n",
              "   Adult literacy rate: Male: % ages 15 and older: 2005-14  ...  \\\n",
              "0                                               83.0        ...   \n",
              "\n",
              "   Access to improved sanitation facilities: % of population: 1990  \\\n",
              "0                                               80.0                 \n",
              "\n",
              "   Access to improved sanitation facilities: % of population: 2015  \\\n",
              "0                                               88.0                 \n",
              "\n",
              "   Child immunization rate: Measles: % of children ages 12-23 months: 2015  \\\n",
              "0                                               95.0                         \n",
              "\n",
              "   Child immunization rate: DTP3: % of children ages 12-23 months: 2015  \\\n",
              "0                                               95.0                      \n",
              "\n",
              "   Children with acute respiratory infection taken to health provider: % of children under age 5 with ARI: 2009-2016  \\\n",
              "0                                               66.0                                                                   \n",
              "\n",
              "   Children with diarrhea who received oral rehydration and continuous feeding: % of children under age 5 with diarrhea: 2009-2016  \\\n",
              "0                                               42.0                                                                                 \n",
              "\n",
              "   Children sleeping under treated bed nets: % of children under age 5: 2009-2016  \\\n",
              "0                                                NaN                                \n",
              "\n",
              "   Children with fever receiving antimalarial drugs: % of children under age 5 with fever: 2009-2016  \\\n",
              "0                                                NaN                                                   \n",
              "\n",
              "   Tuberculosis: Treatment success rate: % of new cases: 2014  \\\n",
              "0                                               88.0            \n",
              "\n",
              "   Tuberculosis: Cases detection rate: % of new estimated cases: 2015  \n",
              "0                                               80.0                   \n",
              "\n",
              "[1 rows x 48 columns]"
            ],
            "text/html": [
              "\n",
              "  <div id=\"df-56683b13-d1c8-4fb2-86f7-35b3fd6af28b\" class=\"colab-df-container\">\n",
              "    <div>\n",
              "<style scoped>\n",
              "    .dataframe tbody tr th:only-of-type {\n",
              "        vertical-align: middle;\n",
              "    }\n",
              "\n",
              "    .dataframe tbody tr th {\n",
              "        vertical-align: top;\n",
              "    }\n",
              "\n",
              "    .dataframe thead th {\n",
              "        text-align: right;\n",
              "    }\n",
              "</style>\n",
              "<table border=\"1\" class=\"dataframe\">\n",
              "  <thead>\n",
              "    <tr style=\"text-align: right;\">\n",
              "      <th></th>\n",
              "      <th>Unnamed: 0</th>\n",
              "      <th>Continent</th>\n",
              "      <th>Country</th>\n",
              "      <th>Primary completion rate: Male: % of relevant age group: 2015</th>\n",
              "      <th>Primary completion rate: Female: % of relevant age group: 2015</th>\n",
              "      <th>Lower secondary completion rate: Male: % of relevant age group: 2015</th>\n",
              "      <th>Lower secondary completion rate: Female: % of relevant age group: 2015</th>\n",
              "      <th>Youth literacy rate: Male: % of ages 15-24: 2005-14</th>\n",
              "      <th>Youth literacy rate: Female: % of ages 15-24: 2005-14</th>\n",
              "      <th>Adult literacy rate: Male: % ages 15 and older: 2005-14</th>\n",
              "      <th>...</th>\n",
              "      <th>Access to improved sanitation facilities: % of population: 1990</th>\n",
              "      <th>Access to improved sanitation facilities: % of population: 2015</th>\n",
              "      <th>Child immunization rate: Measles: % of children ages 12-23 months: 2015</th>\n",
              "      <th>Child immunization rate: DTP3: % of children ages 12-23 months: 2015</th>\n",
              "      <th>Children with acute respiratory infection taken to health provider: % of children under age 5 with ARI: 2009-2016</th>\n",
              "      <th>Children with diarrhea who received oral rehydration and continuous feeding: % of children under age 5 with diarrhea: 2009-2016</th>\n",
              "      <th>Children sleeping under treated bed nets: % of children under age 5: 2009-2016</th>\n",
              "      <th>Children with fever receiving antimalarial drugs: % of children under age 5 with fever: 2009-2016</th>\n",
              "      <th>Tuberculosis: Treatment success rate: % of new cases: 2014</th>\n",
              "      <th>Tuberculosis: Cases detection rate: % of new estimated cases: 2015</th>\n",
              "    </tr>\n",
              "  </thead>\n",
              "  <tbody>\n",
              "    <tr>\n",
              "      <th>0</th>\n",
              "      <td>0</td>\n",
              "      <td>Africa</td>\n",
              "      <td>Algeria</td>\n",
              "      <td>106.0</td>\n",
              "      <td>105.0</td>\n",
              "      <td>68.0</td>\n",
              "      <td>85.0</td>\n",
              "      <td>96.0</td>\n",
              "      <td>92.0</td>\n",
              "      <td>83.0</td>\n",
              "      <td>...</td>\n",
              "      <td>80.0</td>\n",
              "      <td>88.0</td>\n",
              "      <td>95.0</td>\n",
              "      <td>95.0</td>\n",
              "      <td>66.0</td>\n",
              "      <td>42.0</td>\n",
              "      <td>NaN</td>\n",
              "      <td>NaN</td>\n",
              "      <td>88.0</td>\n",
              "      <td>80.0</td>\n",
              "    </tr>\n",
              "  </tbody>\n",
              "</table>\n",
              "<p>1 rows × 48 columns</p>\n",
              "</div>\n",
              "    <div class=\"colab-df-buttons\">\n",
              "\n",
              "  <div class=\"colab-df-container\">\n",
              "    <button class=\"colab-df-convert\" onclick=\"convertToInteractive('df-56683b13-d1c8-4fb2-86f7-35b3fd6af28b')\"\n",
              "            title=\"Convert this dataframe to an interactive table.\"\n",
              "            style=\"display:none;\">\n",
              "\n",
              "  <svg xmlns=\"http://www.w3.org/2000/svg\" height=\"24px\" viewBox=\"0 -960 960 960\">\n",
              "    <path d=\"M120-120v-720h720v720H120Zm60-500h600v-160H180v160Zm220 220h160v-160H400v160Zm0 220h160v-160H400v160ZM180-400h160v-160H180v160Zm440 0h160v-160H620v160ZM180-180h160v-160H180v160Zm440 0h160v-160H620v160Z\"/>\n",
              "  </svg>\n",
              "    </button>\n",
              "\n",
              "  <style>\n",
              "    .colab-df-container {\n",
              "      display:flex;\n",
              "      gap: 12px;\n",
              "    }\n",
              "\n",
              "    .colab-df-convert {\n",
              "      background-color: #E8F0FE;\n",
              "      border: none;\n",
              "      border-radius: 50%;\n",
              "      cursor: pointer;\n",
              "      display: none;\n",
              "      fill: #1967D2;\n",
              "      height: 32px;\n",
              "      padding: 0 0 0 0;\n",
              "      width: 32px;\n",
              "    }\n",
              "\n",
              "    .colab-df-convert:hover {\n",
              "      background-color: #E2EBFA;\n",
              "      box-shadow: 0px 1px 2px rgba(60, 64, 67, 0.3), 0px 1px 3px 1px rgba(60, 64, 67, 0.15);\n",
              "      fill: #174EA6;\n",
              "    }\n",
              "\n",
              "    .colab-df-buttons div {\n",
              "      margin-bottom: 4px;\n",
              "    }\n",
              "\n",
              "    [theme=dark] .colab-df-convert {\n",
              "      background-color: #3B4455;\n",
              "      fill: #D2E3FC;\n",
              "    }\n",
              "\n",
              "    [theme=dark] .colab-df-convert:hover {\n",
              "      background-color: #434B5C;\n",
              "      box-shadow: 0px 1px 3px 1px rgba(0, 0, 0, 0.15);\n",
              "      filter: drop-shadow(0px 1px 2px rgba(0, 0, 0, 0.3));\n",
              "      fill: #FFFFFF;\n",
              "    }\n",
              "  </style>\n",
              "\n",
              "    <script>\n",
              "      const buttonEl =\n",
              "        document.querySelector('#df-56683b13-d1c8-4fb2-86f7-35b3fd6af28b button.colab-df-convert');\n",
              "      buttonEl.style.display =\n",
              "        google.colab.kernel.accessAllowed ? 'block' : 'none';\n",
              "\n",
              "      async function convertToInteractive(key) {\n",
              "        const element = document.querySelector('#df-56683b13-d1c8-4fb2-86f7-35b3fd6af28b');\n",
              "        const dataTable =\n",
              "          await google.colab.kernel.invokeFunction('convertToInteractive',\n",
              "                                                    [key], {});\n",
              "        if (!dataTable) return;\n",
              "\n",
              "        const docLinkHtml = 'Like what you see? Visit the ' +\n",
              "          '<a target=\"_blank\" href=https://colab.research.google.com/notebooks/data_table.ipynb>data table notebook</a>'\n",
              "          + ' to learn more about interactive tables.';\n",
              "        element.innerHTML = '';\n",
              "        dataTable['output_type'] = 'display_data';\n",
              "        await google.colab.output.renderOutput(dataTable, element);\n",
              "        const docLink = document.createElement('div');\n",
              "        docLink.innerHTML = docLinkHtml;\n",
              "        element.appendChild(docLink);\n",
              "      }\n",
              "    </script>\n",
              "  </div>\n",
              "\n",
              "\n",
              "    </div>\n",
              "  </div>\n"
            ],
            "application/vnd.google.colaboratory.intrinsic+json": {
              "type": "dataframe",
              "variable_name": "df"
            }
          },
          "metadata": {},
          "execution_count": 30
        }
      ],
      "source": [
        "# read dataframe\n",
        "df.head(1)"
      ]
    },
    {
      "cell_type": "code",
      "execution_count": 23,
      "id": "3ca59392-bff7-4ebc-8cc1-c4c1d96189f4",
      "metadata": {
        "id": "3ca59392-bff7-4ebc-8cc1-c4c1d96189f4",
        "outputId": "797a1781-9ca5-4fcf-e125-7b33ad99dca1",
        "colab": {
          "base_uri": "https://localhost:8080/"
        }
      },
      "outputs": [
        {
          "output_type": "stream",
          "name": "stdout",
          "text": [
            "<class 'pandas.core.frame.DataFrame'>\n",
            "RangeIndex: 166 entries, 0 to 165\n",
            "Data columns (total 48 columns):\n",
            " #   Column                                                                                                                           Non-Null Count  Dtype  \n",
            "---  ------                                                                                                                           --------------  -----  \n",
            " 0   Unnamed: 0                                                                                                                       166 non-null    int64  \n",
            " 1   Continent                                                                                                                        166 non-null    object \n",
            " 2   Country                                                                                                                          166 non-null    object \n",
            " 3   Primary completion rate: Male: % of relevant age group: 2015                                                                     136 non-null    float64\n",
            " 4   Primary completion rate: Female: % of relevant age group: 2015                                                                   136 non-null    float64\n",
            " 5   Lower secondary completion rate: Male: % of relevant age group: 2015                                                             133 non-null    float64\n",
            " 6   Lower secondary completion rate: Female: % of relevant age group: 2015                                                           133 non-null    float64\n",
            " 7   Youth literacy rate: Male: % of ages 15-24: 2005-14                                                                              131 non-null    float64\n",
            " 8   Youth literacy rate: Female: % of ages 15-24: 2005-14                                                                            131 non-null    float64\n",
            " 9   Adult literacy rate: Male: % ages 15 and older: 2005-14                                                                          132 non-null    float64\n",
            " 10  Adult literacy rate: Female: % ages 15 and older: 2005-14                                                                        132 non-null    float64\n",
            " 11  Students at lowest proficiency on PISA: Mathematics: % of 15 year-olds: 2015                                                     65 non-null     float64\n",
            " 12  Students at lowest proficiency on PISA: Reading: % of 15 year-olds: 2015                                                         65 non-null     float64\n",
            " 13  Students at lowest proficiency on PISA: Science: % of 15 year-olds: 2015                                                         63 non-null     float64\n",
            " 14  Population: millions: 2016                                                                                                       165 non-null    float64\n",
            " 15  Surface area: sq. km thousands: 2016                                                                                             166 non-null    float64\n",
            " 16  Population density: people per sq. km: 2016                                                                                      164 non-null    float64\n",
            " 17  Gross national income, Atlas method: $ billions: 2016                                                                            157 non-null    float64\n",
            " 18  Gross national income per capita, Atlas method: $: 2016                                                                          157 non-null    float64\n",
            " 19  Purchasing power parity gross national income: $ billions: 2016                                                                  157 non-null    float64\n",
            " 20  per capita: $: 2016                                                                                                              157 non-null    float64\n",
            " 21  Gross domestic product: % growth : 2016                                                                                          159 non-null    float64\n",
            " 22  per capita: % growth: 2016                                                                                                       159 non-null    float64\n",
            " 23  Prevalence of smoking: Male: % of adults: 2015                                                                                   112 non-null    float64\n",
            " 24  Prevalence of smoking: Female: % of adults: 2015                                                                                 114 non-null    float64\n",
            " 25  Incidence of tuberculosis: per 100,000 people: 2015                                                                              164 non-null    float64\n",
            " 26  Prevalence of diabetes: % of population ages 20 to 79: 2015                                                                      165 non-null    float64\n",
            " 27  Incidence of HIV: Total: % of uninfected population ages 15-49: 2015                                                             95 non-null     float64\n",
            " 28  Prevalence of HIV: Total: % of population ages 15-49: 2015                                                                       94 non-null     float64\n",
            " 29  Prevalence of HIV: Women's share of population ages 15+ living with HIV: %: 2015                                                 94 non-null     float64\n",
            " 30  Prevalence of HIV: Youth, Male: % of population ages 15-24: 2015                                                                 94 non-null     float64\n",
            " 31  Prevalence of HIV: Youth, Female: % of population ages 15-24: 2015                                                               94 non-null     float64\n",
            " 32  Antiretroviral therapy coverage: % of people living with HIV: 2015                                                               91 non-null     float64\n",
            " 33  Cause of death: Communicable diseases and maternal, prenatal, and nutrition conditions: % of population: 2015                    157 non-null    float64\n",
            " 34  Cause of death: Non-communicable diseases: % of population: 2015                                                                 157 non-null    float64\n",
            " 35  Cause of death: Injuries: % of population: 2015                                                                                  157 non-null    float64\n",
            " 36  Access to an improved water source: % of population: 1990                                                                        147 non-null    float64\n",
            " 37  Access to an improved water source: % of population: 2015                                                                        157 non-null    float64\n",
            " 38  Access to improved sanitation facilities: % of population: 1990                                                                  142 non-null    float64\n",
            " 39  Access to improved sanitation facilities: % of population: 2015                                                                  158 non-null    float64\n",
            " 40  Child immunization rate: Measles: % of children ages 12-23 months: 2015                                                          164 non-null    float64\n",
            " 41  Child immunization rate: DTP3: % of children ages 12-23 months: 2015                                                             164 non-null    float64\n",
            " 42  Children with acute respiratory infection taken to health provider: % of children under age 5 with ARI: 2009-2016                84 non-null     float64\n",
            " 43  Children with diarrhea who received oral rehydration and continuous feeding: % of children under age 5 with diarrhea: 2009-2016  83 non-null     float64\n",
            " 44  Children sleeping under treated bed nets: % of children under age 5: 2009-2016                                                   43 non-null     float64\n",
            " 45  Children with fever receiving antimalarial drugs: % of children under age 5 with fever: 2009-2016                                52 non-null     float64\n",
            " 46  Tuberculosis: Treatment success rate: % of new cases: 2014                                                                       159 non-null    float64\n",
            " 47  Tuberculosis: Cases detection rate: % of new estimated cases: 2015                                                               162 non-null    float64\n",
            "dtypes: float64(45), int64(1), object(2)\n",
            "memory usage: 62.4+ KB\n"
          ]
        }
      ],
      "source": [
        "# code here\n",
        "df.shape\n",
        "df.head(5)\n",
        "# df.drop('Unnamed : 0', axis=1, inplace=True)\n",
        "df.info()"
      ]
    },
    {
      "cell_type": "markdown",
      "id": "a0bf82b3-ddd0-48d6-b0de-479c438bfb4b",
      "metadata": {
        "id": "a0bf82b3-ddd0-48d6-b0de-479c438bfb4b"
      },
      "source": [
        "## Bar Plots"
      ]
    },
    {
      "cell_type": "markdown",
      "id": "149c891b-46cd-4d35-876b-a2eb10dfea8b",
      "metadata": {
        "id": "149c891b-46cd-4d35-876b-a2eb10dfea8b"
      },
      "source": [
        "We often use bar plots to display **distributions** of a **categorical variable**.\n",
        "\n",
        "In the examples below, we plot the distribution of the `\"Continent\"` column. The cell below uses `.value_counts()` to determine the number of countries corresponding to each continent in the dataset."
      ]
    },
    {
      "cell_type": "code",
      "execution_count": 21,
      "id": "a4a39f63",
      "metadata": {
        "colab": {
          "base_uri": "https://localhost:8080/",
          "height": 490
        },
        "id": "a4a39f63",
        "outputId": "c52c739b-7655-4021-8737-bfea4b082b70"
      },
      "outputs": [
        {
          "output_type": "execute_result",
          "data": {
            "text/plain": [
              "Text(0, 0.5, 'Count')"
            ]
          },
          "metadata": {},
          "execution_count": 21
        },
        {
          "output_type": "display_data",
          "data": {
            "text/plain": [
              "<Figure size 640x480 with 1 Axes>"
            ],
            "image/png": "[encoded data removed]"
          },
          "metadata": {}
        }
      ],
      "source": [
        "\n",
        "continents = df['Continent'].value_counts()\n",
        "plt.bar(continents.index, continents.values);\n",
        "plt.title('Distribution of countries across  the continents')\n",
        "plt.xlabel('Countinent')\n",
        "plt.ylabel('Count')"
      ]
    },
    {
      "cell_type": "code",
      "source": [
        "import seaborn as sns\n",
        "# a = sns.histplot(data=df, x='Gross national income per capita, Atlas method: $: 2016', stat='density' , edgecolor='purple', bins= 15);\n",
        "# # Add labels\n"
      ],
      "metadata": {
        "id": "ATfDFQ6UCoFc"
      },
      "id": "ATfDFQ6UCoFc",
      "execution_count": 56,
      "outputs": []
    },
    {
      "cell_type": "markdown",
      "id": "fdd324b0-3fe9-4a52-b0ca-595264c2b39f",
      "metadata": {
        "id": "fdd324b0-3fe9-4a52-b0ca-595264c2b39f"
      },
      "source": [
        "## Histograms"
      ]
    },
    {
      "cell_type": "markdown",
      "id": "a26fe5e3-a16e-4da4-93af-f3bcbca9ad22",
      "metadata": {
        "id": "a26fe5e3-a16e-4da4-93af-f3bcbca9ad22"
      },
      "source": [
        "You are likely familiar with histograms. A histogram collects continuous data into bins, then plots this binned data. Each bin reflects the density of datapoints with values that lie between the left and right ends of the bin."
      ]
    },
    {
      "cell_type": "code",
      "execution_count": 49,
      "id": "25af8d15-8c75-4d05-8cdf-6039b5a15be3",
      "metadata": {
        "colab": {
          "base_uri": "https://localhost:8080/",
          "height": 502
        },
        "id": "25af8d15-8c75-4d05-8cdf-6039b5a15be3",
        "outputId": "2639ce0a-5e6b-40ce-93f5-e8abd73ff900"
      },
      "outputs": [
        {
          "output_type": "execute_result",
          "data": {
            "text/plain": [
              "(array([98., 25.,  9.,  2.,  5.,  8.,  6.,  0.,  0.,  4.]),\n",
              " array([  280.,  8485., 16690., 24895., 33100., 41305., 49510., 57715.,\n",
              "        65920., 74125., 82330.]),\n",
              " <BarContainer object of 10 artists>)"
            ]
          },
          "metadata": {},
          "execution_count": 49
        },
        {
          "output_type": "display_data",
          "data": {
            "text/plain": [
              "<Figure size 640x480 with 1 Axes>"
            ],
            "image/png": "[encoded data removed]"
          },
          "metadata": {}
        }
      ],
      "source": [
        "# Draw histogram of Gross national income\n",
        "# The `edgecolor` argument controls the color of the bin edges\n",
        "y = plt.hist(df['Gross national income per capita, Atlas method: $: 2016'], edgecolor='white', bins=10);\n",
        "y\n"
      ]
    },
    {
      "cell_type": "code",
      "execution_count": 52,
      "id": "ca7efca8-2737-41c4-b94f-06ecd7b6ccaa",
      "metadata": {
        "colab": {
          "base_uri": "https://localhost:8080/",
          "height": 373
        },
        "id": "ca7efca8-2737-41c4-b94f-06ecd7b6ccaa",
        "outputId": "bdbe4ba7-32b1-489a-dbd7-230aab42980c"
      },
      "outputs": [
        {
          "output_type": "execute_result",
          "data": {
            "text/plain": [
              "   Unnamed: 0 Continent  Country  \\\n",
              "0           0    Africa  Algeria   \n",
              "\n",
              "   Primary completion rate: Male: % of relevant age group: 2015  \\\n",
              "0                                              106.0              \n",
              "\n",
              "   Primary completion rate: Female: % of relevant age group: 2015  \\\n",
              "0                                              105.0                \n",
              "\n",
              "   Lower secondary completion rate: Male: % of relevant age group: 2015  \\\n",
              "0                                               68.0                      \n",
              "\n",
              "   Lower secondary completion rate: Female: % of relevant age group: 2015  \\\n",
              "0                                               85.0                        \n",
              "\n",
              "   Youth literacy rate: Male: % of ages 15-24: 2005-14  \\\n",
              "0                                               96.0     \n",
              "\n",
              "   Youth literacy rate: Female: % of ages 15-24: 2005-14  \\\n",
              "0                                               92.0       \n",
              "\n",
              "   Adult literacy rate: Male: % ages 15 and older: 2005-14  ...  \\\n",
              "0                                               83.0        ...   \n",
              "\n",
              "   Access to improved sanitation facilities: % of population: 1990  \\\n",
              "0                                               80.0                 \n",
              "\n",
              "   Access to improved sanitation facilities: % of population: 2015  \\\n",
              "0                                               88.0                 \n",
              "\n",
              "   Child immunization rate: Measles: % of children ages 12-23 months: 2015  \\\n",
              "0                                               95.0                         \n",
              "\n",
              "   Child immunization rate: DTP3: % of children ages 12-23 months: 2015  \\\n",
              "0                                               95.0                      \n",
              "\n",
              "   Children with acute respiratory infection taken to health provider: % of children under age 5 with ARI: 2009-2016  \\\n",
              "0                                               66.0                                                                   \n",
              "\n",
              "   Children with diarrhea who received oral rehydration and continuous feeding: % of children under age 5 with diarrhea: 2009-2016  \\\n",
              "0                                               42.0                                                                                 \n",
              "\n",
              "   Children sleeping under treated bed nets: % of children under age 5: 2009-2016  \\\n",
              "0                                                NaN                                \n",
              "\n",
              "   Children with fever receiving antimalarial drugs: % of children under age 5 with fever: 2009-2016  \\\n",
              "0                                                NaN                                                   \n",
              "\n",
              "   Tuberculosis: Treatment success rate: % of new cases: 2014  \\\n",
              "0                                               88.0            \n",
              "\n",
              "   Tuberculosis: Cases detection rate: % of new estimated cases: 2015  \n",
              "0                                               80.0                   \n",
              "\n",
              "[1 rows x 48 columns]"
            ],
            "text/html": [
              "\n",
              "  <div id=\"df-d197c7ce-3795-49d0-b783-05b4366a24dd\" class=\"colab-df-container\">\n",
              "    <div>\n",
              "<style scoped>\n",
              "    .dataframe tbody tr th:only-of-type {\n",
              "        vertical-align: middle;\n",
              "    }\n",
              "\n",
              "    .dataframe tbody tr th {\n",
              "        vertical-align: top;\n",
              "    }\n",
              "\n",
              "    .dataframe thead th {\n",
              "        text-align: right;\n",
              "    }\n",
              "</style>\n",
              "<table border=\"1\" class=\"dataframe\">\n",
              "  <thead>\n",
              "    <tr style=\"text-align: right;\">\n",
              "      <th></th>\n",
              "      <th>Unnamed: 0</th>\n",
              "      <th>Continent</th>\n",
              "      <th>Country</th>\n",
              "      <th>Primary completion rate: Male: % of relevant age group: 2015</th>\n",
              "      <th>Primary completion rate: Female: % of relevant age group: 2015</th>\n",
              "      <th>Lower secondary completion rate: Male: % of relevant age group: 2015</th>\n",
              "      <th>Lower secondary completion rate: Female: % of relevant age group: 2015</th>\n",
              "      <th>Youth literacy rate: Male: % of ages 15-24: 2005-14</th>\n",
              "      <th>Youth literacy rate: Female: % of ages 15-24: 2005-14</th>\n",
              "      <th>Adult literacy rate: Male: % ages 15 and older: 2005-14</th>\n",
              "      <th>...</th>\n",
              "      <th>Access to improved sanitation facilities: % of population: 1990</th>\n",
              "      <th>Access to improved sanitation facilities: % of population: 2015</th>\n",
              "      <th>Child immunization rate: Measles: % of children ages 12-23 months: 2015</th>\n",
              "      <th>Child immunization rate: DTP3: % of children ages 12-23 months: 2015</th>\n",
              "      <th>Children with acute respiratory infection taken to health provider: % of children under age 5 with ARI: 2009-2016</th>\n",
              "      <th>Children with diarrhea who received oral rehydration and continuous feeding: % of children under age 5 with diarrhea: 2009-2016</th>\n",
              "      <th>Children sleeping under treated bed nets: % of children under age 5: 2009-2016</th>\n",
              "      <th>Children with fever receiving antimalarial drugs: % of children under age 5 with fever: 2009-2016</th>\n",
              "      <th>Tuberculosis: Treatment success rate: % of new cases: 2014</th>\n",
              "      <th>Tuberculosis: Cases detection rate: % of new estimated cases: 2015</th>\n",
              "    </tr>\n",
              "  </thead>\n",
              "  <tbody>\n",
              "    <tr>\n",
              "      <th>0</th>\n",
              "      <td>0</td>\n",
              "      <td>Africa</td>\n",
              "      <td>Algeria</td>\n",
              "      <td>106.0</td>\n",
              "      <td>105.0</td>\n",
              "      <td>68.0</td>\n",
              "      <td>85.0</td>\n",
              "      <td>96.0</td>\n",
              "      <td>92.0</td>\n",
              "      <td>83.0</td>\n",
              "      <td>...</td>\n",
              "      <td>80.0</td>\n",
              "      <td>88.0</td>\n",
              "      <td>95.0</td>\n",
              "      <td>95.0</td>\n",
              "      <td>66.0</td>\n",
              "      <td>42.0</td>\n",
              "      <td>NaN</td>\n",
              "      <td>NaN</td>\n",
              "      <td>88.0</td>\n",
              "      <td>80.0</td>\n",
              "    </tr>\n",
              "  </tbody>\n",
              "</table>\n",
              "<p>1 rows × 48 columns</p>\n",
              "</div>\n",
              "    <div class=\"colab-df-buttons\">\n",
              "\n",
              "  <div class=\"colab-df-container\">\n",
              "    <button class=\"colab-df-convert\" onclick=\"convertToInteractive('df-d197c7ce-3795-49d0-b783-05b4366a24dd')\"\n",
              "            title=\"Convert this dataframe to an interactive table.\"\n",
              "            style=\"display:none;\">\n",
              "\n",
              "  <svg xmlns=\"http://www.w3.org/2000/svg\" height=\"24px\" viewBox=\"0 -960 960 960\">\n",
              "    <path d=\"M120-120v-720h720v720H120Zm60-500h600v-160H180v160Zm220 220h160v-160H400v160Zm0 220h160v-160H400v160ZM180-400h160v-160H180v160Zm440 0h160v-160H620v160ZM180-180h160v-160H180v160Zm440 0h160v-160H620v160Z\"/>\n",
              "  </svg>\n",
              "    </button>\n",
              "\n",
              "  <style>\n",
              "    .colab-df-container {\n",
              "      display:flex;\n",
              "      gap: 12px;\n",
              "    }\n",
              "\n",
              "    .colab-df-convert {\n",
              "      background-color: #E8F0FE;\n",
              "      border: none;\n",
              "      border-radius: 50%;\n",
              "      cursor: pointer;\n",
              "      display: none;\n",
              "      fill: #1967D2;\n",
              "      height: 32px;\n",
              "      padding: 0 0 0 0;\n",
              "      width: 32px;\n",
              "    }\n",
              "\n",
              "    .colab-df-convert:hover {\n",
              "      background-color: #E2EBFA;\n",
              "      box-shadow: 0px 1px 2px rgba(60, 64, 67, 0.3), 0px 1px 3px 1px rgba(60, 64, 67, 0.15);\n",
              "      fill: #174EA6;\n",
              "    }\n",
              "\n",
              "    .colab-df-buttons div {\n",
              "      margin-bottom: 4px;\n",
              "    }\n",
              "\n",
              "    [theme=dark] .colab-df-convert {\n",
              "      background-color: #3B4455;\n",
              "      fill: #D2E3FC;\n",
              "    }\n",
              "\n",
              "    [theme=dark] .colab-df-convert:hover {\n",
              "      background-color: #434B5C;\n",
              "      box-shadow: 0px 1px 3px 1px rgba(0, 0, 0, 0.15);\n",
              "      filter: drop-shadow(0px 1px 2px rgba(0, 0, 0, 0.3));\n",
              "      fill: #FFFFFF;\n",
              "    }\n",
              "  </style>\n",
              "\n",
              "    <script>\n",
              "      const buttonEl =\n",
              "        document.querySelector('#df-d197c7ce-3795-49d0-b783-05b4366a24dd button.colab-df-convert');\n",
              "      buttonEl.style.display =\n",
              "        google.colab.kernel.accessAllowed ? 'block' : 'none';\n",
              "\n",
              "      async function convertToInteractive(key) {\n",
              "        const element = document.querySelector('#df-d197c7ce-3795-49d0-b783-05b4366a24dd');\n",
              "        const dataTable =\n",
              "          await google.colab.kernel.invokeFunction('convertToInteractive',\n",
              "                                                    [key], {});\n",
              "        if (!dataTable) return;\n",
              "\n",
              "        const docLinkHtml = 'Like what you see? Visit the ' +\n",
              "          '<a target=\"_blank\" href=https://colab.research.google.com/notebooks/data_table.ipynb>data table notebook</a>'\n",
              "          + ' to learn more about interactive tables.';\n",
              "        element.innerHTML = '';\n",
              "        dataTable['output_type'] = 'display_data';\n",
              "        await google.colab.output.renderOutput(dataTable, element);\n",
              "        const docLink = document.createElement('div');\n",
              "        docLink.innerHTML = docLinkHtml;\n",
              "        element.appendChild(docLink);\n",
              "      }\n",
              "    </script>\n",
              "  </div>\n",
              "\n",
              "\n",
              "    </div>\n",
              "  </div>\n"
            ],
            "application/vnd.google.colaboratory.intrinsic+json": {
              "type": "dataframe",
              "variable_name": "df"
            }
          },
          "metadata": {},
          "execution_count": 52
        }
      ],
      "source": [
        "#code here\n",
        "df.head(1)"
      ]
    },
    {
      "cell_type": "code",
      "source": [
        "# 3 australia south america africa\n",
        "# hemisphere\n",
        "hemi = []\n",
        "southern = ['Oceania', 'Africa', 'South America']\n",
        "for continents in df['Continent']:\n",
        "  #if df[df['Continent'] == 'Australia' | df['Continent'] == 'Africa' | df['Continent'] == 'South America']:\n",
        "  if continents not in southern:\n",
        "      hemi.append('Southern')\n",
        "  else:\n",
        "       hemi.append('Northern')\n",
        "df['Hemisphere'] = hemi\n",
        "df"
      ],
      "metadata": {
        "colab": {
          "base_uri": "https://localhost:8080/",
          "height": 686
        },
        "id": "BvnYuvOaBsiA",
        "outputId": "35627c1c-4393-4fc0-bf68-7a77f3aaf00f"
      },
      "id": "BvnYuvOaBsiA",
      "execution_count": 53,
      "outputs": [
        {
          "output_type": "execute_result",
          "data": {
            "text/plain": [
              "     Unnamed: 0   Continent   Country  \\\n",
              "0             0      Africa   Algeria   \n",
              "1             1      Africa    Angola   \n",
              "2             2      Africa     Benin   \n",
              "3             3      Africa  Botswana   \n",
              "4             5      Africa   Burundi   \n",
              "..          ...         ...       ...   \n",
              "161         188  S. America    Guyana   \n",
              "162         189  S. America  Paraguay   \n",
              "163         190  S. America      Peru   \n",
              "164         191  S. America  Suriname   \n",
              "165         192  S. America   Uruguay   \n",
              "\n",
              "     Primary completion rate: Male: % of relevant age group: 2015  \\\n",
              "0                                                106.0              \n",
              "1                                                  NaN              \n",
              "2                                                 83.0              \n",
              "3                                                 98.0              \n",
              "4                                                 58.0              \n",
              "..                                                 ...              \n",
              "161                                               87.0              \n",
              "162                                               89.0              \n",
              "163                                               99.0              \n",
              "164                                               90.0              \n",
              "165                                              103.0              \n",
              "\n",
              "     Primary completion rate: Female: % of relevant age group: 2015  \\\n",
              "0                                                105.0                \n",
              "1                                                  NaN                \n",
              "2                                                 73.0                \n",
              "3                                                101.0                \n",
              "4                                                 66.0                \n",
              "..                                                 ...                \n",
              "161                                               81.0                \n",
              "162                                               90.0                \n",
              "163                                              100.0                \n",
              "164                                               99.0                \n",
              "165                                              104.0                \n",
              "\n",
              "     Lower secondary completion rate: Male: % of relevant age group: 2015  \\\n",
              "0                                                 68.0                      \n",
              "1                                                  NaN                      \n",
              "2                                                 50.0                      \n",
              "3                                                 86.0                      \n",
              "4                                                 35.0                      \n",
              "..                                                 ...                      \n",
              "161                                                NaN                      \n",
              "162                                               71.0                      \n",
              "163                                               84.0                      \n",
              "164                                               36.0                      \n",
              "165                                               54.0                      \n",
              "\n",
              "     Lower secondary completion rate: Female: % of relevant age group: 2015  \\\n",
              "0                                                 85.0                        \n",
              "1                                                  NaN                        \n",
              "2                                                 37.0                        \n",
              "3                                                 87.0                        \n",
              "4                                                 30.0                        \n",
              "..                                                 ...                        \n",
              "161                                                NaN                        \n",
              "162                                               77.0                        \n",
              "163                                               87.0                        \n",
              "164                                               65.0                        \n",
              "165                                               68.0                        \n",
              "\n",
              "     Youth literacy rate: Male: % of ages 15-24: 2005-14  \\\n",
              "0                                                 96.0     \n",
              "1                                                 79.0     \n",
              "2                                                 55.0     \n",
              "3                                                 96.0     \n",
              "4                                                 90.0     \n",
              "..                                                 ...     \n",
              "161                                               92.0     \n",
              "162                                               99.0     \n",
              "163                                               99.0     \n",
              "164                                               98.0     \n",
              "165                                               98.0     \n",
              "\n",
              "     Youth literacy rate: Female: % of ages 15-24: 2005-14  \\\n",
              "0                                                 92.0       \n",
              "1                                                 67.0       \n",
              "2                                                 31.0       \n",
              "3                                                 99.0       \n",
              "4                                                 88.0       \n",
              "..                                                 ...       \n",
              "161                                               94.0       \n",
              "162                                               98.0       \n",
              "163                                               99.0       \n",
              "164                                               99.0       \n",
              "165                                               99.0       \n",
              "\n",
              "     Adult literacy rate: Male: % ages 15 and older: 2005-14  ...  \\\n",
              "0                                                 83.0        ...   \n",
              "1                                                 82.0        ...   \n",
              "2                                                 41.0        ...   \n",
              "3                                                 87.0        ...   \n",
              "4                                                 89.0        ...   \n",
              "..                                                 ...        ...   \n",
              "161                                               82.0        ...   \n",
              "162                                               96.0        ...   \n",
              "163                                               97.0        ...   \n",
              "164                                               95.0        ...   \n",
              "165                                               98.0        ...   \n",
              "\n",
              "     Access to improved sanitation facilities: % of population: 2015  \\\n",
              "0                                                 88.0                 \n",
              "1                                                 52.0                 \n",
              "2                                                 20.0                 \n",
              "3                                                 63.0                 \n",
              "4                                                 48.0                 \n",
              "..                                                 ...                 \n",
              "161                                               84.0                 \n",
              "162                                               89.0                 \n",
              "163                                               76.0                 \n",
              "164                                               79.0                 \n",
              "165                                               96.0                 \n",
              "\n",
              "     Child immunization rate: Measles: % of children ages 12-23 months: 2015  \\\n",
              "0                                                 95.0                         \n",
              "1                                                 55.0                         \n",
              "2                                                 75.0                         \n",
              "3                                                 97.0                         \n",
              "4                                                 93.0                         \n",
              "..                                                 ...                         \n",
              "161                                               99.0                         \n",
              "162                                               83.0                         \n",
              "163                                               92.0                         \n",
              "164                                               94.0                         \n",
              "165                                               96.0                         \n",
              "\n",
              "     Child immunization rate: DTP3: % of children ages 12-23 months: 2015  \\\n",
              "0                                                 95.0                      \n",
              "1                                                 64.0                      \n",
              "2                                                 79.0                      \n",
              "3                                                 95.0                      \n",
              "4                                                 94.0                      \n",
              "..                                                 ...                      \n",
              "161                                               95.0                      \n",
              "162                                               93.0                      \n",
              "163                                               90.0                      \n",
              "164                                               89.0                      \n",
              "165                                               95.0                      \n",
              "\n",
              "     Children with acute respiratory infection taken to health provider: % of children under age 5 with ARI: 2009-2016  \\\n",
              "0                                                 66.0                                                                   \n",
              "1                                                  NaN                                                                   \n",
              "2                                                 23.0                                                                   \n",
              "3                                                  NaN                                                                   \n",
              "4                                                 55.0                                                                   \n",
              "..                                                 ...                                                                   \n",
              "161                                               84.0                                                                   \n",
              "162                                                NaN                                                                   \n",
              "163                                               60.0                                                                   \n",
              "164                                               76.0                                                                   \n",
              "165                                                NaN                                                                   \n",
              "\n",
              "     Children with diarrhea who received oral rehydration and continuous feeding: % of children under age 5 with diarrhea: 2009-2016  \\\n",
              "0                                                 42.0                                                                                 \n",
              "1                                                  NaN                                                                                 \n",
              "2                                                 33.0                                                                                 \n",
              "3                                                  NaN                                                                                 \n",
              "4                                                 43.0                                                                                 \n",
              "..                                                 ...                                                                                 \n",
              "161                                               29.0                                                                                 \n",
              "162                                                NaN                                                                                 \n",
              "163                                               57.0                                                                                 \n",
              "164                                               61.0                                                                                 \n",
              "165                                                NaN                                                                                 \n",
              "\n",
              "     Children sleeping under treated bed nets: % of children under age 5: 2009-2016  \\\n",
              "0                                                  NaN                                \n",
              "1                                                 25.9                                \n",
              "2                                                 72.7                                \n",
              "3                                                  NaN                                \n",
              "4                                                 53.8                                \n",
              "..                                                 ...                                \n",
              "161                                                7.4                                \n",
              "162                                                NaN                                \n",
              "163                                                NaN                                \n",
              "164                                               43.4                                \n",
              "165                                                NaN                                \n",
              "\n",
              "     Children with fever receiving antimalarial drugs: % of children under age 5 with fever: 2009-2016  \\\n",
              "0                                                  NaN                                                   \n",
              "1                                                 28.3                                                   \n",
              "2                                                 25.9                                                   \n",
              "3                                                  NaN                                                   \n",
              "4                                                 25.4                                                   \n",
              "..                                                 ...                                                   \n",
              "161                                                7.4                                                   \n",
              "162                                                NaN                                                   \n",
              "163                                                NaN                                                   \n",
              "164                                                0.0                                                   \n",
              "165                                                NaN                                                   \n",
              "\n",
              "     Tuberculosis: Treatment success rate: % of new cases: 2014  \\\n",
              "0                                                 88.0            \n",
              "1                                                 34.0            \n",
              "2                                                 89.0            \n",
              "3                                                 77.0            \n",
              "4                                                 91.0            \n",
              "..                                                 ...            \n",
              "161                                               69.0            \n",
              "162                                               71.0            \n",
              "163                                               87.0            \n",
              "164                                               77.0            \n",
              "165                                               75.0            \n",
              "\n",
              "     Tuberculosis: Cases detection rate: % of new estimated cases: 2015  \\\n",
              "0                                                 80.0                    \n",
              "1                                                 64.0                    \n",
              "2                                                 61.0                    \n",
              "3                                                 62.0                    \n",
              "4                                                 51.0                    \n",
              "..                                                 ...                    \n",
              "161                                               80.0                    \n",
              "162                                               87.0                    \n",
              "163                                               80.0                    \n",
              "164                                               80.0                    \n",
              "165                                               87.0                    \n",
              "\n",
              "     Hemisphere  \n",
              "0      Northern  \n",
              "1      Northern  \n",
              "2      Northern  \n",
              "3      Northern  \n",
              "4      Northern  \n",
              "..          ...  \n",
              "161    Southern  \n",
              "162    Southern  \n",
              "163    Southern  \n",
              "164    Southern  \n",
              "165    Southern  \n",
              "\n",
              "[166 rows x 49 columns]"
            ],
            "text/html": [
              "\n",
              "  <div id=\"df-e6c2b403-bddb-4914-820c-787ec23aa585\" class=\"colab-df-container\">\n",
              "    <div>\n",
              "<style scoped>\n",
              "    .dataframe tbody tr th:only-of-type {\n",
              "        vertical-align: middle;\n",
              "    }\n",
              "\n",
              "    .dataframe tbody tr th {\n",
              "        vertical-align: top;\n",
              "    }\n",
              "\n",
              "    .dataframe thead th {\n",
              "        text-align: right;\n",
              "    }\n",
              "</style>\n",
              "<table border=\"1\" class=\"dataframe\">\n",
              "  <thead>\n",
              "    <tr style=\"text-align: right;\">\n",
              "      <th></th>\n",
              "      <th>Unnamed: 0</th>\n",
              "      <th>Continent</th>\n",
              "      <th>Country</th>\n",
              "      <th>Primary completion rate: Male: % of relevant age group: 2015</th>\n",
              "      <th>Primary completion rate: Female: % of relevant age group: 2015</th>\n",
              "      <th>Lower secondary completion rate: Male: % of relevant age group: 2015</th>\n",
              "      <th>Lower secondary completion rate: Female: % of relevant age group: 2015</th>\n",
              "      <th>Youth literacy rate: Male: % of ages 15-24: 2005-14</th>\n",
              "      <th>Youth literacy rate: Female: % of ages 15-24: 2005-14</th>\n",
              "      <th>Adult literacy rate: Male: % ages 15 and older: 2005-14</th>\n",
              "      <th>...</th>\n",
              "      <th>Access to improved sanitation facilities: % of population: 2015</th>\n",
              "      <th>Child immunization rate: Measles: % of children ages 12-23 months: 2015</th>\n",
              "      <th>Child immunization rate: DTP3: % of children ages 12-23 months: 2015</th>\n",
              "      <th>Children with acute respiratory infection taken to health provider: % of children under age 5 with ARI: 2009-2016</th>\n",
              "      <th>Children with diarrhea who received oral rehydration and continuous feeding: % of children under age 5 with diarrhea: 2009-2016</th>\n",
              "      <th>Children sleeping under treated bed nets: % of children under age 5: 2009-2016</th>\n",
              "      <th>Children with fever receiving antimalarial drugs: % of children under age 5 with fever: 2009-2016</th>\n",
              "      <th>Tuberculosis: Treatment success rate: % of new cases: 2014</th>\n",
              "      <th>Tuberculosis: Cases detection rate: % of new estimated cases: 2015</th>\n",
              "      <th>Hemisphere</th>\n",
              "    </tr>\n",
              "  </thead>\n",
              "  <tbody>\n",
              "    <tr>\n",
              "      <th>0</th>\n",
              "      <td>0</td>\n",
              "      <td>Africa</td>\n",
              "      <td>Algeria</td>\n",
              "      <td>106.0</td>\n",
              "      <td>105.0</td>\n",
              "      <td>68.0</td>\n",
              "      <td>85.0</td>\n",
              "      <td>96.0</td>\n",
              "      <td>92.0</td>\n",
              "      <td>83.0</td>\n",
              "      <td>...</td>\n",
              "      <td>88.0</td>\n",
              "      <td>95.0</td>\n",
              "      <td>95.0</td>\n",
              "      <td>66.0</td>\n",
              "      <td>42.0</td>\n",
              "      <td>NaN</td>\n",
              "      <td>NaN</td>\n",
              "      <td>88.0</td>\n",
              "      <td>80.0</td>\n",
              "      <td>Northern</td>\n",
              "    </tr>\n",
              "    <tr>\n",
              "      <th>1</th>\n",
              "      <td>1</td>\n",
              "      <td>Africa</td>\n",
              "      <td>Angola</td>\n",
              "      <td>NaN</td>\n",
              "      <td>NaN</td>\n",
              "      <td>NaN</td>\n",
              "      <td>NaN</td>\n",
              "      <td>79.0</td>\n",
              "      <td>67.0</td>\n",
              "      <td>82.0</td>\n",
              "      <td>...</td>\n",
              "      <td>52.0</td>\n",
              "      <td>55.0</td>\n",
              "      <td>64.0</td>\n",
              "      <td>NaN</td>\n",
              "      <td>NaN</td>\n",
              "      <td>25.9</td>\n",
              "      <td>28.3</td>\n",
              "      <td>34.0</td>\n",
              "      <td>64.0</td>\n",
              "      <td>Northern</td>\n",
              "    </tr>\n",
              "    <tr>\n",
              "      <th>2</th>\n",
              "      <td>2</td>\n",
              "      <td>Africa</td>\n",
              "      <td>Benin</td>\n",
              "      <td>83.0</td>\n",
              "      <td>73.0</td>\n",
              "      <td>50.0</td>\n",
              "      <td>37.0</td>\n",
              "      <td>55.0</td>\n",
              "      <td>31.0</td>\n",
              "      <td>41.0</td>\n",
              "      <td>...</td>\n",
              "      <td>20.0</td>\n",
              "      <td>75.0</td>\n",
              "      <td>79.0</td>\n",
              "      <td>23.0</td>\n",
              "      <td>33.0</td>\n",
              "      <td>72.7</td>\n",
              "      <td>25.9</td>\n",
              "      <td>89.0</td>\n",
              "      <td>61.0</td>\n",
              "      <td>Northern</td>\n",
              "    </tr>\n",
              "    <tr>\n",
              "      <th>3</th>\n",
              "      <td>3</td>\n",
              "      <td>Africa</td>\n",
              "      <td>Botswana</td>\n",
              "      <td>98.0</td>\n",
              "      <td>101.0</td>\n",
              "      <td>86.0</td>\n",
              "      <td>87.0</td>\n",
              "      <td>96.0</td>\n",
              "      <td>99.0</td>\n",
              "      <td>87.0</td>\n",
              "      <td>...</td>\n",
              "      <td>63.0</td>\n",
              "      <td>97.0</td>\n",
              "      <td>95.0</td>\n",
              "      <td>NaN</td>\n",
              "      <td>NaN</td>\n",
              "      <td>NaN</td>\n",
              "      <td>NaN</td>\n",
              "      <td>77.0</td>\n",
              "      <td>62.0</td>\n",
              "      <td>Northern</td>\n",
              "    </tr>\n",
              "    <tr>\n",
              "      <th>4</th>\n",
              "      <td>5</td>\n",
              "      <td>Africa</td>\n",
              "      <td>Burundi</td>\n",
              "      <td>58.0</td>\n",
              "      <td>66.0</td>\n",
              "      <td>35.0</td>\n",
              "      <td>30.0</td>\n",
              "      <td>90.0</td>\n",
              "      <td>88.0</td>\n",
              "      <td>89.0</td>\n",
              "      <td>...</td>\n",
              "      <td>48.0</td>\n",
              "      <td>93.0</td>\n",
              "      <td>94.0</td>\n",
              "      <td>55.0</td>\n",
              "      <td>43.0</td>\n",
              "      <td>53.8</td>\n",
              "      <td>25.4</td>\n",
              "      <td>91.0</td>\n",
              "      <td>51.0</td>\n",
              "      <td>Northern</td>\n",
              "    </tr>\n",
              "    <tr>\n",
              "      <th>...</th>\n",
              "      <td>...</td>\n",
              "      <td>...</td>\n",
              "      <td>...</td>\n",
              "      <td>...</td>\n",
              "      <td>...</td>\n",
              "      <td>...</td>\n",
              "      <td>...</td>\n",
              "      <td>...</td>\n",
              "      <td>...</td>\n",
              "      <td>...</td>\n",
              "      <td>...</td>\n",
              "      <td>...</td>\n",
              "      <td>...</td>\n",
              "      <td>...</td>\n",
              "      <td>...</td>\n",
              "      <td>...</td>\n",
              "      <td>...</td>\n",
              "      <td>...</td>\n",
              "      <td>...</td>\n",
              "      <td>...</td>\n",
              "      <td>...</td>\n",
              "    </tr>\n",
              "    <tr>\n",
              "      <th>161</th>\n",
              "      <td>188</td>\n",
              "      <td>S. America</td>\n",
              "      <td>Guyana</td>\n",
              "      <td>87.0</td>\n",
              "      <td>81.0</td>\n",
              "      <td>NaN</td>\n",
              "      <td>NaN</td>\n",
              "      <td>92.0</td>\n",
              "      <td>94.0</td>\n",
              "      <td>82.0</td>\n",
              "      <td>...</td>\n",
              "      <td>84.0</td>\n",
              "      <td>99.0</td>\n",
              "      <td>95.0</td>\n",
              "      <td>84.0</td>\n",
              "      <td>29.0</td>\n",
              "      <td>7.4</td>\n",
              "      <td>7.4</td>\n",
              "      <td>69.0</td>\n",
              "      <td>80.0</td>\n",
              "      <td>Southern</td>\n",
              "    </tr>\n",
              "    <tr>\n",
              "      <th>162</th>\n",
              "      <td>189</td>\n",
              "      <td>S. America</td>\n",
              "      <td>Paraguay</td>\n",
              "      <td>89.0</td>\n",
              "      <td>90.0</td>\n",
              "      <td>71.0</td>\n",
              "      <td>77.0</td>\n",
              "      <td>99.0</td>\n",
              "      <td>98.0</td>\n",
              "      <td>96.0</td>\n",
              "      <td>...</td>\n",
              "      <td>89.0</td>\n",
              "      <td>83.0</td>\n",
              "      <td>93.0</td>\n",
              "      <td>NaN</td>\n",
              "      <td>NaN</td>\n",
              "      <td>NaN</td>\n",
              "      <td>NaN</td>\n",
              "      <td>71.0</td>\n",
              "      <td>87.0</td>\n",
              "      <td>Southern</td>\n",
              "    </tr>\n",
              "    <tr>\n",
              "      <th>163</th>\n",
              "      <td>190</td>\n",
              "      <td>S. America</td>\n",
              "      <td>Peru</td>\n",
              "      <td>99.0</td>\n",
              "      <td>100.0</td>\n",
              "      <td>84.0</td>\n",
              "      <td>87.0</td>\n",
              "      <td>99.0</td>\n",
              "      <td>99.0</td>\n",
              "      <td>97.0</td>\n",
              "      <td>...</td>\n",
              "      <td>76.0</td>\n",
              "      <td>92.0</td>\n",
              "      <td>90.0</td>\n",
              "      <td>60.0</td>\n",
              "      <td>57.0</td>\n",
              "      <td>NaN</td>\n",
              "      <td>NaN</td>\n",
              "      <td>87.0</td>\n",
              "      <td>80.0</td>\n",
              "      <td>Southern</td>\n",
              "    </tr>\n",
              "    <tr>\n",
              "      <th>164</th>\n",
              "      <td>191</td>\n",
              "      <td>S. America</td>\n",
              "      <td>Suriname</td>\n",
              "      <td>90.0</td>\n",
              "      <td>99.0</td>\n",
              "      <td>36.0</td>\n",
              "      <td>65.0</td>\n",
              "      <td>98.0</td>\n",
              "      <td>99.0</td>\n",
              "      <td>95.0</td>\n",
              "      <td>...</td>\n",
              "      <td>79.0</td>\n",
              "      <td>94.0</td>\n",
              "      <td>89.0</td>\n",
              "      <td>76.0</td>\n",
              "      <td>61.0</td>\n",
              "      <td>43.4</td>\n",
              "      <td>0.0</td>\n",
              "      <td>77.0</td>\n",
              "      <td>80.0</td>\n",
              "      <td>Southern</td>\n",
              "    </tr>\n",
              "    <tr>\n",
              "      <th>165</th>\n",
              "      <td>192</td>\n",
              "      <td>S. America</td>\n",
              "      <td>Uruguay</td>\n",
              "      <td>103.0</td>\n",
              "      <td>104.0</td>\n",
              "      <td>54.0</td>\n",
              "      <td>68.0</td>\n",
              "      <td>98.0</td>\n",
              "      <td>99.0</td>\n",
              "      <td>98.0</td>\n",
              "      <td>...</td>\n",
              "      <td>96.0</td>\n",
              "      <td>96.0</td>\n",
              "      <td>95.0</td>\n",
              "      <td>NaN</td>\n",
              "      <td>NaN</td>\n",
              "      <td>NaN</td>\n",
              "      <td>NaN</td>\n",
              "      <td>75.0</td>\n",
              "      <td>87.0</td>\n",
              "      <td>Southern</td>\n",
              "    </tr>\n",
              "  </tbody>\n",
              "</table>\n",
              "<p>166 rows × 49 columns</p>\n",
              "</div>\n",
              "    <div class=\"colab-df-buttons\">\n",
              "\n",
              "  <div class=\"colab-df-container\">\n",
              "    <button class=\"colab-df-convert\" onclick=\"convertToInteractive('df-e6c2b403-bddb-4914-820c-787ec23aa585')\"\n",
              "            title=\"Convert this dataframe to an interactive table.\"\n",
              "            style=\"display:none;\">\n",
              "\n",
              "  <svg xmlns=\"http://www.w3.org/2000/svg\" height=\"24px\" viewBox=\"0 -960 960 960\">\n",
              "    <path d=\"M120-120v-720h720v720H120Zm60-500h600v-160H180v160Zm220 220h160v-160H400v160Zm0 220h160v-160H400v160ZM180-400h160v-160H180v160Zm440 0h160v-160H620v160ZM180-180h160v-160H180v160Zm440 0h160v-160H620v160Z\"/>\n",
              "  </svg>\n",
              "    </button>\n",
              "\n",
              "  <style>\n",
              "    .colab-df-container {\n",
              "      display:flex;\n",
              "      gap: 12px;\n",
              "    }\n",
              "\n",
              "    .colab-df-convert {\n",
              "      background-color: #E8F0FE;\n",
              "      border: none;\n",
              "      border-radius: 50%;\n",
              "      cursor: pointer;\n",
              "      display: none;\n",
              "      fill: #1967D2;\n",
              "      height: 32px;\n",
              "      padding: 0 0 0 0;\n",
              "      width: 32px;\n",
              "    }\n",
              "\n",
              "    .colab-df-convert:hover {\n",
              "      background-color: #E2EBFA;\n",
              "      box-shadow: 0px 1px 2px rgba(60, 64, 67, 0.3), 0px 1px 3px 1px rgba(60, 64, 67, 0.15);\n",
              "      fill: #174EA6;\n",
              "    }\n",
              "\n",
              "    .colab-df-buttons div {\n",
              "      margin-bottom: 4px;\n",
              "    }\n",
              "\n",
              "    [theme=dark] .colab-df-convert {\n",
              "      background-color: #3B4455;\n",
              "      fill: #D2E3FC;\n",
              "    }\n",
              "\n",
              "    [theme=dark] .colab-df-convert:hover {\n",
              "      background-color: #434B5C;\n",
              "      box-shadow: 0px 1px 3px 1px rgba(0, 0, 0, 0.15);\n",
              "      filter: drop-shadow(0px 1px 2px rgba(0, 0, 0, 0.3));\n",
              "      fill: #FFFFFF;\n",
              "    }\n",
              "  </style>\n",
              "\n",
              "    <script>\n",
              "      const buttonEl =\n",
              "        document.querySelector('#df-e6c2b403-bddb-4914-820c-787ec23aa585 button.colab-df-convert');\n",
              "      buttonEl.style.display =\n",
              "        google.colab.kernel.accessAllowed ? 'block' : 'none';\n",
              "\n",
              "      async function convertToInteractive(key) {\n",
              "        const element = document.querySelector('#df-e6c2b403-bddb-4914-820c-787ec23aa585');\n",
              "        const dataTable =\n",
              "          await google.colab.kernel.invokeFunction('convertToInteractive',\n",
              "                                                    [key], {});\n",
              "        if (!dataTable) return;\n",
              "\n",
              "        const docLinkHtml = 'Like what you see? Visit the ' +\n",
              "          '<a target=\"_blank\" href=https://colab.research.google.com/notebooks/data_table.ipynb>data table notebook</a>'\n",
              "          + ' to learn more about interactive tables.';\n",
              "        element.innerHTML = '';\n",
              "        dataTable['output_type'] = 'display_data';\n",
              "        await google.colab.output.renderOutput(dataTable, element);\n",
              "        const docLink = document.createElement('div');\n",
              "        docLink.innerHTML = docLinkHtml;\n",
              "        element.appendChild(docLink);\n",
              "      }\n",
              "    </script>\n",
              "  </div>\n",
              "\n",
              "\n",
              "<div id=\"df-18bfd192-ae6c-404c-87d2-198ee519e55b\">\n",
              "  <button class=\"colab-df-quickchart\" onclick=\"quickchart('df-18bfd192-ae6c-404c-87d2-198ee519e55b')\"\n",
              "            title=\"Suggest charts\"\n",
              "            style=\"display:none;\">\n",
              "\n",
              "<svg xmlns=\"http://www.w3.org/2000/svg\" height=\"24px\"viewBox=\"0 0 24 24\"\n",
              "     width=\"24px\">\n",
              "    <g>\n",
              "        <path d=\"M19 3H5c-1.1 0-2 .9-2 2v14c0 1.1.9 2 2 2h14c1.1 0 2-.9 2-2V5c0-1.1-.9-2-2-2zM9 17H7v-7h2v7zm4 0h-2V7h2v10zm4 0h-2v-4h2v4z\"/>\n",
              "    </g>\n",
              "</svg>\n",
              "  </button>\n",
              "\n",
              "<style>\n",
              "  .colab-df-quickchart {\n",
              "      --bg-color: #E8F0FE;\n",
              "      --fill-color: #1967D2;\n",
              "      --hover-bg-color: #E2EBFA;\n",
              "      --hover-fill-color: #174EA6;\n",
              "      --disabled-fill-color: #AAA;\n",
              "      --disabled-bg-color: #DDD;\n",
              "  }\n",
              "\n",
              "  [theme=dark] .colab-df-quickchart {\n",
              "      --bg-color: #3B4455;\n",
              "      --fill-color: #D2E3FC;\n",
              "      --hover-bg-color: #434B5C;\n",
              "      --hover-fill-color: #FFFFFF;\n",
              "      --disabled-bg-color: #3B4455;\n",
              "      --disabled-fill-color: #666;\n",
              "  }\n",
              "\n",
              "  .colab-df-quickchart {\n",
              "    background-color: var(--bg-color);\n",
              "    border: none;\n",
              "    border-radius: 50%;\n",
              "    cursor: pointer;\n",
              "    display: none;\n",
              "    fill: var(--fill-color);\n",
              "    height: 32px;\n",
              "    padding: 0;\n",
              "    width: 32px;\n",
              "  }\n",
              "\n",
              "  .colab-df-quickchart:hover {\n",
              "    background-color: var(--hover-bg-color);\n",
              "    box-shadow: 0 1px 2px rgba(60, 64, 67, 0.3), 0 1px 3px 1px rgba(60, 64, 67, 0.15);\n",
              "    fill: var(--button-hover-fill-color);\n",
              "  }\n",
              "\n",
              "  .colab-df-quickchart-complete:disabled,\n",
              "  .colab-df-quickchart-complete:disabled:hover {\n",
              "    background-color: var(--disabled-bg-color);\n",
              "    fill: var(--disabled-fill-color);\n",
              "    box-shadow: none;\n",
              "  }\n",
              "\n",
              "  .colab-df-spinner {\n",
              "    border: 2px solid var(--fill-color);\n",
              "    border-color: transparent;\n",
              "    border-bottom-color: var(--fill-color);\n",
              "    animation:\n",
              "      spin 1s steps(1) infinite;\n",
              "  }\n",
              "\n",
              "  @keyframes spin {\n",
              "    0% {\n",
              "      border-color: transparent;\n",
              "      border-bottom-color: var(--fill-color);\n",
              "      border-left-color: var(--fill-color);\n",
              "    }\n",
              "    20% {\n",
              "      border-color: transparent;\n",
              "      border-left-color: var(--fill-color);\n",
              "      border-top-color: var(--fill-color);\n",
              "    }\n",
              "    30% {\n",
              "      border-color: transparent;\n",
              "      border-left-color: var(--fill-color);\n",
              "      border-top-color: var(--fill-color);\n",
              "      border-right-color: var(--fill-color);\n",
              "    }\n",
              "    40% {\n",
              "      border-color: transparent;\n",
              "      border-right-color: var(--fill-color);\n",
              "      border-top-color: var(--fill-color);\n",
              "    }\n",
              "    60% {\n",
              "      border-color: transparent;\n",
              "      border-right-color: var(--fill-color);\n",
              "    }\n",
              "    80% {\n",
              "      border-color: transparent;\n",
              "      border-right-color: var(--fill-color);\n",
              "      border-bottom-color: var(--fill-color);\n",
              "    }\n",
              "    90% {\n",
              "      border-color: transparent;\n",
              "      border-bottom-color: var(--fill-color);\n",
              "    }\n",
              "  }\n",
              "</style>\n",
              "\n",
              "  <script>\n",
              "    async function quickchart(key) {\n",
              "      const quickchartButtonEl =\n",
              "        document.querySelector('#' + key + ' button');\n",
              "      quickchartButtonEl.disabled = true;  // To prevent multiple clicks.\n",
              "      quickchartButtonEl.classList.add('colab-df-spinner');\n",
              "      try {\n",
              "        const charts = await google.colab.kernel.invokeFunction(\n",
              "            'suggestCharts', [key], {});\n",
              "      } catch (error) {\n",
              "        console.error('Error during call to suggestCharts:', error);\n",
              "      }\n",
              "      quickchartButtonEl.classList.remove('colab-df-spinner');\n",
              "      quickchartButtonEl.classList.add('colab-df-quickchart-complete');\n",
              "    }\n",
              "    (() => {\n",
              "      let quickchartButtonEl =\n",
              "        document.querySelector('#df-18bfd192-ae6c-404c-87d2-198ee519e55b button');\n",
              "      quickchartButtonEl.style.display =\n",
              "        google.colab.kernel.accessAllowed ? 'block' : 'none';\n",
              "    })();\n",
              "  </script>\n",
              "</div>\n",
              "\n",
              "  <div id=\"id_b98e9991-434e-48ed-bfd4-2273f6fe212c\">\n",
              "    <style>\n",
              "      .colab-df-generate {\n",
              "        background-color: #E8F0FE;\n",
              "        border: none;\n",
              "        border-radius: 50%;\n",
              "        cursor: pointer;\n",
              "        display: none;\n",
              "        fill: #1967D2;\n",
              "        height: 32px;\n",
              "        padding: 0 0 0 0;\n",
              "        width: 32px;\n",
              "      }\n",
              "\n",
              "      .colab-df-generate:hover {\n",
              "        background-color: #E2EBFA;\n",
              "        box-shadow: 0px 1px 2px rgba(60, 64, 67, 0.3), 0px 1px 3px 1px rgba(60, 64, 67, 0.15);\n",
              "        fill: #174EA6;\n",
              "      }\n",
              "\n",
              "      [theme=dark] .colab-df-generate {\n",
              "        background-color: #3B4455;\n",
              "        fill: #D2E3FC;\n",
              "      }\n",
              "\n",
              "      [theme=dark] .colab-df-generate:hover {\n",
              "        background-color: #434B5C;\n",
              "        box-shadow: 0px 1px 3px 1px rgba(0, 0, 0, 0.15);\n",
              "        filter: drop-shadow(0px 1px 2px rgba(0, 0, 0, 0.3));\n",
              "        fill: #FFFFFF;\n",
              "      }\n",
              "    </style>\n",
              "    <button class=\"colab-df-generate\" onclick=\"generateWithVariable('df')\"\n",
              "            title=\"Generate code using this dataframe.\"\n",
              "            style=\"display:none;\">\n",
              "\n",
              "  <svg xmlns=\"http://www.w3.org/2000/svg\" height=\"24px\"viewBox=\"0 0 24 24\"\n",
              "       width=\"24px\">\n",
              "    <path d=\"M7,19H8.4L18.45,9,17,7.55,7,17.6ZM5,21V16.75L18.45,3.32a2,2,0,0,1,2.83,0l1.4,1.43a1.91,1.91,0,0,1,.58,1.4,1.91,1.91,0,0,1-.58,1.4L9.25,21ZM18.45,9,17,7.55Zm-12,3A5.31,5.31,0,0,0,4.9,8.1,5.31,5.31,0,0,0,1,6.5,5.31,5.31,0,0,0,4.9,4.9,5.31,5.31,0,0,0,6.5,1,5.31,5.31,0,0,0,8.1,4.9,5.31,5.31,0,0,0,12,6.5,5.46,5.46,0,0,0,6.5,12Z\"/>\n",
              "  </svg>\n",
              "    </button>\n",
              "    <script>\n",
              "      (() => {\n",
              "      const buttonEl =\n",
              "        document.querySelector('#id_b98e9991-434e-48ed-bfd4-2273f6fe212c button.colab-df-generate');\n",
              "      buttonEl.style.display =\n",
              "        google.colab.kernel.accessAllowed ? 'block' : 'none';\n",
              "\n",
              "      buttonEl.onclick = () => {\n",
              "        google.colab.notebook.generateWithVariable('df');\n",
              "      }\n",
              "      })();\n",
              "    </script>\n",
              "  </div>\n",
              "\n",
              "    </div>\n",
              "  </div>\n"
            ],
            "application/vnd.google.colaboratory.intrinsic+json": {
              "type": "dataframe",
              "variable_name": "df"
            }
          },
          "metadata": {},
          "execution_count": 53
        }
      ]
    },
    {
      "cell_type": "markdown",
      "id": "1dd4ff3e-6d84-46c1-aafd-ba345c43e7bd",
      "metadata": {
        "id": "1dd4ff3e-6d84-46c1-aafd-ba345c43e7bd"
      },
      "source": [
        "We can overlay histograms (or density curves) to compare distributions across qualitative categories.\n",
        "\n",
        "The `hue` parameter of `sns.histplot` specifies the column that should be used to determine the color of each category. `hue` can be used in many Seaborn plotting functions.\n",
        "\n",
        "Notice that the resulting plot includes a legend describing which color corresponds to each hemisphere – a legend should always be included if color is used to encode information in a visualization!"
      ]
    },
    {
      "cell_type": "code",
      "execution_count": 55,
      "id": "d8fbdb38-6443-4059-a19d-d34f8a06c8c2",
      "metadata": {
        "id": "d8fbdb38-6443-4059-a19d-d34f8a06c8c2",
        "colab": {
          "base_uri": "https://localhost:8080/",
          "height": 430
        },
        "outputId": "be897a14-3796-4bde-a1cc-9aef46aeb1fb"
      },
      "outputs": [
        {
          "output_type": "display_data",
          "data": {
            "text/plain": [
              "<Figure size 640x480 with 1 Axes>"
            ],
            "image/png": "[encoded data removed]"
          },
          "metadata": {}
        }
      ],
      "source": [
        "# Create a new variable to store the hemisphere in which each country is located i.e. either Northern, Southern\n",
        "a = plt.hist(df['Hemisphere'], edgecolor='white', bins=10);\n"
      ]
    },
    {
      "cell_type": "code",
      "execution_count": 59,
      "id": "725746c0-a610-4af5-acb9-2c4c32359f83",
      "metadata": {
        "colab": {
          "base_uri": "https://localhost:8080/",
          "height": 467
        },
        "id": "725746c0-a610-4af5-acb9-2c4c32359f83",
        "outputId": "f6846933-cacd-4739-9e15-fe0f2f9ddce5"
      },
      "outputs": [
        {
          "output_type": "execute_result",
          "data": {
            "text/plain": [
              "<Axes: xlabel='Gross national income per capita, Atlas method: $: 2016', ylabel='Count'>"
            ]
          },
          "metadata": {},
          "execution_count": 59
        },
        {
          "output_type": "display_data",
          "data": {
            "text/plain": [
              "<Figure size 640x480 with 1 Axes>"
            ],
            "image/png": "[encoded data removed]"
          },
          "metadata": {}
        }
      ],
      "source": [
        "# Create histogram for Gross national Income, usse New created column as hue parameter in .histplot function\n",
        "sns.histplot(data=df, x='Gross national income per capita, Atlas method: $: 2016', hue=df['Hemisphere'])"
      ]
    },
    {
      "cell_type": "markdown",
      "id": "5fb23bf2-89eb-4930-9b83-9a70a397a2fb",
      "metadata": {
        "id": "5fb23bf2-89eb-4930-9b83-9a70a397a2fb"
      },
      "source": [
        "Each bin of a histogram is scaled such that its area is equal to the percentage of all datapoints that it contains."
      ]
    },
    {
      "cell_type": "code",
      "execution_count": 69,
      "id": "4aed41cf-07e7-4fdb-bdf7-3b4c06aa0f18",
      "metadata": {
        "colab": {
          "base_uri": "https://localhost:8080/",
          "height": 483
        },
        "id": "4aed41cf-07e7-4fdb-bdf7-3b4c06aa0f18",
        "outputId": "15e75ec9-81ed-489f-a0a6-6d80092d7085"
      },
      "outputs": [
        {
          "output_type": "execute_result",
          "data": {
            "text/plain": [
              "78.343949044586"
            ]
          },
          "metadata": {},
          "execution_count": 69
        },
        {
          "output_type": "display_data",
          "data": {
            "text/plain": [
              "<Figure size 640x480 with 1 Axes>"
            ],
            "image/png": "[encoded data removed]"
          },
          "metadata": {}
        }
      ],
      "source": [
        "densities, bins, _ = plt.hist(df['Gross national income per capita, Atlas method: $: 2016'], density=True, edgecolor=\"black\", bins=5)\n",
        "plt.xlabel(\"Gross national income per capita\")\n",
        "plt.ylabel(\"Density\")\n",
        "# calculate data points in 1st bin\n",
        "height = densities[0]\n",
        "width = bins[1]-bins[0]\n",
        "data_points = height * width * 100\n",
        "data_points"
      ]
    },
    {
      "cell_type": "markdown",
      "id": "23ed8b57-c411-4fae-8719-2336151402e6",
      "metadata": {
        "id": "23ed8b57-c411-4fae-8719-2336151402e6"
      },
      "source": [
        "We describe a \"mode\" of a histogram as a peak in the distribution. Often, however, it is difficult to determine what counts as its own \"peak.\" For example, the number of peaks in the distribution of HIV rates across different countries varies depending on the number of histogram bins we plot."
      ]
    },
    {
      "cell_type": "code",
      "execution_count": 76,
      "id": "3e613fc9-3c41-4680-a870-55cab9d7ffca",
      "metadata": {
        "id": "3e613fc9-3c41-4680-a870-55cab9d7ffca",
        "outputId": "d15112ac-5056-443e-d1b1-2705d1228b15",
        "colab": {
          "base_uri": "https://localhost:8080/",
          "height": 484
        }
      },
      "outputs": [
        {
          "output_type": "execute_result",
          "data": {
            "text/plain": [
              "(array([13., 31., 21., 19.,  7.]),\n",
              " array([ 3. , 20.4, 37.8, 55.2, 72.6, 90. ]),\n",
              " <BarContainer object of 5 artists>)"
            ]
          },
          "metadata": {},
          "execution_count": 76
        },
        {
          "output_type": "display_data",
          "data": {
            "text/plain": [
              "<Figure size 640x480 with 1 Axes>"
            ],
            "image/png": "[encoded data removed]"
          },
          "metadata": {}
        }
      ],
      "source": [
        "# Rename the very long column name for convenience\n",
        "hiv = df['Antiretroviral therapy coverage: % of people living with HIV: 2015']\n",
        "# With 5 bins, it seems that there is only one peak\n",
        "b = plt.hist(hiv, edgecolor='white', bins=5);\n",
        "b"
      ]
    },
    {
      "cell_type": "code",
      "execution_count": 77,
      "id": "717eed6f-816c-4cfc-b42e-bf249601bf51",
      "metadata": {
        "id": "717eed6f-816c-4cfc-b42e-bf249601bf51",
        "outputId": "b4e0596f-ab6c-4da2-c1fb-1dd35e631158",
        "colab": {
          "base_uri": "https://localhost:8080/",
          "height": 430
        }
      },
      "outputs": [
        {
          "output_type": "display_data",
          "data": {
            "text/plain": [
              "<Figure size 640x480 with 1 Axes>"
            ],
            "image/png": "[encoded data removed]"
          },
          "metadata": {}
        }
      ],
      "source": [
        "# With 10 bins, there seem to be two peaks\n",
        "a = plt.hist(hiv, edgecolor='white', bins=10);\n",
        "\n"
      ]
    },
    {
      "cell_type": "code",
      "execution_count": 78,
      "id": "214fe437-f0c0-4c9a-98c2-b5a3c3fd66ce",
      "metadata": {
        "id": "214fe437-f0c0-4c9a-98c2-b5a3c3fd66ce",
        "outputId": "a61d34c0-361a-4625-e39c-8119add85fd1",
        "colab": {
          "base_uri": "https://localhost:8080/",
          "height": 430
        }
      },
      "outputs": [
        {
          "output_type": "display_data",
          "data": {
            "text/plain": [
              "<Figure size 640x480 with 1 Axes>"
            ],
            "image/png": "[encoded data removed]"
          },
          "metadata": {}
        }
      ],
      "source": [
        "# And with 20 bins, it becomes hard to say what counts as a \"peak\"!\n",
        "a = plt.hist(hiv, edgecolor='white', bins=20);\n",
        "\n"
      ]
    },
    {
      "cell_type": "markdown",
      "id": "bd671ba0-83c7-40d5-a888-ebe3414965b3",
      "metadata": {
        "id": "bd671ba0-83c7-40d5-a888-ebe3414965b3"
      },
      "source": [
        "As this example illustrates, it is sometimes more useful to understand the general structure of our data, rather than focus on individual observations. Kernel density estimation helps with this goal."
      ]
    },
    {
      "cell_type": "markdown",
      "id": "77f55b67-d39c-4bdf-a364-b7b276ce6cbb",
      "metadata": {
        "id": "77f55b67-d39c-4bdf-a364-b7b276ce6cbb"
      },
      "source": [
        "## Kernel Density Estimation"
      ]
    },
    {
      "cell_type": "markdown",
      "id": "21dcfcfc-e4b5-40c0-99da-1796168803d9",
      "metadata": {
        "id": "21dcfcfc-e4b5-40c0-99da-1796168803d9"
      },
      "source": [
        "Kernel density estimation (KDE) allows us to \"smooth\" a distribution to display general trends and eliminate noisy, distracting detail."
      ]
    },
    {
      "cell_type": "code",
      "execution_count": 80,
      "id": "ec025167-c91b-49a7-ae87-a48f671f4f00",
      "metadata": {
        "id": "ec025167-c91b-49a7-ae87-a48f671f4f00",
        "outputId": "f57677c1-c6ca-4a93-9ba6-af0514917dc2",
        "colab": {
          "base_uri": "https://localhost:8080/",
          "height": 724
        }
      },
      "outputs": [
        {
          "output_type": "error",
          "ename": "AttributeError",
          "evalue": "Rectangle.set() got an unexpected keyword argument 'kde'",
          "traceback": [
            "\u001b[0;31m---------------------------------------------------------------------------\u001b[0m",
            "\u001b[0;31mAttributeError\u001b[0m                            Traceback (most recent call last)",
            "\u001b[0;32m<ipython-input-80-e47bec558cf5>\u001b[0m in \u001b[0;36m<cell line: 2>\u001b[0;34m()\u001b[0m\n\u001b[1;32m      1\u001b[0m \u001b[0;31m# The smooth curve overlaid on the histogram is a KDE\u001b[0m\u001b[0;34m\u001b[0m\u001b[0;34m\u001b[0m\u001b[0m\n\u001b[0;32m----> 2\u001b[0;31m \u001b[0md\u001b[0m \u001b[0;34m=\u001b[0m \u001b[0mplt\u001b[0m\u001b[0;34m.\u001b[0m\u001b[0mhist\u001b[0m\u001b[0;34m(\u001b[0m\u001b[0mhiv\u001b[0m\u001b[0;34m,\u001b[0m \u001b[0medgecolor\u001b[0m\u001b[0;34m=\u001b[0m\u001b[0;34m'black'\u001b[0m\u001b[0;34m,\u001b[0m \u001b[0mkde\u001b[0m\u001b[0;34m=\u001b[0m\u001b[0;32mTrue\u001b[0m \u001b[0;34m,\u001b[0m\u001b[0mbins\u001b[0m\u001b[0;34m=\u001b[0m\u001b[0;36m10\u001b[0m\u001b[0;34m)\u001b[0m\u001b[0;34m;\u001b[0m\u001b[0;34m\u001b[0m\u001b[0;34m\u001b[0m\u001b[0m\n\u001b[0m",
            "\u001b[0;32m/usr/local/lib/python3.10/dist-packages/matplotlib/pyplot.py\u001b[0m in \u001b[0;36mhist\u001b[0;34m(x, bins, range, density, weights, cumulative, bottom, histtype, align, orientation, rwidth, log, color, label, stacked, data, **kwargs)\u001b[0m\n\u001b[1;32m   2643\u001b[0m         \u001b[0morientation\u001b[0m\u001b[0;34m=\u001b[0m\u001b[0;34m'vertical'\u001b[0m\u001b[0;34m,\u001b[0m \u001b[0mrwidth\u001b[0m\u001b[0;34m=\u001b[0m\u001b[0;32mNone\u001b[0m\u001b[0;34m,\u001b[0m \u001b[0mlog\u001b[0m\u001b[0;34m=\u001b[0m\u001b[0;32mFalse\u001b[0m\u001b[0;34m,\u001b[0m \u001b[0mcolor\u001b[0m\u001b[0;34m=\u001b[0m\u001b[0;32mNone\u001b[0m\u001b[0;34m,\u001b[0m\u001b[0;34m\u001b[0m\u001b[0;34m\u001b[0m\u001b[0m\n\u001b[1;32m   2644\u001b[0m         label=None, stacked=False, *, data=None, **kwargs):\n\u001b[0;32m-> 2645\u001b[0;31m     return gca().hist(\n\u001b[0m\u001b[1;32m   2646\u001b[0m         \u001b[0mx\u001b[0m\u001b[0;34m,\u001b[0m \u001b[0mbins\u001b[0m\u001b[0;34m=\u001b[0m\u001b[0mbins\u001b[0m\u001b[0;34m,\u001b[0m \u001b[0mrange\u001b[0m\u001b[0;34m=\u001b[0m\u001b[0mrange\u001b[0m\u001b[0;34m,\u001b[0m \u001b[0mdensity\u001b[0m\u001b[0;34m=\u001b[0m\u001b[0mdensity\u001b[0m\u001b[0;34m,\u001b[0m \u001b[0mweights\u001b[0m\u001b[0;34m=\u001b[0m\u001b[0mweights\u001b[0m\u001b[0;34m,\u001b[0m\u001b[0;34m\u001b[0m\u001b[0;34m\u001b[0m\u001b[0m\n\u001b[1;32m   2647\u001b[0m         \u001b[0mcumulative\u001b[0m\u001b[0;34m=\u001b[0m\u001b[0mcumulative\u001b[0m\u001b[0;34m,\u001b[0m \u001b[0mbottom\u001b[0m\u001b[0;34m=\u001b[0m\u001b[0mbottom\u001b[0m\u001b[0;34m,\u001b[0m \u001b[0mhisttype\u001b[0m\u001b[0;34m=\u001b[0m\u001b[0mhisttype\u001b[0m\u001b[0;34m,\u001b[0m\u001b[0;34m\u001b[0m\u001b[0;34m\u001b[0m\u001b[0m\n",
            "\u001b[0;32m/usr/local/lib/python3.10/dist-packages/matplotlib/__init__.py\u001b[0m in \u001b[0;36minner\u001b[0;34m(ax, data, *args, **kwargs)\u001b[0m\n\u001b[1;32m   1440\u001b[0m     \u001b[0;32mdef\u001b[0m \u001b[0minner\u001b[0m\u001b[0;34m(\u001b[0m\u001b[0max\u001b[0m\u001b[0;34m,\u001b[0m \u001b[0;34m*\u001b[0m\u001b[0margs\u001b[0m\u001b[0;34m,\u001b[0m \u001b[0mdata\u001b[0m\u001b[0;34m=\u001b[0m\u001b[0;32mNone\u001b[0m\u001b[0;34m,\u001b[0m \u001b[0;34m**\u001b[0m\u001b[0mkwargs\u001b[0m\u001b[0;34m)\u001b[0m\u001b[0;34m:\u001b[0m\u001b[0;34m\u001b[0m\u001b[0;34m\u001b[0m\u001b[0m\n\u001b[1;32m   1441\u001b[0m         \u001b[0;32mif\u001b[0m \u001b[0mdata\u001b[0m \u001b[0;32mis\u001b[0m \u001b[0;32mNone\u001b[0m\u001b[0;34m:\u001b[0m\u001b[0;34m\u001b[0m\u001b[0;34m\u001b[0m\u001b[0m\n\u001b[0;32m-> 1442\u001b[0;31m             \u001b[0;32mreturn\u001b[0m \u001b[0mfunc\u001b[0m\u001b[0;34m(\u001b[0m\u001b[0max\u001b[0m\u001b[0;34m,\u001b[0m \u001b[0;34m*\u001b[0m\u001b[0mmap\u001b[0m\u001b[0;34m(\u001b[0m\u001b[0msanitize_sequence\u001b[0m\u001b[0;34m,\u001b[0m \u001b[0margs\u001b[0m\u001b[0;34m)\u001b[0m\u001b[0;34m,\u001b[0m \u001b[0;34m**\u001b[0m\u001b[0mkwargs\u001b[0m\u001b[0;34m)\u001b[0m\u001b[0;34m\u001b[0m\u001b[0;34m\u001b[0m\u001b[0m\n\u001b[0m\u001b[1;32m   1443\u001b[0m \u001b[0;34m\u001b[0m\u001b[0m\n\u001b[1;32m   1444\u001b[0m         \u001b[0mbound\u001b[0m \u001b[0;34m=\u001b[0m \u001b[0mnew_sig\u001b[0m\u001b[0;34m.\u001b[0m\u001b[0mbind\u001b[0m\u001b[0;34m(\u001b[0m\u001b[0max\u001b[0m\u001b[0;34m,\u001b[0m \u001b[0;34m*\u001b[0m\u001b[0margs\u001b[0m\u001b[0;34m,\u001b[0m \u001b[0;34m**\u001b[0m\u001b[0mkwargs\u001b[0m\u001b[0;34m)\u001b[0m\u001b[0;34m\u001b[0m\u001b[0;34m\u001b[0m\u001b[0m\n",
            "\u001b[0;32m/usr/local/lib/python3.10/dist-packages/matplotlib/axes/_axes.py\u001b[0m in \u001b[0;36mhist\u001b[0;34m(self, x, bins, range, density, weights, cumulative, bottom, histtype, align, orientation, rwidth, log, color, label, stacked, **kwargs)\u001b[0m\n\u001b[1;32m   6941\u001b[0m             \u001b[0;32mif\u001b[0m \u001b[0mpatch\u001b[0m\u001b[0;34m:\u001b[0m\u001b[0;34m\u001b[0m\u001b[0;34m\u001b[0m\u001b[0m\n\u001b[1;32m   6942\u001b[0m                 \u001b[0mp\u001b[0m \u001b[0;34m=\u001b[0m \u001b[0mpatch\u001b[0m\u001b[0;34m[\u001b[0m\u001b[0;36m0\u001b[0m\u001b[0;34m]\u001b[0m\u001b[0;34m\u001b[0m\u001b[0;34m\u001b[0m\u001b[0m\n\u001b[0;32m-> 6943\u001b[0;31m                 \u001b[0mp\u001b[0m\u001b[0;34m.\u001b[0m\u001b[0m_internal_update\u001b[0m\u001b[0;34m(\u001b[0m\u001b[0mkwargs\u001b[0m\u001b[0;34m)\u001b[0m\u001b[0;34m\u001b[0m\u001b[0;34m\u001b[0m\u001b[0m\n\u001b[0m\u001b[1;32m   6944\u001b[0m                 \u001b[0;32mif\u001b[0m \u001b[0mlbl\u001b[0m \u001b[0;32mis\u001b[0m \u001b[0;32mnot\u001b[0m \u001b[0;32mNone\u001b[0m\u001b[0;34m:\u001b[0m\u001b[0;34m\u001b[0m\u001b[0;34m\u001b[0m\u001b[0m\n\u001b[1;32m   6945\u001b[0m                     \u001b[0mp\u001b[0m\u001b[0;34m.\u001b[0m\u001b[0mset_label\u001b[0m\u001b[0;34m(\u001b[0m\u001b[0mlbl\u001b[0m\u001b[0;34m)\u001b[0m\u001b[0;34m\u001b[0m\u001b[0;34m\u001b[0m\u001b[0m\n",
            "\u001b[0;32m/usr/local/lib/python3.10/dist-packages/matplotlib/artist.py\u001b[0m in \u001b[0;36m_internal_update\u001b[0;34m(self, kwargs)\u001b[0m\n\u001b[1;32m   1221\u001b[0m         \u001b[0mThe\u001b[0m \u001b[0mlack\u001b[0m \u001b[0mof\u001b[0m \u001b[0mprenormalization\u001b[0m \u001b[0;32mis\u001b[0m \u001b[0mto\u001b[0m \u001b[0mmaintain\u001b[0m \u001b[0mbackcompatibility\u001b[0m\u001b[0;34m.\u001b[0m\u001b[0;34m\u001b[0m\u001b[0;34m\u001b[0m\u001b[0m\n\u001b[1;32m   1222\u001b[0m         \"\"\"\n\u001b[0;32m-> 1223\u001b[0;31m         return self._update_props(\n\u001b[0m\u001b[1;32m   1224\u001b[0m             \u001b[0mkwargs\u001b[0m\u001b[0;34m,\u001b[0m \u001b[0;34m\"{cls.__name__}.set() got an unexpected keyword argument \"\u001b[0m\u001b[0;34m\u001b[0m\u001b[0;34m\u001b[0m\u001b[0m\n\u001b[1;32m   1225\u001b[0m             \"{prop_name!r}\")\n",
            "\u001b[0;32m/usr/local/lib/python3.10/dist-packages/matplotlib/artist.py\u001b[0m in \u001b[0;36m_update_props\u001b[0;34m(self, props, errfmt)\u001b[0m\n\u001b[1;32m   1195\u001b[0m                     \u001b[0mfunc\u001b[0m \u001b[0;34m=\u001b[0m \u001b[0mgetattr\u001b[0m\u001b[0;34m(\u001b[0m\u001b[0mself\u001b[0m\u001b[0;34m,\u001b[0m \u001b[0;34mf\"set_{k}\"\u001b[0m\u001b[0;34m,\u001b[0m \u001b[0;32mNone\u001b[0m\u001b[0;34m)\u001b[0m\u001b[0;34m\u001b[0m\u001b[0;34m\u001b[0m\u001b[0m\n\u001b[1;32m   1196\u001b[0m                     \u001b[0;32mif\u001b[0m \u001b[0;32mnot\u001b[0m \u001b[0mcallable\u001b[0m\u001b[0;34m(\u001b[0m\u001b[0mfunc\u001b[0m\u001b[0;34m)\u001b[0m\u001b[0;34m:\u001b[0m\u001b[0;34m\u001b[0m\u001b[0;34m\u001b[0m\u001b[0m\n\u001b[0;32m-> 1197\u001b[0;31m                         raise AttributeError(\n\u001b[0m\u001b[1;32m   1198\u001b[0m                             errfmt.format(cls=type(self), prop_name=k))\n\u001b[1;32m   1199\u001b[0m                     \u001b[0mret\u001b[0m\u001b[0;34m.\u001b[0m\u001b[0mappend\u001b[0m\u001b[0;34m(\u001b[0m\u001b[0mfunc\u001b[0m\u001b[0;34m(\u001b[0m\u001b[0mv\u001b[0m\u001b[0;34m)\u001b[0m\u001b[0;34m)\u001b[0m\u001b[0;34m\u001b[0m\u001b[0;34m\u001b[0m\u001b[0m\n",
            "\u001b[0;31mAttributeError\u001b[0m: Rectangle.set() got an unexpected keyword argument 'kde'"
          ]
        },
        {
          "output_type": "display_data",
          "data": {
            "text/plain": [
              "<Figure size 640x480 with 1 Axes>"
            ],
            "image/png": "[encoded data removed]"
          },
          "metadata": {}
        }
      ],
      "source": [
        "# The smooth curve overlaid on the histogram is a KDE\n",
        "# d = plt.hist(hiv, edgecolor='black', kde=True ,bins=10);\n"
      ]
    },
    {
      "cell_type": "markdown",
      "id": "9f7bd056-68b6-4454-bc21-556655a7e6fa",
      "metadata": {
        "id": "9f7bd056-68b6-4454-bc21-556655a7e6fa"
      },
      "source": [
        "To illustrate the process of constructing a KDE curve, we'll use a fake dataset of just five datapoints, contained in the list `points`."
      ]
    },
    {
      "cell_type": "code",
      "execution_count": null,
      "id": "9e33d6a3-d731-4cd5-b1b3-e101670ea5ff",
      "metadata": {
        "id": "9e33d6a3-d731-4cd5-b1b3-e101670ea5ff"
      },
      "outputs": [],
      "source": [
        "points = [2.2, 2.8, 3.7, 5.3, 5.7]"
      ]
    },
    {
      "cell_type": "code",
      "execution_count": null,
      "id": "80b04858-620d-42e4-b7dc-912d433e4080",
      "metadata": {
        "id": "80b04858-620d-42e4-b7dc-912d433e4080"
      },
      "outputs": [],
      "source": [
        "plt.hist(points, bins=range(0, 10, 2), ec='w', density=True);"
      ]
    },
    {
      "cell_type": "markdown",
      "id": "5e14af34-1579-4baa-9436-c4b76b4efed3",
      "metadata": {
        "id": "5e14af34-1579-4baa-9436-c4b76b4efed3"
      },
      "source": [
        "Let's define some **kernels**. We will explain these formulas momentarily. We'll also define some helper functions for visualization purposes."
      ]
    },
    {
      "cell_type": "code",
      "execution_count": null,
      "id": "901f5358-05a9-4bf0-aa45-e530d1b3d993",
      "metadata": {
        "id": "901f5358-05a9-4bf0-aa45-e530d1b3d993"
      },
      "outputs": [],
      "source": [
        "def gaussian(x, z, a):\n",
        "    # Code Here\n",
        "\n",
        "def boxcar_basic(x, z, a):\n",
        "    # Code Here\n",
        "\n",
        "    return 0\n",
        "\n",
        "def boxcar(x, z, a):\n",
        "    # Code Here\n"
      ]
    },
    {
      "cell_type": "code",
      "execution_count": null,
      "id": "e19caeab-39dc-4de4-bd8d-4a23319774d1",
      "metadata": {
        "id": "e19caeab-39dc-4de4-bd8d-4a23319774d1"
      },
      "outputs": [],
      "source": [
        "def create_kde(kernel, pts, a):\n",
        "    # Code Here\n",
        "\n",
        "def plot_kde(kernel, pts, a):\n",
        "    # Code Here\n",
        "\n",
        "def plot_separate_kernels(kernel, pts, a, norm=False):\n",
        "    # Code Here\n"
      ]
    },
    {
      "cell_type": "markdown",
      "id": "fdaa8871-fe73-4e3d-9d22-ea4417daf402",
      "metadata": {
        "id": "fdaa8871-fe73-4e3d-9d22-ea4417daf402"
      },
      "source": [
        "Here are our five points represented as vertical bars."
      ]
    },
    {
      "cell_type": "code",
      "execution_count": null,
      "id": "2e3eb09f-039a-4ce8-9592-de8a2164385c",
      "metadata": {
        "id": "2e3eb09f-039a-4ce8-9592-de8a2164385c"
      },
      "outputs": [],
      "source": []
    },
    {
      "cell_type": "markdown",
      "id": "faf8109a-fb3d-404a-ac36-83fff48cf865",
      "metadata": {
        "id": "faf8109a-fb3d-404a-ac36-83fff48cf865"
      },
      "source": [
        "### Step 1: Place a kernel at each point\n",
        "\n",
        "We'll start with the Gaussian kernel."
      ]
    },
    {
      "cell_type": "code",
      "execution_count": null,
      "id": "7381c54c-7082-4d64-a7ab-1cc09a3090bf",
      "metadata": {
        "id": "7381c54c-7082-4d64-a7ab-1cc09a3090bf"
      },
      "outputs": [],
      "source": [
        "# code Here"
      ]
    },
    {
      "cell_type": "markdown",
      "id": "6d9d573b-b1a0-4416-b1a9-403bcf6bba9f",
      "metadata": {
        "id": "6d9d573b-b1a0-4416-b1a9-403bcf6bba9f"
      },
      "source": [
        "### Step 2: Normalize kernels so that total area is 1"
      ]
    },
    {
      "cell_type": "code",
      "execution_count": null,
      "id": "d3169061-14f5-4fe7-9a61-e612bdebd1a7",
      "metadata": {
        "id": "d3169061-14f5-4fe7-9a61-e612bdebd1a7"
      },
      "outputs": [],
      "source": [
        "# Code Here"
      ]
    },
    {
      "cell_type": "markdown",
      "id": "269738bf-8bdd-40c4-9b0d-8c56729be0c7",
      "metadata": {
        "id": "269738bf-8bdd-40c4-9b0d-8c56729be0c7"
      },
      "source": [
        "### Step 3: Sum all kernels together"
      ]
    },
    {
      "cell_type": "code",
      "execution_count": null,
      "id": "82ee2a41-4b96-4bd1-86de-67dd19dce2cd",
      "metadata": {
        "id": "82ee2a41-4b96-4bd1-86de-67dd19dce2cd"
      },
      "outputs": [],
      "source": [
        "# code here"
      ]
    },
    {
      "cell_type": "markdown",
      "id": "2c996279-b0c6-4fbf-9da7-b22edbea3e01",
      "metadata": {
        "id": "2c996279-b0c6-4fbf-9da7-b22edbea3e01"
      },
      "source": [
        "This looks identical to the smooth curve that `sns.distplot` gives us (when we set the appropriate parameter):"
      ]
    },
    {
      "cell_type": "code",
      "execution_count": null,
      "id": "0486a9af-a543-4c5c-91bc-988c3a1acdc4",
      "metadata": {
        "id": "0486a9af-a543-4c5c-91bc-988c3a1acdc4"
      },
      "outputs": [],
      "source": [
        "# code Here"
      ]
    },
    {
      "cell_type": "markdown",
      "id": "6bc93cc4-bcaf-4ed9-90dc-68805376eaf9",
      "metadata": {
        "id": "6bc93cc4-bcaf-4ed9-90dc-68805376eaf9"
      },
      "source": [
        "You can also get a very similar result in a single call by requesting the KDE be added to the histogram, with `kde=True` and some extra keywords:"
      ]
    },
    {
      "cell_type": "code",
      "execution_count": null,
      "id": "d3aab270-1d99-4c7e-b4a5-da32bcae5871",
      "metadata": {
        "id": "d3aab270-1d99-4c7e-b4a5-da32bcae5871"
      },
      "outputs": [],
      "source": [
        "# code Here"
      ]
    },
    {
      "cell_type": "code",
      "execution_count": null,
      "id": "70f9fda0-c22d-4a9f-936c-fd9f79cb0a55",
      "metadata": {
        "id": "70f9fda0-c22d-4a9f-936c-fd9f79cb0a55"
      },
      "outputs": [],
      "source": [
        "# code Here"
      ]
    },
    {
      "cell_type": "markdown",
      "id": "c3d17e2b-7a62-421a-bdda-cea673eff685",
      "metadata": {
        "id": "c3d17e2b-7a62-421a-bdda-cea673eff685"
      },
      "source": [
        "## Kernels\n",
        "\n",
        "**Gaussian**\n",
        "\n",
        "$$K_{\\alpha}(x, x_i) = \\frac{1}{\\sqrt{2 \\pi \\alpha^2}} e^{-\\frac{(x - x_i)^2}{2\\alpha^2}}$$\n",
        "\n",
        "\n",
        "**Boxcar**\n",
        "\n",
        "\n",
        "$$K_{\\alpha}(x, x_i) = \\begin {cases}\n",
        "\t\t\t\\frac{1}{\\alpha}, \\: \\: \\: |x - x_i| \\leq \\frac{\\alpha}{2}\\\\\n",
        "\t\t\t0, \\: \\: \\: \\text{else}\n",
        "\t\t\t\\end{cases}$$"
      ]
    },
    {
      "cell_type": "code",
      "execution_count": null,
      "id": "d8e7a768-c09e-4af9-b74b-3737bc2c3847",
      "metadata": {
        "id": "d8e7a768-c09e-4af9-b74b-3737bc2c3847"
      },
      "outputs": [],
      "source": [
        "# code Here"
      ]
    },
    {
      "cell_type": "code",
      "execution_count": null,
      "id": "0772c5d3-1f31-49e4-891d-d77cd32fad33",
      "metadata": {
        "id": "0772c5d3-1f31-49e4-891d-d77cd32fad33"
      },
      "outputs": [],
      "source": [
        "# code Here"
      ]
    },
    {
      "cell_type": "markdown",
      "id": "d52697ce-2214-4d06-8c1c-a435ef4993f5",
      "metadata": {
        "id": "d52697ce-2214-4d06-8c1c-a435ef4993f5"
      },
      "source": [
        "## Effect of bandwidth hyperparameter $\\alpha$\n",
        "\n",
        "Let's bring in some (different) toy data."
      ]
    },
    {
      "cell_type": "code",
      "execution_count": null,
      "id": "cb350f97-cd48-4043-ac13-c164f907a6d1",
      "metadata": {
        "id": "cb350f97-cd48-4043-ac13-c164f907a6d1"
      },
      "outputs": [],
      "source": [
        "tips = sns.load_dataset('tips')"
      ]
    },
    {
      "cell_type": "code",
      "execution_count": null,
      "id": "d9c7c925-0722-4c6f-95c7-d7600650f762",
      "metadata": {
        "id": "d9c7c925-0722-4c6f-95c7-d7600650f762"
      },
      "outputs": [],
      "source": [
        "tips.head()"
      ]
    },
    {
      "cell_type": "code",
      "execution_count": null,
      "id": "74946b69-6043-40b0-9204-2e393830d445",
      "metadata": {
        "id": "74946b69-6043-40b0-9204-2e393830d445"
      },
      "outputs": [],
      "source": [
        "# code Here"
      ]
    },
    {
      "cell_type": "code",
      "execution_count": null,
      "id": "e0b448c2-a882-48cc-8b7d-4905a44dc117",
      "metadata": {
        "id": "e0b448c2-a882-48cc-8b7d-4905a44dc117"
      },
      "outputs": [],
      "source": [
        "#code Here"
      ]
    },
    {
      "cell_type": "markdown",
      "id": "05976351-3eb7-4efb-b4de-7b24c3edb716",
      "metadata": {
        "id": "05976351-3eb7-4efb-b4de-7b24c3edb716"
      },
      "source": [
        "### KDE Formula\n",
        "\n",
        "$$f_{\\alpha}(x) = \\sum_{i = 1}^n \\frac{1}{n} \\cdot K_{\\alpha}(x, x_i) =  \\frac{1}{n} \\sum_{i = 1}^n K_{\\alpha}(x, x_i)$$"
      ]
    },
    {
      "cell_type": "code",
      "execution_count": null,
      "id": "eeab0adc-d062-4a4e-aaec-ae07eb219ad2",
      "metadata": {
        "id": "eeab0adc-d062-4a4e-aaec-ae07eb219ad2"
      },
      "outputs": [],
      "source": [
        "# Code Here"
      ]
    },
    {
      "cell_type": "code",
      "execution_count": null,
      "id": "f0457d85-95c4-4442-aa9f-27e2a13c9181",
      "metadata": {
        "id": "f0457d85-95c4-4442-aa9f-27e2a13c9181"
      },
      "outputs": [],
      "source": [
        "# code Here"
      ]
    },
    {
      "cell_type": "code",
      "execution_count": null,
      "id": "4fcf592c-6460-4b67-88d0-2095720c07e6",
      "metadata": {
        "id": "4fcf592c-6460-4b67-88d0-2095720c07e6"
      },
      "outputs": [],
      "source": [
        "# Code Here"
      ]
    },
    {
      "cell_type": "code",
      "execution_count": null,
      "id": "27a813b2-290b-45e3-826d-e794744ca6e1",
      "metadata": {
        "id": "27a813b2-290b-45e3-826d-e794744ca6e1"
      },
      "outputs": [],
      "source": [
        "# code Here"
      ]
    }
  ],
  "metadata": {
    "colab": {
      "provenance": []
    },
    "kernelspec": {
      "display_name": "Python 3",
      "language": "python",
      "name": "python3"
    },
    "language_info": {
      "codemirror_mode": {
        "name": "ipython",
        "version": 3
      },
      "file_extension": ".py",
      "mimetype": "text/x-python",
      "name": "python",
      "nbconvert_exporter": "python",
      "pygments_lexer": "ipython3",
      "version": "3.8.2"
    }
  },
  "nbformat": 4,
  "nbformat_minor": 5
}