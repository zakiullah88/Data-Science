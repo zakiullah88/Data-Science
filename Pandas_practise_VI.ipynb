{
  "nbformat": 4,
  "nbformat_minor": 0,
  "metadata": {
    "colab": {
      "provenance": []
    },
    "kernelspec": {
      "name": "python3",
      "display_name": "Python 3"
    },
    "language_info": {
      "name": "python"
    }
  },
  "cells": [
    {
      "cell_type": "markdown",
      "source": [
        "# More on JSON\n",
        "\n",
        "Your are provided data of a company and its employess in Json formate.\n",
        "You need to perform EDA and solve the problems listed down."
      ],
      "metadata": {
        "id": "2PtM2eH8DZiX"
      }
    },
    {
      "cell_type": "code",
      "source": [
        "# Load Libraries\n",
        "import numpy as np\n",
        "import pandas as pd\n",
        "import json\n",
        "from datetime import datetime\n",
        "from google.colab import drive\n",
        "drive.mount('/content/drive')\n"
      ],
      "metadata": {
        "id": "5ywZGhGIDxBt",
        "colab": {
          "base_uri": "https://localhost:8080/"
        },
        "outputId": "8ce394d5-985d-44c6-a75b-d12444f08885"
      },
      "execution_count": 27,
      "outputs": [
        {
          "output_type": "stream",
          "name": "stdout",
          "text": [
            "Drive already mounted at /content/drive; to attempt to forcibly remount, call drive.mount(\"/content/drive\", force_remount=True).\n"
          ]
        }
      ]
    },
    {
      "cell_type": "markdown",
      "source": [
        "**Question 1:**\n",
        "\n",
        "Retrieve and display the company's name and location from the JSON data."
      ],
      "metadata": {
        "id": "5b1RG3I5D1cE"
      }
    },
    {
      "cell_type": "code",
      "source": [
        "#code Here\n",
        "file_path = '/content/employee_company_data.json'\n",
        "with open(file_path, 'rb') as f:\n",
        "  company_data = json.load(f)\n",
        "print(type(company_data))\n",
        "company_data.keys()\n",
        "\n",
        "print(company_data['company_info']['name'])\n",
        "print(company_data['office_locations'])"
      ],
      "metadata": {
        "id": "d0fHGFRCD-Kq",
        "colab": {
          "base_uri": "https://localhost:8080/"
        },
        "outputId": "f14a54c7-c848-45fe-8155-989cfeece8fa"
      },
      "execution_count": 12,
      "outputs": [
        {
          "output_type": "stream",
          "name": "stdout",
          "text": [
            "<class 'dict'>\n",
            "TechCorp\n",
            "{'san_francisco_hq': {'street': '500 Tech Plaza', 'city': 'San Francisco', 'state': 'CA', 'zipcode': '94105'}, 'new_york_branch': {'street': '123 Wall St', 'city': 'New York', 'state': 'NY', 'zipcode': '10005'}}\n"
          ]
        }
      ]
    },
    {
      "cell_type": "markdown",
      "source": [
        "Convert given employees data into a dataframe."
      ],
      "metadata": {
        "id": "yypx_Ds5J7kt"
      }
    },
    {
      "cell_type": "markdown",
      "source": [
        "**Question 2:**\n",
        "\n",
        " Find and display the first name, last name, and email address of the employee with ID 3.\n"
      ],
      "metadata": {
        "id": "XVDdCE9oD_lJ"
      }
    },
    {
      "cell_type": "code",
      "source": [
        "#code Here\n",
        "\n",
        "company_data['employees']\n",
        "third_employee = company_data['employees']\n",
        "for employee in third_employee:\n",
        "  if employee['id'] == 3:\n",
        "    print(employee['firstName'], employee['lastName'], \"has email\" employee['email'])"
      ],
      "metadata": {
        "id": "yDo74tyYEIlx",
        "colab": {
          "base_uri": "https://localhost:8080/",
          "height": 109
        },
        "outputId": "503088df-984d-41a7-faf4-a1cc444dcfca"
      },
      "execution_count": 47,
      "outputs": [
        {
          "output_type": "error",
          "ename": "SyntaxError",
          "evalue": "invalid syntax. Perhaps you forgot a comma? (<ipython-input-47-2fec65bf16d8>, line 7)",
          "traceback": [
            "\u001b[0;36m  File \u001b[0;32m\"<ipython-input-47-2fec65bf16d8>\"\u001b[0;36m, line \u001b[0;32m7\u001b[0m\n\u001b[0;31m    print(employee['firstName'], employee['lastName'], \"has email\" employee['email'])\u001b[0m\n\u001b[0m                                                       ^\u001b[0m\n\u001b[0;31mSyntaxError\u001b[0m\u001b[0;31m:\u001b[0m invalid syntax. Perhaps you forgot a comma?\n"
          ]
        }
      ]
    },
    {
      "cell_type": "markdown",
      "source": [
        "**Question 3:**\n",
        "\n",
        "Find the department with the most employees, and display its name along with the number of employees it has."
      ],
      "metadata": {
        "id": "Jui5-2CsEK4B"
      }
    },
    {
      "cell_type": "code",
      "source": [
        "max_employees = 0\n",
        "most_employees_dept = \"\"\n",
        "for department, employees in company_data['departments'].items():\n",
        "    length = len(employees)\n",
        "    #print(f\"Department: {department}, Number of Employees: {length}\")\n",
        "\n",
        "    if length > max_employees:\n",
        "        max_employees = length\n",
        "        most_employees_dept = department\n",
        "\n",
        "print(\"The department with the most employees is\", most_employees_dept, \"with\", max_employees, \"employees.\")\n"
      ],
      "metadata": {
        "id": "Jlh2Cc4mFzuc",
        "colab": {
          "base_uri": "https://localhost:8080/"
        },
        "outputId": "ce42fff1-7a3c-47f9-f54f-d068a05615f3"
      },
      "execution_count": 46,
      "outputs": [
        {
          "output_type": "stream",
          "name": "stdout",
          "text": [
            "The department with the most employees is engineering with 2 employees.\n"
          ]
        }
      ]
    },
    {
      "cell_type": "markdown",
      "source": [
        "**Question 4:**\n",
        "\n",
        "Retrieve and display the street addresses of the \"san_francisco_hq\" and \"new_york_branch\" office locations."
      ],
      "metadata": {
        "id": "E90nhwtTF9Ng"
      }
    },
    {
      "cell_type": "code",
      "source": [
        "# code Here\n",
        "saf = company_data['office_locations']['san_francisco_hq']['street']\n",
        "print(\"Street Address of San Francisco Headquater\", saf)\n",
        "nyb = company_data['office_locations']['new_york_branch']['street']\n",
        "print(\"Street Address of Newyork Branch\", nyb)"
      ],
      "metadata": {
        "id": "oGesYRSuHCM1",
        "colab": {
          "base_uri": "https://localhost:8080/"
        },
        "outputId": "1298a747-a929-4d2d-9e50-cace9bd32718"
      },
      "execution_count": null,
      "outputs": [
        {
          "output_type": "stream",
          "name": "stdout",
          "text": [
            "500 Tech Plaza\n",
            "123 Wall St\n"
          ]
        }
      ]
    },
    {
      "cell_type": "markdown",
      "source": [
        "**Question 5:**\n",
        "\n",
        "Determine whether the company offers health insurance and a retirement plan. Provide the results as \"Yes\" or \"No.\""
      ],
      "metadata": {
        "id": "csJGVy5_HDy9"
      }
    },
    {
      "cell_type": "code",
      "source": [
        "# code Here\n",
        "benefits = company_data['benefits']\n",
        "for key in benefits:\n",
        "  if(benefits[key] == True):\n",
        "    print(key, benefits[key])"
      ],
      "metadata": {
        "id": "XaeDLM_7IcoR",
        "colab": {
          "base_uri": "https://localhost:8080/"
        },
        "outputId": "c7f9337e-1916-4690-a968-9090e47a2646"
      },
      "execution_count": 42,
      "outputs": [
        {
          "output_type": "stream",
          "name": "stdout",
          "text": [
            "health_insurance True\n",
            "retirement_plan True\n"
          ]
        }
      ]
    },
    {
      "cell_type": "markdown",
      "source": [
        "**Question 6:**\n",
        "\n",
        "Display the version and last updated date from the metadata section of the JSON data."
      ],
      "metadata": {
        "id": "A_odL01bIeW9"
      }
    },
    {
      "cell_type": "code",
      "source": [
        "# code Here\n",
        "print(\"Company Version is\",company_data['metadata']['version'])\n",
        "print(\"Last updated date was\",company_data['metadata']['last_updated'])"
      ],
      "metadata": {
        "id": "pb9Xy3m2Iytd",
        "colab": {
          "base_uri": "https://localhost:8080/"
        },
        "outputId": "56e9237a-e437-4936-aa17-24160299f340"
      },
      "execution_count": 41,
      "outputs": [
        {
          "output_type": "stream",
          "name": "stdout",
          "text": [
            "Company Version is 1.0\n",
            "Last updated date was 2023-09-30\n"
          ]
        }
      ]
    },
    {
      "cell_type": "markdown",
      "source": [
        "**Question 7:**\n",
        "\n",
        " Sort the employees by their hire date in ascending order and display the first five employees in the sorted list."
      ],
      "metadata": {
        "id": "uP7uTQUsJDKQ"
      }
    },
    {
      "cell_type": "code",
      "source": [
        "# code Here\n",
        "sorted_employees = sorted(company_data['employees'], key=lambda x: datetime.strptime(x['hireDate'], '%Y-%m-%d'))\n",
        "\n",
        "for employee in sorted_employees[:5]:\n",
        "    print(employee['firstName'], \"was hired on\", employee['hireDate'])"
      ],
      "metadata": {
        "id": "_uHzAfPnJh4n",
        "colab": {
          "base_uri": "https://localhost:8080/"
        },
        "outputId": "99aeb18b-bd5e-4b82-accc-cd3faa256153"
      },
      "execution_count": 32,
      "outputs": [
        {
          "output_type": "stream",
          "name": "stdout",
          "text": [
            "Bob was hired on 2018-03-10\n",
            "Alice was hired on 2019-08-22\n",
            "John was hired on 2020-05-15\n",
            "Emily was hired on 2021-02-28\n"
          ]
        }
      ]
    },
    {
      "cell_type": "markdown",
      "source": [
        "**Question 8:**\n",
        "\n",
        "Count the number of employees in the dataset and display the result."
      ],
      "metadata": {
        "id": "n7XmTMjjJqOM"
      }
    },
    {
      "cell_type": "code",
      "source": [
        "# code Here\n",
        "np_of_employees = len(company_data['employees'])\n",
        "print(\"Number of Employees are \",np_of_employees)"
      ],
      "metadata": {
        "id": "-cVlWdRLJ1zP"
      },
      "execution_count": null,
      "outputs": []
    },
    {
      "cell_type": "markdown",
      "source": [
        "**Question 9:**\n",
        "\n",
        "Identify employees who do not have a manager (i.e., manager field is empty), and display their names and positions."
      ],
      "metadata": {
        "id": "fuOvAHNQKQPG"
      }
    },
    {
      "cell_type": "code",
      "source": [
        "# code Here\n",
        "employee_data = company_data['employees']\n",
        "for employee in employee_data:\n",
        "  if not employee.get('manager'):\n",
        "        print(\"Employee does not have a manager or field is empty\")\n",
        "        print(employee['firstName'], employee['lastName'], employee['position'])\n",
        "  else:\n",
        "    print(employee['firstName'], employee['lastName'], \"has manager\", employee['manager'])"
      ],
      "metadata": {
        "id": "KlEY1SANKVc4",
        "colab": {
          "base_uri": "https://localhost:8080/"
        },
        "outputId": "325fe397-92a4-4ff0-f119-3fe486cf47f1"
      },
      "execution_count": 38,
      "outputs": [
        {
          "output_type": "stream",
          "name": "stdout",
          "text": [
            "John Doe has manager Michael Brown\n",
            "Alice Smith has manager Michael Brown\n",
            "Bob Johnson has manager Sarah Williams\n",
            "Emily Wilson has manager Sarah Williams\n"
          ]
        }
      ]
    },
    {
      "cell_type": "markdown",
      "source": [
        "**Question 10: Bonus Part**\n",
        "\n",
        "Using a geocoding service or library of your choice (e.g., geopy), convert the street addresses of all office locations into latitude and longitude coordinates. Then, provide the coordinates for each office location."
      ],
      "metadata": {
        "id": "tYV7TQDMKX-o"
      }
    }
  ]
}